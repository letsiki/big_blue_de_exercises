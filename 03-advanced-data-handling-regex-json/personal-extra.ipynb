{
 "cells": [
  {
   "cell_type": "markdown",
   "id": "5325d361-ac9b-411b-8087-bd5de6f796ed",
   "metadata": {},
   "source": [
    "##### 1. Write a Python program to check that a string contains only lowercase and uppercase characters."
   ]
  },
  {
   "cell_type": "code",
   "execution_count": 12,
   "id": "a07d4849-3f75-4478-8b80-0c41c7a1e2bb",
   "metadata": {},
   "outputs": [],
   "source": [
    "import re"
   ]
  },
  {
   "cell_type": "code",
   "execution_count": null,
   "id": "ed7607fd-b8b7-470e-a230-906b4cbb7c4d",
   "metadata": {},
   "outputs": [
    {
     "name": "stdout",
     "output_type": "stream",
     "text": [
      "<re.Match object; span=(0, 12), match='sdfsdfSDFSDF'>\n"
     ]
    }
   ],
   "source": [
    "pattern = r\"^[a-zA-Z]+$\"\n",
    "string = \"sdfsdfSDFSDF\"\n",
    "if match := re.search(pattern, string):\n",
    "    print(match)\n",
    "else:\n",
    "    print(\"pattern not found\")"
   ]
  },
  {
   "cell_type": "markdown",
   "id": "118cd2aa-eaf4-4256-944c-43cc27bd4aee",
   "metadata": {},
   "source": [
    "##### 2. Write a Python program that matches a word at the beginning of a string."
   ]
  },
  {
   "cell_type": "code",
   "execution_count": null,
   "id": "0caebdfc-9dfc-4f40-96b4-d86b6fda4c36",
   "metadata": {},
   "outputs": [
    {
     "name": "stdout",
     "output_type": "stream",
     "text": [
      "<re.Match object; span=(0, 3), match='sdf'>\n"
     ]
    }
   ],
   "source": [
    "pattern = r\"^[a-zA-Z]+\\b\"\n",
    "string = \"sdf sdf sdf sdf sdf\"\n",
    "if match := re.search(pattern, string):\n",
    "    print(match)\n",
    "else:\n",
    "    print(\"pattern not found\")"
   ]
  },
  {
   "cell_type": "markdown",
   "id": "1608e2d7-9b7d-4d60-9be1-3f5839122b1f",
   "metadata": {},
   "source": [
    "##### 3. Write a Python program that matches a word at the end of string"
   ]
  },
  {
   "cell_type": "code",
   "execution_count": null,
   "id": "14c61c49-13cd-4178-a957-934d8c3720be",
   "metadata": {},
   "outputs": [
    {
     "name": "stdout",
     "output_type": "stream",
     "text": [
      "<re.Match object; span=(16, 24), match='lastword'>\n"
     ]
    }
   ],
   "source": [
    "pattern = r\"\\b[a-zA-Z]+$\"\n",
    "string = \"sdf sdf sdf sdf lastword\"\n",
    "if match := re.search(pattern, string):\n",
    "    print(match)\n",
    "else:\n",
    "    print(\"pattern not found\")"
   ]
  },
  {
   "cell_type": "markdown",
   "id": "fa0f02c7-0956-4b4a-9118-2c856fdd15d6",
   "metadata": {},
   "source": [
    "##### 4. Write a Python program that matches a word containing 'z', not at the start or end of the word. (Matches Brazil but not Zelda)"
   ]
  },
  {
   "cell_type": "code",
   "execution_count": null,
   "id": "5953bfe4-8211-41bf-beaa-c58854419ccc",
   "metadata": {},
   "outputs": [
    {
     "name": "stdout",
     "output_type": "stream",
     "text": [
      "<re.Match object; span=(0, 6), match='Brazil'>\n"
     ]
    }
   ],
   "source": [
    "pattern = r\"[a-yA-Y]*z[a-yA-Y]*\"\n",
    "string = \"Brazil\"\n",
    "if match := re.search(pattern, string):\n",
    "    print(match)\n",
    "else:\n",
    "    print(\"pattern not found\")"
   ]
  },
  {
   "cell_type": "markdown",
   "id": "cb74c0fe-36d0-4c35-a5b3-3bf6ee147765",
   "metadata": {},
   "source": [
    "##### 5. Write a Python program to match digits of length between 10 and 13."
   ]
  },
  {
   "cell_type": "code",
   "execution_count": null,
   "id": "2d0f05a1-1bac-4e89-93e4-4130afafd28f",
   "metadata": {},
   "outputs": [
    {
     "name": "stdout",
     "output_type": "stream",
     "text": [
      "<re.Match object; span=(0, 12), match='123123123123'>\n"
     ]
    }
   ],
   "source": [
    "pattern = r\"\\d{10,13}\"\n",
    "string = \"123123123123\"\n",
    "if match := re.search(pattern, string):\n",
    "    print(match)\n",
    "else:\n",
    "    print(\"pattern not found\")"
   ]
  },
  {
   "cell_type": "markdown",
   "id": "90b51065-bf24-430c-9476-7066b1b617cd",
   "metadata": {},
   "source": [
    "##### 6. Write a Python program so that the full email addresses are extracted. (example: “For more information please write to the following email address: admissions@footballclub.com, Mrs Stepanie Smith will be delighted to assist you.”)"
   ]
  },
  {
   "cell_type": "code",
   "execution_count": null,
   "id": "5f61d4b5-8056-429a-ac50-5a427a6920e4",
   "metadata": {},
   "outputs": [
    {
     "name": "stdout",
     "output_type": "stream",
     "text": [
      "<re.Match object; span=(66, 93), match='admissions@footballclub.com'>\n"
     ]
    }
   ],
   "source": [
    "pattern = r\"\\b[\\w.-]+@[a-zA-Z.-]+(?<!\\.)+\\.[a-zA-Z]{2,3}\\b\"\n",
    "string = \"For more information please write to the following email address: admissions@footballclub.com, Mrs Stepanie Smith will be delighted to assist you.\"\n",
    "if match := re.search(pattern, string):\n",
    "    print(match)\n",
    "else:\n",
    "    print(\"pattern not found\")"
   ]
  },
  {
   "cell_type": "markdown",
   "id": "831fce45-4337-4868-abee-a440fe1982d3",
   "metadata": {},
   "source": [
    "##### 7. E-mail Validation  \n",
    "a) Write an email validating function, returning True or False depending on whether an email address is correctly formatted (e.g. john.smith@yahoo.com works, not  john.smith@yahoο, or  johnsmith@yahoo.com). No input should lead to an exception.\n",
    "- Bonus. Extend your email validation in the first part so  \n",
    "    b) it will accept not only  “.” but also  \"-\" and \"_\"  .  \n",
    "    c) requires at least four characters after the ./-/_ symbol.  \n",
    "    d) extensions with minimum 2 characters and maximum 4 characters shall be acceptable"
   ]
  },
  {
   "cell_type": "markdown",
   "id": "b7b48600-92d0-4b1f-83ec-f7b4fa5e4653",
   "metadata": {},
   "source": [
    "- a) Write an email validating function, returning True or False depending on whether an email address is correctly formatted (e.g. john.smith@yahoo.com works, not john.smith@yahoο, or johnsmith@yahoo.com). No input should lead to an exception."
   ]
  },
  {
   "cell_type": "code",
   "execution_count": 8,
   "id": "9466d9ef-d64f-4a6f-bcaf-b935cfca8847",
   "metadata": {},
   "outputs": [],
   "source": [
    "def email_validator(email: str) -> bool:\n",
    "    return bool(re.search(pattern, email))"
   ]
  },
  {
   "cell_type": "code",
   "execution_count": null,
   "id": "2cfb3b75-8eb4-4351-bcc3-389c133c28fd",
   "metadata": {},
   "outputs": [
    {
     "data": {
      "text/plain": [
       "[('john.smith@ya-hoo.com', True),\n",
       " ('john.smith@yahoο', False),\n",
       " ('johnsmith@yahoo..com', False)]"
      ]
     },
     "execution_count": 9,
     "metadata": {},
     "output_type": "execute_result"
    }
   ],
   "source": [
    "pattern = \"[\\w.-]+@[a-zA-Z.-]+(?<!\\.)\\.[a-zA-Z]{2,3}\"\n",
    "sample_strings = [\n",
    "    \"john.smith@ya-hoo.com\",\n",
    "    \"john.smith@yahoο\",\n",
    "    \"johnsmith@yahoo..com\",\n",
    "]\n",
    "list(zip(sample_strings, map(email_validator, sample_strings)))"
   ]
  },
  {
   "cell_type": "markdown",
   "id": "9ff3a94f-8336-46f0-99ee-81fabba32326",
   "metadata": {},
   "source": [
    "- b) it will accept not only “.” but also \"-\" and \"\" ."
   ]
  },
  {
   "cell_type": "code",
   "execution_count": null,
   "id": "ba6a0439-0a9f-4981-b148-bb1c5fc64410",
   "metadata": {},
   "outputs": [
    {
     "data": {
      "text/plain": [
       "[('john.smith@yahoo_com', True),\n",
       " ('john.smith@yahoo.com', True),\n",
       " ('john.smith@yahoo-com', True),\n",
       " ('john.smith@yahoo@com', False)]"
      ]
     },
     "execution_count": 10,
     "metadata": {},
     "output_type": "execute_result"
    }
   ],
   "source": [
    "# after experimenting '-' in brackets is auto-escaped if place at the end or start\n",
    "pattern = \"[\\w.-]+@[a-zA-Z.-]+(?<![.-])[-._][a-zA-Z]{2,3}$\"\n",
    "sample_strings = [\n",
    "    \"john.smith@yahoo_com\",\n",
    "    \"john.smith@yahoo.com\",\n",
    "    \"john.smith@yahoo-com\",\n",
    "    \"john.smith@yahoo@com\",\n",
    "]\n",
    "list(zip(sample_strings, map(email_validator, sample_strings)))"
   ]
  },
  {
   "cell_type": "markdown",
   "id": "19877d7c-7799-444f-81bb-37e42d9b3e12",
   "metadata": {},
   "source": [
    "- c) requires at least four characters after the ./-/ symbol."
   ]
  },
  {
   "cell_type": "code",
   "execution_count": null,
   "id": "6868529e-8689-4c3a-ac22-e11ef1f6b89a",
   "metadata": {},
   "outputs": [
    {
     "data": {
      "text/plain": [
       "[('john.smith@yahoo_comasd', True),\n",
       " ('john.smith@yahoo.coms', True),\n",
       " ('john.smith@yahoo-com', False),\n",
       " ('john.smith@yahoo@com', False)]"
      ]
     },
     "execution_count": 11,
     "metadata": {},
     "output_type": "execute_result"
    }
   ],
   "source": [
    "pattern = \"[\\w.-]+@[a-zA-Z.-]+(?<![.-])[-._][a-zA-Z]{4,}$\"\n",
    "sample_strings = [\n",
    "    \"john.smith@yahoo_comasd\",\n",
    "    \"john.smith@yahoo.coms\",\n",
    "    \"john.smith@yahoo-com\",\n",
    "    \"john.smith@yahoo@com\",\n",
    "]\n",
    "list(zip(sample_strings, map(email_validator, sample_strings)))"
   ]
  },
  {
   "cell_type": "markdown",
   "id": "e02178c2-b3ee-4edd-8274-331b76f3ae7a",
   "metadata": {},
   "source": [
    "- d) extensions with minimum 2 characters and maximum 4 characters shall be acceptable"
   ]
  },
  {
   "cell_type": "code",
   "execution_count": null,
   "id": "10883cc2-28e3-4dfd-b3f7-546c60dc0ab6",
   "metadata": {},
   "outputs": [
    {
     "data": {
      "text/plain": [
       "[('john.smith@yahoo_comasd', False),\n",
       " ('john.smith@yahoo.coms', True),\n",
       " ('john.smith@yahoo-com', True),\n",
       " ('john.smith@yahoo@co', False)]"
      ]
     },
     "execution_count": 12,
     "metadata": {},
     "output_type": "execute_result"
    }
   ],
   "source": [
    "pattern = \"[\\w.-]+@[a-zA-Z.-]+(?<![.-])[-._][a-zA-Z]{2,4}$\"\n",
    "sample_strings = [\n",
    "    \"john.smith@yahoo_comasd\",\n",
    "    \"john.smith@yahoo.coms\",\n",
    "    \"john.smith@yahoo-com\",\n",
    "    \"john.smith@yahoo@co\",\n",
    "]\n",
    "list(zip(sample_strings, map(email_validator, sample_strings)))"
   ]
  },
  {
   "cell_type": "markdown",
   "id": "b00e82b1-2304-46d3-ab86-f7879b116777",
   "metadata": {},
   "source": [
    "## Solo Practice"
   ]
  },
  {
   "cell_type": "markdown",
   "id": "162c9cdd-d07d-4501-88aa-885ad0ddec47",
   "metadata": {},
   "source": [
    "#### 1. Validate Email Address\n",
    "Specification:\n",
    "Match an email that:\n",
    "\n",
    "Begins with one or more alphanumeric characters (including underscores or dots, but not consecutive dots and not starting or ending with them).\n",
    "\n",
    "Contains exactly one “@” symbol.\n",
    "\n",
    "The domain must be one or more alphanumeric characters (dots allowed but not consecutive), ending with a dot and a 2-4 letter TLD (only letters)."
   ]
  },
  {
   "cell_type": "code",
   "execution_count": null,
   "id": "b815e2e9-a4ed-4008-9cb5-27d25124254e",
   "metadata": {},
   "outputs": [],
   "source": [
    "match_emails = [\n",
    "    \"john.doe@example.com\",\n",
    "    \"mary_jane123@sub.domain.org\",\n",
    "    \"user.name@domain.co\",\n",
    "]\n",
    "no_match_emails = [\n",
    "    \"john..doe@example.com\",  # consecutive dots in local part\n",
    "    \"jane@domain\",  # missing TLD\n",
    "    \"user@domain.toolong\",  # TLD more than 4 letters\n",
    "    \"user@@domain.com\",  # double @\n",
    "]"
   ]
  },
  {
   "cell_type": "code",
   "execution_count": null,
   "id": "3a993447-4b09-4197-8324-c4e2356ca8f9",
   "metadata": {},
   "outputs": [],
   "source": [
    "local_pattern = r\"^\\w(?:\\w+\\.)*\\w*\"\n",
    "at_pattern = r\"(?<!\\.)@\"\n",
    "domain_pattern = r\"\\w(?:\\w+\\.)*\\w*\"\n",
    "tld_pattern = r\"\\.[a-zA-Z]{2,4}$\"\n",
    "pattern = local_pattern + at_pattern + domain_pattern + tld_pattern"
   ]
  },
  {
   "cell_type": "code",
   "execution_count": 11,
   "id": "599935eb-bec3-4aa1-86d8-3a0df022ec21",
   "metadata": {},
   "outputs": [],
   "source": [
    "def pattern_validator(string: str, ignorecase=False) -> bool:\n",
    "    if not ignorecase:\n",
    "        return bool(re.search(pattern, string))\n",
    "    else:\n",
    "        return bool(re.search(pattern, string, re.IGNORECASE))"
   ]
  },
  {
   "cell_type": "code",
   "execution_count": 16,
   "id": "38aa77b0-a431-4ca6-a529-6b20b0b0bb47",
   "metadata": {},
   "outputs": [
    {
     "data": {
      "text/plain": [
       "[('john.doe@example.com', True),\n",
       " ('mary_jane123@sub.domain.org', True),\n",
       " ('user.name@domain.co', True)]"
      ]
     },
     "execution_count": 16,
     "metadata": {},
     "output_type": "execute_result"
    }
   ],
   "source": [
    "list(zip(match_emails, map(pattern_validator, match_emails)))"
   ]
  },
  {
   "cell_type": "code",
   "execution_count": 17,
   "id": "a394947e-7a55-4c0b-b35d-459c68bb2b41",
   "metadata": {},
   "outputs": [
    {
     "data": {
      "text/plain": [
       "[('john..doe@example.com', False),\n",
       " ('jane@domain', False),\n",
       " ('user@domain.toolong', False),\n",
       " ('user@@domain.com', False)]"
      ]
     },
     "execution_count": 17,
     "metadata": {},
     "output_type": "execute_result"
    }
   ],
   "source": [
    "list(zip(no_match_emails, map(pattern_validator, no_match_emails)))"
   ]
  },
  {
   "cell_type": "code",
   "execution_count": null,
   "id": "efb27d35-9a36-486a-8383-4866d21f672f",
   "metadata": {},
   "outputs": [
    {
     "ename": "ModuleNotFoundError",
     "evalue": "No module named 'rstr'",
     "output_type": "error",
     "traceback": [
      "\u001b[31m---------------------------------------------------------------------------\u001b[39m",
      "\u001b[31mModuleNotFoundError\u001b[39m                       Traceback (most recent call last)",
      "\u001b[36mCell\u001b[39m\u001b[36m \u001b[39m\u001b[32mIn[18]\u001b[39m\u001b[32m, line 1\u001b[39m\n\u001b[32m----> \u001b[39m\u001b[32m1\u001b[39m \u001b[38;5;28;01mimport\u001b[39;00m\u001b[38;5;250m \u001b[39m\u001b[34;01mrstr\u001b[39;00m\n\u001b[32m      3\u001b[39m attempt = rstr.xeger(pattern)\n\u001b[32m      4\u001b[39m pattern = \u001b[33mr\u001b[39m\u001b[33m'\u001b[39m\u001b[33m(?!.\u001b[39m\u001b[33m{\u001b[39m\u001b[33m50,})(?=.\u001b[39m\u001b[33m{\u001b[39m\u001b[33m0,20}$)(?=.\u001b[39m\u001b[33m{\u001b[39m\u001b[33m,20}$)(?=.\u001b[39m\u001b[33m{\u001b[39m\u001b[33m,20})?=.\u001b[39m\u001b[33m{\u001b[39m\u001b[33m,20}\u001b[39m\u001b[38;5;130;01m\\\\\u001b[39;00m\u001b[33mw(?:\u001b[39m\u001b[38;5;130;01m\\\\\u001b[39;00m\u001b[33mw+\u001b[39m\u001b[38;5;130;01m\\\\\u001b[39;00m\u001b[33m.)*\u001b[39m\u001b[38;5;130;01m\\\\\u001b[39;00m\u001b[33mw*(?<!\u001b[39m\u001b[38;5;130;01m\\\\\u001b[39;00m\u001b[33m.)@\u001b[39m\u001b[38;5;130;01m\\\\\u001b[39;00m\u001b[33mw(?:\u001b[39m\u001b[38;5;130;01m\\\\\u001b[39;00m\u001b[33mw+\u001b[39m\u001b[38;5;130;01m\\\\\u001b[39;00m\u001b[33m.)*\u001b[39m\u001b[38;5;130;01m\\\\\u001b[39;00m\u001b[33mw*\u001b[39m\u001b[38;5;130;01m\\\\\u001b[39;00m\u001b[33m.[a-zA-Z]\u001b[39m\u001b[33m{\u001b[39m\u001b[33m2,4}$\u001b[39m\u001b[33m'\u001b[39m\n",
      "\u001b[31mModuleNotFoundError\u001b[39m: No module named 'rstr'"
     ]
    }
   ],
   "source": [
    "import rstr\n",
    "\n",
    "attempt = rstr.xeger(pattern)\n",
    "pattern = r\"(?!.{50,})(?=.{0,20}$)(?=.{,20}$)(?=.{,20})?=.{,20}\\\\w(?:\\\\w+\\\\.)*\\\\w*(?<!\\\\.)@\\\\w(?:\\\\w+\\\\.)*\\\\w*\\\\.[a-zA-Z]{2,4}$\"\n",
    "rstr.xeger(pattern)"
   ]
  },
  {
   "cell_type": "markdown",
   "id": "2d984034-f19d-4eda-8f89-1b0c60ef008f",
   "metadata": {},
   "source": [
    "#### 2. US Phone Number (Various Formats)\n",
    "Specification:\n",
    "Match a US phone number in one of these formats:\n",
    "\n",
    "123-456-7890\n",
    "\n",
    "(123) 456 7890\n",
    "\n",
    "123 456 7890\n",
    "Rules:\n",
    "\n",
    "Area code can optionally be enclosed in parentheses.\n",
    "\n",
    "Separators can be either a hyphen or a space."
   ]
  },
  {
   "cell_type": "code",
   "execution_count": null,
   "id": "4b360905-4a24-4da5-aa49-ad4644191c05",
   "metadata": {},
   "outputs": [],
   "source": [
    "match_phones = [\n",
    "    \"123-456-7890\",\n",
    "    \"(123) 456 7890\",\n",
    "    \"(123)-456-7890\",\n",
    "    \"123 456 7890\",\n",
    "]\n",
    "no_match_phones = [\n",
    "    \"(123-456 7890\",\n",
    "    \"(123 456-7890\",\n",
    "    \"1234567890\",  # no separators\n",
    "    \"(123-456-7890\",  # mismatched parentheses\n",
    "    \"123.456.7890\",  # dots not allowed\n",
    "]"
   ]
  },
  {
   "cell_type": "code",
   "execution_count": null,
   "id": "9e3e3ccb-4033-435b-bd84-51379b2fa086",
   "metadata": {},
   "outputs": [],
   "source": [
    "pattern = r\"^(?:\\(\\d{3}\\)|\\d{3})([ -])\\d{3}\\1\\d{4}$\""
   ]
  },
  {
   "cell_type": "code",
   "execution_count": null,
   "id": "d0908c70-7d54-4a35-a770-e88836fbe0fa",
   "metadata": {},
   "outputs": [
    {
     "data": {
      "text/plain": [
       "\"+CUY>v>UC7huD TR,A A\\\\!\\\\v!+MU,V,leP hL2?qq/~0R=yU 'c56DRsFo7tY2moA32Uo8BgOgDajQy6hlZv58trKBef9KlSy5nK_dyokSwqMtbGOLkaDHBtGtlj0OjVmUsKoMtuWVkcg.o9pIHyMzHQCb27Ioc6MBX1TQVkNUZk_CaAnBuwMz8jxWCV0__NyDmoffTgI42HNsMpa1h.V4Kef4on_KULTX7PvNs.KtX7XwN0lcz4mv8K7MzGxy0atXqLUy0xfuDNZ2a8yCR_4O5UPvp3XrO3TeNSDw92hesgPYbahL5iu.WKm_E8Jv.Y_CygsnMPmD9I78aphHPRymQ6UM.PO5FCs_MbfKbY4ZqQ59me3e26WFeRC4vr17YTR2H8BWCzA3VoRfVqfauKMzzOQ5pMA8z2xCxACfsw.O2DoIZDvSJPiRYntXjiWw3PbbETDQIyqa5GGj3n7M3xGO9uEFXDyxSof_vifRDBenQ0s0J6fyOYKBcflzaiQDkgct.J1Bn4DOwBLO1O5wlRaVDHKkTZXIFYNTGOdf6di2w3t6OxvsxFRvaYzoz7MR9pa.IEuO.oFNQjC871fJ_a6vdXTit72MsfgHVHYm3Qp9HeXlAMePLVGPTiCP04WZrmKyWFNRLb_RdiRjA2JCjfCZcdEV3bHKZhwR.o7SHHVjw1QH.iGrA2q.1vvdngU6m3aAAaww5KB5h4424q8ClXKd8620BMoweXJlZR5.mhDsjKR4AathP8HMKFhlxPFNiwp56bKg3uUkOnV.HujSAPphYS5wvS2ggiN2k1xqFuqm1XdpV4wBhy7_rc_3MkOa2Hawo9p8ukFe8E2KZQt.jQFgsHkpELILldgvZ3Z1L3v2efzteug863NGlW0qKELNdE6elyFxHhd.VVPMmEtWhgX0kcs7Tq2HEM40Gza3aAN5BPjUWFZ1nuNPV2F6N0ta1agOT5iMhQ_dLANFa1RLGT9yzMT5eoWae6f0YfOla8T.h_g32phy0bspIVqMzpJIaeLCFGIbqDmZ.ubM_POj_Q3O595XYtEv2u3TFPMQgjgosH5mMp3jmEmuWzcDoZR5dzzjEMUuNiKDoUvAnrAnl4EgCAlQ4q_ejx5nx6Gbag.ohYZc9DuO.pDzO2sHj2Z8p7Nphlu4pl3DuiI5ktR8_Gn2Nehyu8boaEcFO3aVs_1Ug.erZebqaqqIN9OOSmb0EDTGvBT0yIquQqOLPhwDnsGs5cPEw5_h5eLlZVki5weJZsIv8oAYKjXxxMeEaUpHygAiivFF.47cdIE8RaBinr1H3yzds6oGqGV3aNCsi5vAMy7ME8tfpOOoZU9JR0AhOGNm0FmtNetyg0Ln8b4qSHJCYt2hSv.k7waQLc8ZPKqGa960q48HAQkOR8xycNiWZtH9PZVhUYR6zd13IX2.4LDPN7ljq8iv_zEVehTDmIUpEv3wvIdnGeZaW0wDxhYfDQNDkBu9HhhNFSDFyfiE4aFufHeiFw32vFseie0sSP.6tQxPNyZOyo64dKI9uWheW5QAq5F8dhqJSO_GWz7ldJJRvIxxlo5VzbH66BA49W2Lt.Xx89rwsy9Blo0.bxjK54oVm_dPUd.iND4OiKGGdbFymd5YVkquzuSgafrGy.cJl5Vg0PydA5CHM9_3XZ8MFTMBRdM41IJLPP4EsKGhARh3R7WH6ASzbGOJlsyrtSzsYd4mD7RRPlfDoC9BnDV_VqwthX0kRT7._97zqau1l71u_agQkY.20qMQYW6hYWjBP83zEYNvPe_wZFUsCpxSHJa5xhBfkx8.a2CRc5FbJU8UY1hN8Gftmj0cM5CCefdZ5dpmBWZ1uKBl0n0KNR5Q0.zC7MJToljGQeW1ZQUAYEf.asZB0yoEJ8blPzOkUyktCOiKX9AQMBh3w3nIsEdmBoB__yuq5vrQSpcwF6P4InCfFzOyhMT4RF9IMWR.hEk3Ti0HrWNJZ49hwoYL1iaVOvHTiY1JIOBKCWm1jB6e1RPB89omWZi_z2mQ4XvM.VSn_UkCl3wFUnh.oaupMjmoHyJGLueG_xbewiQW_BSPoVOrwcPNTXa6kTWaMqiNC9Hm@IVZeNC4HKXhDerXuD4xlA6PsUQzK9fMtJmV8QKEP7go2jtBW4BC775aKJMXqihZApBanHblHUo9VgPe3engG1Tysl8vZ6sF6.A.YMNWoUqpIT4sC7fkhMBY1wLP.GvN\""
      ]
     },
     "execution_count": 44,
     "metadata": {},
     "output_type": "execute_result"
    }
   ],
   "source": [
    "import rstr\n",
    "\n",
    "rstr.xeger(pattern)"
   ]
  },
  {
   "cell_type": "code",
   "execution_count": 19,
   "id": "7e1033e8-1d58-4850-8003-8ebb6d892a2e",
   "metadata": {},
   "outputs": [
    {
     "ename": "NameError",
     "evalue": "name 'match_phones' is not defined",
     "output_type": "error",
     "traceback": [
      "\u001b[31m---------------------------------------------------------------------------\u001b[39m",
      "\u001b[31mNameError\u001b[39m                                 Traceback (most recent call last)",
      "\u001b[36mCell\u001b[39m\u001b[36m \u001b[39m\u001b[32mIn[19]\u001b[39m\u001b[32m, line 1\u001b[39m\n\u001b[32m----> \u001b[39m\u001b[32m1\u001b[39m \u001b[38;5;28mlist\u001b[39m(\u001b[38;5;28mzip\u001b[39m(\u001b[43mmatch_phones\u001b[49m, \u001b[38;5;28mmap\u001b[39m(pattern_validator, match_phones)))\n",
      "\u001b[31mNameError\u001b[39m: name 'match_phones' is not defined"
     ]
    }
   ],
   "source": [
    "list(zip(match_phones, map(pattern_validator, match_phones)))"
   ]
  },
  {
   "cell_type": "code",
   "execution_count": 20,
   "id": "7aa196e4-47be-4d4b-97ed-6391b4a6aed0",
   "metadata": {},
   "outputs": [
    {
     "ename": "NameError",
     "evalue": "name 'no_match_phones' is not defined",
     "output_type": "error",
     "traceback": [
      "\u001b[31m---------------------------------------------------------------------------\u001b[39m",
      "\u001b[31mNameError\u001b[39m                                 Traceback (most recent call last)",
      "\u001b[36mCell\u001b[39m\u001b[36m \u001b[39m\u001b[32mIn[20]\u001b[39m\u001b[32m, line 1\u001b[39m\n\u001b[32m----> \u001b[39m\u001b[32m1\u001b[39m \u001b[38;5;28mlist\u001b[39m(\u001b[38;5;28mzip\u001b[39m(\u001b[43mno_match_phones\u001b[49m, \u001b[38;5;28mmap\u001b[39m(pattern_validator, no_match_phones)))\n",
      "\u001b[31mNameError\u001b[39m: name 'no_match_phones' is not defined"
     ]
    }
   ],
   "source": [
    "list(zip(no_match_phones, map(pattern_validator, no_match_phones)))"
   ]
  },
  {
   "cell_type": "markdown",
   "id": "ee8726e8-c3b6-4081-8f59-0bf1337978bd",
   "metadata": {},
   "source": [
    "#### 3. Validate URL with HTTP/HTTPS\n",
    "Specification:\n",
    "Match a URL that:\n",
    "\n",
    "Starts with http:// or https://.\n",
    "\n",
    "Has a valid domain name: letters, digits, hyphens allowed.\n",
    "\n",
    "Optionally may include a port (e.g., :8080).\n",
    "\n",
    "Optionally ends with a path (starting with a slash) which may include alphanumerics and common URL symbols."
   ]
  },
  {
   "cell_type": "code",
   "execution_count": null,
   "id": "ed6ef411-20bf-405f-8213-3b3400b5370d",
   "metadata": {},
   "outputs": [],
   "source": [
    "match_urls = [\n",
    "    \"http://example.com\",\n",
    "    \"https://sub-domain.example.co.uk:8080/path/to/resource\",\n",
    "    \"http://example123.net/\",\n",
    "]\n",
    "no_match_urls = [\n",
    "    \"https://sub-domain.example-.co.uk:8080/path/to/resource\"  # dash next to dot\n",
    "    \"ftp://example.com\",  # wrong protocol\n",
    "    \"http//example.com\",  # missing colon\n",
    "    \"https://example\",  # missing TLD\n",
    "    \"http://.com\",  # missing domain name\n",
    "]"
   ]
  },
  {
   "cell_type": "code",
   "execution_count": null,
   "id": "d75fcb33",
   "metadata": {},
   "outputs": [],
   "source": [
    "http_part = r\"^https?://\"\n",
    "domain_part = r\"(?:[a-zA-Z\\d-]+(?<!-)\\.)+\"\n",
    "tld_part = r\"[a-zA-Z]{2,3}\"\n",
    "port_part = r\"(?::\\d{4})?\"\n",
    "path_part = r\"(?:/\\w+)*/?$\"\n",
    "pattern = http_part + domain_part + tld_part + port_part + path_part"
   ]
  },
  {
   "cell_type": "code",
   "execution_count": 23,
   "id": "55a56f01",
   "metadata": {},
   "outputs": [
    {
     "data": {
      "text/plain": [
       "[('http://example.com', True),\n",
       " ('https://sub-domain.example.co.uk:8080/path/to/resource', True),\n",
       " ('http://example123.net/', True)]"
      ]
     },
     "execution_count": 23,
     "metadata": {},
     "output_type": "execute_result"
    }
   ],
   "source": [
    "list(zip(match_urls, map(pattern_validator, match_urls)))"
   ]
  },
  {
   "cell_type": "code",
   "execution_count": 24,
   "id": "b4c35910",
   "metadata": {},
   "outputs": [
    {
     "data": {
      "text/plain": [
       "[('https://sub-domain.example-.co.uk:8080/path/to/resourceftp://example.com',\n",
       "  False),\n",
       " ('http//example.com', False),\n",
       " ('https://example', False),\n",
       " ('http://.com', False)]"
      ]
     },
     "execution_count": 24,
     "metadata": {},
     "output_type": "execute_result"
    }
   ],
   "source": [
    "list(zip(no_match_urls, map(pattern_validator, no_match_urls)))"
   ]
  },
  {
   "cell_type": "markdown",
   "id": "4242e325-5117-41bd-a102-ba3e59e293d4",
   "metadata": {},
   "source": [
    "#### 4. Validate IPv4 Address\n",
    "Specification:\n",
    "Match a valid IPv4 address that:\n",
    "\n",
    "Consists of four groups separated by a dot.\n",
    "\n",
    "Each group is an integer from 0 to 255 (no leading zeros, except for 0 itself)."
   ]
  },
  {
   "cell_type": "code",
   "execution_count": null,
   "id": "c42a7718-63dc-4a56-babc-2f9ab7d891dd",
   "metadata": {},
   "outputs": [],
   "source": [
    "match_ips = [\"192.168.1.1\", \"10.0.0.255\", \"172.16.0.0\"]\n",
    "no_match_ips = [\n",
    "    \"256.100.50.0\",  # 256 is out of range\n",
    "    \"192.168.01.1\",  # leading zero in 01\n",
    "    \"192.168.1\",  # only three groups\n",
    "]"
   ]
  },
  {
   "cell_type": "code",
   "execution_count": null,
   "id": "2267624c",
   "metadata": {},
   "outputs": [],
   "source": [
    "triplet_group = r\"(?:25[0-5]|2[0-4]\\d|1\\d\\d|[1-9]\\d|\\d)\"\n",
    "pattern = rf\"^(?:{triplet_group}\\.){{3}}{triplet_group}$\""
   ]
  },
  {
   "cell_type": "code",
   "execution_count": 27,
   "id": "5c9a7a31",
   "metadata": {},
   "outputs": [
    {
     "data": {
      "text/plain": [
       "[('192.168.1.1', True), ('10.0.0.255', True), ('172.16.0.0', True)]"
      ]
     },
     "execution_count": 27,
     "metadata": {},
     "output_type": "execute_result"
    }
   ],
   "source": [
    "list(zip(match_ips, map(pattern_validator, match_ips)))"
   ]
  },
  {
   "cell_type": "code",
   "execution_count": 28,
   "id": "91e726b4",
   "metadata": {},
   "outputs": [
    {
     "data": {
      "text/plain": [
       "[('256.100.50.0', False), ('192.168.01.1', False), ('192.168.1', False)]"
      ]
     },
     "execution_count": 28,
     "metadata": {},
     "output_type": "execute_result"
    }
   ],
   "source": [
    "list(zip(no_match_ips, map(pattern_validator, no_match_ips)))"
   ]
  },
  {
   "cell_type": "markdown",
   "id": "044b79ca-a76b-40a4-b68e-030d044dfbd0",
   "metadata": {},
   "source": [
    "#### 5. Extract Date in DD/MM/YYYY Format\n",
    "Specification:\n",
    "Match dates in the format DD/MM/YYYY where:\n",
    "\n",
    "DD is 01-31,\n",
    "\n",
    "MM is 01-12,\n",
    "\n",
    "YYYY is any four-digit number.\n",
    "\n",
    "Note: You don’t need full validation on days per month; assume any day 01–31 is allowed."
   ]
  },
  {
   "cell_type": "code",
   "execution_count": null,
   "id": "87ef5de1-35a8-4d26-8275-28db53effba6",
   "metadata": {},
   "outputs": [],
   "source": [
    "match_dates = [\"05/09/2020\", \"31/12/1999\", \"01/01/2021\"]\n",
    "no_match_dates = [\n",
    "    \"00/09/2020\",  # day 00 invalid\n",
    "    \"32/01/2020\",  # day 32 invalid\n",
    "    \"15-08-2020\",  # wrong separator\n",
    "]"
   ]
  },
  {
   "cell_type": "code",
   "execution_count": null,
   "id": "6e3f5e50",
   "metadata": {},
   "outputs": [],
   "source": [
    "day = r\"(?:3[01]|2\\d|1\\d|0[1-9])\"\n",
    "month = r\"(?:0[1-9]|1[0-2])\"\n",
    "year = r\"\\d{4}\"\n",
    "pattern = rf\"^{day}/{month}/{year}$\""
   ]
  },
  {
   "cell_type": "code",
   "execution_count": 31,
   "id": "c4a07d87",
   "metadata": {},
   "outputs": [
    {
     "data": {
      "text/plain": [
       "[('05/09/2020', True), ('31/12/1999', True), ('01/01/2021', True)]"
      ]
     },
     "execution_count": 31,
     "metadata": {},
     "output_type": "execute_result"
    }
   ],
   "source": [
    "list(zip(match_dates, map(pattern_validator, match_dates)))"
   ]
  },
  {
   "cell_type": "code",
   "execution_count": 32,
   "id": "b96d3d55",
   "metadata": {},
   "outputs": [
    {
     "data": {
      "text/plain": [
       "[('00/09/2020', False), ('32/01/2020', False), ('15-08-2020', False)]"
      ]
     },
     "execution_count": 32,
     "metadata": {},
     "output_type": "execute_result"
    }
   ],
   "source": [
    "list(zip(no_match_dates, map(pattern_validator, no_match_dates)))"
   ]
  },
  {
   "cell_type": "markdown",
   "id": "d6705828-78f5-4000-a878-68b65375adac",
   "metadata": {},
   "source": [
    "#### 6. Validate Time Format (24-Hour)\n",
    "Specification:\n",
    "Match times in HH:MM format where:\n",
    "\n",
    "HH is from 00 to 23.\n",
    "\n",
    "MM is from 00 to 59."
   ]
  },
  {
   "cell_type": "code",
   "execution_count": null,
   "id": "5894ff33",
   "metadata": {},
   "outputs": [],
   "source": [
    "hour = r\"(?:2[0-3]|[01]\\d)\"\n",
    "minute = r\"[0-5]\\d\"\n",
    "pattern = rf\"{hour}:{minute}\""
   ]
  },
  {
   "cell_type": "code",
   "execution_count": null,
   "id": "3280c280-b266-41d3-88f3-39ec40a04a25",
   "metadata": {},
   "outputs": [],
   "source": [
    "match_times = [\"00:00\", \"12:34\", \"23:59\"]\n",
    "no_match_times = [\n",
    "    \"24:00\",  # 24 is out of range\n",
    "    \"12:60\",  # 60 is out of range\n",
    "    \"1:23\",  # not exactly two digits for hour\n",
    "]"
   ]
  },
  {
   "cell_type": "code",
   "execution_count": 35,
   "id": "1231d7b8",
   "metadata": {},
   "outputs": [
    {
     "data": {
      "text/plain": [
       "[('00:00', True), ('12:34', True), ('23:59', True)]"
      ]
     },
     "execution_count": 35,
     "metadata": {},
     "output_type": "execute_result"
    }
   ],
   "source": [
    "list(zip(match_times, map(pattern_validator, match_times)))"
   ]
  },
  {
   "cell_type": "code",
   "execution_count": 36,
   "id": "b836bcc3",
   "metadata": {},
   "outputs": [
    {
     "data": {
      "text/plain": [
       "[('24:00', False), ('12:60', False), ('1:23', False)]"
      ]
     },
     "execution_count": 36,
     "metadata": {},
     "output_type": "execute_result"
    }
   ],
   "source": [
    "list(zip(no_match_times, map(pattern_validator, no_match_times)))"
   ]
  },
  {
   "cell_type": "markdown",
   "id": "8720b175-0b67-45f9-bc33-22cf4bf18a03",
   "metadata": {},
   "source": [
    "#### 7. Validate Hexadecimal Number\n",
    "Specification:\n",
    "Match a hexadecimal number that:\n",
    "\n",
    "Optionally starts with 0x or 0X.\n",
    "\n",
    "Consists solely of hexadecimal digits (0–9, a–f, A–F) after the optional prefix.\n",
    "\n",
    "Must have at least one digit."
   ]
  },
  {
   "cell_type": "code",
   "execution_count": null,
   "id": "e2fb9d5b",
   "metadata": {},
   "outputs": [],
   "source": [
    "prefix = r\"(?:0[xX])?\"\n",
    "value = r\"[\\da-fA-F]+\"\n",
    "pattern = rf\"^{prefix}{value}$\""
   ]
  },
  {
   "cell_type": "code",
   "execution_count": null,
   "id": "d4f331ea",
   "metadata": {},
   "outputs": [],
   "source": [
    "match_hex = [\"0x1A3F\", \"0Xabc\", \"3B7\"]\n",
    "no_match_hex = [\n",
    "    \"0x\",  # no digits following prefix\n",
    "    \"0xGHI\",  # invalid hex digits\n",
    "    \"x123\",  # missing proper prefix and extra character\n",
    "]"
   ]
  },
  {
   "cell_type": "code",
   "execution_count": 39,
   "id": "cd626492",
   "metadata": {},
   "outputs": [
    {
     "data": {
      "text/plain": [
       "[('0x1A3F', True), ('0Xabc', True), ('3B7', True)]"
      ]
     },
     "execution_count": 39,
     "metadata": {},
     "output_type": "execute_result"
    }
   ],
   "source": [
    "list(zip(match_hex, map(pattern_validator, match_hex)))"
   ]
  },
  {
   "cell_type": "code",
   "execution_count": 40,
   "id": "e0bc770a",
   "metadata": {},
   "outputs": [
    {
     "data": {
      "text/plain": [
       "[('0x', False), ('0xGHI', False), ('x123', False)]"
      ]
     },
     "execution_count": 40,
     "metadata": {},
     "output_type": "execute_result"
    }
   ],
   "source": [
    "list(zip(no_match_hex, map(pattern_validator, no_match_hex)))"
   ]
  },
  {
   "cell_type": "markdown",
   "id": "1e67a2e9-e116-4157-a9d9-069296bf9818",
   "metadata": {},
   "source": [
    "#### 8. Validate Strong Password\n",
    "Specification:\n",
    "Match a password that must:\n",
    "\n",
    "Be at least 8 characters long.\n",
    "\n",
    "Contain at least one uppercase letter.\n",
    "\n",
    "Contain at least one lowercase letter.\n",
    "\n",
    "Contain at least one digit.\n",
    "\n",
    "Contain at least one special character from !@#$%^&*()_+-=[]{}|;:,.<>?"
   ]
  },
  {
   "cell_type": "code",
   "execution_count": null,
   "id": "40e7cad0",
   "metadata": {},
   "outputs": [],
   "source": [
    "check_length = r\"(?=.{8})\"\n",
    "check_upper = r\"(?=.*[A-Z])\"\n",
    "check_lower = r\"(?=.*[a-z])\"\n",
    "check_digit = r\"(?=.*\\d)\"\n",
    "check_special = r\"(?=.*[!@#$%^&*()_+=\\[\\]{}|;:,.<>?-])\"\n",
    "pattern = rf\"^{check_length}{check_upper}{check_lower}{check_digit}{check_special}.*$\""
   ]
  },
  {
   "cell_type": "code",
   "execution_count": null,
   "id": "b76124cd-0fd6-4531-be8f-ebe5821c5644",
   "metadata": {},
   "outputs": [],
   "source": [
    "match_passwords = [\"Passw0rd!\", \"Str0ng@Pass\", \"A1b2C3$%\"]\n",
    "no_match_passwords = [\n",
    "    \"password\",  # no uppercase, no digit, no special\n",
    "    \"PASSWORD123\",  # no lowercase, no special\n",
    "    \"Passw0rd\",  # missing special character\n",
    "]"
   ]
  },
  {
   "cell_type": "code",
   "execution_count": 43,
   "id": "0ae04e8a",
   "metadata": {},
   "outputs": [
    {
     "data": {
      "text/plain": [
       "[('Passw0rd!', True), ('Str0ng@Pass', True), ('A1b2C3$%', True)]"
      ]
     },
     "execution_count": 43,
     "metadata": {},
     "output_type": "execute_result"
    }
   ],
   "source": [
    "list(zip(match_passwords, map(pattern_validator, match_passwords)))"
   ]
  },
  {
   "cell_type": "code",
   "execution_count": null,
   "id": "10b2d40c",
   "metadata": {},
   "outputs": [
    {
     "data": {
      "text/plain": [
       "[('password', False), ('PASSWORD123', False), ('Passw0rd', False)]"
      ]
     },
     "execution_count": 44,
     "metadata": {},
     "output_type": "execute_result"
    }
   ],
   "source": [
    "list(\n",
    "    zip(no_match_passwords, map(pattern_validator, no_match_passwords))\n",
    ")"
   ]
  },
  {
   "cell_type": "markdown",
   "id": "13fec6f6-69e7-465f-a821-b3c05df71413",
   "metadata": {},
   "source": [
    "#### 9. Validate Credit Card Number (16 digits)\n",
    "Specification:\n",
    "Match a credit card number that:\n",
    "\n",
    "Contains exactly 16 digits.\n",
    "\n",
    "May optionally be divided into groups of 4 by spaces or hyphens (but not mixed)."
   ]
  },
  {
   "cell_type": "code",
   "execution_count": null,
   "id": "3d95fb96",
   "metadata": {},
   "outputs": [],
   "source": [
    "tetrad = r\"[0-9]{4}\"\n",
    "tetrads_nr = 4\n",
    "pattern = rf\"^{tetrad}([- ]?)(?:{tetrad}\\1){{{tetrads_nr - 2 if tetrads_nr > 1 else 0}}}{tetrad}$\""
   ]
  },
  {
   "cell_type": "code",
   "execution_count": null,
   "id": "2428b531-6a86-40fa-b7b1-68ee283ba202",
   "metadata": {},
   "outputs": [],
   "source": [
    "match_cards = [\n",
    "    \"1234567812345678\",\n",
    "    \"1234-5678-1234-5678\",\n",
    "    \"1234 5678 1234 5678\",\n",
    "]\n",
    "no_match_cards = [\n",
    "    \"1234-5678 1234-5678\",  # mixed separators\n",
    "    \"12345678-12345678\",  # wrong grouping\n",
    "    \"1234-5678-1234\",  # too short\n",
    "    \"12345678901234567\",  # too many digits\n",
    "]"
   ]
  },
  {
   "cell_type": "code",
   "execution_count": 47,
   "id": "5a0dd3a5",
   "metadata": {},
   "outputs": [
    {
     "data": {
      "text/plain": [
       "[('1234567812345678', True),\n",
       " ('1234-5678-1234-5678', True),\n",
       " ('1234 5678 1234 5678', True)]"
      ]
     },
     "execution_count": 47,
     "metadata": {},
     "output_type": "execute_result"
    }
   ],
   "source": [
    "list(zip(match_cards, map(pattern_validator, match_cards)))"
   ]
  },
  {
   "cell_type": "code",
   "execution_count": 48,
   "id": "21ee5e76",
   "metadata": {},
   "outputs": [
    {
     "data": {
      "text/plain": [
       "[('1234-5678 1234-5678', False),\n",
       " ('12345678-12345678', False),\n",
       " ('1234-5678-1234', False),\n",
       " ('12345678901234567', False)]"
      ]
     },
     "execution_count": 48,
     "metadata": {},
     "output_type": "execute_result"
    }
   ],
   "source": [
    "list(zip(no_match_cards, map(pattern_validator, no_match_cards)))"
   ]
  },
  {
   "cell_type": "markdown",
   "id": "706abd4d-478b-4c73-bbed-c80d0e20f8c1",
   "metadata": {},
   "source": [
    "#### 10. Validate US Social Security Number (SSN)\n",
    "Specification:\n",
    "Match an SSN that:\n",
    "\n",
    "Follows the format XXX-XX-XXXX where X is a digit (0-9)."
   ]
  },
  {
   "cell_type": "code",
   "execution_count": null,
   "id": "d3498a11",
   "metadata": {},
   "outputs": [],
   "source": [
    "pattern = r\"^\\d{3}-\\d{2}-\\d{4}$\""
   ]
  },
  {
   "cell_type": "code",
   "execution_count": null,
   "id": "81ae0179-77a6-4108-a1ae-133e74467c9e",
   "metadata": {},
   "outputs": [],
   "source": [
    "match_ssn = [\"123-45-6789\", \"000-12-3456\"]\n",
    "no_match_ssn = [\n",
    "    \"123456789\",  # missing dashes\n",
    "    \"12-345-6789\",  # wrong grouping\n",
    "    \"123-456-789\",  # wrong number count in each group\n",
    "]"
   ]
  },
  {
   "cell_type": "code",
   "execution_count": 51,
   "id": "125d5bb2",
   "metadata": {},
   "outputs": [
    {
     "data": {
      "text/plain": [
       "[('123-45-6789', True), ('000-12-3456', True)]"
      ]
     },
     "execution_count": 51,
     "metadata": {},
     "output_type": "execute_result"
    }
   ],
   "source": [
    "list(zip(match_ssn, map(pattern_validator, match_ssn)))"
   ]
  },
  {
   "cell_type": "code",
   "execution_count": 52,
   "id": "832c3b92",
   "metadata": {},
   "outputs": [
    {
     "data": {
      "text/plain": [
       "[('123456789', False), ('12-345-6789', False), ('123-456-789', False)]"
      ]
     },
     "execution_count": 52,
     "metadata": {},
     "output_type": "execute_result"
    }
   ],
   "source": [
    "list(zip(no_match_ssn, map(pattern_validator, no_match_ssn)))"
   ]
  },
  {
   "cell_type": "markdown",
   "id": "8cf166ad",
   "metadata": {},
   "source": [
    "#### 11. Validate Hex Color Code\n",
    "Specification:\n",
    "Match a hex color code that:\n",
    "\n",
    "Starts with a #.\n",
    "\n",
    "Followed by exactly 6 hexadecimal digits (case insensitive)."
   ]
  },
  {
   "cell_type": "code",
   "execution_count": null,
   "id": "2fc42a30",
   "metadata": {},
   "outputs": [],
   "source": [
    "pattern = r\"^#[\\da-fA-F]{6}$\""
   ]
  },
  {
   "cell_type": "code",
   "execution_count": null,
   "id": "14421a01",
   "metadata": {},
   "outputs": [],
   "source": [
    "match_colors = [\"#1A2B3C\", \"#abcdef\", \"#123456\"]\n",
    "no_match_colors = [\n",
    "    \"123456\",  # missing hash\n",
    "    \"#123AB\",  # only 5 hex digits\n",
    "    \"#1234567\",  # 7 hex digits\n",
    "    \"#1G2B3C\",  # invalid hex digit \"G\"\n",
    "]"
   ]
  },
  {
   "cell_type": "code",
   "execution_count": 55,
   "id": "b4b3474a",
   "metadata": {},
   "outputs": [
    {
     "data": {
      "text/plain": [
       "[('#1A2B3C', True), ('#abcdef', True), ('#123456', True)]"
      ]
     },
     "execution_count": 55,
     "metadata": {},
     "output_type": "execute_result"
    }
   ],
   "source": [
    "list(zip(match_colors, map(pattern_validator, match_colors)))"
   ]
  },
  {
   "cell_type": "code",
   "execution_count": 56,
   "id": "2c76482a",
   "metadata": {},
   "outputs": [
    {
     "data": {
      "text/plain": [
       "[('123456', False), ('#123AB', False), ('#1234567', False), ('#1G2B3C', False)]"
      ]
     },
     "execution_count": 56,
     "metadata": {},
     "output_type": "execute_result"
    }
   ],
   "source": [
    "list(zip(no_match_colors, map(pattern_validator, no_match_colors)))"
   ]
  },
  {
   "cell_type": "markdown",
   "id": "c015fbbc",
   "metadata": {},
   "source": [
    "#### 12. Validate ISBN-10 Format\n",
    "Specification:\n",
    "Match an ISBN-10 that:\n",
    "\n",
    "Contains 10 characters.\n",
    "\n",
    "The first 9 characters are digits.\n",
    "\n",
    "The last character is either a digit or an uppercase X."
   ]
  },
  {
   "cell_type": "code",
   "execution_count": null,
   "id": "e443c245",
   "metadata": {},
   "outputs": [],
   "source": [
    "pattern = r\"^\\d{9}[X\\d]\""
   ]
  },
  {
   "cell_type": "code",
   "execution_count": null,
   "id": "26f28521",
   "metadata": {},
   "outputs": [],
   "source": [
    "match_isbn10 = [\"0306406152\", \"123456789X\"]\n",
    "no_match_isbn10 = [\n",
    "    \"030640615\",  # only 9 characters\n",
    "    \"123456789x\",  # lowercase x not allowed (if the spec demands uppercase)\n",
    "    \"ABCDEFGHIJ\",  # not digits\n",
    "]"
   ]
  },
  {
   "cell_type": "code",
   "execution_count": 59,
   "id": "b7e3c7d3",
   "metadata": {},
   "outputs": [
    {
     "data": {
      "text/plain": [
       "[('0306406152', True), ('123456789X', True)]"
      ]
     },
     "execution_count": 59,
     "metadata": {},
     "output_type": "execute_result"
    }
   ],
   "source": [
    "list(zip(match_isbn10, map(pattern_validator, match_isbn10)))"
   ]
  },
  {
   "cell_type": "code",
   "execution_count": 60,
   "id": "4ed4a5af",
   "metadata": {},
   "outputs": [
    {
     "data": {
      "text/plain": [
       "[('030640615', False), ('123456789x', False), ('ABCDEFGHIJ', False)]"
      ]
     },
     "execution_count": 60,
     "metadata": {},
     "output_type": "execute_result"
    }
   ],
   "source": [
    "list(zip(no_match_isbn10, map(pattern_validator, no_match_isbn10)))"
   ]
  },
  {
   "cell_type": "markdown",
   "id": "03ac9d2c",
   "metadata": {},
   "source": [
    "#### 13. Validate US Zip Code\n",
    "Specification:\n",
    "Match a US zip code that:\n",
    "\n",
    "Is either exactly 5 digits (e.g., 12345), or\n",
    "\n",
    "5 digits followed by a hyphen and 4 more digits (e.g., 12345-6789)."
   ]
  },
  {
   "cell_type": "code",
   "execution_count": null,
   "id": "7b2c852b",
   "metadata": {},
   "outputs": [],
   "source": [
    "pattern = r\"^\\d{5}(?:-\\d{4})?$\""
   ]
  },
  {
   "cell_type": "code",
   "execution_count": null,
   "id": "81d7f75c",
   "metadata": {},
   "outputs": [],
   "source": [
    "match_zipcodes = [\"12345\", \"12345-6789\"]\n",
    "no_match_zipcodes = [\n",
    "    \"1234\",  # too short\n",
    "    \"123456\",  # too many digits without hyphen\n",
    "    \"12345_6789\",  # wrong separator\n",
    "]"
   ]
  },
  {
   "cell_type": "code",
   "execution_count": 63,
   "id": "c2fa77b7",
   "metadata": {},
   "outputs": [
    {
     "data": {
      "text/plain": [
       "[('12345', True), ('12345-6789', True)]"
      ]
     },
     "execution_count": 63,
     "metadata": {},
     "output_type": "execute_result"
    }
   ],
   "source": [
    "list(zip(match_zipcodes, map(pattern_validator, match_zipcodes)))"
   ]
  },
  {
   "cell_type": "code",
   "execution_count": 64,
   "id": "ce0ceba6",
   "metadata": {},
   "outputs": [
    {
     "data": {
      "text/plain": [
       "[('1234', False), ('123456', False), ('12345_6789', False)]"
      ]
     },
     "execution_count": 64,
     "metadata": {},
     "output_type": "execute_result"
    }
   ],
   "source": [
    "list(zip(no_match_zipcodes, map(pattern_validator, no_match_zipcodes)))"
   ]
  },
  {
   "cell_type": "markdown",
   "id": "b0f0616a",
   "metadata": {},
   "source": [
    "#### 14. Validate Simple HTML Opening Tag\n",
    "Specification:\n",
    "Match a simple HTML opening tag that:\n",
    "\n",
    "Begins with < and ends with >.\n",
    "\n",
    "Contains a tag name that starts with a letter and is followed by letters or digits.\n",
    "\n",
    "Optionally, there may be one or more attributes. Each attribute is formatted as name=\"value\" with no spaces within the attribute part."
   ]
  },
  {
   "cell_type": "code",
   "execution_count": null,
   "id": "0d134654",
   "metadata": {},
   "outputs": [],
   "source": [
    "tag_name = r\"[a-zA-Z][a-zA-Z\\d]*\"\n",
    "attr_name = tag_name\n",
    "attr = rf'{attr_name}=\".*\"(?=[> ])'\n",
    "attrs = rf\"(?:(?:{attr} )*{attr})\"\n",
    "pattern = rf\"^<{tag_name}(?: {attrs})?>$\""
   ]
  },
  {
   "cell_type": "code",
   "execution_count": null,
   "id": "f4d61678",
   "metadata": {},
   "outputs": [],
   "source": [
    "match_html = [\n",
    "    \"<div>\",\n",
    "    '<a href=\"link.html\">',\n",
    "    '<img src=\"image.png\" alt=\"desc\">',\n",
    "]\n",
    "no_match_html = [\n",
    "    \"<1div>\",  # tag must start with a letter\n",
    "    \"<div class=example>\",  # attribute value not in quotes\n",
    "    \"div>\",  # missing starting <\n",
    "]"
   ]
  },
  {
   "cell_type": "code",
   "execution_count": 67,
   "id": "a7605a12",
   "metadata": {},
   "outputs": [
    {
     "data": {
      "text/plain": [
       "[('<div>', True),\n",
       " ('<a href=\"link.html\">', True),\n",
       " ('<img src=\"image.png\" alt=\"desc\">', True)]"
      ]
     },
     "execution_count": 67,
     "metadata": {},
     "output_type": "execute_result"
    }
   ],
   "source": [
    "list(zip(match_html, map(pattern_validator, match_html)))"
   ]
  },
  {
   "cell_type": "code",
   "execution_count": 68,
   "id": "71f06bf2",
   "metadata": {},
   "outputs": [
    {
     "data": {
      "text/plain": [
       "[('<1div>', False), ('<div class=example>', False), ('div>', False)]"
      ]
     },
     "execution_count": 68,
     "metadata": {},
     "output_type": "execute_result"
    }
   ],
   "source": [
    "list(zip(no_match_html, map(pattern_validator, no_match_html)))"
   ]
  },
  {
   "cell_type": "markdown",
   "id": "3c507ba6",
   "metadata": {},
   "source": [
    "#### 15. Validate Time Range Format\n",
    "Specification:\n",
    "Match a time range string formatted as HH:MM-HH:MM where:\n",
    "\n",
    "Both times follow the 24-hour HH:MM format (00:00 to 23:59).\n",
    "\n",
    "There is a single hyphen separating the two valid times."
   ]
  },
  {
   "cell_type": "code",
   "execution_count": null,
   "id": "62735f9d",
   "metadata": {},
   "outputs": [],
   "source": [
    "hours = r\"(?:2[0-3]|[01]\\d)\"\n",
    "minutes = r\"[0-5]\\d\"\n",
    "time = rf\"{hours}:{minutes}\"\n",
    "pattern = f\"^{time}-{time}$\""
   ]
  },
  {
   "cell_type": "code",
   "execution_count": null,
   "id": "ff8658fd",
   "metadata": {},
   "outputs": [],
   "source": [
    "match_time_ranges = [\"09:00-17:00\", \"00:00-23:59\"]\n",
    "no_match_time_ranges = [\n",
    "    \"9:00-17:00\",  # first time not exactly HH:MM\n",
    "    \"09:00 to 17:00\",  # wrong separator\n",
    "    \"24:00-17:00\",  # invalid hour\n",
    "]"
   ]
  },
  {
   "cell_type": "code",
   "execution_count": 71,
   "id": "9374deef",
   "metadata": {},
   "outputs": [
    {
     "data": {
      "text/plain": [
       "[('09:00-17:00', True), ('00:00-23:59', True)]"
      ]
     },
     "execution_count": 71,
     "metadata": {},
     "output_type": "execute_result"
    }
   ],
   "source": [
    "list(zip(match_time_ranges, map(pattern_validator, match_time_ranges)))"
   ]
  },
  {
   "cell_type": "code",
   "execution_count": null,
   "id": "a06be167",
   "metadata": {},
   "outputs": [
    {
     "data": {
      "text/plain": [
       "[('9:00-17:00', False), ('09:00 to 17:00', False), ('24:00-17:00', False)]"
      ]
     },
     "execution_count": 72,
     "metadata": {},
     "output_type": "execute_result"
    }
   ],
   "source": [
    "list(\n",
    "    zip(\n",
    "        no_match_time_ranges,\n",
    "        map(pattern_validator, no_match_time_ranges),\n",
    "    )\n",
    ")"
   ]
  },
  {
   "cell_type": "markdown",
   "id": "5b563128",
   "metadata": {},
   "source": [
    "#### 16. Validate Full Name (First and Last with Capital Letters)\n",
    "Specification:\n",
    "Match a full name that:\n",
    "\n",
    "Contains at least two words.\n",
    "\n",
    "Each word starts with an uppercase letter (A–Z) followed by one or more lowercase letters.\n",
    "\n",
    "Words are separated by a single space."
   ]
  },
  {
   "cell_type": "code",
   "execution_count": null,
   "id": "6e729a32",
   "metadata": {},
   "outputs": [],
   "source": [
    "name = r\"[A-Z][a-z]+\"\n",
    "pattern = rf\"^{name} {name}$\""
   ]
  },
  {
   "cell_type": "code",
   "execution_count": null,
   "id": "7b902021",
   "metadata": {},
   "outputs": [],
   "source": [
    "match_names = [\"John Doe\", \"Alice Wonderland\", \"Mary Jane\"]\n",
    "no_match_names = [\n",
    "    \"john doe\",  # lowercase initials\n",
    "    \"JohnDoe\",  # no space\n",
    "    \"John doe\",  # second word does not start with uppercase\n",
    "    \"J Doe\",  # first name too short if you require more than one letter (depending on your exact rules)\n",
    "]"
   ]
  },
  {
   "cell_type": "code",
   "execution_count": 75,
   "id": "6d20d8e1",
   "metadata": {},
   "outputs": [
    {
     "data": {
      "text/plain": [
       "[('John Doe', True), ('Alice Wonderland', True), ('Mary Jane', True)]"
      ]
     },
     "execution_count": 75,
     "metadata": {},
     "output_type": "execute_result"
    }
   ],
   "source": [
    "list(zip(match_names, map(pattern_validator, match_names)))"
   ]
  },
  {
   "cell_type": "code",
   "execution_count": 76,
   "id": "56fbe257",
   "metadata": {},
   "outputs": [
    {
     "data": {
      "text/plain": [
       "[('john doe', False),\n",
       " ('JohnDoe', False),\n",
       " ('John doe', False),\n",
       " ('J Doe', False)]"
      ]
     },
     "execution_count": 76,
     "metadata": {},
     "output_type": "execute_result"
    }
   ],
   "source": [
    "list(zip(no_match_names, map(pattern_validator, no_match_names)))"
   ]
  },
  {
   "cell_type": "markdown",
   "id": "f0ed52cd",
   "metadata": {},
   "source": [
    "#### 17. Validate Unix File Path\n",
    "Specification:\n",
    "Match a Unix-like file path that:\n",
    "\n",
    "Begins with a forward slash /.\n",
    "\n",
    "Contains one or more directory names separated by /.\n",
    "\n",
    "Directory names can be alphanumeric and may include underscores or hyphens.\n",
    "\n",
    "Optionally ends with a file name with extension (e.g., .txt), following similar rules."
   ]
  },
  {
   "cell_type": "code",
   "execution_count": null,
   "id": "9507de61",
   "metadata": {},
   "outputs": [],
   "source": [
    "valid_name = r\"[\\w-]+\"\n",
    "extension = r\"(?:\\.[a-zA-Z]{3})?\"\n",
    "pattern = rf\"^(?:/{valid_name})+{extension}?$\""
   ]
  },
  {
   "cell_type": "code",
   "execution_count": null,
   "id": "3f8acacf",
   "metadata": {},
   "outputs": [],
   "source": [
    "match_paths = [\n",
    "    \"/usr/bin/python\",\n",
    "    \"/home/user/Documents/report.txt\",\n",
    "    \"/var/log/sys_log\",\n",
    "]\n",
    "no_match_paths = [\n",
    "    \"usr/bin/python\",  # missing starting slash\n",
    "    \"/home//user\",  # double slash not allowed if you want one separator between names\n",
    "    \"/home/user/\",  # ambiguous trailing slash if file name is required (depending on strictness)\n",
    "]"
   ]
  },
  {
   "cell_type": "code",
   "execution_count": 79,
   "id": "1e4967c3",
   "metadata": {},
   "outputs": [
    {
     "data": {
      "text/plain": [
       "[('/usr/bin/python', True),\n",
       " ('/home/user/Documents/report.txt', True),\n",
       " ('/var/log/sys_log', True)]"
      ]
     },
     "execution_count": 79,
     "metadata": {},
     "output_type": "execute_result"
    }
   ],
   "source": [
    "list(zip(match_paths, map(pattern_validator, match_paths)))"
   ]
  },
  {
   "cell_type": "code",
   "execution_count": 80,
   "id": "3220f560",
   "metadata": {},
   "outputs": [
    {
     "data": {
      "text/plain": [
       "[('123456789', False), ('12-345-6789', False), ('123-456-789', False)]"
      ]
     },
     "execution_count": 80,
     "metadata": {},
     "output_type": "execute_result"
    }
   ],
   "source": [
    "list(zip(no_match_ssn, map(pattern_validator, no_match_paths)))"
   ]
  },
  {
   "cell_type": "markdown",
   "id": "adbbb7d1",
   "metadata": {},
   "source": [
    "#### 18. Validate Python Variable Name\n",
    "Specification:\n",
    "Match a valid Python variable name that:\n",
    "\n",
    "Starts with an underscore or letter (a–z, A–Z).\n",
    "\n",
    "Followed by any combination of letters, digits, or underscores."
   ]
  },
  {
   "cell_type": "code",
   "execution_count": null,
   "id": "a4fdfcb8",
   "metadata": {},
   "outputs": [],
   "source": [
    "pattern = r\"^(?!\\d)[\\w\\d]+$\""
   ]
  },
  {
   "cell_type": "code",
   "execution_count": null,
   "id": "368b0ce6",
   "metadata": {},
   "outputs": [],
   "source": [
    "match_variables = [\"var_1\", \"_temp\", \"dataFrame2\"]\n",
    "no_match_variables = [\n",
    "    \"1stVar\",  # starts with digit\n",
    "    \"var-name\",  # hyphen not allowed\n",
    "    \"var!able\",  # special character not allowed\n",
    "]"
   ]
  },
  {
   "cell_type": "code",
   "execution_count": 83,
   "id": "e65d076d",
   "metadata": {},
   "outputs": [
    {
     "data": {
      "text/plain": [
       "[('var_1', True), ('_temp', True), ('dataFrame2', True)]"
      ]
     },
     "execution_count": 83,
     "metadata": {},
     "output_type": "execute_result"
    }
   ],
   "source": [
    "list(zip(match_variables, map(pattern_validator, match_variables)))"
   ]
  },
  {
   "cell_type": "code",
   "execution_count": null,
   "id": "4d55adda",
   "metadata": {},
   "outputs": [
    {
     "data": {
      "text/plain": [
       "[('1stVar', False), ('var-name', False), ('var!able', False)]"
      ]
     },
     "execution_count": 84,
     "metadata": {},
     "output_type": "execute_result"
    }
   ],
   "source": [
    "list(\n",
    "    zip(no_match_variables, map(pattern_validator, no_match_variables))\n",
    ")"
   ]
  },
  {
   "cell_type": "markdown",
   "id": "2c9fb585",
   "metadata": {},
   "source": [
    "#### 19. Match Alternating Vowels and Consonants (Simple Case)\n",
    "Specification:\n",
    "Match strings that:\n",
    "\n",
    "Consist solely of alphabet characters.\n",
    "\n",
    "The letters alternate strictly between vowels (a, e, i, o, u—case insensitive) and consonants.\n",
    "\n",
    "For simplicity, assume the string starts with a vowel and has an even length."
   ]
  },
  {
   "cell_type": "code",
   "execution_count": null,
   "id": "1cb8b4a7",
   "metadata": {},
   "outputs": [],
   "source": [
    "pattern = r\"^([aeuoi](?=[a-z])[^aeuoi])+$\""
   ]
  },
  {
   "cell_type": "code",
   "execution_count": null,
   "id": "d0ad4c2e",
   "metadata": {},
   "outputs": [],
   "source": [
    "match_alternating = [\n",
    "    \"abab\",  # a (vowel), b (consonant), a (vowel), b (consonant)\n",
    "    \"efoher\",  # e (vowel), f (consonant), o (vowel), e (consonant)\n",
    "]\n",
    "no_match_alternating = [\n",
    "    \"aba\",  # odd length\n",
    "    \"abba\",  # letters do not alternate strictly\n",
    "    \"aeioua\",  # multiple vowels in a row\n",
    "]"
   ]
  },
  {
   "cell_type": "code",
   "execution_count": null,
   "id": "86649328",
   "metadata": {},
   "outputs": [],
   "source": [
    "from functools import partial\n",
    "\n",
    "pattern_validator_ic = partial(pattern_validator, ignorecase=True)"
   ]
  },
  {
   "cell_type": "code",
   "execution_count": null,
   "id": "43bd5008",
   "metadata": {},
   "outputs": [
    {
     "data": {
      "text/plain": [
       "[('abab', True), ('efoher', True)]"
      ]
     },
     "execution_count": 88,
     "metadata": {},
     "output_type": "execute_result"
    }
   ],
   "source": [
    "list(\n",
    "    zip(match_alternating, map(pattern_validator_ic, match_alternating))\n",
    ")"
   ]
  },
  {
   "cell_type": "code",
   "execution_count": null,
   "id": "77f897fb",
   "metadata": {},
   "outputs": [
    {
     "data": {
      "text/plain": [
       "[('aba', False), ('abba', False), ('aeioua', False)]"
      ]
     },
     "execution_count": 89,
     "metadata": {},
     "output_type": "execute_result"
    }
   ],
   "source": [
    "list(\n",
    "    zip(\n",
    "        no_match_alternating,\n",
    "        map(pattern_validator_ic, no_match_alternating),\n",
    "    )\n",
    ")"
   ]
  },
  {
   "cell_type": "markdown",
   "id": "29e81aed",
   "metadata": {},
   "source": [
    "#### 20. Validate Simple Mathematical Expression\n",
    "Specification:\n",
    "Match a mathematical expression that:\n",
    "\n",
    "Consists of two integers (one or more digits) with an operator between them.\n",
    "\n",
    "The operator can be one of +, -, *, or /.\n",
    "\n",
    "Spaces around the operator are optional."
   ]
  },
  {
   "cell_type": "code",
   "execution_count": null,
   "id": "09178506",
   "metadata": {},
   "outputs": [],
   "source": [
    "pattern = r\"^\\d+ ?[-+/*] ?\\d+$\""
   ]
  },
  {
   "cell_type": "code",
   "execution_count": null,
   "id": "7480d3c7",
   "metadata": {},
   "outputs": [],
   "source": [
    "match_math = [\"3+4\", \"12 - 5\", \"100*20\", \"7 / 2\"]\n",
    "no_match_math = [\n",
    "    \"3 ++ 4\",  # invalid operator sequence\n",
    "    \"12 -\",  # missing second integer\n",
    "    \"+5 7\",  # operator at the beginning\n",
    "    \"three+four\",  # letters instead of digits\n",
    "]"
   ]
  },
  {
   "cell_type": "code",
   "execution_count": 92,
   "id": "782b5f7c",
   "metadata": {},
   "outputs": [
    {
     "data": {
      "text/plain": [
       "[('3+4', True), ('12 - 5', True), ('100*20', True), ('7 / 2', True)]"
      ]
     },
     "execution_count": 92,
     "metadata": {},
     "output_type": "execute_result"
    }
   ],
   "source": [
    "list(zip(match_math, map(pattern_validator, match_math)))"
   ]
  },
  {
   "cell_type": "code",
   "execution_count": 93,
   "id": "325bab82",
   "metadata": {},
   "outputs": [
    {
     "data": {
      "text/plain": [
       "[('3 ++ 4', False), ('12 -', False), ('+5 7', False), ('three+four', False)]"
      ]
     },
     "execution_count": 93,
     "metadata": {},
     "output_type": "execute_result"
    }
   ],
   "source": [
    "list(zip(no_match_math, map(pattern_validator, no_match_math)))"
   ]
  },
  {
   "cell_type": "markdown",
   "id": "67732440",
   "metadata": {},
   "source": [
    "##### 21. Validate a Suffix that Requires a Certain Prefix:\n",
    "Specification:\n",
    "Write a regex that matches the word “end” only if it is immediately preceded by a three-digit number."
   ]
  },
  {
   "cell_type": "code",
   "execution_count": null,
   "id": "f8ae3b9c",
   "metadata": {},
   "outputs": [],
   "source": [
    "pattern = r\"(?<=\\b\\d{3})end$\""
   ]
  },
  {
   "cell_type": "code",
   "execution_count": null,
   "id": "bc68f54b",
   "metadata": {},
   "outputs": [],
   "source": [
    "match_examples = [\"123end\", \"999end\"]\n",
    "no_match_examples = [\n",
    "    \"12end\",  # too short a prefix\n",
    "    \"1234end\",  # more than three digits before\n",
    "    \"abc123end\",  # non-digit characters before the digits\n",
    "]"
   ]
  },
  {
   "cell_type": "code",
   "execution_count": 96,
   "id": "956b0813",
   "metadata": {},
   "outputs": [
    {
     "data": {
      "text/plain": [
       "[('123end', True), ('999end', True)]"
      ]
     },
     "execution_count": 96,
     "metadata": {},
     "output_type": "execute_result"
    }
   ],
   "source": [
    "list(zip(match_examples, map(pattern_validator, match_examples)))"
   ]
  },
  {
   "cell_type": "code",
   "execution_count": 97,
   "id": "6e579a1f",
   "metadata": {},
   "outputs": [
    {
     "data": {
      "text/plain": [
       "[('12end', False), ('1234end', False), ('abc123end', False)]"
      ]
     },
     "execution_count": 97,
     "metadata": {},
     "output_type": "execute_result"
    }
   ],
   "source": [
    "list(zip(no_match_examples, map(pattern_validator, no_match_examples)))"
   ]
  },
  {
   "cell_type": "markdown",
   "id": "e80c280a",
   "metadata": {},
   "source": [
    "##### Negative Lookbehind for a Specific Pattern:\n",
    "Specification:\n",
    "Write a regex that matches the word \"open\" only if it is not preceded by \"door\"."
   ]
  },
  {
   "cell_type": "code",
   "execution_count": null,
   "id": "625b35fc",
   "metadata": {},
   "outputs": [],
   "source": [
    "pattern = r\"(?<!\\bdoor )\\bopen\\b\""
   ]
  },
  {
   "cell_type": "code",
   "execution_count": null,
   "id": "6ffdc86c",
   "metadata": {},
   "outputs": [],
   "source": [
    "match_examples = [\n",
    "    \"window open\",\n",
    "    \"the open scene\",\n",
    "    \"a door is closed, but room open\",\n",
    "]\n",
    "no_match_examples = [\n",
    "    \"door open\",  # should not match\n",
    "    \"big dooropen\",  # when \"door\" is immediately adjacent to \"open\"\n",
    "]"
   ]
  },
  {
   "cell_type": "code",
   "execution_count": 100,
   "id": "10882aa2",
   "metadata": {},
   "outputs": [
    {
     "data": {
      "text/plain": [
       "[('window open', True),\n",
       " ('the open scene', True),\n",
       " ('a door is closed, but room open', True)]"
      ]
     },
     "execution_count": 100,
     "metadata": {},
     "output_type": "execute_result"
    }
   ],
   "source": [
    "list(zip(match_examples, map(pattern_validator, match_examples)))"
   ]
  },
  {
   "cell_type": "code",
   "execution_count": 101,
   "id": "2bfdd9f3",
   "metadata": {},
   "outputs": [
    {
     "data": {
      "text/plain": [
       "[('door open', False), ('big dooropen', False)]"
      ]
     },
     "execution_count": 101,
     "metadata": {},
     "output_type": "execute_result"
    }
   ],
   "source": [
    "list(zip(no_match_examples, map(pattern_validator, no_match_examples)))"
   ]
  },
  {
   "cell_type": "markdown",
   "id": "97d85dc8",
   "metadata": {},
   "source": [
    "##### 23. No Repeated Adjacent Words\n",
    "Specification:\n",
    "Create a regex that matches a sentence only if it does not contain any adjacent repeated words (case-insensitive). Use a negative lookahead with a backreference to detect repeats.\n",
    "Example rule: \"This is is a test.\" should fail because \"is\" appears twice consecutively; \"This is a test.\" should pass."
   ]
  },
  {
   "cell_type": "code",
   "execution_count": null,
   "id": "96d1d2bb",
   "metadata": {},
   "outputs": [],
   "source": [
    "pattern = r\"(?!.*\\b(\\w+)\\b\\W+\\b\\1)^.*$\""
   ]
  },
  {
   "cell_type": "code",
   "execution_count": null,
   "id": "2894fbc4",
   "metadata": {},
   "outputs": [],
   "source": [
    "match_no_repeat = [\n",
    "    \"This is a test.\",\n",
    "    \"Hello world, hello again.\",\n",
    "    \"One two three four.\",\n",
    "]\n",
    "no_match_repeat = [\n",
    "    \"This is is a test.\",\n",
    "    \"Well, well, what do we have here?\",\n",
    "    \"Stop stop! Don't repeat.\",\n",
    "]"
   ]
  },
  {
   "cell_type": "code",
   "execution_count": 104,
   "id": "edee8216",
   "metadata": {},
   "outputs": [
    {
     "data": {
      "text/plain": [
       "[('This is a test.', True),\n",
       " ('Hello world, hello again.', True),\n",
       " ('One two three four.', True)]"
      ]
     },
     "execution_count": 104,
     "metadata": {},
     "output_type": "execute_result"
    }
   ],
   "source": [
    "list(zip(match_no_repeat, map(pattern_validator_ic, match_no_repeat)))"
   ]
  },
  {
   "cell_type": "code",
   "execution_count": 105,
   "id": "a5f07ba3",
   "metadata": {},
   "outputs": [
    {
     "data": {
      "text/plain": [
       "[('This is is a test.', False),\n",
       " ('Well, well, what do we have here?', False),\n",
       " (\"Stop stop! Don't repeat.\", False)]"
      ]
     },
     "execution_count": 105,
     "metadata": {},
     "output_type": "execute_result"
    }
   ],
   "source": [
    "list(zip(no_match_repeat, map(pattern_validator_ic, no_match_repeat)))"
   ]
  },
  {
   "cell_type": "markdown",
   "id": "08bd9761",
   "metadata": {},
   "source": [
    "##### 24. Validate a Date in YYYY-MM-DD with Leap Year Consideration (Partial)\n",
    "Specification:\n",
    "Write a regex to validate dates in the format YYYY-MM-DD with basic leap-year logic for February 29.\n",
    "\n",
    "Year: any four digits (assume valid if divisible by 4 for simplicity, you need not validate century exceptions).\n",
    "\n",
    "Month: 01 to 12.\n",
    "\n",
    "Day: check up to 31 for months that allow it; for February, allow 29 only if the year is a leap year (divisible by 4), otherwise max 28.\n",
    "Note: This regex won’t capture every real-life nuance but should use conditional (or nested) groups and lookahead/lookbehind if needed."
   ]
  },
  {
   "cell_type": "code",
   "execution_count": null,
   "id": "f3545f59",
   "metadata": {},
   "outputs": [
    {
     "data": {
      "text/plain": [
       "'00|04|08|12|16|20|24|28|32|36|40|44|48|52|56|60|64|68|72|76|80|84|88|92|96'"
      ]
     },
     "execution_count": 6,
     "metadata": {},
     "output_type": "execute_result"
    }
   ],
   "source": [
    "lst = []\n",
    "for i in range(0, 100, 4):\n",
    "    lst.append(str(i).zfill(2))\n",
    "lst[:3]\n",
    "leap_years = \"|\".join(lst)\n",
    "leap_years"
   ]
  },
  {
   "cell_type": "code",
   "execution_count": null,
   "id": "9a03c7e5",
   "metadata": {},
   "outputs": [],
   "source": [
    "pattern = rf\"^\\d{{2}}(?:({leap_years})|\\d{{2}})-(?:(02)|(04|06|09|11)|0[13578]|1[02])-(?(2)(?(1)(?:2\\d|1\\d|0[1-9])|(?:2[0-8]|1\\d|0[1-9]))|(?:0[1-9]|1\\d|2\\d|3(?(3)0|[01])))$\""
   ]
  },
  {
   "cell_type": "code",
   "execution_count": null,
   "id": "7bf873ad",
   "metadata": {},
   "outputs": [],
   "source": [
    "match_dates = [\n",
    "    \"2020-02-29\",  # 2020 is a leap year\n",
    "    \"2021-04-30\",  # April has 30 days\n",
    "    \"2000-12-31\",\n",
    "]\n",
    "no_match_dates = [\n",
    "    \"2021-02-29\",  # 2021 is not a leap year\n",
    "    \"2020-04-31\",  # April has only 30 days\n",
    "    \"1999-13-01\",  # Invalid month\n",
    "]"
   ]
  },
  {
   "cell_type": "code",
   "execution_count": 85,
   "id": "ccb9e044",
   "metadata": {},
   "outputs": [
    {
     "data": {
      "text/plain": [
       "[('2020-02-29', True), ('2021-04-30', True), ('2000-12-31', True)]"
      ]
     },
     "execution_count": 85,
     "metadata": {},
     "output_type": "execute_result"
    }
   ],
   "source": [
    "list(zip(match_dates, map(pattern_validator, match_dates)))"
   ]
  },
  {
   "cell_type": "code",
   "execution_count": 86,
   "id": "f14de955",
   "metadata": {},
   "outputs": [
    {
     "data": {
      "text/plain": [
       "[('2021-02-29', False), ('2020-04-31', False), ('1999-13-01', False)]"
      ]
     },
     "execution_count": 86,
     "metadata": {},
     "output_type": "execute_result"
    }
   ],
   "source": [
    "list(zip(no_match_dates, map(pattern_validator, no_match_dates)))"
   ]
  },
  {
   "cell_type": "markdown",
   "id": "f0cdd3ec",
   "metadata": {},
   "source": [
    "Let's try testing all the dates now!"
   ]
  },
  {
   "cell_type": "code",
   "execution_count": null,
   "id": "b3ac505f",
   "metadata": {},
   "outputs": [
    {
     "data": {
      "text/plain": [
       "True"
      ]
     },
     "execution_count": 93,
     "metadata": {},
     "output_type": "execute_result"
    }
   ],
   "source": [
    "from datetime import datetime, date, timedelta\n",
    "\n",
    "\n",
    "def date_generator():\n",
    "    initial_date = date(2000, 1, 1)\n",
    "    current_date = initial_date\n",
    "    end_date = date(2100, 2, 28)\n",
    "\n",
    "    while current_date < end_date:\n",
    "        yield current_date\n",
    "        current_date += timedelta(days=1)\n",
    "\n",
    "\n",
    "date_list = map(\n",
    "    lambda x: datetime.strftime(x, r\"%Y-%m-%d\"), date_generator()\n",
    ")\n",
    "all(map(pattern_validator, date_list))"
   ]
  },
  {
   "cell_type": "markdown",
   "id": "95f6b7dc",
   "metadata": {},
   "source": [
    "The generator successfully passed all valid dates to our pattern_validator mapping and they all work.\n",
    "If we had passed though 2100-02-29, it would pass too and this would not be correct.\n",
    "Overall what a beautiful display of lazy iterator stacking though"
   ]
  },
  {
   "cell_type": "markdown",
   "id": "7793317d",
   "metadata": {},
   "source": [
    "##### 1. Validate Nested CSV Fields with Quotes and Escapes\n",
    "Goal: Match valid CSV fields with:\n",
    "\n",
    "Values either unquoted or \"quoted\"\n",
    "\n",
    "Inside quoted values: double double-quotes (\"\") are allowed\n",
    "\n",
    "Quoted values can include commas; unquoted cannot"
   ]
  },
  {
   "cell_type": "code",
   "execution_count": null,
   "id": "7dc1039a",
   "metadata": {},
   "outputs": [],
   "source": [
    "# value \"quoted\" \"value, with, commas\" \"with \"\"escaped\"\" quotes\"\n",
    "quoted = r'(?:\"(?:(\"?)[\\w\\s,]*\\1)*\")'\n",
    "unquoted = r\"(?:\\w+$)\"\n",
    "pattern = rf\"^{quoted}|{unquoted}\"\n",
    "pattern = r'^(?:(?:\"(?:(\"?)[\\w\\s,]*\\1)*\")|\\w+)$'"
   ]
  },
  {
   "cell_type": "code",
   "execution_count": null,
   "id": "b9181713",
   "metadata": {},
   "outputs": [],
   "source": [
    "match_values = [\n",
    "    \"value\",\n",
    "    '\"quoted\"',\n",
    "    '\"value, with, commas\"',\n",
    "    '\"with \"\"escaped\"\" quotes\"',\n",
    "]\n",
    "no_match_values = ['\"unclosed', 'bad \"quote\"', \"comma, inside\"]"
   ]
  },
  {
   "cell_type": "code",
   "execution_count": 42,
   "id": "fc98ab21",
   "metadata": {},
   "outputs": [
    {
     "data": {
      "text/plain": [
       "[('value', True),\n",
       " ('\"quoted\"', True),\n",
       " ('\"value, with, commas\"', True),\n",
       " ('\"with \"\"escaped\"\" quotes\"', True)]"
      ]
     },
     "execution_count": 42,
     "metadata": {},
     "output_type": "execute_result"
    }
   ],
   "source": [
    "list(zip(match_values, map(pattern_validator, match_values)))"
   ]
  },
  {
   "cell_type": "code",
   "execution_count": 43,
   "id": "6879e8cc",
   "metadata": {},
   "outputs": [
    {
     "data": {
      "text/plain": [
       "[('\"unclosed', False), ('bad \"quote\"', False), ('comma, inside', False)]"
      ]
     },
     "execution_count": 43,
     "metadata": {},
     "output_type": "execute_result"
    }
   ],
   "source": [
    "list(zip(no_match_values, map(pattern_validator, no_match_values)))"
   ]
  },
  {
   "cell_type": "markdown",
   "id": "8f3584dc",
   "metadata": {},
   "source": [
    "##### 2. Validate a Full URL with Optional Query Params\n",
    "Goal: Match a URL with:\n",
    "\n",
    "Protocol (http or https)\n",
    "\n",
    "Optional subdomain\n",
    "\n",
    "Domain\n",
    "\n",
    "Optional port\n",
    "\n",
    "Optional path\n",
    "\n",
    "Optional query string\n",
    "\n",
    "Use groups for each major component."
   ]
  },
  {
   "cell_type": "code",
   "execution_count": null,
   "id": "2f44ecea",
   "metadata": {},
   "outputs": [],
   "source": [
    "pattern = (\n",
    "    r\"^(?P<protocol>https?://)(?P<subdomain>w{3}\\.)?(?P<domain>(?:[\\w-]+\\.)+)(?P<tld>[a-zA-Z]{2,3})\"\n",
    "    r\"(?P<port>:\\d{4})?(?P<path>/\\w+)*(?P<query>\\?(?!&)(?:&?\\w+=\\w+)+)?$\"\n",
    ")"
   ]
  },
  {
   "cell_type": "code",
   "execution_count": null,
   "id": "ea53b6b4",
   "metadata": {},
   "outputs": [],
   "source": [
    "match_values = [\n",
    "    \"http://example.com\",\n",
    "    \"https://www.example.co.uk:8080\",\n",
    "    \"https://www.example.co.uk:8080/path/to/page\",\n",
    "    \"https://www.example.co.uk:8080/path/to/page?user=123&active=true\",\n",
    "    \"https://www.example.co.asdadasdad.asdasdasd.uk:8080/path/to/page?user=123&active=true\",\n",
    "]\n",
    "no_match_values = [\"ftp://example.com\", \"http:/example.com\", \"http://\"]"
   ]
  },
  {
   "cell_type": "code",
   "execution_count": 72,
   "id": "a270bac0",
   "metadata": {},
   "outputs": [
    {
     "data": {
      "text/plain": [
       "[('http://example.com', True),\n",
       " ('https://www.example.co.uk:8080', True),\n",
       " ('https://www.example.co.uk:8080/path/to/page', True),\n",
       " ('https://www.example.co.uk:8080/path/to/page?user=123&active=true', True),\n",
       " ('https://www.example.co.asdadasdad.asdasdasd.uk:8080/path/to/page?user=123&active=true',\n",
       "  True)]"
      ]
     },
     "execution_count": 72,
     "metadata": {},
     "output_type": "execute_result"
    }
   ],
   "source": [
    "list(zip(match_values, map(pattern_validator, match_values)))"
   ]
  },
  {
   "cell_type": "code",
   "execution_count": 73,
   "id": "6d699537",
   "metadata": {},
   "outputs": [
    {
     "data": {
      "text/plain": [
       "[('ftp://example.com', False),\n",
       " ('http:/example.com', False),\n",
       " ('http://', False)]"
      ]
     },
     "execution_count": 73,
     "metadata": {},
     "output_type": "execute_result"
    }
   ],
   "source": [
    "list(zip(no_match_values, map(pattern_validator, no_match_values)))"
   ]
  },
  {
   "cell_type": "code",
   "execution_count": 74,
   "id": "abcd1c42",
   "metadata": {},
   "outputs": [
    {
     "data": {
      "text/plain": [
       "{'protocol': 'https://',\n",
       " 'subdomain': 'www.',\n",
       " 'domain': 'example.co.asdadasdad.asdasdasd.',\n",
       " 'tld': 'uk',\n",
       " 'port': ':8080',\n",
       " 'path': '/page',\n",
       " 'query': '?user=123&active=true'}"
      ]
     },
     "execution_count": 74,
     "metadata": {},
     "output_type": "execute_result"
    }
   ],
   "source": [
    "re.compile(pattern).search(match_values[4]).groupdict()"
   ]
  },
  {
   "cell_type": "markdown",
   "id": "4b908b38",
   "metadata": {},
   "source": [
    "##### 3. Balanced Brackets Extractor\n",
    "Goal: Match strings with balanced parentheses up to two levels deep using regex only (yes, this is pushing the limits).\n",
    "\n",
    "Example: Use backreferences to simulate matching an opening ( with a closing ) without recursion."
   ]
  },
  {
   "cell_type": "code",
   "execution_count": null,
   "id": "f3e873c1",
   "metadata": {},
   "outputs": [],
   "source": [
    "match_values = [\"(a)\", \"(a(b)c)\", \"(x(y)z)\"]\n",
    "no_match_values = [\"(a\", \"((a)\", \"a)\", \"a(b(c))\"]"
   ]
  },
  {
   "cell_type": "markdown",
   "id": "f406b73f",
   "metadata": {},
   "source": [
    "##### 4. Validate Version Strings With Optional Pre-release Tags\n",
    "Goal: Match semantic versions like 1.0.0, 2.5.3-beta.1, 0.0.1-alpha, etc.\n",
    "\n",
    "Major.Minor.Patch\n",
    "\n",
    "Optional -alpha, -beta, -rc with optional dot-number\n",
    "\n",
    "Use conditional group or backref for validating tag suffix"
   ]
  },
  {
   "cell_type": "code",
   "execution_count": null,
   "id": "22d8183e",
   "metadata": {},
   "outputs": [],
   "source": [
    "match_values = [\"1.0.0\", \"2.1.3-alpha\", \"3.2.1-beta.2\", \"1.2.3-rc.10\"]\n",
    "no_match_values = [\"1.0\", \"v1.2.3\", \"1.0.0-unknown\", \"1.0.0-alpha-beta\"]"
   ]
  },
  {
   "cell_type": "markdown",
   "id": "228b6ffd",
   "metadata": {},
   "source": [
    "##### 5. Validate Nested JSON-style Key-Value Pairs (Flat Only)\n",
    "Goal: Match flat JSON-like key-value pairs using regex (no nesting):\n",
    "\n",
    "`{\"key1\": \"value1\", \"key2\": \"value2\"}`\n",
    "Keys and values in double quotes\n",
    "\n",
    "Keys must be alphanumeric\n",
    "\n",
    "Values can contain spaces, escaped quotes, but not unescaped \"\n",
    "\n",
    "Use lookaheads and backrefs to match structure."
   ]
  },
  {
   "cell_type": "code",
   "execution_count": null,
   "id": "99a89f52",
   "metadata": {},
   "outputs": [],
   "source": [
    "match_values = ['{\"name\": \"John\", \"city\": \"New York\"}']\n",
    "no_match_values = [\n",
    "    '{name: \"John\"}',\n",
    "    '{\"key\": value}',\n",
    "    '{\"key\": \"bad\"quote\"}',\n",
    "]"
   ]
  },
  {
   "cell_type": "code",
   "execution_count": null,
   "id": "19978e70",
   "metadata": {},
   "outputs": [
    {
     "name": "stdout",
     "output_type": "stream",
     "text": [
      "\n",
      "The deadlines are: 01/12/2024, 15/05/2023, and 30/01/2025.\n",
      "Please make sure to convert all dates to DD/MM/YYYY format.\n",
      "\n"
     ]
    }
   ],
   "source": [
    "text = \"\"\"\n",
    "The deadlines are: 2024-12-01, 2023-05-15, and 2025-01-30.\n",
    "Please make sure to convert all dates to DD/MM/YYYY format.\n",
    "\"\"\"\n",
    "pattern = r\"\\b(?P<year>\\d{4})-(?P<month>\\d{2})-(?P<day>\\d{2})\\b\"\n",
    "print(re.sub(pattern, r\"\\g<day>/\\g<month>/\\g<year>\", text))"
   ]
  },
  {
   "cell_type": "code",
   "execution_count": null,
   "id": "f2e6982c",
   "metadata": {},
   "outputs": [
    {
     "name": "stdout",
     "output_type": "stream",
     "text": [
      "\n",
      "Here are some emails: [EMAIL], [EMAIL], and [EMAIL].\n",
      "These should all be redacted for privacy.\n",
      "\n"
     ]
    }
   ],
   "source": [
    "text = \"\"\"\n",
    "Here are some emails: alice@example.com, bob.smith@work.net, and someone123@domain.org.\n",
    "These should all be redacted for privacy.\n",
    "\"\"\"\n",
    "pattern = r\"\\b\\w+(?:\\.\\w+)*@\\w+\\.\\w{2,3}\\b\"\n",
    "print(re.sub(pattern, \"[EMAIL]\", text))"
   ]
  },
  {
   "cell_type": "code",
   "execution_count": null,
   "id": "18200ba2",
   "metadata": {},
   "outputs": [
    {
     "name": "stdout",
     "output_type": "stream",
     "text": [
      "\n",
      "This is ******** awful. What the **** is going on?\n",
      "No **** clue why everything is messed up.\n",
      "\n"
     ]
    }
   ],
   "source": [
    "text = \"\"\"\n",
    "This is freaking awful. What the heck is going on?\n",
    "No damn clue why everything is messed up.\n",
    "\"\"\"\n",
    "\n",
    "\n",
    "def replacer(match):\n",
    "    return len(match.group()) * \"*\"\n",
    "\n",
    "\n",
    "pattern = r\"freaking|heck|damn\"\n",
    "print(re.sub(pattern, replacer, text))"
   ]
  },
  {
   "cell_type": "code",
   "execution_count": null,
   "id": "bc2b8f55",
   "metadata": {},
   "outputs": [
    {
     "name": "stdout",
     "output_type": "stream",
     "text": [
      "\n",
      "Big shoutout to <a href=\\\"/user/johndoe\\\">@johndoe</a>, <a href=\\\"/user/jane_doe\\\">@jane_doe</a>, and <a href=\\\"/user/admin\\\">@admin</a> for the update!\n",
      "Follow them for more info.\n",
      "\n"
     ]
    }
   ],
   "source": [
    "text = \"\"\"\n",
    "Big shoutout to @johndoe, @jane_doe, and @admin for the update!\n",
    "Follow them for more info.\n",
    "\"\"\"\n",
    "# @username with <a href=\"/user/username\">@username</a>\n",
    "pattern = r\"@(\\w+)\\b\"\n",
    "replacement = r\"<a href=\\\"/user/\\1\\\">@\\1</a>\"\n",
    "print(re.sub(pattern, replacement, text))"
   ]
  },
  {
   "cell_type": "code",
   "execution_count": null,
   "id": "c7346b5d",
   "metadata": {},
   "outputs": [
    {
     "name": "stdout",
     "output_type": "stream",
     "text": [
      "\n",
      "Wait. what? Are you serious! This can't be real.\n",
      "Oh no. not again!\n",
      "\n"
     ]
    }
   ],
   "source": [
    "text = \"\"\"\n",
    "Wait... what?? Are you serious!!! This can't be real...\n",
    "Oh no... not again!!!!\n",
    "\"\"\"\n",
    "pattern = r\"([.?!])+\"\n",
    "print(re.sub(pattern, r\"\\1\", text))"
   ]
  },
  {
   "cell_type": "code",
   "execution_count": null,
   "id": "c6e2b7e7",
   "metadata": {},
   "outputs": [
    {
     "name": "stdout",
     "output_type": "stream",
     "text": [
      "\n",
      "Items: Book - $12.50, Pen - $3.00, Notebook - $1.00.\n",
      "All prices must be normalized to this format: $XX.XX\n",
      "\n"
     ]
    }
   ],
   "source": [
    "text = \"\"\"\n",
    "Items: Book - $12.50, Pen - USD 3.00, Notebook - 1 dollar.\n",
    "All prices must be normalized to this format: $XX.XX\n",
    "\"\"\"\n",
    "\n",
    "\n",
    "def replacer(match):\n",
    "    if match.group(1):\n",
    "        return \"$\" + match.group(1)\n",
    "    else:\n",
    "        return \"$\" + match.group(2) + \".00\"\n",
    "\n",
    "\n",
    "pattern = r\"\\b(?:USD (\\d+\\.\\d{2}))|(\\d+)* dollars?\\b\"\n",
    "print(re.sub(pattern, replacer, text))"
   ]
  },
  {
   "cell_type": "code",
   "execution_count": null,
   "id": "696a5419",
   "metadata": {},
   "outputs": [
    {
     "name": "stdout",
     "output_type": "stream",
     "text": [
      "\n",
      "Contacts: Alice - 123-***-7890, Bob - (987) ***-3210, Carl - 555.***.7777\n",
      "We need to mask the middle 3 digits.\n",
      "\n"
     ]
    }
   ],
   "source": [
    "text = \"\"\"\n",
    "Contacts: Alice - 123-456-7890, Bob - (987) 654-3210, Carl - 555.666.7777\n",
    "We need to mask the middle 3 digits.\n",
    "\"\"\"\n",
    "pattern = r\"(\\b\\d{3})\\b(\\W*)\\d{3}\\b(\\W*)(\\d{4})\\b\"\n",
    "\n",
    "\n",
    "def replacer(match):\n",
    "    return (\n",
    "        match.group(1)\n",
    "        + match.group(2)\n",
    "        + \"***\"\n",
    "        + match.group(3)\n",
    "        + match.group(4)\n",
    "    )\n",
    "\n",
    "\n",
    "print(re.sub(pattern, replacer, text))"
   ]
  },
  {
   "cell_type": "markdown",
   "id": "4182c925",
   "metadata": {},
   "source": [
    "Goal: Replace textual numbers (twenty-five, one hundred, etc.) with digits (25, 100, etc.).\n",
    "\n",
    "Start by supporting a limited vocabulary: one to ninety-nine, and hundred.\n",
    "\n",
    "Use a mapping dictionary and parse inside your function."
   ]
  },
  {
   "cell_type": "code",
   "execution_count": null,
   "id": "57b60b57",
   "metadata": {},
   "outputs": [],
   "source": [
    "text = \"\"\"\n",
    "He bought twenty-five apples and one hundred bananas.\n",
    "They had seventy-two oranges and eleven pears.\n",
    "\"\"\""
   ]
  },
  {
   "cell_type": "code",
   "execution_count": null,
   "id": "d67f1604",
   "metadata": {},
   "outputs": [],
   "source": [
    "numbers = {\n",
    "    \"one\": 1,\n",
    "    \"two\": 2,\n",
    "    \"three\": 3,\n",
    "    \"four\": 4,\n",
    "    \"five\": 5,\n",
    "    \"six\": 6,\n",
    "    \"seven\": 7,\n",
    "    \"eight\": 8,\n",
    "    \"nine\": 9,\n",
    "    \"ten\": 10,\n",
    "    \"eleven\": 11,\n",
    "    \"twelve\": 12,\n",
    "    \"thirteen\": 13,\n",
    "    \"hundred\": 100,\n",
    "    \"thousand\": 1000,\n",
    "}"
   ]
  },
  {
   "cell_type": "code",
   "execution_count": null,
   "id": "680ee4cb",
   "metadata": {},
   "outputs": [],
   "source": []
  },
  {
   "cell_type": "markdown",
   "id": "6a32fa18",
   "metadata": {},
   "source": [
    "Goal: Replace all smart quotes (fancy ones like “”‘’) with regular ' and \" using a mapping function."
   ]
  },
  {
   "cell_type": "code",
   "execution_count": null,
   "id": "c72d84cd",
   "metadata": {},
   "outputs": [],
   "source": [
    "text = \"\"\"\n",
    "He said, “I’m not sure…” and then added, ‘but maybe’.\n",
    "The symbols ‘ and “ need to be replaced with regular ' and \".\n",
    "\"\"\""
   ]
  },
  {
   "cell_type": "code",
   "execution_count": null,
   "id": "968c96c1",
   "metadata": {},
   "outputs": [],
   "source": []
  },
  {
   "cell_type": "markdown",
   "id": "6ed21751",
   "metadata": {},
   "source": [
    "Goal: Convert all DD Mon YYYY formats to YYYY-MM-DD.\n",
    "\n",
    "So:\n",
    "\n",
    "12 Jan 2024 → 2024-01-12\n",
    "\n",
    "5 Feb 2023 → 2023-02-05\n",
    "\n",
    "Use a function to:\n",
    "\n",
    "Extract day, month abbreviation, and year\n",
    "\n",
    "Convert the month name to number (Jan → 01, etc.)\n",
    "\n",
    "Format as YYYY-MM-DD"
   ]
  },
  {
   "cell_type": "code",
   "execution_count": null,
   "id": "6fc7527d",
   "metadata": {},
   "outputs": [],
   "source": [
    "text = \"\"\"\n",
    "The event is on 12 Jan 2024. The deadline was 5 Feb 2023.\n",
    "Next meeting is scheduled for 30 Mar 2025.\n",
    "\"\"\""
   ]
  },
  {
   "cell_type": "code",
   "execution_count": null,
   "id": "f9821e19",
   "metadata": {},
   "outputs": [],
   "source": []
  },
  {
   "cell_type": "markdown",
   "id": "10435a60",
   "metadata": {},
   "source": [
    "##### Advanced Exercise: Selective Phone Masking Based on Area Code"
   ]
  },
  {
   "cell_type": "markdown",
   "id": "cc373787",
   "metadata": {},
   "source": [
    "Mask the middle 3 digits (like before), but only if the area code is one of:\n",
    "\n",
    "123\n",
    "\n",
    "555\n",
    "\n",
    "987\n",
    "\n",
    "Leave other numbers like 800-123-4567 unchanged.\n",
    "\n",
    "💡 Challenge Details\n",
    "Match multiple formats:\n",
    "\n",
    "123-456-7890\n",
    "\n",
    "(987) 654-3210\n",
    "\n",
    "555.666.7777\n",
    "\n",
    "Preserve separators.\n",
    "\n",
    "Write a function to conditionally mask based on the captured area code."
   ]
  },
  {
   "cell_type": "markdown",
   "id": "e6edbf0a",
   "metadata": {},
   "source": [
    "Example Output:\n",
    "Emergency contacts:\n",
    "- Alice: 123-***-7890\n",
    "- Bob: (987) ***-3210\n",
    "- Carl: 555.***.7777\n",
    "- Dave: 800-123-4567"
   ]
  },
  {
   "cell_type": "code",
   "execution_count": null,
   "id": "9118f646",
   "metadata": {},
   "outputs": [],
   "source": [
    "text = \"\"\"\n",
    "Emergency contacts:\n",
    "- Alice: 123-456-7890\n",
    "- Bob: (987) 654-3210\n",
    "- Carl: 555.666.7777\n",
    "- Dave: 800-123-4567\n",
    "\n",
    "Only numbers with a local area code (starting with 123, 555, or 987) should be masked.\n",
    "\"\"\""
   ]
  },
  {
   "cell_type": "code",
   "execution_count": null,
   "id": "aa56f7e3",
   "metadata": {},
   "outputs": [],
   "source": []
  }
 ],
 "metadata": {
  "kernelspec": {
   "display_name": "bb_data",
   "language": "python",
   "name": "python3"
  },
  "language_info": {
   "codemirror_mode": {
    "name": "ipython",
    "version": 3
   },
   "file_extension": ".py",
   "mimetype": "text/x-python",
   "name": "python",
   "nbconvert_exporter": "python",
   "pygments_lexer": "ipython3",
   "version": "3.11.11"
  }
 },
 "nbformat": 4,
 "nbformat_minor": 5
}
