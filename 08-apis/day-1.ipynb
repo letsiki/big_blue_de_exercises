{
 "cells": [
  {
   "cell_type": "markdown",
   "id": "baf464f6",
   "metadata": {},
   "source": [
    "## APIs Exercises\n",
    "### Part A\n",
    "1) Access the [Cat Breeds](https://www.google.com/url?q=https://catfact.ninja/breeds&sa=D&source=editors&ust=1747071678745371&usg=AOvVaw2G62giLL6hJLNeGD-IAo7P) API and download data from all pages"
   ]
  },
  {
   "cell_type": "code",
   "execution_count": 1,
   "id": "e3937013",
   "metadata": {},
   "outputs": [
    {
     "data": {
      "text/plain": [
       "(200, 'OK')"
      ]
     },
     "execution_count": 1,
     "metadata": {},
     "output_type": "execute_result"
    }
   ],
   "source": [
    "import requests\n",
    "import pandas as pd\n",
    "from time import sleep\n",
    "import logging\n",
    "\n",
    "logger = logging.getLogger(__name__)\n",
    "logger.addHandler(logging.FileHandler('log.txt', 'a'))\n",
    "logger.handlers[0].setLevel(logging.DEBUG)\n",
    "logger.setLevel(logging.DEBUG)\n",
    "\n",
    "BASE_URL = \"https://catfact.ninja/breeds\"\n",
    "response = requests.get(BASE_URL)\n",
    "response.status_code, response.reason"
   ]
  },
  {
   "cell_type": "code",
   "execution_count": 2,
   "id": "0cbabfc3",
   "metadata": {},
   "outputs": [
    {
     "data": {
      "text/plain": [
       "dict_keys(['current_page', 'data', 'first_page_url', 'from', 'last_page', 'last_page_url', 'links', 'next_page_url', 'path', 'per_page', 'prev_page_url', 'to', 'total'])"
      ]
     },
     "execution_count": 2,
     "metadata": {},
     "output_type": "execute_result"
    }
   ],
   "source": [
    "response.json().keys()"
   ]
  },
  {
   "cell_type": "code",
   "execution_count": 3,
   "id": "c53b46b5",
   "metadata": {},
   "outputs": [
    {
     "data": {
      "text/plain": [
       "'https://catfact.ninja/breeds?page=2'"
      ]
     },
     "execution_count": 3,
     "metadata": {},
     "output_type": "execute_result"
    }
   ],
   "source": [
    "response.json()[\"next_page_url\"]"
   ]
  },
  {
   "cell_type": "code",
   "execution_count": 4,
   "id": "6c19e0fe",
   "metadata": {},
   "outputs": [
    {
     "name": "stdout",
     "output_type": "stream",
     "text": [
      "fetching next page\n",
      "200 OK\n",
      "received page 2/4\n",
      "fetching next page\n",
      "200 OK\n",
      "received page 3/4\n",
      "fetching next page\n",
      "200 OK\n",
      "received page 4/4\n"
     ]
    },
    {
     "data": {
      "text/plain": [
       "98"
      ]
     },
     "execution_count": 4,
     "metadata": {},
     "output_type": "execute_result"
    }
   ],
   "source": [
    "data_list = response.json()['data']\n",
    "len(data_list)\n",
    "\n",
    "while response.json()['next_page_url']:\n",
    "    print('fetching next page')\n",
    "    # introduce 10-sec delay, in order to avoid 'Too Many Requests' 429 Error\n",
    "    sleep(10)\n",
    "    # make a request for the next page\n",
    "    response = requests.get(response.json()['next_page_url'])\n",
    "    print(response.status_code, response.reason)\n",
    "    # if request is successful print current page and total pages\n",
    "    if response.status_code < 300:\n",
    "        print(f\"received page {response.json()['current_page']}/{response.json()['last_page']}\")\n",
    "    # break the request loop if a response fails to return data\n",
    "    try:\n",
    "        data_list.extend(response.json()['data'])\n",
    "    except KeyError:\n",
    "        break\n",
    "len(data_list)"
   ]
  },
  {
   "cell_type": "code",
   "execution_count": 5,
   "id": "4ea1b44b",
   "metadata": {},
   "outputs": [
    {
     "data": {
      "text/plain": [
       "[{'breed': 'Abyssinian',\n",
       "  'country': 'Ethiopia',\n",
       "  'origin': 'Natural/Standard',\n",
       "  'coat': 'Short',\n",
       "  'pattern': 'Ticked'},\n",
       " {'breed': 'Aegean',\n",
       "  'country': 'Greece',\n",
       "  'origin': 'Natural/Standard',\n",
       "  'coat': 'Semi-long',\n",
       "  'pattern': 'Bi- or tri-colored'},\n",
       " {'breed': 'American Curl',\n",
       "  'country': 'United States',\n",
       "  'origin': 'Mutation',\n",
       "  'coat': 'Short/Long',\n",
       "  'pattern': 'All'}]"
      ]
     },
     "execution_count": 5,
     "metadata": {},
     "output_type": "execute_result"
    }
   ],
   "source": [
    "data_list[:3]"
   ]
  },
  {
   "cell_type": "code",
   "execution_count": 6,
   "id": "5b5813dd",
   "metadata": {},
   "outputs": [],
   "source": [
    "df = pd.DataFrame(data_list)"
   ]
  },
  {
   "cell_type": "code",
   "execution_count": 7,
   "id": "a286a8ba",
   "metadata": {},
   "outputs": [
    {
     "data": {
      "text/plain": [
       "(98, 5)"
      ]
     },
     "execution_count": 7,
     "metadata": {},
     "output_type": "execute_result"
    }
   ],
   "source": [
    "df.shape"
   ]
  },
  {
   "cell_type": "code",
   "execution_count": 8,
   "id": "58484a5d",
   "metadata": {},
   "outputs": [
    {
     "data": {
      "application/vnd.microsoft.datawrangler.viewer.v0+json": {
       "columns": [
        {
         "name": "index",
         "rawType": "int64",
         "type": "integer"
        },
        {
         "name": "breed",
         "rawType": "object",
         "type": "string"
        },
        {
         "name": "country",
         "rawType": "object",
         "type": "string"
        },
        {
         "name": "origin",
         "rawType": "object",
         "type": "string"
        },
        {
         "name": "coat",
         "rawType": "object",
         "type": "string"
        },
        {
         "name": "pattern",
         "rawType": "object",
         "type": "string"
        }
       ],
       "conversionMethod": "pd.DataFrame",
       "ref": "2a97ab81-fce9-4cec-8dc4-94f524ff1905",
       "rows": [
        [
         "0",
         "Abyssinian",
         "Ethiopia",
         "Natural/Standard",
         "Short",
         "Ticked"
        ],
        [
         "1",
         "Aegean",
         "Greece",
         "Natural/Standard",
         "Semi-long",
         "Bi- or tri-colored"
        ],
        [
         "2",
         "American Curl",
         "United States",
         "Mutation",
         "Short/Long",
         "All"
        ],
        [
         "3",
         "American Bobtail",
         "United States",
         "Mutation",
         "Short/Long",
         "All"
        ],
        [
         "4",
         "American Shorthair",
         "United States",
         "Natural",
         "Short",
         "All but colorpoint"
        ]
       ],
       "shape": {
        "columns": 5,
        "rows": 5
       }
      },
      "text/html": [
       "<div>\n",
       "<style scoped>\n",
       "    .dataframe tbody tr th:only-of-type {\n",
       "        vertical-align: middle;\n",
       "    }\n",
       "\n",
       "    .dataframe tbody tr th {\n",
       "        vertical-align: top;\n",
       "    }\n",
       "\n",
       "    .dataframe thead th {\n",
       "        text-align: right;\n",
       "    }\n",
       "</style>\n",
       "<table border=\"1\" class=\"dataframe\">\n",
       "  <thead>\n",
       "    <tr style=\"text-align: right;\">\n",
       "      <th></th>\n",
       "      <th>breed</th>\n",
       "      <th>country</th>\n",
       "      <th>origin</th>\n",
       "      <th>coat</th>\n",
       "      <th>pattern</th>\n",
       "    </tr>\n",
       "  </thead>\n",
       "  <tbody>\n",
       "    <tr>\n",
       "      <th>0</th>\n",
       "      <td>Abyssinian</td>\n",
       "      <td>Ethiopia</td>\n",
       "      <td>Natural/Standard</td>\n",
       "      <td>Short</td>\n",
       "      <td>Ticked</td>\n",
       "    </tr>\n",
       "    <tr>\n",
       "      <th>1</th>\n",
       "      <td>Aegean</td>\n",
       "      <td>Greece</td>\n",
       "      <td>Natural/Standard</td>\n",
       "      <td>Semi-long</td>\n",
       "      <td>Bi- or tri-colored</td>\n",
       "    </tr>\n",
       "    <tr>\n",
       "      <th>2</th>\n",
       "      <td>American Curl</td>\n",
       "      <td>United States</td>\n",
       "      <td>Mutation</td>\n",
       "      <td>Short/Long</td>\n",
       "      <td>All</td>\n",
       "    </tr>\n",
       "    <tr>\n",
       "      <th>3</th>\n",
       "      <td>American Bobtail</td>\n",
       "      <td>United States</td>\n",
       "      <td>Mutation</td>\n",
       "      <td>Short/Long</td>\n",
       "      <td>All</td>\n",
       "    </tr>\n",
       "    <tr>\n",
       "      <th>4</th>\n",
       "      <td>American Shorthair</td>\n",
       "      <td>United States</td>\n",
       "      <td>Natural</td>\n",
       "      <td>Short</td>\n",
       "      <td>All but colorpoint</td>\n",
       "    </tr>\n",
       "  </tbody>\n",
       "</table>\n",
       "</div>"
      ],
      "text/plain": [
       "                breed        country            origin        coat  \\\n",
       "0          Abyssinian       Ethiopia  Natural/Standard       Short   \n",
       "1              Aegean         Greece  Natural/Standard   Semi-long   \n",
       "2       American Curl  United States          Mutation  Short/Long   \n",
       "3    American Bobtail  United States          Mutation  Short/Long   \n",
       "4  American Shorthair  United States           Natural       Short   \n",
       "\n",
       "              pattern  \n",
       "0              Ticked  \n",
       "1  Bi- or tri-colored  \n",
       "2                 All  \n",
       "3                 All  \n",
       "4  All but colorpoint  "
      ]
     },
     "execution_count": 8,
     "metadata": {},
     "output_type": "execute_result"
    }
   ],
   "source": [
    "df.head()"
   ]
  },
  {
   "cell_type": "code",
   "execution_count": 9,
   "id": "d6edede3",
   "metadata": {},
   "outputs": [
    {
     "data": {
      "text/plain": [
       "98"
      ]
     },
     "execution_count": 9,
     "metadata": {},
     "output_type": "execute_result"
    }
   ],
   "source": [
    "df[\"breed\"].nunique()"
   ]
  },
  {
   "cell_type": "markdown",
   "id": "b44d14bb",
   "metadata": {},
   "source": [
    "2) Which country has the highest number of cat breeds?"
   ]
  },
  {
   "cell_type": "code",
   "execution_count": 10,
   "id": "3872b869",
   "metadata": {},
   "outputs": [
    {
     "data": {
      "text/plain": [
       "country\n",
       "United States    28\n",
       "Name: breed, dtype: int64"
      ]
     },
     "execution_count": 10,
     "metadata": {},
     "output_type": "execute_result"
    }
   ],
   "source": [
    "df.groupby(\"country\")[\"breed\"].count().sort_values(\n",
    "    ascending=False\n",
    ").head(1)"
   ]
  },
  {
   "cell_type": "markdown",
   "id": "84b77cff",
   "metadata": {},
   "source": [
    "3) What is the percentage of Hairless breeds?"
   ]
  },
  {
   "cell_type": "code",
   "execution_count": 11,
   "id": "6450a6c9",
   "metadata": {},
   "outputs": [],
   "source": [
    "hairless_breed_prc = (\n",
    "    round(len(df[df[\"coat\"].str.contains(\"Hairless\")]) / len(df) * 100, 2)\n",
    ")"
   ]
  },
  {
   "cell_type": "code",
   "execution_count": 12,
   "id": "041bc738",
   "metadata": {},
   "outputs": [
    {
     "data": {
      "text/plain": [
       "8.16"
      ]
     },
     "execution_count": 12,
     "metadata": {},
     "output_type": "execute_result"
    }
   ],
   "source": [
    "hairless_breed_prc"
   ]
  },
  {
   "cell_type": "markdown",
   "id": "a814497c",
   "metadata": {},
   "source": [
    "### Part B\n",
    "Create an account at https://api-ninjas.com/\n",
    "1) Enhance the previous dataset with additional cat data! Use the api-ninja API of cats to get the data and then merge them into one dataframe.\n",
    "(use the cat breeds names you collected earlier)"
   ]
  },
  {
   "cell_type": "code",
   "execution_count": 13,
   "id": "39b3d692",
   "metadata": {},
   "outputs": [],
   "source": [
    "# ninjas api\n",
    "name = \"A\"\n",
    "api_key = \"E5kfnyG/lNmQ/NLH9kG9jA==ePaCPFr1qN7jy6QK\"\n",
    "url = f\"https://api.api-ninjas.com/v1/cats?name={name}\"\n",
    "headers = {\"X-Api-Key\": api_key}"
   ]
  },
  {
   "cell_type": "code",
   "execution_count": 14,
   "id": "24168d27",
   "metadata": {},
   "outputs": [],
   "source": [
    "response = requests.get(url, headers=headers)"
   ]
  },
  {
   "cell_type": "code",
   "execution_count": 15,
   "id": "ad585105",
   "metadata": {},
   "outputs": [
    {
     "data": {
      "text/plain": [
       "{'length': '12 to 16 inches',\n",
       " 'origin': 'Southeast Asia',\n",
       " 'image_link': 'https://api-ninjas.com/images/cats/abyssinian.jpg',\n",
       " 'family_friendly': 3,\n",
       " 'shedding': 3,\n",
       " 'general_health': 2,\n",
       " 'playfulness': 5,\n",
       " 'children_friendly': 5,\n",
       " 'grooming': 3,\n",
       " 'intelligence': 5,\n",
       " 'other_pets_friendly': 5,\n",
       " 'min_weight': 6.0,\n",
       " 'max_weight': 10.0,\n",
       " 'min_life_expectancy': 9.0,\n",
       " 'max_life_expectancy': 15.0,\n",
       " 'name': 'Abyssinian'}"
      ]
     },
     "execution_count": 15,
     "metadata": {},
     "output_type": "execute_result"
    }
   ],
   "source": [
    "response.json()[0]"
   ]
  },
  {
   "cell_type": "code",
   "execution_count": 16,
   "id": "2ea324ae",
   "metadata": {},
   "outputs": [],
   "source": [
    "lst = []\n",
    "# loop through database using initial datasets keys\n",
    "for breed in df[\"breed\"]:\n",
    "    response = requests.get(\n",
    "        f\"https://api.api-ninjas.com/v1/cats?name={breed}\",\n",
    "        headers=headers,\n",
    "    )\n",
    "    logger.info(f\"{breed}, {response.status_code}, {response.reason}, data list size: {len(response.json())}\")\n",
    "    if len(response.json()) > 0:\n",
    "        breed_list = response.json()\n",
    "        for d in breed_list:\n",
    "            # add initial dataset breed a key to each retrieved data entry\n",
    "            d['breed'] = breed\n",
    "        lst.extend(breed_list)\n",
    "df2 = pd.DataFrame(lst)"
   ]
  },
  {
   "cell_type": "code",
   "execution_count": 17,
   "id": "48a27aeb",
   "metadata": {},
   "outputs": [],
   "source": [
    "# create a dataframe by merging the two dataframes\n",
    "merged_df = pd.merge(\n",
    "    df, df2, on=\"breed\", how=\"inner\"\n",
    ")"
   ]
  },
  {
   "cell_type": "code",
   "execution_count": 18,
   "id": "bdaeb17c",
   "metadata": {},
   "outputs": [
    {
     "data": {
      "application/vnd.microsoft.datawrangler.viewer.v0+json": {
       "columns": [
        {
         "name": "index",
         "rawType": "int64",
         "type": "integer"
        },
        {
         "name": "breed",
         "rawType": "object",
         "type": "string"
        },
        {
         "name": "country",
         "rawType": "object",
         "type": "string"
        },
        {
         "name": "origin_x",
         "rawType": "object",
         "type": "string"
        },
        {
         "name": "coat",
         "rawType": "object",
         "type": "string"
        },
        {
         "name": "pattern",
         "rawType": "object",
         "type": "string"
        },
        {
         "name": "length",
         "rawType": "object",
         "type": "string"
        },
        {
         "name": "origin_y",
         "rawType": "object",
         "type": "string"
        },
        {
         "name": "image_link",
         "rawType": "object",
         "type": "string"
        },
        {
         "name": "family_friendly",
         "rawType": "int64",
         "type": "integer"
        },
        {
         "name": "shedding",
         "rawType": "int64",
         "type": "integer"
        },
        {
         "name": "general_health",
         "rawType": "int64",
         "type": "integer"
        },
        {
         "name": "playfulness",
         "rawType": "float64",
         "type": "float"
        },
        {
         "name": "children_friendly",
         "rawType": "int64",
         "type": "integer"
        },
        {
         "name": "grooming",
         "rawType": "int64",
         "type": "integer"
        },
        {
         "name": "intelligence",
         "rawType": "float64",
         "type": "float"
        },
        {
         "name": "other_pets_friendly",
         "rawType": "int64",
         "type": "integer"
        },
        {
         "name": "min_weight",
         "rawType": "float64",
         "type": "float"
        },
        {
         "name": "max_weight",
         "rawType": "float64",
         "type": "float"
        },
        {
         "name": "min_life_expectancy",
         "rawType": "float64",
         "type": "float"
        },
        {
         "name": "max_life_expectancy",
         "rawType": "float64",
         "type": "float"
        },
        {
         "name": "name",
         "rawType": "object",
         "type": "string"
        },
        {
         "name": "meowing",
         "rawType": "float64",
         "type": "float"
        },
        {
         "name": "stranger_friendly",
         "rawType": "float64",
         "type": "float"
        }
       ],
       "conversionMethod": "pd.DataFrame",
       "ref": "8a93dbc6-712f-4a8d-a664-b5fc340075ff",
       "rows": [
        [
         "0",
         "Abyssinian",
         "Ethiopia",
         "Natural/Standard",
         "Short",
         "Ticked",
         "12 to 16 inches",
         "Southeast Asia",
         "https://api-ninjas.com/images/cats/abyssinian.jpg",
         "3",
         "3",
         "2",
         "5.0",
         "5",
         "3",
         "5.0",
         "5",
         "6.0",
         "10.0",
         "9.0",
         "15.0",
         "Abyssinian",
         null,
         null
        ],
        [
         "1",
         "Aegean",
         "Greece",
         "Natural/Standard",
         "Semi-long",
         "Bi- or tri-colored",
         "Medium",
         "Greece",
         "https://api-ninjas.com/images/cats/aegean.jpg",
         "5",
         "3",
         "4",
         "4.0",
         "5",
         "4",
         "4.0",
         "3",
         "7.0",
         "10.0",
         "9.0",
         "10.0",
         "Aegean",
         "4.0",
         "4.0"
        ],
        [
         "2",
         "American Curl",
         "United States",
         "Mutation",
         "Short/Long",
         "All",
         "Medium",
         "California, USA",
         "https://api-ninjas.com/images/cats/american_curl.jpg",
         "5",
         "4",
         "5",
         "4.0",
         "4",
         "4",
         null,
         "4",
         "5.0",
         "10.0",
         "12.0",
         "16.0",
         "American Curl",
         "5.0",
         "4.0"
        ],
        [
         "3",
         "American Bobtail",
         "United States",
         "Mutation",
         "Short/Long",
         "All",
         "Medium",
         "United States and Canada",
         "https://api-ninjas.com/images/cats/american_bobtail.jpg",
         "4",
         "4",
         "4",
         "4.0",
         "4",
         "3",
         "4.0",
         "4",
         "8.0",
         "13.0",
         "11.0",
         "15.0",
         "American Bobtail",
         "3.0",
         "4.0"
        ],
        [
         "4",
         "American Shorthair",
         "United States",
         "Natural",
         "Short",
         "All but colorpoint",
         "12 to 15 inches",
         "United States",
         "https://api-ninjas.com/images/cats/american_shorthair.jpg",
         "3",
         "3",
         "4",
         "2.0",
         "4",
         "4",
         "4.0",
         "3",
         "7.0",
         "12.0",
         "15.0",
         "20.0",
         "American Shorthair",
         null,
         "4.0"
        ]
       ],
       "shape": {
        "columns": 23,
        "rows": 5
       }
      },
      "text/html": [
       "<div>\n",
       "<style scoped>\n",
       "    .dataframe tbody tr th:only-of-type {\n",
       "        vertical-align: middle;\n",
       "    }\n",
       "\n",
       "    .dataframe tbody tr th {\n",
       "        vertical-align: top;\n",
       "    }\n",
       "\n",
       "    .dataframe thead th {\n",
       "        text-align: right;\n",
       "    }\n",
       "</style>\n",
       "<table border=\"1\" class=\"dataframe\">\n",
       "  <thead>\n",
       "    <tr style=\"text-align: right;\">\n",
       "      <th></th>\n",
       "      <th>breed</th>\n",
       "      <th>country</th>\n",
       "      <th>origin_x</th>\n",
       "      <th>coat</th>\n",
       "      <th>pattern</th>\n",
       "      <th>length</th>\n",
       "      <th>origin_y</th>\n",
       "      <th>image_link</th>\n",
       "      <th>family_friendly</th>\n",
       "      <th>shedding</th>\n",
       "      <th>...</th>\n",
       "      <th>grooming</th>\n",
       "      <th>intelligence</th>\n",
       "      <th>other_pets_friendly</th>\n",
       "      <th>min_weight</th>\n",
       "      <th>max_weight</th>\n",
       "      <th>min_life_expectancy</th>\n",
       "      <th>max_life_expectancy</th>\n",
       "      <th>name</th>\n",
       "      <th>meowing</th>\n",
       "      <th>stranger_friendly</th>\n",
       "    </tr>\n",
       "  </thead>\n",
       "  <tbody>\n",
       "    <tr>\n",
       "      <th>0</th>\n",
       "      <td>Abyssinian</td>\n",
       "      <td>Ethiopia</td>\n",
       "      <td>Natural/Standard</td>\n",
       "      <td>Short</td>\n",
       "      <td>Ticked</td>\n",
       "      <td>12 to 16 inches</td>\n",
       "      <td>Southeast Asia</td>\n",
       "      <td>https://api-ninjas.com/images/cats/abyssinian.jpg</td>\n",
       "      <td>3</td>\n",
       "      <td>3</td>\n",
       "      <td>...</td>\n",
       "      <td>3</td>\n",
       "      <td>5.0</td>\n",
       "      <td>5</td>\n",
       "      <td>6.0</td>\n",
       "      <td>10.0</td>\n",
       "      <td>9.0</td>\n",
       "      <td>15.0</td>\n",
       "      <td>Abyssinian</td>\n",
       "      <td>NaN</td>\n",
       "      <td>NaN</td>\n",
       "    </tr>\n",
       "    <tr>\n",
       "      <th>1</th>\n",
       "      <td>Aegean</td>\n",
       "      <td>Greece</td>\n",
       "      <td>Natural/Standard</td>\n",
       "      <td>Semi-long</td>\n",
       "      <td>Bi- or tri-colored</td>\n",
       "      <td>Medium</td>\n",
       "      <td>Greece</td>\n",
       "      <td>https://api-ninjas.com/images/cats/aegean.jpg</td>\n",
       "      <td>5</td>\n",
       "      <td>3</td>\n",
       "      <td>...</td>\n",
       "      <td>4</td>\n",
       "      <td>4.0</td>\n",
       "      <td>3</td>\n",
       "      <td>7.0</td>\n",
       "      <td>10.0</td>\n",
       "      <td>9.0</td>\n",
       "      <td>10.0</td>\n",
       "      <td>Aegean</td>\n",
       "      <td>4.0</td>\n",
       "      <td>4.0</td>\n",
       "    </tr>\n",
       "    <tr>\n",
       "      <th>2</th>\n",
       "      <td>American Curl</td>\n",
       "      <td>United States</td>\n",
       "      <td>Mutation</td>\n",
       "      <td>Short/Long</td>\n",
       "      <td>All</td>\n",
       "      <td>Medium</td>\n",
       "      <td>California, USA</td>\n",
       "      <td>https://api-ninjas.com/images/cats/american_cu...</td>\n",
       "      <td>5</td>\n",
       "      <td>4</td>\n",
       "      <td>...</td>\n",
       "      <td>4</td>\n",
       "      <td>NaN</td>\n",
       "      <td>4</td>\n",
       "      <td>5.0</td>\n",
       "      <td>10.0</td>\n",
       "      <td>12.0</td>\n",
       "      <td>16.0</td>\n",
       "      <td>American Curl</td>\n",
       "      <td>5.0</td>\n",
       "      <td>4.0</td>\n",
       "    </tr>\n",
       "    <tr>\n",
       "      <th>3</th>\n",
       "      <td>American Bobtail</td>\n",
       "      <td>United States</td>\n",
       "      <td>Mutation</td>\n",
       "      <td>Short/Long</td>\n",
       "      <td>All</td>\n",
       "      <td>Medium</td>\n",
       "      <td>United States and Canada</td>\n",
       "      <td>https://api-ninjas.com/images/cats/american_bo...</td>\n",
       "      <td>4</td>\n",
       "      <td>4</td>\n",
       "      <td>...</td>\n",
       "      <td>3</td>\n",
       "      <td>4.0</td>\n",
       "      <td>4</td>\n",
       "      <td>8.0</td>\n",
       "      <td>13.0</td>\n",
       "      <td>11.0</td>\n",
       "      <td>15.0</td>\n",
       "      <td>American Bobtail</td>\n",
       "      <td>3.0</td>\n",
       "      <td>4.0</td>\n",
       "    </tr>\n",
       "    <tr>\n",
       "      <th>4</th>\n",
       "      <td>American Shorthair</td>\n",
       "      <td>United States</td>\n",
       "      <td>Natural</td>\n",
       "      <td>Short</td>\n",
       "      <td>All but colorpoint</td>\n",
       "      <td>12 to 15 inches</td>\n",
       "      <td>United States</td>\n",
       "      <td>https://api-ninjas.com/images/cats/american_sh...</td>\n",
       "      <td>3</td>\n",
       "      <td>3</td>\n",
       "      <td>...</td>\n",
       "      <td>4</td>\n",
       "      <td>4.0</td>\n",
       "      <td>3</td>\n",
       "      <td>7.0</td>\n",
       "      <td>12.0</td>\n",
       "      <td>15.0</td>\n",
       "      <td>20.0</td>\n",
       "      <td>American Shorthair</td>\n",
       "      <td>NaN</td>\n",
       "      <td>4.0</td>\n",
       "    </tr>\n",
       "  </tbody>\n",
       "</table>\n",
       "<p>5 rows × 23 columns</p>\n",
       "</div>"
      ],
      "text/plain": [
       "                breed        country          origin_x        coat  \\\n",
       "0          Abyssinian       Ethiopia  Natural/Standard       Short   \n",
       "1              Aegean         Greece  Natural/Standard   Semi-long   \n",
       "2       American Curl  United States          Mutation  Short/Long   \n",
       "3    American Bobtail  United States          Mutation  Short/Long   \n",
       "4  American Shorthair  United States           Natural       Short   \n",
       "\n",
       "              pattern           length                  origin_y  \\\n",
       "0              Ticked  12 to 16 inches            Southeast Asia   \n",
       "1  Bi- or tri-colored           Medium                    Greece   \n",
       "2                 All           Medium           California, USA   \n",
       "3                 All           Medium  United States and Canada   \n",
       "4  All but colorpoint  12 to 15 inches             United States   \n",
       "\n",
       "                                          image_link  family_friendly  \\\n",
       "0  https://api-ninjas.com/images/cats/abyssinian.jpg                3   \n",
       "1      https://api-ninjas.com/images/cats/aegean.jpg                5   \n",
       "2  https://api-ninjas.com/images/cats/american_cu...                5   \n",
       "3  https://api-ninjas.com/images/cats/american_bo...                4   \n",
       "4  https://api-ninjas.com/images/cats/american_sh...                3   \n",
       "\n",
       "   shedding  ...  grooming  intelligence  other_pets_friendly  min_weight  \\\n",
       "0         3  ...         3           5.0                    5         6.0   \n",
       "1         3  ...         4           4.0                    3         7.0   \n",
       "2         4  ...         4           NaN                    4         5.0   \n",
       "3         4  ...         3           4.0                    4         8.0   \n",
       "4         3  ...         4           4.0                    3         7.0   \n",
       "\n",
       "   max_weight  min_life_expectancy  max_life_expectancy                name  \\\n",
       "0        10.0                  9.0                 15.0          Abyssinian   \n",
       "1        10.0                  9.0                 10.0              Aegean   \n",
       "2        10.0                 12.0                 16.0       American Curl   \n",
       "3        13.0                 11.0                 15.0    American Bobtail   \n",
       "4        12.0                 15.0                 20.0  American Shorthair   \n",
       "\n",
       "   meowing  stranger_friendly  \n",
       "0      NaN                NaN  \n",
       "1      4.0                4.0  \n",
       "2      5.0                4.0  \n",
       "3      3.0                4.0  \n",
       "4      NaN                4.0  \n",
       "\n",
       "[5 rows x 23 columns]"
      ]
     },
     "execution_count": 18,
     "metadata": {},
     "output_type": "execute_result"
    }
   ],
   "source": [
    "merged_df.head()"
   ]
  },
  {
   "cell_type": "code",
   "execution_count": 19,
   "id": "675792f9",
   "metadata": {},
   "outputs": [],
   "source": [
    "# create a column that combines breed and name to act as a unique description for each breed\n",
    "merged_df.insert(0, 'breed-name', merged_df['breed'] + '-' + merged_df['name'])"
   ]
  },
  {
   "cell_type": "code",
   "execution_count": 20,
   "id": "f86e4663",
   "metadata": {},
   "outputs": [],
   "source": [
    "# set it as index\n",
    "merged_df.set_index('breed-name', inplace=True)"
   ]
  },
  {
   "cell_type": "code",
   "execution_count": 21,
   "id": "5658db93",
   "metadata": {},
   "outputs": [
    {
     "data": {
      "text/plain": [
       "Index(['breed', 'country', 'origin_x', 'coat', 'pattern', 'length', 'origin_y',\n",
       "       'image_link', 'family_friendly', 'shedding', 'general_health',\n",
       "       'playfulness', 'children_friendly', 'grooming', 'intelligence',\n",
       "       'other_pets_friendly', 'min_weight', 'max_weight',\n",
       "       'min_life_expectancy', 'max_life_expectancy', 'name', 'meowing',\n",
       "       'stranger_friendly'],\n",
       "      dtype='object')"
      ]
     },
     "execution_count": 21,
     "metadata": {},
     "output_type": "execute_result"
    }
   ],
   "source": [
    "merged_df.columns"
   ]
  },
  {
   "cell_type": "markdown",
   "id": "a165670c",
   "metadata": {},
   "source": [
    "2) In which country do you have the heaviest cats?"
   ]
  },
  {
   "cell_type": "code",
   "execution_count": 22,
   "id": "d0e236e5",
   "metadata": {},
   "outputs": [],
   "source": [
    "merged_df['weight'] = (merged_df['max_weight'] + merged_df['min_weight']) / 2"
   ]
  },
  {
   "cell_type": "code",
   "execution_count": 23,
   "id": "d500249f",
   "metadata": {},
   "outputs": [
    {
     "data": {
      "text/plain": [
       "country\n",
       "France    17.0\n",
       "Name: weight, dtype: float64"
      ]
     },
     "execution_count": 23,
     "metadata": {},
     "output_type": "execute_result"
    }
   ],
   "source": [
    "merged_df.groupby('country')['weight'].mean().idxmax()\n",
    "merged_df.groupby('country')['weight'].mean().sort_values(ascending=False).head(1)"
   ]
  },
  {
   "cell_type": "markdown",
   "id": "a01f5169",
   "metadata": {},
   "source": [
    "3) Which cats are the most friendly and playful (find the top 5)? What is their life expectancy?"
   ]
  },
  {
   "cell_type": "code",
   "execution_count": 24,
   "id": "747b2ee3",
   "metadata": {},
   "outputs": [],
   "source": [
    "merged_df['friendly_playful'] = ((merged_df['children_friendly'] + merged_df['family_friendly'] + merged_df['other_pets_friendly'] + merged_df['stranger_friendly']) / 4 + merged_df['playfulness']) / 2\n",
    "merged_df['friendly_playful'] = round(merged_df['friendly_playful'], 1)\n",
    "merged_df['life_expectancy'] = round((merged_df['max_life_expectancy'] + merged_df['min_life_expectancy']) / 2, 1)"
   ]
  },
  {
   "cell_type": "code",
   "execution_count": 25,
   "id": "8e5da0eb",
   "metadata": {},
   "outputs": [
    {
     "data": {
      "application/vnd.microsoft.datawrangler.viewer.v0+json": {
       "columns": [
        {
         "name": "breed-name",
         "rawType": "object",
         "type": "string"
        },
        {
         "name": "friendly_playful",
         "rawType": "float64",
         "type": "float"
        },
        {
         "name": "life_expectancy",
         "rawType": "float64",
         "type": "float"
        }
       ],
       "conversionMethod": "pd.DataFrame",
       "ref": "4bc7e7b2-1ea4-4df0-a512-5cdcccc3f93e",
       "rows": [
        [
         "Cornish Rex-Cornish Rex",
         "5.0",
         "13.0"
        ],
        [
         "Burmese-European Burmese",
         "5.0",
         "12.5"
        ],
        [
         "Somali-Somali",
         "4.9",
         "13.5"
        ],
        [
         "Bengal-Bengal Cats",
         "4.8",
         "13.0"
        ],
        [
         "Siberian-Siberian",
         "4.8",
         "14.5"
        ]
       ],
       "shape": {
        "columns": 2,
        "rows": 5
       }
      },
      "text/html": [
       "<div>\n",
       "<style scoped>\n",
       "    .dataframe tbody tr th:only-of-type {\n",
       "        vertical-align: middle;\n",
       "    }\n",
       "\n",
       "    .dataframe tbody tr th {\n",
       "        vertical-align: top;\n",
       "    }\n",
       "\n",
       "    .dataframe thead th {\n",
       "        text-align: right;\n",
       "    }\n",
       "</style>\n",
       "<table border=\"1\" class=\"dataframe\">\n",
       "  <thead>\n",
       "    <tr style=\"text-align: right;\">\n",
       "      <th></th>\n",
       "      <th>friendly_playful</th>\n",
       "      <th>life_expectancy</th>\n",
       "    </tr>\n",
       "    <tr>\n",
       "      <th>breed-name</th>\n",
       "      <th></th>\n",
       "      <th></th>\n",
       "    </tr>\n",
       "  </thead>\n",
       "  <tbody>\n",
       "    <tr>\n",
       "      <th>Cornish Rex-Cornish Rex</th>\n",
       "      <td>5.0</td>\n",
       "      <td>13.0</td>\n",
       "    </tr>\n",
       "    <tr>\n",
       "      <th>Burmese-European Burmese</th>\n",
       "      <td>5.0</td>\n",
       "      <td>12.5</td>\n",
       "    </tr>\n",
       "    <tr>\n",
       "      <th>Somali-Somali</th>\n",
       "      <td>4.9</td>\n",
       "      <td>13.5</td>\n",
       "    </tr>\n",
       "    <tr>\n",
       "      <th>Bengal-Bengal Cats</th>\n",
       "      <td>4.8</td>\n",
       "      <td>13.0</td>\n",
       "    </tr>\n",
       "    <tr>\n",
       "      <th>Siberian-Siberian</th>\n",
       "      <td>4.8</td>\n",
       "      <td>14.5</td>\n",
       "    </tr>\n",
       "  </tbody>\n",
       "</table>\n",
       "</div>"
      ],
      "text/plain": [
       "                          friendly_playful  life_expectancy\n",
       "breed-name                                                 \n",
       "Cornish Rex-Cornish Rex                5.0             13.0\n",
       "Burmese-European Burmese               5.0             12.5\n",
       "Somali-Somali                          4.9             13.5\n",
       "Bengal-Bengal Cats                     4.8             13.0\n",
       "Siberian-Siberian                      4.8             14.5"
      ]
     },
     "execution_count": 25,
     "metadata": {},
     "output_type": "execute_result"
    }
   ],
   "source": [
    "merged_df[['friendly_playful', 'life_expectancy']].sort_values('friendly_playful', ascending=False).head()"
   ]
  },
  {
   "cell_type": "markdown",
   "id": "9bec5a87",
   "metadata": {},
   "source": [
    "### Part C (Bonus)\n",
    "Create an account at [Giant Bomb](https://www.google.com/url?q=https://www.giantbomb.com/&sa=D&source=editors&ust=1747071678746325&usg=AOvVaw2VS6aozGNpG1z5T_3-7Zt7). Get your [API key](https://www.google.com/url?q=https://www.giantbomb.com/api/&sa=D&source=editors&ust=1747071678746403&usg=AOvVaw26d4B1q2efOS1NpiKNJEWn) from the API page.\n",
    "Now use the following link in your Python script to get data from the API:\n",
    "\n",
    "``` python\n",
    "https://www.giantbomb.com/api/games/?filter=platforms%3A35&field_list=id%2Cname%2Coriginal_game_rating%2Coriginal_release_date&\n",
    "sort=name%3Adesc&limit=10&offset=0&api_key=___your___api___key___&format=json\n",
    "```\n",
    "- There is an offset in the link. You have to change the offset repeatedly to get all the results from the API.\n",
    "- To do so you can use the following code using the requests library.\n",
    "\n",
    "``` python\n",
    "import requests\n",
    "import json\n",
    "\n",
    "link = https://www.giantbomb.com/api/games/?filter=platforms%3A35&field_list=id%2Cname%2Coriginal_game_rating%2Coriginal_release_date&sort=name%3Adesc&limit=10&offset=0&api_key=___your___api___key___&format=json\n",
    "\n",
    "headers={'User-Agent': 'Mozilla/5.0 (Windows NT 10.0; Win64; x64) AppleWebKit/537.36 (KHTML, like Gecko) Chrome/102.0.0.0 Safari/537.36'}\n",
    "\n",
    "response = requests.get(link, headers=headers)\n",
    "json.loads(response.content)\n",
    "```\n",
    "- Gather all the data and create a pandas Dataframe."
   ]
  },
  {
   "cell_type": "code",
   "execution_count": 34,
   "id": "a457b1fc",
   "metadata": {},
   "outputs": [],
   "source": [
    "api_key = \"41f683912546398d2c82e7725e429d201c1df3b1\"\n",
    "link = f\"https://www.giantbomb.com/api/games/?filter=platforms%3A35&field_list=id%2Cname%2Coriginal_game_rating%2Coriginal_release_date&sort=name%3Adesc&limit=10&offset=0&api_key={api_key}&format=json\"\n",
    "headers={'User-Agent': 'Mozilla/5.0 (Windows NT 10.0; Win64; x64) AppleWebKit/537.36 (KHTML, like Gecko) Chrome/102.0.0.0 Safari/537.36'}"
   ]
  },
  {
   "cell_type": "code",
   "execution_count": 35,
   "id": "2805171b",
   "metadata": {},
   "outputs": [
    {
     "data": {
      "text/plain": [
       "dict_keys(['error', 'limit', 'offset', 'number_of_page_results', 'number_of_total_results', 'status_code', 'results', 'version'])"
      ]
     },
     "execution_count": 35,
     "metadata": {},
     "output_type": "execute_result"
    }
   ],
   "source": [
    "import requests\n",
    "import json\n",
    "\n",
    "response = requests.get(link, headers=headers)\n",
    "response_dict = json.loads(response.content)\n",
    "response_dict.keys()"
   ]
  },
  {
   "cell_type": "code",
   "execution_count": 36,
   "id": "b30418e0",
   "metadata": {},
   "outputs": [
    {
     "data": {
      "text/plain": [
       "{'id': 31743,\n",
       " 'name': 'Zumba Fitness',\n",
       " 'original_game_rating': [{'api_detail_url': 'https://www.giantbomb.com/api/game_rating/3065-6/',\n",
       "   'id': 6,\n",
       "   'name': 'ESRB: E'},\n",
       "  {'api_detail_url': 'https://www.giantbomb.com/api/game_rating/3065-7/',\n",
       "   'id': 7,\n",
       "   'name': 'PEGI: 3+'},\n",
       "  {'api_detail_url': 'https://www.giantbomb.com/api/game_rating/3065-14/',\n",
       "   'id': 14,\n",
       "   'name': 'OFLC: G'}],\n",
       " 'original_release_date': '2010-11-30'}"
      ]
     },
     "execution_count": 36,
     "metadata": {},
     "output_type": "execute_result"
    }
   ],
   "source": [
    "response_dict['results'][0]"
   ]
  },
  {
   "cell_type": "code",
   "execution_count": 37,
   "id": "a6786558",
   "metadata": {},
   "outputs": [
    {
     "data": {
      "text/plain": [
       "1736"
      ]
     },
     "execution_count": 37,
     "metadata": {},
     "output_type": "execute_result"
    }
   ],
   "source": [
    "# get total results\n",
    "total_results = response_dict[\"number_of_total_results\"]\n",
    "total_results\n"
   ]
  },
  {
   "cell_type": "code",
   "execution_count": 38,
   "id": "e24c6945",
   "metadata": {},
   "outputs": [],
   "source": [
    "limit = 100  # set the per-page results - increasing will reduce the number of requests\n",
    "\n",
    "accumulated_results = []\n",
    "for i in range(0, total_results, limit):\n",
    "    link = f\"https://www.giantbomb.com/api/games/?filter=platforms%3A35&field_list=id%2Cname%2Coriginal_game_rating%2Coriginal_release_date&sort=name%3Adesc&limit={limit}&offset={i}&api_key={api_key}&format=json\"\n",
    "    page_response = requests.get(link, headers=headers)\n",
    "    logger.info(f\"fetching results {i + 1} to {i + limit}, response code: {page_response.status_code}, {response.reason}\")\n",
    "    # get current page json (dict)\n",
    "    page_response_dict = json.loads(page_response.content)\n",
    "    # get a list of the pages results, and use it to extend our\n",
    "    accumulated_results.extend(page_response_dict['results'])"
   ]
  },
  {
   "cell_type": "code",
   "execution_count": 39,
   "id": "afb321e3",
   "metadata": {},
   "outputs": [
    {
     "name": "stdout",
     "output_type": "stream",
     "text": [
      "<class 'pandas.core.frame.DataFrame'>\n",
      "RangeIndex: 1736 entries, 0 to 1735\n",
      "Data columns (total 4 columns):\n",
      " #   Column                 Non-Null Count  Dtype \n",
      "---  ------                 --------------  ----- \n",
      " 0   id                     1736 non-null   int64 \n",
      " 1   name                   1736 non-null   object\n",
      " 2   original_game_rating   1430 non-null   object\n",
      " 3   original_release_date  1630 non-null   object\n",
      "dtypes: int64(1), object(3)\n",
      "memory usage: 54.4+ KB\n"
     ]
    }
   ],
   "source": [
    "df = pd.DataFrame(accumulated_results)\n",
    "df.info()"
   ]
  },
  {
   "cell_type": "code",
   "execution_count": 40,
   "id": "f1a5d88b",
   "metadata": {},
   "outputs": [
    {
     "data": {
      "application/vnd.microsoft.datawrangler.viewer.v0+json": {
       "columns": [
        {
         "name": "index",
         "rawType": "int64",
         "type": "integer"
        },
        {
         "name": "id",
         "rawType": "int64",
         "type": "integer"
        },
        {
         "name": "name",
         "rawType": "object",
         "type": "string"
        },
        {
         "name": "original_game_rating",
         "rawType": "object",
         "type": "unknown"
        },
        {
         "name": "original_release_date",
         "rawType": "object",
         "type": "string"
        }
       ],
       "conversionMethod": "pd.DataFrame",
       "ref": "a912da48-1074-4973-879d-c4cdf9f64992",
       "rows": [
        [
         "0",
         "31743",
         "Zumba Fitness",
         "[{'api_detail_url': 'https://www.giantbomb.com/api/game_rating/3065-6/', 'id': 6, 'name': 'ESRB: E'}, {'api_detail_url': 'https://www.giantbomb.com/api/game_rating/3065-7/', 'id': 7, 'name': 'PEGI: 3+'}, {'api_detail_url': 'https://www.giantbomb.com/api/game_rating/3065-14/', 'id': 14, 'name': 'OFLC: G'}]",
         "2010-11-30"
        ],
        [
         "1",
         "10225",
         "Zone of the Enders: The 2nd Runner",
         "[{'api_detail_url': 'https://www.giantbomb.com/api/game_rating/3065-16/', 'id': 16, 'name': 'ESRB: M'}, {'api_detail_url': 'https://www.giantbomb.com/api/game_rating/3065-36/', 'id': 36, 'name': 'PEGI: 12+'}]",
         "2003-02-13"
        ],
        [
         "2",
         "35511",
         "Zone of the Enders HD Collection",
         "[{'api_detail_url': 'https://www.giantbomb.com/api/game_rating/3065-16/', 'id': 16, 'name': 'ESRB: M'}, {'api_detail_url': 'https://www.giantbomb.com/api/game_rating/3065-32/', 'id': 32, 'name': 'CERO: D'}, {'api_detail_url': 'https://www.giantbomb.com/api/game_rating/3065-36/', 'id': 36, 'name': 'PEGI: 12+'}, {'api_detail_url': 'https://www.giantbomb.com/api/game_rating/3065-1/', 'id': 1, 'name': 'ESRB: T'}]",
         "2012-11-30"
        ],
        [
         "3",
         "11350",
         "Zone of the Enders",
         "[{'api_detail_url': 'https://www.giantbomb.com/api/game_rating/3065-16/', 'id': 16, 'name': 'ESRB: M'}, {'api_detail_url': 'https://www.giantbomb.com/api/game_rating/3065-5/', 'id': 5, 'name': 'BBFC: 15'}]",
         "2001-03-02"
        ],
        [
         "4",
         "41638",
         "Zillions of Enemy X: Zetsukai no Crusade",
         "[{'api_detail_url': 'https://www.giantbomb.com/api/game_rating/3065-33/', 'id': 33, 'name': 'CERO: B'}]",
         "2013-05-23"
        ]
       ],
       "shape": {
        "columns": 4,
        "rows": 5
       }
      },
      "text/html": [
       "<div>\n",
       "<style scoped>\n",
       "    .dataframe tbody tr th:only-of-type {\n",
       "        vertical-align: middle;\n",
       "    }\n",
       "\n",
       "    .dataframe tbody tr th {\n",
       "        vertical-align: top;\n",
       "    }\n",
       "\n",
       "    .dataframe thead th {\n",
       "        text-align: right;\n",
       "    }\n",
       "</style>\n",
       "<table border=\"1\" class=\"dataframe\">\n",
       "  <thead>\n",
       "    <tr style=\"text-align: right;\">\n",
       "      <th></th>\n",
       "      <th>id</th>\n",
       "      <th>name</th>\n",
       "      <th>original_game_rating</th>\n",
       "      <th>original_release_date</th>\n",
       "    </tr>\n",
       "  </thead>\n",
       "  <tbody>\n",
       "    <tr>\n",
       "      <th>0</th>\n",
       "      <td>31743</td>\n",
       "      <td>Zumba Fitness</td>\n",
       "      <td>[{'api_detail_url': 'https://www.giantbomb.com...</td>\n",
       "      <td>2010-11-30</td>\n",
       "    </tr>\n",
       "    <tr>\n",
       "      <th>1</th>\n",
       "      <td>10225</td>\n",
       "      <td>Zone of the Enders: The 2nd Runner</td>\n",
       "      <td>[{'api_detail_url': 'https://www.giantbomb.com...</td>\n",
       "      <td>2003-02-13</td>\n",
       "    </tr>\n",
       "    <tr>\n",
       "      <th>2</th>\n",
       "      <td>35511</td>\n",
       "      <td>Zone of the Enders HD Collection</td>\n",
       "      <td>[{'api_detail_url': 'https://www.giantbomb.com...</td>\n",
       "      <td>2012-11-30</td>\n",
       "    </tr>\n",
       "    <tr>\n",
       "      <th>3</th>\n",
       "      <td>11350</td>\n",
       "      <td>Zone of the Enders</td>\n",
       "      <td>[{'api_detail_url': 'https://www.giantbomb.com...</td>\n",
       "      <td>2001-03-02</td>\n",
       "    </tr>\n",
       "    <tr>\n",
       "      <th>4</th>\n",
       "      <td>41638</td>\n",
       "      <td>Zillions of Enemy X: Zetsukai no Crusade</td>\n",
       "      <td>[{'api_detail_url': 'https://www.giantbomb.com...</td>\n",
       "      <td>2013-05-23</td>\n",
       "    </tr>\n",
       "  </tbody>\n",
       "</table>\n",
       "</div>"
      ],
      "text/plain": [
       "      id                                      name  \\\n",
       "0  31743                             Zumba Fitness   \n",
       "1  10225        Zone of the Enders: The 2nd Runner   \n",
       "2  35511          Zone of the Enders HD Collection   \n",
       "3  11350                        Zone of the Enders   \n",
       "4  41638  Zillions of Enemy X: Zetsukai no Crusade   \n",
       "\n",
       "                                original_game_rating original_release_date  \n",
       "0  [{'api_detail_url': 'https://www.giantbomb.com...            2010-11-30  \n",
       "1  [{'api_detail_url': 'https://www.giantbomb.com...            2003-02-13  \n",
       "2  [{'api_detail_url': 'https://www.giantbomb.com...            2012-11-30  \n",
       "3  [{'api_detail_url': 'https://www.giantbomb.com...            2001-03-02  \n",
       "4  [{'api_detail_url': 'https://www.giantbomb.com...            2013-05-23  "
      ]
     },
     "execution_count": 40,
     "metadata": {},
     "output_type": "execute_result"
    }
   ],
   "source": [
    "df.head()"
   ]
  },
  {
   "cell_type": "code",
   "execution_count": 41,
   "id": "189f6c74",
   "metadata": {},
   "outputs": [
    {
     "data": {
      "text/plain": [
       "1736"
      ]
     },
     "execution_count": 41,
     "metadata": {},
     "output_type": "execute_result"
    }
   ],
   "source": [
    "df['id'].nunique()"
   ]
  }
 ],
 "metadata": {
  "kernelspec": {
   "display_name": "bb_data_edit",
   "language": "python",
   "name": "python3"
  },
  "language_info": {
   "codemirror_mode": {
    "name": "ipython",
    "version": 3
   },
   "file_extension": ".py",
   "mimetype": "text/x-python",
   "name": "python",
   "nbconvert_exporter": "python",
   "pygments_lexer": "ipython3",
   "version": "3.11.11"
  }
 },
 "nbformat": 4,
 "nbformat_minor": 5
}
