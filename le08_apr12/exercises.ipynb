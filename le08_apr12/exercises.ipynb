{
 "cells": [
  {
   "cell_type": "markdown",
   "id": "56c3a74b-9e4a-41b4-9efa-d422be9e929b",
   "metadata": {},
   "source": [
    "##### 9. Nobel prizes (cont'd)\n",
    "- c) Bonus: how many Nobel prizes were given to people starting their first name with M and ending with l. Use regex here!)\n",
    "- d) Bonus: Use regex to find all people called \"Michael\" in the data.\n",
    "- e) Which laureates were awarded multiple prizes?\n",
    "- f) Which laureates were awarded prizes in multiple categories?\n",
    "- g) What is the smallest relative share of a Nobel prize ever given?\n",
    "- h) Bonus: how many nobel prizes were actually awarded in every category?"
   ]
  },
  {
   "cell_type": "code",
   "execution_count": 144,
   "id": "6a841769-5cd4-4022-ab91-46f3e254cba1",
   "metadata": {},
   "outputs": [],
   "source": [
    "import json\n",
    "import re"
   ]
  },
  {
   "cell_type": "code",
   "execution_count": 145,
   "id": "018702e2-1bfd-47c3-b35f-2f0e45a71ed0",
   "metadata": {},
   "outputs": [],
   "source": [
    "try:\n",
    "    with open('nobel.json', 'r') as f:\n",
    "        nobel = json.load(f)   \n",
    "except FileNotFoundError:\n",
    "    print('File Not Found')"
   ]
  },
  {
   "cell_type": "code",
   "execution_count": 146,
   "id": "1df3e7d5-42e2-4a42-87dd-c4973616c09d",
   "metadata": {},
   "outputs": [
    {
     "name": "stdout",
     "output_type": "stream",
     "text": [
      "{\n",
      "    \"year\": \"2020\",\n",
      "    \"category\": \"chemistry\",\n",
      "    \"laureates\": [\n",
      "        {\n",
      "            \"id\": \"991\",\n",
      "            \"firstname\": \"Emmanuelle\",\n",
      "            \"surname\": \"Charpentier\",\n",
      "            \"motivation\": \"\\\"for the development of a method for genome editing\\\"\",\n",
      "            \"share\": \"2\"\n",
      "        },\n",
      "        {\n",
      "            \"id\": \"992\",\n",
      "            \"firstname\": \"Jennifer A.\",\n",
      "            \"surname\": \"Doudna\",\n",
      "            \"motivation\": \"\\\"for the development of a method for genome editing\\\"\",\n",
      "            \"share\": \"2\"\n",
      "        }\n",
      "    ]\n",
      "}\n"
     ]
    }
   ],
   "source": [
    "print(json.dumps(nobel['prizes'][0], indent=4))"
   ]
  },
  {
   "cell_type": "markdown",
   "id": "8929e3cb-6194-4383-a286-0f0f06d8c20f",
   "metadata": {},
   "source": [
    "##### c) Bonus: how many Nobel prizes were given to people starting their first name with M and ending with l. Use regex here!)"
   ]
  },
  {
   "cell_type": "code",
   "execution_count": 141,
   "id": "cc08c831-a91e-4f6a-82e6-56b773beadd6",
   "metadata": {},
   "outputs": [
    {
     "name": "stdout",
     "output_type": "stream",
     "text": [
      "1914 literature award had no laureates\n",
      "1914 peace award had no laureates\n",
      "1915 peace award had no laureates\n",
      "1915 medicine award had no laureates\n",
      "1916 chemistry award had no laureates\n",
      "1916 peace award had no laureates\n",
      "1916 physics award had no laureates\n",
      "1916 medicine award had no laureates\n",
      "1917 chemistry award had no laureates\n",
      "1917 medicine award had no laureates\n",
      "1918 literature award had no laureates\n",
      "1918 peace award had no laureates\n",
      "1918 medicine award had no laureates\n",
      "1919 chemistry award had no laureates\n",
      "1921 medicine award had no laureates\n",
      "1923 peace award had no laureates\n",
      "1924 chemistry award had no laureates\n",
      "1924 peace award had no laureates\n",
      "1925 medicine award had no laureates\n",
      "1928 peace award had no laureates\n",
      "1931 physics award had no laureates\n",
      "1932 peace award had no laureates\n",
      "1933 chemistry award had no laureates\n",
      "1934 physics award had no laureates\n",
      "1935 literature award had no laureates\n",
      "1939 peace award had no laureates\n",
      "1940 chemistry award had no laureates\n",
      "1940 literature award had no laureates\n",
      "1940 peace award had no laureates\n",
      "1940 physics award had no laureates\n",
      "1940 medicine award had no laureates\n",
      "1941 chemistry award had no laureates\n",
      "1941 literature award had no laureates\n",
      "1941 peace award had no laureates\n",
      "1941 physics award had no laureates\n",
      "1941 medicine award had no laureates\n",
      "1942 chemistry award had no laureates\n",
      "1942 literature award had no laureates\n",
      "1942 peace award had no laureates\n",
      "1942 physics award had no laureates\n",
      "1942 medicine award had no laureates\n",
      "1943 literature award had no laureates\n",
      "1943 peace award had no laureates\n",
      "1948 peace award had no laureates\n",
      "1955 peace award had no laureates\n",
      "1956 peace award had no laureates\n",
      "1966 peace award had no laureates\n",
      "1967 peace award had no laureates\n",
      "1972 peace award had no laureates\n"
     ]
    },
    {
     "data": {
      "text/plain": [
       "\"35 Nobel prizes were won by someone whose name starts with 'M' and ends with 'I'\""
      ]
     },
     "execution_count": 141,
     "metadata": {},
     "output_type": "execute_result"
    }
   ],
   "source": [
    "count = 0\n",
    "for prize in sorted(nobel['prizes'], key=lambda pr: pr['year']):\n",
    "    try:\n",
    "        for laureate in prize['laureates']:\n",
    "            if re.match(r'[Mm].*[Ii]', laureate['firstname']):\n",
    "                count += 1\n",
    "    except KeyError:\n",
    "        print(f\"{prize['year']} {prize['category']} award had no laureates\")\n",
    "f\"{count} Nobel prizes were won by someone whose name starts with 'M' and ends with 'I'\""
   ]
  },
  {
   "cell_type": "markdown",
   "id": "079b72bb-da5e-4c44-ac3b-46db03afa20f",
   "metadata": {},
   "source": [
    "##### d) Bonus: Use regex to find all people called \"Michael\" in the data."
   ]
  },
  {
   "cell_type": "code",
   "execution_count": null,
   "id": "fcc2bfce-c2a0-4c3a-93c1-5d65124450e8",
   "metadata": {},
   "outputs": [],
   "source": []
  },
  {
   "cell_type": "markdown",
   "id": "9e8fad4b-2b3a-47e8-ac87-b8952366d46e",
   "metadata": {},
   "source": [
    "##### 10. Password Validation\n",
    "- Write a password validation function: the input should contain at least one lowercase letter, at least one uppercase letter, at least one digit, and at least one symbol  from `[$#/\\@*]`. Unmet criteria or any other character should lead to an exception."
   ]
  },
  {
   "cell_type": "code",
   "execution_count": 56,
   "id": "e6014652-aa2c-4bb5-97bf-994a882d7d85",
   "metadata": {},
   "outputs": [],
   "source": [
    "def is_pswd_valid(pswd: str) -> bool:\n",
    "    pattern = r'(?!.*[^a-zA-Z\\d$#/\\\\@*])(?=.*[a-z])(?=.*[A-Z])(?=.*\\d)(?=.*[$#/\\\\@*])^.*'                                            \n",
    "    match = re.search(pattern, pswd)\n",
    "    if match:\n",
    "        print(match.group())\n",
    "        return True\n",
    "    else:\n",
    "        raise ValueError('invalid password')"
   ]
  },
  {
   "cell_type": "code",
   "execution_count": 107,
   "id": "2003ed06-c713-4c9a-9102-b2b9eb4fbd6c",
   "metadata": {},
   "outputs": [],
   "source": [
    "valid_passwords = ['AADfdsf#123', 'Aa1@', \"Alex21\\\\\"]  # last one is essentially one \\ (escaped)\n",
    "invalid_passwords = [' sdfASD1@', 'AAAAAA2@', 'AAAAaaaa**-2']"
   ]
  },
  {
   "cell_type": "code",
   "execution_count": 108,
   "id": "adef2dc3-db84-40bc-8887-d84a8445f99f",
   "metadata": {},
   "outputs": [
    {
     "name": "stdout",
     "output_type": "stream",
     "text": [
      "AADfdsf#123\n",
      "Aa1@\n",
      "Alex21\\\n"
     ]
    },
    {
     "data": {
      "text/plain": [
       "[('AADfdsf#123', True), ('Aa1@', True), ('Alex21\\\\', True)]"
      ]
     },
     "execution_count": 108,
     "metadata": {},
     "output_type": "execute_result"
    }
   ],
   "source": [
    "list(zip(valid_passwords, map(is_pswd_valid, valid_passwords)))"
   ]
  },
  {
   "cell_type": "code",
   "execution_count": 109,
   "id": "285bc392-5bc6-4886-b716-af5f8e446cad",
   "metadata": {},
   "outputs": [
    {
     "name": "stdout",
     "output_type": "stream",
     "text": [
      "if this is the only text you see all passwords failed succesfully\n"
     ]
    }
   ],
   "source": [
    "iterator = zip(invalid_passwords, map(is_pswd_valid, invalid_passwords))\n",
    "for _ in range(len(invalid_passwords)):\n",
    "    try:\n",
    "        next(iterator)\n",
    "    except ValueError:\n",
    "        pass\n",
    "print('if this is the only text you see all passwords failed succesfully')"
   ]
  },
  {
   "cell_type": "markdown",
   "id": "0729291d-b7a1-4193-9541-2306e1c9b5e1",
   "metadata": {},
   "source": [
    "11. ##### SpaceX\n",
    "- Extract data from https://api.spacexdata.com/v4/launches (check https://api.spacexdata.com/v4/launches/latest for a single entry), which returns information about the latest SpaceX launch. You could then use the json library to load the response content as a python dictionary, and extract the fields like: flight_number, date, success, name. How many were successful each year?"
   ]
  },
  {
   "cell_type": "code",
   "execution_count": 120,
   "id": "05308307-b04f-4895-a42a-47ee3c5eab53",
   "metadata": {},
   "outputs": [
    {
     "name": "stdout",
     "output_type": "stream",
     "text": [
      "{\n",
      "    \"fairings\": null,\n",
      "    \"links\": {\n",
      "        \"patch\": {\n",
      "            \"small\": \"https://images2.imgbox.com/eb/d8/D1Yywp0w_o.png\",\n",
      "            \"large\": \"https://images2.imgbox.com/33/2e/k6VE4iYl_o.png\"\n",
      "        },\n",
      "        \"reddit\": {\n",
      "            \"campaign\": null,\n",
      "            \"launch\": \"https://www.reddit.com/r/spacex/comments/xvm76j/rspacex_crew5_launchcoast_docking_discussion_and/\",\n",
      "            \"media\": null,\n",
      "            \"recovery\": null\n",
      "        },\n",
      "        \"flickr\": {\n",
      "            \"small\": [],\n",
      "            \"original\": []\n",
      "        },\n",
      "        \"presskit\": null,\n",
      "        \"webcast\": \"https://youtu.be/5EwW8ZkArL4\",\n",
      "        \"youtube_id\": \"5EwW8ZkArL4\",\n",
      "        \"article\": null,\n",
      "        \"wikipedia\": \"https://en.wikipedia.org/wiki/SpaceX_Crew-5\"\n",
      "    },\n",
      "    \"static_fire_date_utc\": null,\n",
      "    \"static_fire_date_unix\": null,\n",
      "    \"net\": false,\n",
      "    \"window\": null,\n",
      "    \"rocket\": \"5e9d0d95eda69973a809d1ec\",\n",
      "    \"success\": true,\n",
      "    \"failures\": [],\n",
      "    \"details\": null,\n",
      "    \"crew\": [\n",
      "        \"62dd7196202306255024d13c\",\n",
      "        \"62dd71c9202306255024d13d\",\n",
      "        \"62dd7210202306255024d13e\",\n",
      "        \"62dd7253202306255024d13f\"\n",
      "    ],\n",
      "    \"ships\": [],\n",
      "    \"capsules\": [\n",
      "        \"617c05591bad2c661a6e2909\"\n",
      "    ],\n",
      "    \"payloads\": [\n",
      "        \"62dd73ed202306255024d145\"\n",
      "    ],\n",
      "    \"launchpad\": \"5e9e4502f509094188566f88\",\n",
      "    \"flight_number\": 187,\n",
      "    \"name\": \"Crew-5\",\n",
      "    \"date_utc\": \"2022-10-05T16:00:00.000Z\",\n",
      "    \"date_unix\": 1664985600,\n",
      "    \"date_local\": \"2022-10-05T12:00:00-04:00\",\n",
      "    \"date_precision\": \"hour\",\n",
      "    \"upcoming\": false,\n",
      "    \"cores\": [\n",
      "        {\n",
      "            \"core\": \"633d9da635a71d1d9c66797b\",\n",
      "            \"flight\": 1,\n",
      "            \"gridfins\": true,\n",
      "            \"legs\": true,\n",
      "            \"reused\": false,\n",
      "            \"landing_attempt\": true,\n",
      "            \"landing_success\": true,\n",
      "            \"landing_type\": \"ASDS\",\n",
      "            \"landpad\": \"5e9e3033383ecbb9e534e7cc\"\n",
      "        }\n",
      "    ],\n",
      "    \"auto_update\": true,\n",
      "    \"tbd\": false,\n",
      "    \"launch_library_id\": \"f33d5ece-e825-4cd8-809f-1d4c72a2e0d3\",\n",
      "    \"id\": \"62dd70d5202306255024d139\"\n",
      "}\n"
     ]
    }
   ],
   "source": [
    "with open('latest.json', 'r') as f:\n",
    "    latest = json.load(f)\n",
    "latest\n",
    "print(json.dumps(latest, indent=4))"
   ]
  },
  {
   "cell_type": "markdown",
   "id": "bcb71371-ad02-493f-af5b-cbf820abb33b",
   "metadata": {},
   "source": [
    "flight_number, date, success, name"
   ]
  },
  {
   "cell_type": "code",
   "execution_count": 121,
   "id": "9073ea9a-b338-4eaf-afcc-36d8a242cedf",
   "metadata": {},
   "outputs": [
    {
     "data": {
      "text/plain": [
       "'flight number of the latest flight is 187'"
      ]
     },
     "execution_count": 121,
     "metadata": {},
     "output_type": "execute_result"
    }
   ],
   "source": [
    "f'flight number of the latest flight is {latest[\"flight_number\"]}'"
   ]
  },
  {
   "cell_type": "code",
   "execution_count": 122,
   "id": "bfb01ca5-16fb-4200-b5f2-e9b0595ba8ac",
   "metadata": {},
   "outputs": [
    {
     "data": {
      "text/plain": [
       "'date (UTC) of the latest flight number is 2022-10-05T16:00:00.000Z'"
      ]
     },
     "execution_count": 122,
     "metadata": {},
     "output_type": "execute_result"
    }
   ],
   "source": [
    "f'date (UTC) of the latest flight number is {latest[\"date_utc\"]}'"
   ]
  },
  {
   "cell_type": "code",
   "execution_count": 125,
   "id": "fde400f5-d82f-4449-969f-3cf1b650dff0",
   "metadata": {},
   "outputs": [
    {
     "data": {
      "text/plain": [
       "'the name of the latest flight is Crew-5'"
      ]
     },
     "execution_count": 125,
     "metadata": {},
     "output_type": "execute_result"
    }
   ],
   "source": [
    "f'the name of the latest flight is {latest[\"name\"]}'"
   ]
  },
  {
   "cell_type": "code",
   "execution_count": 126,
   "id": "da04f7d0-eb9a-4367-b76b-ba65046636bc",
   "metadata": {},
   "outputs": [
    {
     "data": {
      "text/plain": [
       "'Was the latest mission successful? True'"
      ]
     },
     "execution_count": 126,
     "metadata": {},
     "output_type": "execute_result"
    }
   ],
   "source": [
    "f'Was the latest mission successful? {latest[\"success\"]}'"
   ]
  },
  {
   "cell_type": "code",
   "execution_count": 130,
   "id": "c7ac8161-0d4e-4b59-bc70-fc1d5560da9a",
   "metadata": {},
   "outputs": [
    {
     "data": {
      "text/plain": [
       "'The mission was succesfull'"
      ]
     },
     "execution_count": 130,
     "metadata": {},
     "output_type": "execute_result"
    }
   ],
   "source": [
    "f'The mission was {\"\" if latest[\"success\"] else \"un\"}succesfull'"
   ]
  },
  {
   "cell_type": "code",
   "execution_count": 133,
   "id": "a9244f67-631b-4e1d-88fa-dcb4ecbac0a2",
   "metadata": {},
   "outputs": [
    {
     "data": {
      "text/plain": [
       "{'fairings': {'reused': False,\n",
       "  'recovery_attempt': False,\n",
       "  'recovered': False,\n",
       "  'ships': []},\n",
       " 'links': {'patch': {'small': 'https://images2.imgbox.com/94/f2/NN6Ph45r_o.png',\n",
       "   'large': 'https://images2.imgbox.com/5b/02/QcxHUb5V_o.png'},\n",
       "  'reddit': {'campaign': None,\n",
       "   'launch': None,\n",
       "   'media': None,\n",
       "   'recovery': None},\n",
       "  'flickr': {'small': [], 'original': []},\n",
       "  'presskit': None,\n",
       "  'webcast': 'https://www.youtube.com/watch?v=0a_00nJ_Y88',\n",
       "  'youtube_id': '0a_00nJ_Y88',\n",
       "  'article': 'https://www.space.com/2196-spacex-inaugural-falcon-1-rocket-lost-launch.html',\n",
       "  'wikipedia': 'https://en.wikipedia.org/wiki/DemoSat'},\n",
       " 'static_fire_date_utc': '2006-03-17T00:00:00.000Z',\n",
       " 'static_fire_date_unix': 1142553600,\n",
       " 'net': False,\n",
       " 'window': 0,\n",
       " 'rocket': '5e9d0d95eda69955f709d1eb',\n",
       " 'success': False,\n",
       " 'failures': [{'time': 33,\n",
       "   'altitude': None,\n",
       "   'reason': 'merlin engine failure'}],\n",
       " 'details': 'Engine failure at 33 seconds and loss of vehicle',\n",
       " 'crew': [],\n",
       " 'ships': [],\n",
       " 'capsules': [],\n",
       " 'payloads': ['5eb0e4b5b6c3bb0006eeb1e1'],\n",
       " 'launchpad': '5e9e4502f5090995de566f86',\n",
       " 'flight_number': 1,\n",
       " 'name': 'FalconSat',\n",
       " 'date_utc': '2006-03-24T22:30:00.000Z',\n",
       " 'date_unix': 1143239400,\n",
       " 'date_local': '2006-03-25T10:30:00+12:00',\n",
       " 'date_precision': 'hour',\n",
       " 'upcoming': False,\n",
       " 'cores': [{'core': '5e9e289df35918033d3b2623',\n",
       "   'flight': 1,\n",
       "   'gridfins': False,\n",
       "   'legs': False,\n",
       "   'reused': False,\n",
       "   'landing_attempt': False,\n",
       "   'landing_success': None,\n",
       "   'landing_type': None,\n",
       "   'landpad': None}],\n",
       " 'auto_update': True,\n",
       " 'tbd': False,\n",
       " 'launch_library_id': None,\n",
       " 'id': '5eb87cd9ffd86e000604b32a'}"
      ]
     },
     "execution_count": 133,
     "metadata": {},
     "output_type": "execute_result"
    }
   ],
   "source": [
    "with open('launches.json', 'r') as f:\n",
    "    launches = json.load(f)\n",
    "latest[0]"
   ]
  },
  {
   "cell_type": "code",
   "execution_count": 137,
   "id": "681b54da-bb00-4486-ba4e-5d0714ab8429",
   "metadata": {},
   "outputs": [
    {
     "name": "stdout",
     "output_type": "stream",
     "text": [
      "{2008: 1, 2009: 1, 2010: 2, 2012: 2, 2013: 3, 2014: 6, 2015: 6, 2016: 8, 2017: 18, 2018: 21, 2019: 13, 2020: 26, 2021: 31, 2022: 43}\n"
     ]
    }
   ],
   "source": [
    "from datetime import datetime\n",
    "\n",
    "yearly_success = {}\n",
    "for launch in launches:\n",
    "    if launch['success']:\n",
    "        year = datetime.fromisoformat(launch['date_utc']).year\n",
    "        yearly_success[year] = yearly_success.get(year, 0) + 1\n",
    "print(yearly_success)"
   ]
  }
 ],
 "metadata": {
  "kernelspec": {
   "display_name": "Python 3 (ipykernel)",
   "language": "python",
   "name": "python3"
  },
  "language_info": {
   "codemirror_mode": {
    "name": "ipython",
    "version": 3
   },
   "file_extension": ".py",
   "mimetype": "text/x-python",
   "name": "python",
   "nbconvert_exporter": "python",
   "pygments_lexer": "ipython3",
   "version": "3.11.11"
  }
 },
 "nbformat": 4,
 "nbformat_minor": 5
}
