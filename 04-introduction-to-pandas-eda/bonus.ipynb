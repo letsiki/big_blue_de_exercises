{
 "cells": [
  {
   "cell_type": "code",
   "execution_count": 3,
   "id": "0d7e95d5",
   "metadata": {},
   "outputs": [],
   "source": [
    "import pandas as pd\n",
    "import matplotlib.pyplot as plt\n",
    "import seaborn as sns"
   ]
  },
  {
   "cell_type": "code",
   "execution_count": 5,
   "id": "bf505972",
   "metadata": {},
   "outputs": [
    {
     "name": "stderr",
     "output_type": "stream",
     "text": [
      "/tmp/ipykernel_39851/2166572984.py:1: DtypeWarning: Columns (0) have mixed types. Specify dtype option on import or set low_memory=False.\n",
      "  df = pd.read_csv('csv/online_sales.csv')\n"
     ]
    }
   ],
   "source": [
    "df = pd.read_csv('csv/online_sales.csv')"
   ]
  },
  {
   "cell_type": "code",
   "execution_count": 9,
   "id": "e94d1c78",
   "metadata": {},
   "outputs": [
    {
     "data": {
      "text/plain": [
       "order_id            0\n",
       "order_date          0\n",
       "status              0\n",
       "item_id             0\n",
       "sku                 0\n",
       "qty_ordered         0\n",
       "price               0\n",
       "value               0\n",
       "discount_amount     0\n",
       "total               0\n",
       "category            0\n",
       "payment_method      0\n",
       "bi_st               0\n",
       "cust_id             0\n",
       "year                0\n",
       "month               0\n",
       "ref_num             0\n",
       "Name Prefix         0\n",
       "First Name          0\n",
       "Middle Initial      0\n",
       "Last Name           0\n",
       "Gender              0\n",
       "age                 0\n",
       "full_name           0\n",
       "E Mail              0\n",
       "Customer Since      0\n",
       "SSN                 0\n",
       "Phone No.           0\n",
       "Place Name          0\n",
       "County              0\n",
       "City                0\n",
       "State               0\n",
       "Zip                 0\n",
       "Region              0\n",
       "User Name           0\n",
       "Discount_Percent    0\n",
       "age_group           0\n",
       "dtype: int64"
      ]
     },
     "execution_count": 9,
     "metadata": {},
     "output_type": "execute_result"
    }
   ],
   "source": [
    "df.isna().sum()"
   ]
  },
  {
   "cell_type": "markdown",
   "id": "dff28b33",
   "metadata": {},
   "source": [
    "Today we will analyze online sales data to understand market and customer trends. We work for an imaginary online store in the US. The goal is to extract insights from the dataset online_sales in order to give recommendations to the company on new effective marketing campaigns.\n",
    "\n",
    "\n",
    "Load the dataset, understand the data, make visualizations, clean the data (think which transactions are counted as valid to your project) and make all the necessary data transformation and aggregations to answer the following questions (communicate your results with visualizations):\n",
    "\n",
    "\n",
    "Which category gives the highest sales?  \n",
    "Which categories are bought the most from men and which from women?  \n",
    "Which month of the year has the highest revenue? Can you guess why?  \n",
    "Which are the top five states that generate the highest revenue?  \n",
    "Which category is the highest in terms of revenue for each state? (Hard!)  \n",
    "Which category gives discounts more often? Visualize the top 5 of them.  \n",
    "Which age segment spends the most?  \n",
    "For the category with the highest revenue, plot the revenue per week for CA.  \n",
    "What is the average item count per order in each category?  \n",
    "Which two days of the week have the highest number of transactions?  \n",
    "If you wanted to launch an effective marketing campaign, in which category, age, gender, time of the year and days of the week would be to maximize its efficiency? Are you considering offering products at a discount and why?"
   ]
  },
  {
   "cell_type": "markdown",
   "id": "ef7e4480",
   "metadata": {},
   "source": []
  }
 ],
 "metadata": {
  "kernelspec": {
   "display_name": "bb_data_edit",
   "language": "python",
   "name": "python3"
  },
  "language_info": {
   "codemirror_mode": {
    "name": "ipython",
    "version": 3
   },
   "file_extension": ".py",
   "mimetype": "text/x-python",
   "name": "python",
   "nbconvert_exporter": "python",
   "pygments_lexer": "ipython3",
   "version": "3.11.11"
  }
 },
 "nbformat": 4,
 "nbformat_minor": 5
}
