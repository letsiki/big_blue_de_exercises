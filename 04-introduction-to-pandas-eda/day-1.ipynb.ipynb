{
 "cells": [
  {
   "cell_type": "markdown",
   "id": "3e9174da",
   "metadata": {},
   "source": [
    "1. Open the video game sales using pandas. Check characteristics of the dataset. What is the shape of the dataset, what are the statistics of the columns, are there any NaNs?"
   ]
  },
  {
   "cell_type": "code",
   "execution_count": 55,
   "id": "8e80a666",
   "metadata": {},
   "outputs": [],
   "source": [
    "import pandas as pd\n",
    "df = pd.read_csv('csv/vgsales.csv')"
   ]
  },
  {
   "cell_type": "markdown",
   "id": "36028d43",
   "metadata": {},
   "source": [
    "2. Clean the dataset (if you find any NaNs)"
   ]
  },
  {
   "cell_type": "code",
   "execution_count": 56,
   "id": "6c26321f",
   "metadata": {},
   "outputs": [],
   "source": [
    "df.dropna(inplace=True)"
   ]
  },
  {
   "cell_type": "markdown",
   "id": "fc964986",
   "metadata": {},
   "source": [
    "3. Which game has the highest global sales? What is its platform?"
   ]
  },
  {
   "cell_type": "code",
   "execution_count": 57,
   "id": "e3629c27",
   "metadata": {},
   "outputs": [
    {
     "name": "stdout",
     "output_type": "stream",
     "text": [
      "<class 'pandas.core.frame.DataFrame'>\n",
      "Int64Index: 16291 entries, 0 to 16597\n",
      "Data columns (total 10 columns):\n",
      " #   Column        Non-Null Count  Dtype  \n",
      "---  ------        --------------  -----  \n",
      " 0   Name          16291 non-null  object \n",
      " 1   Platform      16291 non-null  object \n",
      " 2   Year          16291 non-null  float64\n",
      " 3   Genre         16291 non-null  int64  \n",
      " 4   Publisher     16291 non-null  object \n",
      " 5   NA_Sales      16291 non-null  float64\n",
      " 6   EU_Sales      16291 non-null  float64\n",
      " 7   JP_Sales      16291 non-null  float64\n",
      " 8   Other_Sales   16291 non-null  float64\n",
      " 9   Global_Sales  16291 non-null  float64\n",
      "dtypes: float64(6), int64(1), object(3)\n",
      "memory usage: 1.4+ MB\n"
     ]
    }
   ],
   "source": [
    "df.info()"
   ]
  },
  {
   "cell_type": "markdown",
   "id": "2085d6ed",
   "metadata": {},
   "source": [
    "4. Which are the platforms in the dataset?"
   ]
  },
  {
   "cell_type": "code",
   "execution_count": 58,
   "id": "93331803",
   "metadata": {},
   "outputs": [
    {
     "data": {
      "text/html": [
       "<div>\n",
       "<style scoped>\n",
       "    .dataframe tbody tr th:only-of-type {\n",
       "        vertical-align: middle;\n",
       "    }\n",
       "\n",
       "    .dataframe tbody tr th {\n",
       "        vertical-align: top;\n",
       "    }\n",
       "\n",
       "    .dataframe thead th {\n",
       "        text-align: right;\n",
       "    }\n",
       "</style>\n",
       "<table border=\"1\" class=\"dataframe\">\n",
       "  <thead>\n",
       "    <tr style=\"text-align: right;\">\n",
       "      <th></th>\n",
       "      <th>Name</th>\n",
       "      <th>Platform</th>\n",
       "      <th>Year</th>\n",
       "      <th>Genre</th>\n",
       "      <th>Publisher</th>\n",
       "      <th>NA_Sales</th>\n",
       "      <th>EU_Sales</th>\n",
       "      <th>JP_Sales</th>\n",
       "      <th>Other_Sales</th>\n",
       "      <th>Global_Sales</th>\n",
       "    </tr>\n",
       "  </thead>\n",
       "  <tbody>\n",
       "    <tr>\n",
       "      <th>0</th>\n",
       "      <td>Wii Sports</td>\n",
       "      <td>Wii</td>\n",
       "      <td>2006.0</td>\n",
       "      <td>1</td>\n",
       "      <td>Nintendo</td>\n",
       "      <td>41.49</td>\n",
       "      <td>29.02</td>\n",
       "      <td>3.77</td>\n",
       "      <td>8.46</td>\n",
       "      <td>82.74</td>\n",
       "    </tr>\n",
       "  </tbody>\n",
       "</table>\n",
       "</div>"
      ],
      "text/plain": [
       "         Name Platform    Year  Genre Publisher  NA_Sales  EU_Sales  JP_Sales  \\\n",
       "0  Wii Sports      Wii  2006.0      1  Nintendo     41.49     29.02      3.77   \n",
       "\n",
       "   Other_Sales  Global_Sales  \n",
       "0         8.46         82.74  "
      ]
     },
     "execution_count": 58,
     "metadata": {},
     "output_type": "execute_result"
    }
   ],
   "source": [
    "df[df['Global_Sales'] == df['Global_Sales'].max()]"
   ]
  },
  {
   "cell_type": "markdown",
   "id": "7fc886d9",
   "metadata": {},
   "source": [
    "5. Which are the top ten selling games for PS4 (Global sales)? Is this the same for Europe and Japan sales combined?"
   ]
  },
  {
   "cell_type": "code",
   "execution_count": 59,
   "id": "59699d0a",
   "metadata": {},
   "outputs": [
    {
     "data": {
      "text/html": [
       "<div>\n",
       "<style scoped>\n",
       "    .dataframe tbody tr th:only-of-type {\n",
       "        vertical-align: middle;\n",
       "    }\n",
       "\n",
       "    .dataframe tbody tr th {\n",
       "        vertical-align: top;\n",
       "    }\n",
       "\n",
       "    .dataframe thead th {\n",
       "        text-align: right;\n",
       "    }\n",
       "</style>\n",
       "<table border=\"1\" class=\"dataframe\">\n",
       "  <thead>\n",
       "    <tr style=\"text-align: right;\">\n",
       "      <th></th>\n",
       "      <th>Name</th>\n",
       "      <th>Platform</th>\n",
       "      <th>Year</th>\n",
       "      <th>Genre</th>\n",
       "      <th>Publisher</th>\n",
       "      <th>NA_Sales</th>\n",
       "      <th>EU_Sales</th>\n",
       "      <th>JP_Sales</th>\n",
       "      <th>Other_Sales</th>\n",
       "      <th>Global_Sales</th>\n",
       "    </tr>\n",
       "  </thead>\n",
       "  <tbody>\n",
       "    <tr>\n",
       "      <th>0</th>\n",
       "      <td>Wii Sports</td>\n",
       "      <td>Wii</td>\n",
       "      <td>2006.0</td>\n",
       "      <td>1</td>\n",
       "      <td>Nintendo</td>\n",
       "      <td>41.49</td>\n",
       "      <td>29.02</td>\n",
       "      <td>3.77</td>\n",
       "      <td>8.46</td>\n",
       "      <td>82.74</td>\n",
       "    </tr>\n",
       "    <tr>\n",
       "      <th>1</th>\n",
       "      <td>Super Mario Bros.</td>\n",
       "      <td>NES</td>\n",
       "      <td>1985.0</td>\n",
       "      <td>2</td>\n",
       "      <td>Nintendo</td>\n",
       "      <td>29.08</td>\n",
       "      <td>3.58</td>\n",
       "      <td>6.81</td>\n",
       "      <td>0.77</td>\n",
       "      <td>40.24</td>\n",
       "    </tr>\n",
       "    <tr>\n",
       "      <th>2</th>\n",
       "      <td>Mario Kart Wii</td>\n",
       "      <td>Wii</td>\n",
       "      <td>2008.0</td>\n",
       "      <td>3</td>\n",
       "      <td>Nintendo</td>\n",
       "      <td>15.85</td>\n",
       "      <td>12.88</td>\n",
       "      <td>3.79</td>\n",
       "      <td>3.31</td>\n",
       "      <td>35.82</td>\n",
       "    </tr>\n",
       "    <tr>\n",
       "      <th>3</th>\n",
       "      <td>Wii Sports Resort</td>\n",
       "      <td>Wii</td>\n",
       "      <td>2009.0</td>\n",
       "      <td>1</td>\n",
       "      <td>Nintendo</td>\n",
       "      <td>15.75</td>\n",
       "      <td>11.01</td>\n",
       "      <td>3.28</td>\n",
       "      <td>2.96</td>\n",
       "      <td>33.00</td>\n",
       "    </tr>\n",
       "    <tr>\n",
       "      <th>4</th>\n",
       "      <td>Pokemon Red/Pokemon Blue</td>\n",
       "      <td>GB</td>\n",
       "      <td>1996.0</td>\n",
       "      <td>4</td>\n",
       "      <td>Nintendo</td>\n",
       "      <td>11.27</td>\n",
       "      <td>8.89</td>\n",
       "      <td>10.22</td>\n",
       "      <td>1.00</td>\n",
       "      <td>31.37</td>\n",
       "    </tr>\n",
       "    <tr>\n",
       "      <th>5</th>\n",
       "      <td>Tetris</td>\n",
       "      <td>GB</td>\n",
       "      <td>1989.0</td>\n",
       "      <td>5</td>\n",
       "      <td>Nintendo</td>\n",
       "      <td>23.20</td>\n",
       "      <td>2.26</td>\n",
       "      <td>4.22</td>\n",
       "      <td>0.58</td>\n",
       "      <td>30.26</td>\n",
       "    </tr>\n",
       "    <tr>\n",
       "      <th>6</th>\n",
       "      <td>New Super Mario Bros.</td>\n",
       "      <td>DS</td>\n",
       "      <td>2006.0</td>\n",
       "      <td>2</td>\n",
       "      <td>Nintendo</td>\n",
       "      <td>11.38</td>\n",
       "      <td>9.23</td>\n",
       "      <td>6.50</td>\n",
       "      <td>2.90</td>\n",
       "      <td>30.01</td>\n",
       "    </tr>\n",
       "    <tr>\n",
       "      <th>7</th>\n",
       "      <td>Wii Play</td>\n",
       "      <td>Wii</td>\n",
       "      <td>2006.0</td>\n",
       "      <td>6</td>\n",
       "      <td>Nintendo</td>\n",
       "      <td>14.03</td>\n",
       "      <td>9.20</td>\n",
       "      <td>2.93</td>\n",
       "      <td>2.85</td>\n",
       "      <td>29.02</td>\n",
       "    </tr>\n",
       "    <tr>\n",
       "      <th>8</th>\n",
       "      <td>New Super Mario Bros. Wii</td>\n",
       "      <td>Wii</td>\n",
       "      <td>2009.0</td>\n",
       "      <td>2</td>\n",
       "      <td>Nintendo</td>\n",
       "      <td>14.59</td>\n",
       "      <td>7.06</td>\n",
       "      <td>4.70</td>\n",
       "      <td>2.26</td>\n",
       "      <td>28.62</td>\n",
       "    </tr>\n",
       "    <tr>\n",
       "      <th>9</th>\n",
       "      <td>Duck Hunt</td>\n",
       "      <td>NES</td>\n",
       "      <td>1984.0</td>\n",
       "      <td>7</td>\n",
       "      <td>Nintendo</td>\n",
       "      <td>26.93</td>\n",
       "      <td>0.63</td>\n",
       "      <td>0.28</td>\n",
       "      <td>0.47</td>\n",
       "      <td>28.31</td>\n",
       "    </tr>\n",
       "  </tbody>\n",
       "</table>\n",
       "</div>"
      ],
      "text/plain": [
       "                        Name Platform    Year  Genre Publisher  NA_Sales  \\\n",
       "0                 Wii Sports      Wii  2006.0      1  Nintendo     41.49   \n",
       "1          Super Mario Bros.      NES  1985.0      2  Nintendo     29.08   \n",
       "2             Mario Kart Wii      Wii  2008.0      3  Nintendo     15.85   \n",
       "3          Wii Sports Resort      Wii  2009.0      1  Nintendo     15.75   \n",
       "4   Pokemon Red/Pokemon Blue       GB  1996.0      4  Nintendo     11.27   \n",
       "5                     Tetris       GB  1989.0      5  Nintendo     23.20   \n",
       "6      New Super Mario Bros.       DS  2006.0      2  Nintendo     11.38   \n",
       "7                   Wii Play      Wii  2006.0      6  Nintendo     14.03   \n",
       "8  New Super Mario Bros. Wii      Wii  2009.0      2  Nintendo     14.59   \n",
       "9                  Duck Hunt      NES  1984.0      7  Nintendo     26.93   \n",
       "\n",
       "   EU_Sales  JP_Sales  Other_Sales  Global_Sales  \n",
       "0     29.02      3.77         8.46         82.74  \n",
       "1      3.58      6.81         0.77         40.24  \n",
       "2     12.88      3.79         3.31         35.82  \n",
       "3     11.01      3.28         2.96         33.00  \n",
       "4      8.89     10.22         1.00         31.37  \n",
       "5      2.26      4.22         0.58         30.26  \n",
       "6      9.23      6.50         2.90         30.01  \n",
       "7      9.20      2.93         2.85         29.02  \n",
       "8      7.06      4.70         2.26         28.62  \n",
       "9      0.63      0.28         0.47         28.31  "
      ]
     },
     "execution_count": 59,
     "metadata": {},
     "output_type": "execute_result"
    }
   ],
   "source": [
    "global_sales_sorted = df.sort_values(\"Global_Sales\", ascending=False).head(10)\n",
    "global_sales_sorted"
   ]
  },
  {
   "cell_type": "code",
   "execution_count": 60,
   "id": "830df71d",
   "metadata": {},
   "outputs": [
    {
     "data": {
      "text/html": [
       "<div>\n",
       "<style scoped>\n",
       "    .dataframe tbody tr th:only-of-type {\n",
       "        vertical-align: middle;\n",
       "    }\n",
       "\n",
       "    .dataframe tbody tr th {\n",
       "        vertical-align: top;\n",
       "    }\n",
       "\n",
       "    .dataframe thead th {\n",
       "        text-align: right;\n",
       "    }\n",
       "</style>\n",
       "<table border=\"1\" class=\"dataframe\">\n",
       "  <thead>\n",
       "    <tr style=\"text-align: right;\">\n",
       "      <th></th>\n",
       "      <th>Name</th>\n",
       "      <th>Platform</th>\n",
       "      <th>Year</th>\n",
       "      <th>Genre</th>\n",
       "      <th>Publisher</th>\n",
       "      <th>NA_Sales</th>\n",
       "      <th>EU_Sales</th>\n",
       "      <th>JP_Sales</th>\n",
       "      <th>Other_Sales</th>\n",
       "      <th>Global_Sales</th>\n",
       "      <th>JPN_EU_SALES</th>\n",
       "    </tr>\n",
       "  </thead>\n",
       "  <tbody>\n",
       "    <tr>\n",
       "      <th>0</th>\n",
       "      <td>Wii Sports</td>\n",
       "      <td>Wii</td>\n",
       "      <td>2006.0</td>\n",
       "      <td>1</td>\n",
       "      <td>Nintendo</td>\n",
       "      <td>41.49</td>\n",
       "      <td>29.02</td>\n",
       "      <td>3.77</td>\n",
       "      <td>8.46</td>\n",
       "      <td>82.74</td>\n",
       "      <td>32.79</td>\n",
       "    </tr>\n",
       "    <tr>\n",
       "      <th>4</th>\n",
       "      <td>Pokemon Red/Pokemon Blue</td>\n",
       "      <td>GB</td>\n",
       "      <td>1996.0</td>\n",
       "      <td>4</td>\n",
       "      <td>Nintendo</td>\n",
       "      <td>11.27</td>\n",
       "      <td>8.89</td>\n",
       "      <td>10.22</td>\n",
       "      <td>1.00</td>\n",
       "      <td>31.37</td>\n",
       "      <td>19.11</td>\n",
       "    </tr>\n",
       "    <tr>\n",
       "      <th>2</th>\n",
       "      <td>Mario Kart Wii</td>\n",
       "      <td>Wii</td>\n",
       "      <td>2008.0</td>\n",
       "      <td>3</td>\n",
       "      <td>Nintendo</td>\n",
       "      <td>15.85</td>\n",
       "      <td>12.88</td>\n",
       "      <td>3.79</td>\n",
       "      <td>3.31</td>\n",
       "      <td>35.82</td>\n",
       "      <td>16.67</td>\n",
       "    </tr>\n",
       "    <tr>\n",
       "      <th>6</th>\n",
       "      <td>New Super Mario Bros.</td>\n",
       "      <td>DS</td>\n",
       "      <td>2006.0</td>\n",
       "      <td>2</td>\n",
       "      <td>Nintendo</td>\n",
       "      <td>11.38</td>\n",
       "      <td>9.23</td>\n",
       "      <td>6.50</td>\n",
       "      <td>2.90</td>\n",
       "      <td>30.01</td>\n",
       "      <td>15.73</td>\n",
       "    </tr>\n",
       "    <tr>\n",
       "      <th>3</th>\n",
       "      <td>Wii Sports Resort</td>\n",
       "      <td>Wii</td>\n",
       "      <td>2009.0</td>\n",
       "      <td>1</td>\n",
       "      <td>Nintendo</td>\n",
       "      <td>15.75</td>\n",
       "      <td>11.01</td>\n",
       "      <td>3.28</td>\n",
       "      <td>2.96</td>\n",
       "      <td>33.00</td>\n",
       "      <td>14.29</td>\n",
       "    </tr>\n",
       "    <tr>\n",
       "      <th>19</th>\n",
       "      <td>Brain Age: Train Your Brain in Minutes a Day</td>\n",
       "      <td>DS</td>\n",
       "      <td>2005.0</td>\n",
       "      <td>6</td>\n",
       "      <td>Nintendo</td>\n",
       "      <td>4.75</td>\n",
       "      <td>9.26</td>\n",
       "      <td>4.16</td>\n",
       "      <td>2.05</td>\n",
       "      <td>20.22</td>\n",
       "      <td>13.42</td>\n",
       "    </tr>\n",
       "    <tr>\n",
       "      <th>12</th>\n",
       "      <td>Pokemon Gold/Pokemon Silver</td>\n",
       "      <td>GB</td>\n",
       "      <td>1999.0</td>\n",
       "      <td>4</td>\n",
       "      <td>Nintendo</td>\n",
       "      <td>9.00</td>\n",
       "      <td>6.18</td>\n",
       "      <td>7.20</td>\n",
       "      <td>0.71</td>\n",
       "      <td>23.10</td>\n",
       "      <td>13.38</td>\n",
       "    </tr>\n",
       "    <tr>\n",
       "      <th>10</th>\n",
       "      <td>Nintendogs</td>\n",
       "      <td>DS</td>\n",
       "      <td>2005.0</td>\n",
       "      <td>8</td>\n",
       "      <td>Nintendo</td>\n",
       "      <td>9.07</td>\n",
       "      <td>11.00</td>\n",
       "      <td>1.93</td>\n",
       "      <td>2.75</td>\n",
       "      <td>24.76</td>\n",
       "      <td>12.93</td>\n",
       "    </tr>\n",
       "    <tr>\n",
       "      <th>7</th>\n",
       "      <td>Wii Play</td>\n",
       "      <td>Wii</td>\n",
       "      <td>2006.0</td>\n",
       "      <td>6</td>\n",
       "      <td>Nintendo</td>\n",
       "      <td>14.03</td>\n",
       "      <td>9.20</td>\n",
       "      <td>2.93</td>\n",
       "      <td>2.85</td>\n",
       "      <td>29.02</td>\n",
       "      <td>12.13</td>\n",
       "    </tr>\n",
       "    <tr>\n",
       "      <th>8</th>\n",
       "      <td>New Super Mario Bros. Wii</td>\n",
       "      <td>Wii</td>\n",
       "      <td>2009.0</td>\n",
       "      <td>2</td>\n",
       "      <td>Nintendo</td>\n",
       "      <td>14.59</td>\n",
       "      <td>7.06</td>\n",
       "      <td>4.70</td>\n",
       "      <td>2.26</td>\n",
       "      <td>28.62</td>\n",
       "      <td>11.76</td>\n",
       "    </tr>\n",
       "  </tbody>\n",
       "</table>\n",
       "</div>"
      ],
      "text/plain": [
       "                                            Name Platform    Year  Genre  \\\n",
       "0                                     Wii Sports      Wii  2006.0      1   \n",
       "4                       Pokemon Red/Pokemon Blue       GB  1996.0      4   \n",
       "2                                 Mario Kart Wii      Wii  2008.0      3   \n",
       "6                          New Super Mario Bros.       DS  2006.0      2   \n",
       "3                              Wii Sports Resort      Wii  2009.0      1   \n",
       "19  Brain Age: Train Your Brain in Minutes a Day       DS  2005.0      6   \n",
       "12                   Pokemon Gold/Pokemon Silver       GB  1999.0      4   \n",
       "10                                    Nintendogs       DS  2005.0      8   \n",
       "7                                       Wii Play      Wii  2006.0      6   \n",
       "8                      New Super Mario Bros. Wii      Wii  2009.0      2   \n",
       "\n",
       "   Publisher  NA_Sales  EU_Sales  JP_Sales  Other_Sales  Global_Sales  \\\n",
       "0   Nintendo     41.49     29.02      3.77         8.46         82.74   \n",
       "4   Nintendo     11.27      8.89     10.22         1.00         31.37   \n",
       "2   Nintendo     15.85     12.88      3.79         3.31         35.82   \n",
       "6   Nintendo     11.38      9.23      6.50         2.90         30.01   \n",
       "3   Nintendo     15.75     11.01      3.28         2.96         33.00   \n",
       "19  Nintendo      4.75      9.26      4.16         2.05         20.22   \n",
       "12  Nintendo      9.00      6.18      7.20         0.71         23.10   \n",
       "10  Nintendo      9.07     11.00      1.93         2.75         24.76   \n",
       "7   Nintendo     14.03      9.20      2.93         2.85         29.02   \n",
       "8   Nintendo     14.59      7.06      4.70         2.26         28.62   \n",
       "\n",
       "    JPN_EU_SALES  \n",
       "0          32.79  \n",
       "4          19.11  \n",
       "2          16.67  \n",
       "6          15.73  \n",
       "3          14.29  \n",
       "19         13.42  \n",
       "12         13.38  \n",
       "10         12.93  \n",
       "7          12.13  \n",
       "8          11.76  "
      ]
     },
     "execution_count": 60,
     "metadata": {},
     "output_type": "execute_result"
    }
   ],
   "source": [
    "df['JPN_EU_SALES'] = df['EU_Sales'] + df['JP_Sales']\n",
    "eu_jpn_sales_sorted = df.sort_values('JPN_EU_SALES', ascending=False).head(10)\n",
    "eu_jpn_sales_sorted"
   ]
  },
  {
   "cell_type": "markdown",
   "id": "7c404450",
   "metadata": {},
   "source": [
    "We can see that the ranking are different by eye, but can also verify to programmatically by comparing the indices' contents."
   ]
  },
  {
   "cell_type": "code",
   "execution_count": 61,
   "id": "54f03a76",
   "metadata": {},
   "outputs": [
    {
     "data": {
      "text/plain": [
       "False"
      ]
     },
     "execution_count": 61,
     "metadata": {},
     "output_type": "execute_result"
    }
   ],
   "source": [
    "eu_jpn_sales_sorted.index.to_list() == global_sales_sorted.index.to_list()"
   ]
  },
  {
   "cell_type": "markdown",
   "id": "aa23cc04",
   "metadata": {},
   "source": [
    "6. How many games were released for XOne in 2016? Which was the top selling game in Europe?"
   ]
  },
  {
   "cell_type": "code",
   "execution_count": 71,
   "id": "572c978e",
   "metadata": {},
   "outputs": [
    {
     "data": {
      "text/html": [
       "<div>\n",
       "<style scoped>\n",
       "    .dataframe tbody tr th:only-of-type {\n",
       "        vertical-align: middle;\n",
       "    }\n",
       "\n",
       "    .dataframe tbody tr th {\n",
       "        vertical-align: top;\n",
       "    }\n",
       "\n",
       "    .dataframe thead th {\n",
       "        text-align: right;\n",
       "    }\n",
       "</style>\n",
       "<table border=\"1\" class=\"dataframe\">\n",
       "  <thead>\n",
       "    <tr style=\"text-align: right;\">\n",
       "      <th></th>\n",
       "      <th>Name</th>\n",
       "      <th>Platform</th>\n",
       "      <th>Year</th>\n",
       "      <th>Genre</th>\n",
       "      <th>Publisher</th>\n",
       "      <th>NA_Sales</th>\n",
       "      <th>EU_Sales</th>\n",
       "      <th>JP_Sales</th>\n",
       "      <th>Other_Sales</th>\n",
       "      <th>Global_Sales</th>\n",
       "      <th>JPN_EU_SALES</th>\n",
       "    </tr>\n",
       "  </thead>\n",
       "  <tbody>\n",
       "    <tr>\n",
       "      <th>845</th>\n",
       "      <td>Tom Clancy's The Division</td>\n",
       "      <td>XOne</td>\n",
       "      <td>2016.0</td>\n",
       "      <td>7</td>\n",
       "      <td>Ubisoft</td>\n",
       "      <td>1.20</td>\n",
       "      <td>0.62</td>\n",
       "      <td>0.0</td>\n",
       "      <td>0.18</td>\n",
       "      <td>2.01</td>\n",
       "      <td>0.62</td>\n",
       "    </tr>\n",
       "    <tr>\n",
       "      <th>1224</th>\n",
       "      <td>FIFA 17</td>\n",
       "      <td>XOne</td>\n",
       "      <td>2016.0</td>\n",
       "      <td>1</td>\n",
       "      <td>Electronic Arts</td>\n",
       "      <td>0.17</td>\n",
       "      <td>1.26</td>\n",
       "      <td>0.0</td>\n",
       "      <td>0.10</td>\n",
       "      <td>1.53</td>\n",
       "      <td>1.26</td>\n",
       "    </tr>\n",
       "    <tr>\n",
       "      <th>2434</th>\n",
       "      <td>Far Cry: Primal</td>\n",
       "      <td>XOne</td>\n",
       "      <td>2016.0</td>\n",
       "      <td>9</td>\n",
       "      <td>Ubisoft</td>\n",
       "      <td>0.46</td>\n",
       "      <td>0.32</td>\n",
       "      <td>0.0</td>\n",
       "      <td>0.07</td>\n",
       "      <td>0.85</td>\n",
       "      <td>0.32</td>\n",
       "    </tr>\n",
       "    <tr>\n",
       "      <th>2444</th>\n",
       "      <td>Overwatch</td>\n",
       "      <td>XOne</td>\n",
       "      <td>2016.0</td>\n",
       "      <td>7</td>\n",
       "      <td>Activision</td>\n",
       "      <td>0.52</td>\n",
       "      <td>0.25</td>\n",
       "      <td>0.0</td>\n",
       "      <td>0.08</td>\n",
       "      <td>0.85</td>\n",
       "      <td>0.25</td>\n",
       "    </tr>\n",
       "    <tr>\n",
       "      <th>2505</th>\n",
       "      <td>Madden NFL 17</td>\n",
       "      <td>XOne</td>\n",
       "      <td>2016.0</td>\n",
       "      <td>1</td>\n",
       "      <td>Electronic Arts</td>\n",
       "      <td>0.72</td>\n",
       "      <td>0.02</td>\n",
       "      <td>0.0</td>\n",
       "      <td>0.09</td>\n",
       "      <td>0.82</td>\n",
       "      <td>0.02</td>\n",
       "    </tr>\n",
       "  </tbody>\n",
       "</table>\n",
       "</div>"
      ],
      "text/plain": [
       "                           Name Platform    Year  Genre        Publisher  \\\n",
       "845   Tom Clancy's The Division     XOne  2016.0      7          Ubisoft   \n",
       "1224                    FIFA 17     XOne  2016.0      1  Electronic Arts   \n",
       "2434            Far Cry: Primal     XOne  2016.0      9          Ubisoft   \n",
       "2444                  Overwatch     XOne  2016.0      7       Activision   \n",
       "2505              Madden NFL 17     XOne  2016.0      1  Electronic Arts   \n",
       "\n",
       "      NA_Sales  EU_Sales  JP_Sales  Other_Sales  Global_Sales  JPN_EU_SALES  \n",
       "845       1.20      0.62       0.0         0.18          2.01          0.62  \n",
       "1224      0.17      1.26       0.0         0.10          1.53          1.26  \n",
       "2434      0.46      0.32       0.0         0.07          0.85          0.32  \n",
       "2444      0.52      0.25       0.0         0.08          0.85          0.25  \n",
       "2505      0.72      0.02       0.0         0.09          0.82          0.02  "
      ]
     },
     "execution_count": 71,
     "metadata": {},
     "output_type": "execute_result"
    }
   ],
   "source": [
    "games_2016_xone = df[(df['Platform'] == 'XOne') & (df['Year'] == 2016)]\n",
    "games_2016_xone.head()"
   ]
  },
  {
   "cell_type": "code",
   "execution_count": 72,
   "id": "2f5a98e5",
   "metadata": {},
   "outputs": [
    {
     "data": {
      "text/plain": [
       "54"
      ]
     },
     "execution_count": 72,
     "metadata": {},
     "output_type": "execute_result"
    }
   ],
   "source": [
    "games_2016_xone['Name'].count()"
   ]
  },
  {
   "cell_type": "code",
   "execution_count": 76,
   "id": "7c9aaf96",
   "metadata": {},
   "outputs": [
    {
     "data": {
      "text/html": [
       "<div>\n",
       "<style scoped>\n",
       "    .dataframe tbody tr th:only-of-type {\n",
       "        vertical-align: middle;\n",
       "    }\n",
       "\n",
       "    .dataframe tbody tr th {\n",
       "        vertical-align: top;\n",
       "    }\n",
       "\n",
       "    .dataframe thead th {\n",
       "        text-align: right;\n",
       "    }\n",
       "</style>\n",
       "<table border=\"1\" class=\"dataframe\">\n",
       "  <thead>\n",
       "    <tr style=\"text-align: right;\">\n",
       "      <th></th>\n",
       "      <th>Name</th>\n",
       "      <th>Platform</th>\n",
       "      <th>Year</th>\n",
       "      <th>Genre</th>\n",
       "      <th>Publisher</th>\n",
       "      <th>NA_Sales</th>\n",
       "      <th>EU_Sales</th>\n",
       "      <th>JP_Sales</th>\n",
       "      <th>Other_Sales</th>\n",
       "      <th>Global_Sales</th>\n",
       "      <th>JPN_EU_SALES</th>\n",
       "    </tr>\n",
       "  </thead>\n",
       "  <tbody>\n",
       "    <tr>\n",
       "      <th>1224</th>\n",
       "      <td>FIFA 17</td>\n",
       "      <td>XOne</td>\n",
       "      <td>2016.0</td>\n",
       "      <td>1</td>\n",
       "      <td>Electronic Arts</td>\n",
       "      <td>0.17</td>\n",
       "      <td>1.26</td>\n",
       "      <td>0.0</td>\n",
       "      <td>0.1</td>\n",
       "      <td>1.53</td>\n",
       "      <td>1.26</td>\n",
       "    </tr>\n",
       "  </tbody>\n",
       "</table>\n",
       "</div>"
      ],
      "text/plain": [
       "         Name Platform    Year  Genre        Publisher  NA_Sales  EU_Sales  \\\n",
       "1224  FIFA 17     XOne  2016.0      1  Electronic Arts      0.17      1.26   \n",
       "\n",
       "      JP_Sales  Other_Sales  Global_Sales  JPN_EU_SALES  \n",
       "1224       0.0          0.1          1.53          1.26  "
      ]
     },
     "execution_count": 76,
     "metadata": {},
     "output_type": "execute_result"
    }
   ],
   "source": [
    "games_2016_xone[games_2016_xone['EU_Sales'] == games_2016_xone['EU_Sales'].max()]"
   ]
  },
  {
   "cell_type": "markdown",
   "id": "d522b0b5",
   "metadata": {},
   "source": [
    "7. Replace where XOne with ‘X Box One’"
   ]
  },
  {
   "cell_type": "code",
   "execution_count": 81,
   "id": "e74600a5",
   "metadata": {},
   "outputs": [
    {
     "data": {
      "text/plain": [
       "101      X Box One\n",
       "193      X Box One\n",
       "197      X Box One\n",
       "260      X Box One\n",
       "287      X Box One\n",
       "           ...    \n",
       "16530    X Box One\n",
       "16531    X Box One\n",
       "16562    X Box One\n",
       "16569    X Box One\n",
       "16576    X Box One\n",
       "Name: Platform, Length: 213, dtype: object"
      ]
     },
     "execution_count": 81,
     "metadata": {},
     "output_type": "execute_result"
    }
   ],
   "source": [
    "replace_xbox = df['Platform'].replace('XOne', 'X Box One')\n",
    "replace_xbox[replace_xbox == 'X Box One']"
   ]
  },
  {
   "cell_type": "markdown",
   "id": "1e43576c",
   "metadata": {},
   "source": [
    "8. How many PC games have higher sales than 3 million global sales?"
   ]
  },
  {
   "cell_type": "code",
   "execution_count": 88,
   "id": "4c0e533c",
   "metadata": {},
   "outputs": [
    {
     "data": {
      "text/plain": [
       "464"
      ]
     },
     "execution_count": 88,
     "metadata": {},
     "output_type": "execute_result"
    }
   ],
   "source": [
    "df[df['Global_Sales'] > 3]['Name'].count()"
   ]
  },
  {
   "cell_type": "markdown",
   "id": "82f73677",
   "metadata": {},
   "source": [
    "9. In which year the most games were released?"
   ]
  },
  {
   "cell_type": "code",
   "execution_count": 102,
   "id": "415c6668",
   "metadata": {},
   "outputs": [
    {
     "data": {
      "text/plain": [
       "Year\n",
       "2009    1431\n",
       "2008    1428\n",
       "2010    1257\n",
       "2007    1201\n",
       "2011    1136\n",
       "Name: Name, dtype: int64"
      ]
     },
     "execution_count": 102,
     "metadata": {},
     "output_type": "execute_result"
    }
   ],
   "source": [
    "df['Year'] = df['Year'].astype('int64')\n",
    "games_per_year_sorted = df.groupby('Year')['Name'].count().sort_values(ascending=False)\n",
    "games_per_year_sorted.head()"
   ]
  },
  {
   "cell_type": "code",
   "execution_count": 105,
   "id": "67105893",
   "metadata": {},
   "outputs": [
    {
     "data": {
      "text/plain": [
       "Year\n",
       "2009    1431\n",
       "Name: Name, dtype: int64"
      ]
     },
     "execution_count": 105,
     "metadata": {},
     "output_type": "execute_result"
    }
   ],
   "source": [
    "games_per_year_sorted[games_per_year_sorted == games_per_year_sorted.max()]\n",
    "# or\n",
    "games_per_year_sorted.head(1)"
   ]
  },
  {
   "cell_type": "markdown",
   "id": "0258965b",
   "metadata": {},
   "source": [
    "10. Which platform had the most releases that year?"
   ]
  },
  {
   "cell_type": "code",
   "execution_count": 112,
   "id": "1b82837e",
   "metadata": {},
   "outputs": [
    {
     "data": {
      "text/html": [
       "<div>\n",
       "<style scoped>\n",
       "    .dataframe tbody tr th:only-of-type {\n",
       "        vertical-align: middle;\n",
       "    }\n",
       "\n",
       "    .dataframe tbody tr th {\n",
       "        vertical-align: top;\n",
       "    }\n",
       "\n",
       "    .dataframe thead th {\n",
       "        text-align: right;\n",
       "    }\n",
       "</style>\n",
       "<table border=\"1\" class=\"dataframe\">\n",
       "  <thead>\n",
       "    <tr style=\"text-align: right;\">\n",
       "      <th></th>\n",
       "      <th>Name</th>\n",
       "      <th>Platform</th>\n",
       "      <th>Year</th>\n",
       "      <th>Genre</th>\n",
       "      <th>Publisher</th>\n",
       "      <th>NA_Sales</th>\n",
       "      <th>EU_Sales</th>\n",
       "      <th>JP_Sales</th>\n",
       "      <th>Other_Sales</th>\n",
       "      <th>Global_Sales</th>\n",
       "      <th>JPN_EU_SALES</th>\n",
       "    </tr>\n",
       "  </thead>\n",
       "  <tbody>\n",
       "    <tr>\n",
       "      <th>3</th>\n",
       "      <td>Wii Sports Resort</td>\n",
       "      <td>Wii</td>\n",
       "      <td>2009</td>\n",
       "      <td>1</td>\n",
       "      <td>Nintendo</td>\n",
       "      <td>15.75</td>\n",
       "      <td>11.01</td>\n",
       "      <td>3.28</td>\n",
       "      <td>2.96</td>\n",
       "      <td>33.00</td>\n",
       "      <td>14.29</td>\n",
       "    </tr>\n",
       "    <tr>\n",
       "      <th>8</th>\n",
       "      <td>New Super Mario Bros. Wii</td>\n",
       "      <td>Wii</td>\n",
       "      <td>2009</td>\n",
       "      <td>2</td>\n",
       "      <td>Nintendo</td>\n",
       "      <td>14.59</td>\n",
       "      <td>7.06</td>\n",
       "      <td>4.70</td>\n",
       "      <td>2.26</td>\n",
       "      <td>28.62</td>\n",
       "      <td>11.76</td>\n",
       "    </tr>\n",
       "    <tr>\n",
       "      <th>14</th>\n",
       "      <td>Wii Fit Plus</td>\n",
       "      <td>Wii</td>\n",
       "      <td>2009</td>\n",
       "      <td>1</td>\n",
       "      <td>Nintendo</td>\n",
       "      <td>9.09</td>\n",
       "      <td>8.59</td>\n",
       "      <td>2.53</td>\n",
       "      <td>1.79</td>\n",
       "      <td>22.00</td>\n",
       "      <td>11.12</td>\n",
       "    </tr>\n",
       "    <tr>\n",
       "      <th>36</th>\n",
       "      <td>Call of Duty: Modern Warfare 2</td>\n",
       "      <td>X360</td>\n",
       "      <td>2009</td>\n",
       "      <td>7</td>\n",
       "      <td>Activision</td>\n",
       "      <td>8.52</td>\n",
       "      <td>3.63</td>\n",
       "      <td>0.08</td>\n",
       "      <td>1.29</td>\n",
       "      <td>13.51</td>\n",
       "      <td>3.71</td>\n",
       "    </tr>\n",
       "    <tr>\n",
       "      <th>45</th>\n",
       "      <td>Pokemon HeartGold/Pokemon SoulSilver</td>\n",
       "      <td>DS</td>\n",
       "      <td>2009</td>\n",
       "      <td>9</td>\n",
       "      <td>Nintendo</td>\n",
       "      <td>4.40</td>\n",
       "      <td>2.77</td>\n",
       "      <td>3.96</td>\n",
       "      <td>0.77</td>\n",
       "      <td>11.90</td>\n",
       "      <td>6.73</td>\n",
       "    </tr>\n",
       "  </tbody>\n",
       "</table>\n",
       "</div>"
      ],
      "text/plain": [
       "                                    Name Platform  Year  Genre   Publisher  \\\n",
       "3                      Wii Sports Resort      Wii  2009      1    Nintendo   \n",
       "8              New Super Mario Bros. Wii      Wii  2009      2    Nintendo   \n",
       "14                          Wii Fit Plus      Wii  2009      1    Nintendo   \n",
       "36        Call of Duty: Modern Warfare 2     X360  2009      7  Activision   \n",
       "45  Pokemon HeartGold/Pokemon SoulSilver       DS  2009      9    Nintendo   \n",
       "\n",
       "    NA_Sales  EU_Sales  JP_Sales  Other_Sales  Global_Sales  JPN_EU_SALES  \n",
       "3      15.75     11.01      3.28         2.96         33.00         14.29  \n",
       "8      14.59      7.06      4.70         2.26         28.62         11.76  \n",
       "14      9.09      8.59      2.53         1.79         22.00         11.12  \n",
       "36      8.52      3.63      0.08         1.29         13.51          3.71  \n",
       "45      4.40      2.77      3.96         0.77         11.90          6.73  "
      ]
     },
     "execution_count": 112,
     "metadata": {},
     "output_type": "execute_result"
    }
   ],
   "source": [
    "df_in_best_year = df[df['Year'] == games_per_year_sorted.head(1).index.to_list()[0]]\n",
    "df_in_best_year.head()"
   ]
  },
  {
   "cell_type": "code",
   "execution_count": 115,
   "id": "5d52a4e3",
   "metadata": {},
   "outputs": [
    {
     "data": {
      "text/plain": [
       "Platform\n",
       "DS      405\n",
       "PC      109\n",
       "PS2      96\n",
       "PS3     162\n",
       "PSP     161\n",
       "Wii     325\n",
       "X360    173\n",
       "Name: Name, dtype: int64"
      ]
     },
     "execution_count": 115,
     "metadata": {},
     "output_type": "execute_result"
    }
   ],
   "source": [
    "releases_per_platform_best_year = df_in_best_year.groupby('Platform')['Name'].count()\n",
    "releases_per_platform_best_year"
   ]
  },
  {
   "cell_type": "code",
   "execution_count": 116,
   "id": "80941c07",
   "metadata": {},
   "outputs": [
    {
     "data": {
      "text/plain": [
       "Platform\n",
       "DS    405\n",
       "Name: Name, dtype: int64"
      ]
     },
     "execution_count": 116,
     "metadata": {},
     "output_type": "execute_result"
    }
   ],
   "source": [
    "releases_per_platform_best_year.sort_values(ascending=False)[:1]"
   ]
  }
 ],
 "metadata": {
  "kernelspec": {
   "display_name": "bb_data_edit",
   "language": "python",
   "name": "python3"
  },
  "language_info": {
   "codemirror_mode": {
    "name": "ipython",
    "version": 3
   },
   "file_extension": ".py",
   "mimetype": "text/x-python",
   "name": "python",
   "nbconvert_exporter": "python",
   "pygments_lexer": "ipython3",
   "version": "3.11.11"
  }
 },
 "nbformat": 4,
 "nbformat_minor": 5
}
