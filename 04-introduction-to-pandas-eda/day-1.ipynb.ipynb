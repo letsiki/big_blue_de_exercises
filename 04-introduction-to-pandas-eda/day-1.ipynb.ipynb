{
 "cells": [
  {
   "cell_type": "markdown",
   "id": "3e9174da",
   "metadata": {},
   "source": [
    "1. Open the video game sales using pandas. Check characteristics of the dataset. What is the shape of the dataset, what are the statistics of the columns, are there any NaNs?"
   ]
  },
  {
   "cell_type": "code",
   "execution_count": 55,
   "id": "8e80a666",
   "metadata": {},
   "outputs": [],
   "source": [
    "import pandas as pd\n",
    "df = pd.read_csv('csv/vgsales.csv')"
   ]
  },
  {
   "cell_type": "markdown",
   "id": "36028d43",
   "metadata": {},
   "source": [
    "2. Clean the dataset (if you find any NaNs)"
   ]
  },
  {
   "cell_type": "code",
   "execution_count": 56,
   "id": "6c26321f",
   "metadata": {},
   "outputs": [],
   "source": [
    "df.dropna(inplace=True)"
   ]
  },
  {
   "cell_type": "markdown",
   "id": "fc964986",
   "metadata": {},
   "source": [
    "3. Which game has the highest global sales? What is its platform?"
   ]
  },
  {
   "cell_type": "code",
   "execution_count": 57,
   "id": "e3629c27",
   "metadata": {},
   "outputs": [
    {
     "name": "stdout",
     "output_type": "stream",
     "text": [
      "<class 'pandas.core.frame.DataFrame'>\n",
      "Int64Index: 16291 entries, 0 to 16597\n",
      "Data columns (total 10 columns):\n",
      " #   Column        Non-Null Count  Dtype  \n",
      "---  ------        --------------  -----  \n",
      " 0   Name          16291 non-null  object \n",
      " 1   Platform      16291 non-null  object \n",
      " 2   Year          16291 non-null  float64\n",
      " 3   Genre         16291 non-null  int64  \n",
      " 4   Publisher     16291 non-null  object \n",
      " 5   NA_Sales      16291 non-null  float64\n",
      " 6   EU_Sales      16291 non-null  float64\n",
      " 7   JP_Sales      16291 non-null  float64\n",
      " 8   Other_Sales   16291 non-null  float64\n",
      " 9   Global_Sales  16291 non-null  float64\n",
      "dtypes: float64(6), int64(1), object(3)\n",
      "memory usage: 1.4+ MB\n"
     ]
    }
   ],
   "source": [
    "df.info()"
   ]
  },
  {
   "cell_type": "markdown",
   "id": "2085d6ed",
   "metadata": {},
   "source": [
    "4. Which are the platforms in the dataset?"
   ]
  },
  {
   "cell_type": "code",
   "execution_count": 58,
   "id": "93331803",
   "metadata": {},
   "outputs": [
    {
     "data": {
      "text/html": [
       "<div>\n",
       "<style scoped>\n",
       "    .dataframe tbody tr th:only-of-type {\n",
       "        vertical-align: middle;\n",
       "    }\n",
       "\n",
       "    .dataframe tbody tr th {\n",
       "        vertical-align: top;\n",
       "    }\n",
       "\n",
       "    .dataframe thead th {\n",
       "        text-align: right;\n",
       "    }\n",
       "</style>\n",
       "<table border=\"1\" class=\"dataframe\">\n",
       "  <thead>\n",
       "    <tr style=\"text-align: right;\">\n",
       "      <th></th>\n",
       "      <th>Name</th>\n",
       "      <th>Platform</th>\n",
       "      <th>Year</th>\n",
       "      <th>Genre</th>\n",
       "      <th>Publisher</th>\n",
       "      <th>NA_Sales</th>\n",
       "      <th>EU_Sales</th>\n",
       "      <th>JP_Sales</th>\n",
       "      <th>Other_Sales</th>\n",
       "      <th>Global_Sales</th>\n",
       "    </tr>\n",
       "  </thead>\n",
       "  <tbody>\n",
       "    <tr>\n",
       "      <th>0</th>\n",
       "      <td>Wii Sports</td>\n",
       "      <td>Wii</td>\n",
       "      <td>2006.0</td>\n",
       "      <td>1</td>\n",
       "      <td>Nintendo</td>\n",
       "      <td>41.49</td>\n",
       "      <td>29.02</td>\n",
       "      <td>3.77</td>\n",
       "      <td>8.46</td>\n",
       "      <td>82.74</td>\n",
       "    </tr>\n",
       "  </tbody>\n",
       "</table>\n",
       "</div>"
      ],
      "text/plain": [
       "         Name Platform    Year  Genre Publisher  NA_Sales  EU_Sales  JP_Sales  \\\n",
       "0  Wii Sports      Wii  2006.0      1  Nintendo     41.49     29.02      3.77   \n",
       "\n",
       "   Other_Sales  Global_Sales  \n",
       "0         8.46         82.74  "
      ]
     },
     "execution_count": 58,
     "metadata": {},
     "output_type": "execute_result"
    }
   ],
   "source": [
    "df[df['Global_Sales'] == df['Global_Sales'].max()]"
   ]
  },
  {
   "cell_type": "markdown",
   "id": "7fc886d9",
   "metadata": {},
   "source": [
    "5. Which are the top ten selling games for PS4 (Global sales)? Is this the same for Europe and Japan sales combined?"
   ]
  },
  {
   "cell_type": "code",
   "execution_count": 123,
   "id": "59699d0a",
   "metadata": {},
   "outputs": [
    {
     "data": {
      "text/html": [
       "<div>\n",
       "<style scoped>\n",
       "    .dataframe tbody tr th:only-of-type {\n",
       "        vertical-align: middle;\n",
       "    }\n",
       "\n",
       "    .dataframe tbody tr th {\n",
       "        vertical-align: top;\n",
       "    }\n",
       "\n",
       "    .dataframe thead th {\n",
       "        text-align: right;\n",
       "    }\n",
       "</style>\n",
       "<table border=\"1\" class=\"dataframe\">\n",
       "  <thead>\n",
       "    <tr style=\"text-align: right;\">\n",
       "      <th></th>\n",
       "      <th>Name</th>\n",
       "      <th>Platform</th>\n",
       "      <th>Year</th>\n",
       "      <th>Genre</th>\n",
       "      <th>Publisher</th>\n",
       "      <th>NA_Sales</th>\n",
       "      <th>EU_Sales</th>\n",
       "      <th>JP_Sales</th>\n",
       "      <th>Other_Sales</th>\n",
       "      <th>Global_Sales</th>\n",
       "      <th>JPN_EU_SALES</th>\n",
       "    </tr>\n",
       "  </thead>\n",
       "  <tbody>\n",
       "    <tr>\n",
       "      <th>33</th>\n",
       "      <td>Call of Duty: Black Ops 3</td>\n",
       "      <td>PS4</td>\n",
       "      <td>2015</td>\n",
       "      <td>7</td>\n",
       "      <td>Activision</td>\n",
       "      <td>5.77</td>\n",
       "      <td>5.81</td>\n",
       "      <td>0.35</td>\n",
       "      <td>2.31</td>\n",
       "      <td>14.24</td>\n",
       "      <td>6.16</td>\n",
       "    </tr>\n",
       "    <tr>\n",
       "      <th>44</th>\n",
       "      <td>Grand Theft Auto V</td>\n",
       "      <td>PS4</td>\n",
       "      <td>2014</td>\n",
       "      <td>9</td>\n",
       "      <td>Take-Two Interactive</td>\n",
       "      <td>3.80</td>\n",
       "      <td>5.81</td>\n",
       "      <td>0.36</td>\n",
       "      <td>2.02</td>\n",
       "      <td>11.98</td>\n",
       "      <td>6.17</td>\n",
       "    </tr>\n",
       "    <tr>\n",
       "      <th>77</th>\n",
       "      <td>FIFA 16</td>\n",
       "      <td>PS4</td>\n",
       "      <td>2015</td>\n",
       "      <td>1</td>\n",
       "      <td>Electronic Arts</td>\n",
       "      <td>1.11</td>\n",
       "      <td>6.06</td>\n",
       "      <td>0.06</td>\n",
       "      <td>1.26</td>\n",
       "      <td>8.49</td>\n",
       "      <td>6.12</td>\n",
       "    </tr>\n",
       "    <tr>\n",
       "      <th>92</th>\n",
       "      <td>Star Wars Battlefront (2015)</td>\n",
       "      <td>PS4</td>\n",
       "      <td>2015</td>\n",
       "      <td>7</td>\n",
       "      <td>Electronic Arts</td>\n",
       "      <td>2.93</td>\n",
       "      <td>3.29</td>\n",
       "      <td>0.22</td>\n",
       "      <td>1.23</td>\n",
       "      <td>7.67</td>\n",
       "      <td>3.51</td>\n",
       "    </tr>\n",
       "    <tr>\n",
       "      <th>93</th>\n",
       "      <td>Call of Duty: Advanced Warfare</td>\n",
       "      <td>PS4</td>\n",
       "      <td>2014</td>\n",
       "      <td>7</td>\n",
       "      <td>Activision</td>\n",
       "      <td>2.80</td>\n",
       "      <td>3.30</td>\n",
       "      <td>0.14</td>\n",
       "      <td>1.37</td>\n",
       "      <td>7.60</td>\n",
       "      <td>3.44</td>\n",
       "    </tr>\n",
       "    <tr>\n",
       "      <th>109</th>\n",
       "      <td>Fallout 4</td>\n",
       "      <td>PS4</td>\n",
       "      <td>2015</td>\n",
       "      <td>4</td>\n",
       "      <td>Bethesda Softworks</td>\n",
       "      <td>2.47</td>\n",
       "      <td>3.15</td>\n",
       "      <td>0.24</td>\n",
       "      <td>1.10</td>\n",
       "      <td>6.96</td>\n",
       "      <td>3.39</td>\n",
       "    </tr>\n",
       "    <tr>\n",
       "      <th>124</th>\n",
       "      <td>FIFA 15</td>\n",
       "      <td>PS4</td>\n",
       "      <td>2014</td>\n",
       "      <td>1</td>\n",
       "      <td>Electronic Arts</td>\n",
       "      <td>0.79</td>\n",
       "      <td>4.29</td>\n",
       "      <td>0.05</td>\n",
       "      <td>1.47</td>\n",
       "      <td>6.59</td>\n",
       "      <td>4.34</td>\n",
       "    </tr>\n",
       "    <tr>\n",
       "      <th>154</th>\n",
       "      <td>Destiny</td>\n",
       "      <td>PS4</td>\n",
       "      <td>2014</td>\n",
       "      <td>7</td>\n",
       "      <td>Activision</td>\n",
       "      <td>2.49</td>\n",
       "      <td>2.05</td>\n",
       "      <td>0.16</td>\n",
       "      <td>0.96</td>\n",
       "      <td>5.65</td>\n",
       "      <td>2.21</td>\n",
       "    </tr>\n",
       "    <tr>\n",
       "      <th>221</th>\n",
       "      <td>FIFA 17</td>\n",
       "      <td>PS4</td>\n",
       "      <td>2016</td>\n",
       "      <td>1</td>\n",
       "      <td>Electronic Arts</td>\n",
       "      <td>0.28</td>\n",
       "      <td>3.75</td>\n",
       "      <td>0.06</td>\n",
       "      <td>0.69</td>\n",
       "      <td>4.77</td>\n",
       "      <td>3.81</td>\n",
       "    </tr>\n",
       "    <tr>\n",
       "      <th>236</th>\n",
       "      <td>The Last of Us</td>\n",
       "      <td>PS4</td>\n",
       "      <td>2014</td>\n",
       "      <td>9</td>\n",
       "      <td>Sony Computer Entertainment</td>\n",
       "      <td>1.78</td>\n",
       "      <td>1.87</td>\n",
       "      <td>0.07</td>\n",
       "      <td>0.82</td>\n",
       "      <td>4.55</td>\n",
       "      <td>1.94</td>\n",
       "    </tr>\n",
       "  </tbody>\n",
       "</table>\n",
       "</div>"
      ],
      "text/plain": [
       "                               Name Platform  Year  Genre  \\\n",
       "33        Call of Duty: Black Ops 3      PS4  2015      7   \n",
       "44               Grand Theft Auto V      PS4  2014      9   \n",
       "77                          FIFA 16      PS4  2015      1   \n",
       "92     Star Wars Battlefront (2015)      PS4  2015      7   \n",
       "93   Call of Duty: Advanced Warfare      PS4  2014      7   \n",
       "109                       Fallout 4      PS4  2015      4   \n",
       "124                         FIFA 15      PS4  2014      1   \n",
       "154                         Destiny      PS4  2014      7   \n",
       "221                         FIFA 17      PS4  2016      1   \n",
       "236                  The Last of Us      PS4  2014      9   \n",
       "\n",
       "                       Publisher  NA_Sales  EU_Sales  JP_Sales  Other_Sales  \\\n",
       "33                    Activision      5.77      5.81      0.35         2.31   \n",
       "44          Take-Two Interactive      3.80      5.81      0.36         2.02   \n",
       "77               Electronic Arts      1.11      6.06      0.06         1.26   \n",
       "92               Electronic Arts      2.93      3.29      0.22         1.23   \n",
       "93                    Activision      2.80      3.30      0.14         1.37   \n",
       "109           Bethesda Softworks      2.47      3.15      0.24         1.10   \n",
       "124              Electronic Arts      0.79      4.29      0.05         1.47   \n",
       "154                   Activision      2.49      2.05      0.16         0.96   \n",
       "221              Electronic Arts      0.28      3.75      0.06         0.69   \n",
       "236  Sony Computer Entertainment      1.78      1.87      0.07         0.82   \n",
       "\n",
       "     Global_Sales  JPN_EU_SALES  \n",
       "33          14.24          6.16  \n",
       "44          11.98          6.17  \n",
       "77           8.49          6.12  \n",
       "92           7.67          3.51  \n",
       "93           7.60          3.44  \n",
       "109          6.96          3.39  \n",
       "124          6.59          4.34  \n",
       "154          5.65          2.21  \n",
       "221          4.77          3.81  \n",
       "236          4.55          1.94  "
      ]
     },
     "execution_count": 123,
     "metadata": {},
     "output_type": "execute_result"
    }
   ],
   "source": [
    "global_PS4_sales_sorted = df[df['Platform'] == 'PS4'].sort_values(\"Global_Sales\", ascending=False).head(10)\n",
    "global_PS4_sales_sorted"
   ]
  },
  {
   "cell_type": "code",
   "execution_count": 124,
   "id": "830df71d",
   "metadata": {},
   "outputs": [
    {
     "data": {
      "text/html": [
       "<div>\n",
       "<style scoped>\n",
       "    .dataframe tbody tr th:only-of-type {\n",
       "        vertical-align: middle;\n",
       "    }\n",
       "\n",
       "    .dataframe tbody tr th {\n",
       "        vertical-align: top;\n",
       "    }\n",
       "\n",
       "    .dataframe thead th {\n",
       "        text-align: right;\n",
       "    }\n",
       "</style>\n",
       "<table border=\"1\" class=\"dataframe\">\n",
       "  <thead>\n",
       "    <tr style=\"text-align: right;\">\n",
       "      <th></th>\n",
       "      <th>Name</th>\n",
       "      <th>Platform</th>\n",
       "      <th>Year</th>\n",
       "      <th>Genre</th>\n",
       "      <th>Publisher</th>\n",
       "      <th>NA_Sales</th>\n",
       "      <th>EU_Sales</th>\n",
       "      <th>JP_Sales</th>\n",
       "      <th>Other_Sales</th>\n",
       "      <th>Global_Sales</th>\n",
       "      <th>JPN_EU_SALES</th>\n",
       "    </tr>\n",
       "  </thead>\n",
       "  <tbody>\n",
       "    <tr>\n",
       "      <th>44</th>\n",
       "      <td>Grand Theft Auto V</td>\n",
       "      <td>PS4</td>\n",
       "      <td>2014</td>\n",
       "      <td>9</td>\n",
       "      <td>Take-Two Interactive</td>\n",
       "      <td>3.80</td>\n",
       "      <td>5.81</td>\n",
       "      <td>0.36</td>\n",
       "      <td>2.02</td>\n",
       "      <td>11.98</td>\n",
       "      <td>6.17</td>\n",
       "    </tr>\n",
       "    <tr>\n",
       "      <th>33</th>\n",
       "      <td>Call of Duty: Black Ops 3</td>\n",
       "      <td>PS4</td>\n",
       "      <td>2015</td>\n",
       "      <td>7</td>\n",
       "      <td>Activision</td>\n",
       "      <td>5.77</td>\n",
       "      <td>5.81</td>\n",
       "      <td>0.35</td>\n",
       "      <td>2.31</td>\n",
       "      <td>14.24</td>\n",
       "      <td>6.16</td>\n",
       "    </tr>\n",
       "    <tr>\n",
       "      <th>77</th>\n",
       "      <td>FIFA 16</td>\n",
       "      <td>PS4</td>\n",
       "      <td>2015</td>\n",
       "      <td>1</td>\n",
       "      <td>Electronic Arts</td>\n",
       "      <td>1.11</td>\n",
       "      <td>6.06</td>\n",
       "      <td>0.06</td>\n",
       "      <td>1.26</td>\n",
       "      <td>8.49</td>\n",
       "      <td>6.12</td>\n",
       "    </tr>\n",
       "    <tr>\n",
       "      <th>124</th>\n",
       "      <td>FIFA 15</td>\n",
       "      <td>PS4</td>\n",
       "      <td>2014</td>\n",
       "      <td>1</td>\n",
       "      <td>Electronic Arts</td>\n",
       "      <td>0.79</td>\n",
       "      <td>4.29</td>\n",
       "      <td>0.05</td>\n",
       "      <td>1.47</td>\n",
       "      <td>6.59</td>\n",
       "      <td>4.34</td>\n",
       "    </tr>\n",
       "    <tr>\n",
       "      <th>221</th>\n",
       "      <td>FIFA 17</td>\n",
       "      <td>PS4</td>\n",
       "      <td>2016</td>\n",
       "      <td>1</td>\n",
       "      <td>Electronic Arts</td>\n",
       "      <td>0.28</td>\n",
       "      <td>3.75</td>\n",
       "      <td>0.06</td>\n",
       "      <td>0.69</td>\n",
       "      <td>4.77</td>\n",
       "      <td>3.81</td>\n",
       "    </tr>\n",
       "    <tr>\n",
       "      <th>92</th>\n",
       "      <td>Star Wars Battlefront (2015)</td>\n",
       "      <td>PS4</td>\n",
       "      <td>2015</td>\n",
       "      <td>7</td>\n",
       "      <td>Electronic Arts</td>\n",
       "      <td>2.93</td>\n",
       "      <td>3.29</td>\n",
       "      <td>0.22</td>\n",
       "      <td>1.23</td>\n",
       "      <td>7.67</td>\n",
       "      <td>3.51</td>\n",
       "    </tr>\n",
       "    <tr>\n",
       "      <th>93</th>\n",
       "      <td>Call of Duty: Advanced Warfare</td>\n",
       "      <td>PS4</td>\n",
       "      <td>2014</td>\n",
       "      <td>7</td>\n",
       "      <td>Activision</td>\n",
       "      <td>2.80</td>\n",
       "      <td>3.30</td>\n",
       "      <td>0.14</td>\n",
       "      <td>1.37</td>\n",
       "      <td>7.60</td>\n",
       "      <td>3.44</td>\n",
       "    </tr>\n",
       "    <tr>\n",
       "      <th>109</th>\n",
       "      <td>Fallout 4</td>\n",
       "      <td>PS4</td>\n",
       "      <td>2015</td>\n",
       "      <td>4</td>\n",
       "      <td>Bethesda Softworks</td>\n",
       "      <td>2.47</td>\n",
       "      <td>3.15</td>\n",
       "      <td>0.24</td>\n",
       "      <td>1.10</td>\n",
       "      <td>6.96</td>\n",
       "      <td>3.39</td>\n",
       "    </tr>\n",
       "    <tr>\n",
       "      <th>154</th>\n",
       "      <td>Destiny</td>\n",
       "      <td>PS4</td>\n",
       "      <td>2014</td>\n",
       "      <td>7</td>\n",
       "      <td>Activision</td>\n",
       "      <td>2.49</td>\n",
       "      <td>2.05</td>\n",
       "      <td>0.16</td>\n",
       "      <td>0.96</td>\n",
       "      <td>5.65</td>\n",
       "      <td>2.21</td>\n",
       "    </tr>\n",
       "    <tr>\n",
       "      <th>236</th>\n",
       "      <td>The Last of Us</td>\n",
       "      <td>PS4</td>\n",
       "      <td>2014</td>\n",
       "      <td>9</td>\n",
       "      <td>Sony Computer Entertainment</td>\n",
       "      <td>1.78</td>\n",
       "      <td>1.87</td>\n",
       "      <td>0.07</td>\n",
       "      <td>0.82</td>\n",
       "      <td>4.55</td>\n",
       "      <td>1.94</td>\n",
       "    </tr>\n",
       "  </tbody>\n",
       "</table>\n",
       "</div>"
      ],
      "text/plain": [
       "                               Name Platform  Year  Genre  \\\n",
       "44               Grand Theft Auto V      PS4  2014      9   \n",
       "33        Call of Duty: Black Ops 3      PS4  2015      7   \n",
       "77                          FIFA 16      PS4  2015      1   \n",
       "124                         FIFA 15      PS4  2014      1   \n",
       "221                         FIFA 17      PS4  2016      1   \n",
       "92     Star Wars Battlefront (2015)      PS4  2015      7   \n",
       "93   Call of Duty: Advanced Warfare      PS4  2014      7   \n",
       "109                       Fallout 4      PS4  2015      4   \n",
       "154                         Destiny      PS4  2014      7   \n",
       "236                  The Last of Us      PS4  2014      9   \n",
       "\n",
       "                       Publisher  NA_Sales  EU_Sales  JP_Sales  Other_Sales  \\\n",
       "44          Take-Two Interactive      3.80      5.81      0.36         2.02   \n",
       "33                    Activision      5.77      5.81      0.35         2.31   \n",
       "77               Electronic Arts      1.11      6.06      0.06         1.26   \n",
       "124              Electronic Arts      0.79      4.29      0.05         1.47   \n",
       "221              Electronic Arts      0.28      3.75      0.06         0.69   \n",
       "92               Electronic Arts      2.93      3.29      0.22         1.23   \n",
       "93                    Activision      2.80      3.30      0.14         1.37   \n",
       "109           Bethesda Softworks      2.47      3.15      0.24         1.10   \n",
       "154                   Activision      2.49      2.05      0.16         0.96   \n",
       "236  Sony Computer Entertainment      1.78      1.87      0.07         0.82   \n",
       "\n",
       "     Global_Sales  JPN_EU_SALES  \n",
       "44          11.98          6.17  \n",
       "33          14.24          6.16  \n",
       "77           8.49          6.12  \n",
       "124          6.59          4.34  \n",
       "221          4.77          3.81  \n",
       "92           7.67          3.51  \n",
       "93           7.60          3.44  \n",
       "109          6.96          3.39  \n",
       "154          5.65          2.21  \n",
       "236          4.55          1.94  "
      ]
     },
     "execution_count": 124,
     "metadata": {},
     "output_type": "execute_result"
    }
   ],
   "source": [
    "global_PS4_sales_sorted['JPN_EU_SALES'] = global_PS4_sales_sorted['EU_Sales'] + global_PS4_sales_sorted['JP_Sales']\n",
    "eu_jpn_sales_PS4_sorted = global_PS4_sales_sorted.sort_values('JPN_EU_SALES', ascending=False).head(10)\n",
    "eu_jpn_sales_PS4_sorted"
   ]
  },
  {
   "cell_type": "markdown",
   "id": "7c404450",
   "metadata": {},
   "source": [
    "We can see that the ranking are different by eye, but can also verify to programmatically by comparing the indices' contents."
   ]
  },
  {
   "cell_type": "code",
   "execution_count": 126,
   "id": "54f03a76",
   "metadata": {},
   "outputs": [
    {
     "data": {
      "text/plain": [
       "False"
      ]
     },
     "execution_count": 126,
     "metadata": {},
     "output_type": "execute_result"
    }
   ],
   "source": [
    "eu_jpn_sales_PS4_sorted.index.to_list() == global_PS4_sales_sorted.index.to_list()"
   ]
  },
  {
   "cell_type": "markdown",
   "id": "aa23cc04",
   "metadata": {},
   "source": [
    "6. How many games were released for XOne in 2016? Which was the top selling game in Europe?"
   ]
  },
  {
   "cell_type": "code",
   "execution_count": 127,
   "id": "572c978e",
   "metadata": {},
   "outputs": [
    {
     "data": {
      "text/html": [
       "<div>\n",
       "<style scoped>\n",
       "    .dataframe tbody tr th:only-of-type {\n",
       "        vertical-align: middle;\n",
       "    }\n",
       "\n",
       "    .dataframe tbody tr th {\n",
       "        vertical-align: top;\n",
       "    }\n",
       "\n",
       "    .dataframe thead th {\n",
       "        text-align: right;\n",
       "    }\n",
       "</style>\n",
       "<table border=\"1\" class=\"dataframe\">\n",
       "  <thead>\n",
       "    <tr style=\"text-align: right;\">\n",
       "      <th></th>\n",
       "      <th>Name</th>\n",
       "      <th>Platform</th>\n",
       "      <th>Year</th>\n",
       "      <th>Genre</th>\n",
       "      <th>Publisher</th>\n",
       "      <th>NA_Sales</th>\n",
       "      <th>EU_Sales</th>\n",
       "      <th>JP_Sales</th>\n",
       "      <th>Other_Sales</th>\n",
       "      <th>Global_Sales</th>\n",
       "      <th>JPN_EU_SALES</th>\n",
       "    </tr>\n",
       "  </thead>\n",
       "  <tbody>\n",
       "    <tr>\n",
       "      <th>845</th>\n",
       "      <td>Tom Clancy's The Division</td>\n",
       "      <td>XOne</td>\n",
       "      <td>2016</td>\n",
       "      <td>7</td>\n",
       "      <td>Ubisoft</td>\n",
       "      <td>1.20</td>\n",
       "      <td>0.62</td>\n",
       "      <td>0.0</td>\n",
       "      <td>0.18</td>\n",
       "      <td>2.01</td>\n",
       "      <td>0.62</td>\n",
       "    </tr>\n",
       "    <tr>\n",
       "      <th>1224</th>\n",
       "      <td>FIFA 17</td>\n",
       "      <td>XOne</td>\n",
       "      <td>2016</td>\n",
       "      <td>1</td>\n",
       "      <td>Electronic Arts</td>\n",
       "      <td>0.17</td>\n",
       "      <td>1.26</td>\n",
       "      <td>0.0</td>\n",
       "      <td>0.10</td>\n",
       "      <td>1.53</td>\n",
       "      <td>1.26</td>\n",
       "    </tr>\n",
       "    <tr>\n",
       "      <th>2434</th>\n",
       "      <td>Far Cry: Primal</td>\n",
       "      <td>XOne</td>\n",
       "      <td>2016</td>\n",
       "      <td>9</td>\n",
       "      <td>Ubisoft</td>\n",
       "      <td>0.46</td>\n",
       "      <td>0.32</td>\n",
       "      <td>0.0</td>\n",
       "      <td>0.07</td>\n",
       "      <td>0.85</td>\n",
       "      <td>0.32</td>\n",
       "    </tr>\n",
       "    <tr>\n",
       "      <th>2444</th>\n",
       "      <td>Overwatch</td>\n",
       "      <td>XOne</td>\n",
       "      <td>2016</td>\n",
       "      <td>7</td>\n",
       "      <td>Activision</td>\n",
       "      <td>0.52</td>\n",
       "      <td>0.25</td>\n",
       "      <td>0.0</td>\n",
       "      <td>0.08</td>\n",
       "      <td>0.85</td>\n",
       "      <td>0.25</td>\n",
       "    </tr>\n",
       "    <tr>\n",
       "      <th>2505</th>\n",
       "      <td>Madden NFL 17</td>\n",
       "      <td>XOne</td>\n",
       "      <td>2016</td>\n",
       "      <td>1</td>\n",
       "      <td>Electronic Arts</td>\n",
       "      <td>0.72</td>\n",
       "      <td>0.02</td>\n",
       "      <td>0.0</td>\n",
       "      <td>0.09</td>\n",
       "      <td>0.82</td>\n",
       "      <td>0.02</td>\n",
       "    </tr>\n",
       "  </tbody>\n",
       "</table>\n",
       "</div>"
      ],
      "text/plain": [
       "                           Name Platform  Year  Genre        Publisher  \\\n",
       "845   Tom Clancy's The Division     XOne  2016      7          Ubisoft   \n",
       "1224                    FIFA 17     XOne  2016      1  Electronic Arts   \n",
       "2434            Far Cry: Primal     XOne  2016      9          Ubisoft   \n",
       "2444                  Overwatch     XOne  2016      7       Activision   \n",
       "2505              Madden NFL 17     XOne  2016      1  Electronic Arts   \n",
       "\n",
       "      NA_Sales  EU_Sales  JP_Sales  Other_Sales  Global_Sales  JPN_EU_SALES  \n",
       "845       1.20      0.62       0.0         0.18          2.01          0.62  \n",
       "1224      0.17      1.26       0.0         0.10          1.53          1.26  \n",
       "2434      0.46      0.32       0.0         0.07          0.85          0.32  \n",
       "2444      0.52      0.25       0.0         0.08          0.85          0.25  \n",
       "2505      0.72      0.02       0.0         0.09          0.82          0.02  "
      ]
     },
     "execution_count": 127,
     "metadata": {},
     "output_type": "execute_result"
    }
   ],
   "source": [
    "games_2016_xone = df[(df['Platform'] == 'XOne') & (df['Year'] == 2016)]\n",
    "games_2016_xone.head()"
   ]
  },
  {
   "cell_type": "code",
   "execution_count": 128,
   "id": "2f5a98e5",
   "metadata": {},
   "outputs": [
    {
     "data": {
      "text/plain": [
       "54"
      ]
     },
     "execution_count": 128,
     "metadata": {},
     "output_type": "execute_result"
    }
   ],
   "source": [
    "games_2016_xone['Name'].count()"
   ]
  },
  {
   "cell_type": "code",
   "execution_count": 129,
   "id": "7c9aaf96",
   "metadata": {},
   "outputs": [
    {
     "data": {
      "text/html": [
       "<div>\n",
       "<style scoped>\n",
       "    .dataframe tbody tr th:only-of-type {\n",
       "        vertical-align: middle;\n",
       "    }\n",
       "\n",
       "    .dataframe tbody tr th {\n",
       "        vertical-align: top;\n",
       "    }\n",
       "\n",
       "    .dataframe thead th {\n",
       "        text-align: right;\n",
       "    }\n",
       "</style>\n",
       "<table border=\"1\" class=\"dataframe\">\n",
       "  <thead>\n",
       "    <tr style=\"text-align: right;\">\n",
       "      <th></th>\n",
       "      <th>Name</th>\n",
       "      <th>Platform</th>\n",
       "      <th>Year</th>\n",
       "      <th>Genre</th>\n",
       "      <th>Publisher</th>\n",
       "      <th>NA_Sales</th>\n",
       "      <th>EU_Sales</th>\n",
       "      <th>JP_Sales</th>\n",
       "      <th>Other_Sales</th>\n",
       "      <th>Global_Sales</th>\n",
       "      <th>JPN_EU_SALES</th>\n",
       "    </tr>\n",
       "  </thead>\n",
       "  <tbody>\n",
       "    <tr>\n",
       "      <th>1224</th>\n",
       "      <td>FIFA 17</td>\n",
       "      <td>XOne</td>\n",
       "      <td>2016</td>\n",
       "      <td>1</td>\n",
       "      <td>Electronic Arts</td>\n",
       "      <td>0.17</td>\n",
       "      <td>1.26</td>\n",
       "      <td>0.0</td>\n",
       "      <td>0.1</td>\n",
       "      <td>1.53</td>\n",
       "      <td>1.26</td>\n",
       "    </tr>\n",
       "  </tbody>\n",
       "</table>\n",
       "</div>"
      ],
      "text/plain": [
       "         Name Platform  Year  Genre        Publisher  NA_Sales  EU_Sales  \\\n",
       "1224  FIFA 17     XOne  2016      1  Electronic Arts      0.17      1.26   \n",
       "\n",
       "      JP_Sales  Other_Sales  Global_Sales  JPN_EU_SALES  \n",
       "1224       0.0          0.1          1.53          1.26  "
      ]
     },
     "execution_count": 129,
     "metadata": {},
     "output_type": "execute_result"
    }
   ],
   "source": [
    "games_2016_xone[games_2016_xone['EU_Sales'] == games_2016_xone['EU_Sales'].max()]"
   ]
  },
  {
   "cell_type": "markdown",
   "id": "d522b0b5",
   "metadata": {},
   "source": [
    "7. Replace where XOne with ‘X Box One’"
   ]
  },
  {
   "cell_type": "code",
   "execution_count": 130,
   "id": "e74600a5",
   "metadata": {},
   "outputs": [
    {
     "data": {
      "text/plain": [
       "101      X Box One\n",
       "193      X Box One\n",
       "197      X Box One\n",
       "260      X Box One\n",
       "287      X Box One\n",
       "           ...    \n",
       "16530    X Box One\n",
       "16531    X Box One\n",
       "16562    X Box One\n",
       "16569    X Box One\n",
       "16576    X Box One\n",
       "Name: Platform, Length: 213, dtype: object"
      ]
     },
     "execution_count": 130,
     "metadata": {},
     "output_type": "execute_result"
    }
   ],
   "source": [
    "replace_xbox = df['Platform'].replace('XOne', 'X Box One')\n",
    "replace_xbox[replace_xbox == 'X Box One']"
   ]
  },
  {
   "cell_type": "markdown",
   "id": "1e43576c",
   "metadata": {},
   "source": [
    "8. How many PC games have higher sales than 3 million global sales?"
   ]
  },
  {
   "cell_type": "code",
   "execution_count": 139,
   "id": "4c0e533c",
   "metadata": {},
   "outputs": [
    {
     "data": {
      "text/plain": [
       "12"
      ]
     },
     "execution_count": 139,
     "metadata": {},
     "output_type": "execute_result"
    }
   ],
   "source": [
    "df[(df['Global_Sales'] > 3) & (df['Platform'] == 'PC')]['Name'].count()"
   ]
  },
  {
   "cell_type": "markdown",
   "id": "82f73677",
   "metadata": {},
   "source": [
    "9. In which year the most games were released?"
   ]
  },
  {
   "cell_type": "code",
   "execution_count": 132,
   "id": "415c6668",
   "metadata": {},
   "outputs": [
    {
     "data": {
      "text/plain": [
       "Year\n",
       "2009    1431\n",
       "2008    1428\n",
       "2010    1257\n",
       "2007    1201\n",
       "2011    1136\n",
       "Name: Name, dtype: int64"
      ]
     },
     "execution_count": 132,
     "metadata": {},
     "output_type": "execute_result"
    }
   ],
   "source": [
    "df['Year'] = df['Year'].astype('int64')\n",
    "games_per_year_sorted = df.groupby('Year')['Name'].count().sort_values(ascending=False)\n",
    "games_per_year_sorted.head()"
   ]
  },
  {
   "cell_type": "code",
   "execution_count": 133,
   "id": "67105893",
   "metadata": {},
   "outputs": [
    {
     "data": {
      "text/plain": [
       "Year\n",
       "2009    1431\n",
       "Name: Name, dtype: int64"
      ]
     },
     "execution_count": 133,
     "metadata": {},
     "output_type": "execute_result"
    }
   ],
   "source": [
    "games_per_year_sorted[games_per_year_sorted == games_per_year_sorted.max()]\n",
    "# or\n",
    "games_per_year_sorted.head(1)"
   ]
  },
  {
   "cell_type": "markdown",
   "id": "0258965b",
   "metadata": {},
   "source": [
    "10. Which platform had the most releases that year?"
   ]
  },
  {
   "cell_type": "code",
   "execution_count": 143,
   "id": "1b82837e",
   "metadata": {},
   "outputs": [
    {
     "data": {
      "text/html": [
       "<div>\n",
       "<style scoped>\n",
       "    .dataframe tbody tr th:only-of-type {\n",
       "        vertical-align: middle;\n",
       "    }\n",
       "\n",
       "    .dataframe tbody tr th {\n",
       "        vertical-align: top;\n",
       "    }\n",
       "\n",
       "    .dataframe thead th {\n",
       "        text-align: right;\n",
       "    }\n",
       "</style>\n",
       "<table border=\"1\" class=\"dataframe\">\n",
       "  <thead>\n",
       "    <tr style=\"text-align: right;\">\n",
       "      <th></th>\n",
       "      <th>Name</th>\n",
       "      <th>Platform</th>\n",
       "      <th>Year</th>\n",
       "      <th>Genre</th>\n",
       "      <th>Publisher</th>\n",
       "      <th>NA_Sales</th>\n",
       "      <th>EU_Sales</th>\n",
       "      <th>JP_Sales</th>\n",
       "      <th>Other_Sales</th>\n",
       "      <th>Global_Sales</th>\n",
       "      <th>JPN_EU_SALES</th>\n",
       "    </tr>\n",
       "  </thead>\n",
       "  <tbody>\n",
       "    <tr>\n",
       "      <th>3</th>\n",
       "      <td>Wii Sports Resort</td>\n",
       "      <td>Wii</td>\n",
       "      <td>2009</td>\n",
       "      <td>1</td>\n",
       "      <td>Nintendo</td>\n",
       "      <td>15.75</td>\n",
       "      <td>11.01</td>\n",
       "      <td>3.28</td>\n",
       "      <td>2.96</td>\n",
       "      <td>33.00</td>\n",
       "      <td>14.29</td>\n",
       "    </tr>\n",
       "    <tr>\n",
       "      <th>8</th>\n",
       "      <td>New Super Mario Bros. Wii</td>\n",
       "      <td>Wii</td>\n",
       "      <td>2009</td>\n",
       "      <td>2</td>\n",
       "      <td>Nintendo</td>\n",
       "      <td>14.59</td>\n",
       "      <td>7.06</td>\n",
       "      <td>4.70</td>\n",
       "      <td>2.26</td>\n",
       "      <td>28.62</td>\n",
       "      <td>11.76</td>\n",
       "    </tr>\n",
       "    <tr>\n",
       "      <th>14</th>\n",
       "      <td>Wii Fit Plus</td>\n",
       "      <td>Wii</td>\n",
       "      <td>2009</td>\n",
       "      <td>1</td>\n",
       "      <td>Nintendo</td>\n",
       "      <td>9.09</td>\n",
       "      <td>8.59</td>\n",
       "      <td>2.53</td>\n",
       "      <td>1.79</td>\n",
       "      <td>22.00</td>\n",
       "      <td>11.12</td>\n",
       "    </tr>\n",
       "    <tr>\n",
       "      <th>36</th>\n",
       "      <td>Call of Duty: Modern Warfare 2</td>\n",
       "      <td>X360</td>\n",
       "      <td>2009</td>\n",
       "      <td>7</td>\n",
       "      <td>Activision</td>\n",
       "      <td>8.52</td>\n",
       "      <td>3.63</td>\n",
       "      <td>0.08</td>\n",
       "      <td>1.29</td>\n",
       "      <td>13.51</td>\n",
       "      <td>3.71</td>\n",
       "    </tr>\n",
       "    <tr>\n",
       "      <th>45</th>\n",
       "      <td>Pokemon HeartGold/Pokemon SoulSilver</td>\n",
       "      <td>DS</td>\n",
       "      <td>2009</td>\n",
       "      <td>9</td>\n",
       "      <td>Nintendo</td>\n",
       "      <td>4.40</td>\n",
       "      <td>2.77</td>\n",
       "      <td>3.96</td>\n",
       "      <td>0.77</td>\n",
       "      <td>11.90</td>\n",
       "      <td>6.73</td>\n",
       "    </tr>\n",
       "  </tbody>\n",
       "</table>\n",
       "</div>"
      ],
      "text/plain": [
       "                                    Name Platform  Year  Genre   Publisher  \\\n",
       "3                      Wii Sports Resort      Wii  2009      1    Nintendo   \n",
       "8              New Super Mario Bros. Wii      Wii  2009      2    Nintendo   \n",
       "14                          Wii Fit Plus      Wii  2009      1    Nintendo   \n",
       "36        Call of Duty: Modern Warfare 2     X360  2009      7  Activision   \n",
       "45  Pokemon HeartGold/Pokemon SoulSilver       DS  2009      9    Nintendo   \n",
       "\n",
       "    NA_Sales  EU_Sales  JP_Sales  Other_Sales  Global_Sales  JPN_EU_SALES  \n",
       "3      15.75     11.01      3.28         2.96         33.00         14.29  \n",
       "8      14.59      7.06      4.70         2.26         28.62         11.76  \n",
       "14      9.09      8.59      2.53         1.79         22.00         11.12  \n",
       "36      8.52      3.63      0.08         1.29         13.51          3.71  \n",
       "45      4.40      2.77      3.96         0.77         11.90          6.73  "
      ]
     },
     "execution_count": 143,
     "metadata": {},
     "output_type": "execute_result"
    }
   ],
   "source": [
    "df_in_best_year = df[df['Year'] == games_per_year_sorted.head(1).index[0]]\n",
    "df_in_best_year.head()"
   ]
  },
  {
   "cell_type": "code",
   "execution_count": 144,
   "id": "5d52a4e3",
   "metadata": {},
   "outputs": [
    {
     "data": {
      "text/plain": [
       "Platform\n",
       "DS      405\n",
       "PC      109\n",
       "PS2      96\n",
       "PS3     162\n",
       "PSP     161\n",
       "Wii     325\n",
       "X360    173\n",
       "Name: Name, dtype: int64"
      ]
     },
     "execution_count": 144,
     "metadata": {},
     "output_type": "execute_result"
    }
   ],
   "source": [
    "releases_per_platform_best_year = df_in_best_year.groupby('Platform')['Name'].count()\n",
    "releases_per_platform_best_year"
   ]
  },
  {
   "cell_type": "code",
   "execution_count": 145,
   "id": "80941c07",
   "metadata": {},
   "outputs": [
    {
     "data": {
      "text/plain": [
       "Platform\n",
       "DS    405\n",
       "Name: Name, dtype: int64"
      ]
     },
     "execution_count": 145,
     "metadata": {},
     "output_type": "execute_result"
    }
   ],
   "source": [
    "releases_per_platform_best_year.sort_values(ascending=False)[:1]"
   ]
  }
 ],
 "metadata": {
  "kernelspec": {
   "display_name": "bb_data_edit",
   "language": "python",
   "name": "python3"
  },
  "language_info": {
   "codemirror_mode": {
    "name": "ipython",
    "version": 3
   },
   "file_extension": ".py",
   "mimetype": "text/x-python",
   "name": "python",
   "nbconvert_exporter": "python",
   "pygments_lexer": "ipython3",
   "version": "3.11.11"
  }
 },
 "nbformat": 4,
 "nbformat_minor": 5
}
