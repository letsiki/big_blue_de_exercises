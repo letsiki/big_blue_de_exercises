{
 "cells": [
  {
   "cell_type": "markdown",
   "id": "a61c3353-863e-4cea-b73c-535a4a9595d4",
   "metadata": {},
   "source": [
    "#### 1."
   ]
  },
  {
   "cell_type": "code",
   "execution_count": 2,
   "id": "8af35839-1395-4606-812a-9214acf90b69",
   "metadata": {},
   "outputs": [],
   "source": [
    "backpack = {\n",
    "   'rope': 421,\n",
    "   'phone': 180,\n",
    "   'jacket': 851,\n",
    "   'powerbars': 450\n",
    "}"
   ]
  },
  {
   "cell_type": "code",
   "execution_count": 8,
   "id": "95f7b922-0b0e-4879-b169-2d5292c3f180",
   "metadata": {},
   "outputs": [
    {
     "data": {
      "text/plain": [
       "{'rope': 421, 'jacket': 851}"
      ]
     },
     "execution_count": 8,
     "metadata": {},
     "output_type": "execute_result"
    }
   ],
   "source": [
    "dict(filter(lambda x: x[1] % 2 == 1, backpack.items()))"
   ]
  },
  {
   "cell_type": "code",
   "execution_count": 9,
   "id": "32054202-cec3-43fd-93bc-954d22a9d4c2",
   "metadata": {},
   "outputs": [
    {
     "data": {
      "text/plain": [
       "{'rope': 421, 'jacket': 851}"
      ]
     },
     "execution_count": 9,
     "metadata": {},
     "output_type": "execute_result"
    }
   ],
   "source": [
    "{k: v for k, v in backpack.items() if v % 2 == 1}"
   ]
  },
  {
   "cell_type": "markdown",
   "id": "57430236-aa68-4f58-8ef9-a36b4ba12f54",
   "metadata": {},
   "source": [
    "#### 2."
   ]
  },
  {
   "cell_type": "code",
   "execution_count": 11,
   "id": "5636e55b-19b3-4e49-8dee-9a176fb3a79c",
   "metadata": {},
   "outputs": [
    {
     "data": {
      "text/plain": [
       "{1: 1,\n",
       " 2: 4,\n",
       " 3: 9,\n",
       " 4: 16,\n",
       " 5: 25,\n",
       " 6: 36,\n",
       " 7: 49,\n",
       " 8: 64,\n",
       " 9: 81,\n",
       " 10: 100,\n",
       " 11: 121,\n",
       " 12: 144,\n",
       " 13: 169,\n",
       " 14: 196,\n",
       " 15: 225}"
      ]
     },
     "execution_count": 11,
     "metadata": {},
     "output_type": "execute_result"
    }
   ],
   "source": [
    "{k: k ** 2 for k in range(1, 16)}"
   ]
  },
  {
   "cell_type": "markdown",
   "id": "9888316a-2067-48ed-b717-06958fd20e6c",
   "metadata": {},
   "source": [
    "#### 3."
   ]
  },
  {
   "cell_type": "code",
   "execution_count": 12,
   "id": "1dc1bd6b-8a4d-467c-937d-57a6eaefe8b6",
   "metadata": {},
   "outputs": [],
   "source": [
    "fruits = {\n",
    "'bananas': 15,\n",
    "'pears': 'missing',\n",
    "'cherries': 36,\n",
    "'apples': 'out of stock'\n",
    "}"
   ]
  },
  {
   "cell_type": "code",
   "execution_count": 13,
   "id": "b5bb897f-3a5a-47d9-aa60-1bf2e6d1d73c",
   "metadata": {},
   "outputs": [
    {
     "name": "stdout",
     "output_type": "stream",
     "text": [
      "pears\n",
      "apples\n"
     ]
    }
   ],
   "source": [
    "for k, v in fruits.items():\n",
    "    if isinstance(v, str):\n",
    "        print(k)"
   ]
  },
  {
   "cell_type": "markdown",
   "id": "4d73d071-c531-4217-9d36-80c952804310",
   "metadata": {},
   "source": [
    "#### 4."
   ]
  },
  {
   "cell_type": "code",
   "execution_count": 14,
   "id": "6b5954d1-2035-40c4-9176-3832d2fb1bff",
   "metadata": {},
   "outputs": [],
   "source": [
    "set1 = {1, 2, 3, 4}\n",
    "set2 = {3, 4, 5, 6}"
   ]
  },
  {
   "cell_type": "code",
   "execution_count": 15,
   "id": "b9c46c42-08c5-414f-967e-ff5811db4a9d",
   "metadata": {},
   "outputs": [
    {
     "data": {
      "text/plain": [
       "{3, 4}"
      ]
     },
     "execution_count": 15,
     "metadata": {},
     "output_type": "execute_result"
    }
   ],
   "source": [
    "set1 & set2"
   ]
  },
  {
   "cell_type": "markdown",
   "id": "7c2170ac-e507-465e-8c08-80bd11290e1a",
   "metadata": {},
   "source": [
    "#### 5."
   ]
  },
  {
   "cell_type": "code",
   "execution_count": 16,
   "id": "a4bf1f5d-c0d3-4b32-b2a3-0ecc771dfc1f",
   "metadata": {},
   "outputs": [],
   "source": [
    "backpack = {\n",
    "   'rope': 420,\n",
    "   'phone': 180,\n",
    "   'jacket': 850,\n",
    "   'powerbars': 450\n",
    "}"
   ]
  },
  {
   "cell_type": "code",
   "execution_count": 17,
   "id": "c9463d1b-c0b6-4320-b21a-57113879b5d1",
   "metadata": {},
   "outputs": [
    {
     "data": {
      "text/plain": [
       "['jacket']"
      ]
     },
     "execution_count": 17,
     "metadata": {},
     "output_type": "execute_result"
    }
   ],
   "source": [
    "[k[0] for k in backpack.items() if k[1] > 450]"
   ]
  },
  {
   "cell_type": "markdown",
   "id": "326eb5cf-e401-4723-8c57-c9fd07ae1aed",
   "metadata": {},
   "source": [
    "#### 6."
   ]
  },
  {
   "cell_type": "code",
   "execution_count": 19,
   "id": "e42c4bd4-dc3e-4f83-8029-4a264539ed8e",
   "metadata": {},
   "outputs": [
    {
     "data": {
      "text/plain": [
       "{420: 'rope', 180: 'phone', 850: 'jacket', 450: 'powerbars'}"
      ]
     },
     "execution_count": 19,
     "metadata": {},
     "output_type": "execute_result"
    }
   ],
   "source": [
    "def invert_dict(dict1):\n",
    "    return {v: k for k, v in dict1.items()}\n",
    "invert_dict(backpack)"
   ]
  }
 ],
 "metadata": {
  "kernelspec": {
   "display_name": "Python 3 (ipykernel)",
   "language": "python",
   "name": "python3"
  },
  "language_info": {
   "codemirror_mode": {
    "name": "ipython",
    "version": 3
   },
   "file_extension": ".py",
   "mimetype": "text/x-python",
   "name": "python",
   "nbconvert_exporter": "python",
   "pygments_lexer": "ipython3",
   "version": "3.11.11"
  }
 },
 "nbformat": 4,
 "nbformat_minor": 5
}
