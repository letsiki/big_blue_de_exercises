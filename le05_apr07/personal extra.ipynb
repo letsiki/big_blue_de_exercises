{
 "cells": [
  {
   "cell_type": "markdown",
   "id": "910cee7c-8753-4af6-b28b-e015990786bc",
   "metadata": {},
   "source": [
    "##### 1. From two lists a and b, create a list of elements that are present in only one of the lists (i.e. not shared) but preserve the original order. Do not use sets."
   ]
  },
  {
   "cell_type": "code",
   "execution_count": 14,
   "id": "b275ce2e-cb0d-43e5-8c5e-b19e9559319f",
   "metadata": {},
   "outputs": [],
   "source": [
    "lst1 = list(range(1, 160))\n",
    "lst2 = list(range(170, 0, -1))"
   ]
  },
  {
   "cell_type": "code",
   "execution_count": 15,
   "id": "b3991b69-231f-473b-ba69-25c89df433ea",
   "metadata": {},
   "outputs": [
    {
     "data": {
      "text/plain": [
       "[1,\n",
       " 2,\n",
       " 3,\n",
       " 4,\n",
       " 5,\n",
       " 6,\n",
       " 7,\n",
       " 8,\n",
       " 9,\n",
       " 10,\n",
       " 170,\n",
       " 169,\n",
       " 168,\n",
       " 167,\n",
       " 166,\n",
       " 165,\n",
       " 164,\n",
       " 163,\n",
       " 162,\n",
       " 161,\n",
       " 160]"
      ]
     },
     "execution_count": 15,
     "metadata": {},
     "output_type": "execute_result"
    }
   ],
   "source": [
    "unique = [l for l in lst1 if l not in lst2]\n",
    "unique.extend([l for l in lst2 if l not in lst1])\n",
    "unique"
   ]
  },
  {
   "cell_type": "markdown",
   "id": "2cccb735-df05-45fb-9c99-2ff250aa124c",
   "metadata": {},
   "source": [
    "##### 3. Write a list comprehension that returns tuples `(x, x**2, x**3)`  for all numbers x from 1 to 30, but only include them if x is divisible by either 3 or 4 but not both."
   ]
  },
  {
   "cell_type": "code",
   "execution_count": 18,
   "id": "598af530-c4ee-410c-91c2-f2a5db18b4dc",
   "metadata": {},
   "outputs": [
    {
     "data": {
      "text/plain": [
       "[(3, 9, 27),\n",
       " (4, 16, 64),\n",
       " (6, 36, 216),\n",
       " (8, 64, 512),\n",
       " (9, 81, 729),\n",
       " (15, 225, 3375),\n",
       " (16, 256, 4096),\n",
       " (18, 324, 5832),\n",
       " (20, 400, 8000),\n",
       " (21, 441, 9261),\n",
       " (27, 729, 19683),\n",
       " (28, 784, 21952),\n",
       " (30, 900, 27000)]"
      ]
     },
     "execution_count": 18,
     "metadata": {},
     "output_type": "execute_result"
    }
   ],
   "source": [
    "[(x, x ** 2, x ** 3) for x in range(1, 31) if (x % 3 == 0 or x % 4 == 0) and x % 12 != 0]"
   ]
  },
  {
   "cell_type": "markdown",
   "id": "a9892548-34b5-475e-8e0f-410ba2181348",
   "metadata": {},
   "source": [
    "##### 4. Write a function that takes a list of numbers and returns a list of primes whose digits sum to an odd number."
   ]
  },
  {
   "cell_type": "code",
   "execution_count": 24,
   "id": "2fa314b1-451b-4603-a221-257dedd5035e",
   "metadata": {},
   "outputs": [],
   "source": [
    "def prime_special(l: list) -> list:\n",
    "    return [elem for elem in l if is_prime(elem) and sum(map(int, str(elem))) % 2 == 1]\n",
    "\n",
    "def is_prime(n: int) -> bool:\n",
    "    if n <= 1:\n",
    "        return False\n",
    "    if n <= 3:\n",
    "        return True  # 2 and 3 are prime\n",
    "    if n % 2 == 0 or n % 3 == 0:\n",
    "        return False\n",
    "\n",
    "    i = 5\n",
    "    while i * i <= n:\n",
    "        if n % i == 0 or n % (i + 2) == 0:\n",
    "            return False\n",
    "        i += 6\n",
    "\n",
    "    return True"
   ]
  },
  {
   "cell_type": "code",
   "execution_count": 25,
   "id": "9ade5d02-194a-41bb-81a8-3d9db54d4f8f",
   "metadata": {},
   "outputs": [
    {
     "data": {
      "text/plain": [
       "[3,\n",
       " 5,\n",
       " 7,\n",
       " 23,\n",
       " 29,\n",
       " 41,\n",
       " 43,\n",
       " 47,\n",
       " 61,\n",
       " 67,\n",
       " 83,\n",
       " 89,\n",
       " 113,\n",
       " 131,\n",
       " 137,\n",
       " 139,\n",
       " 151,\n",
       " 157,\n",
       " 173,\n",
       " 179,\n",
       " 191,\n",
       " 193,\n",
       " 197,\n",
       " 199]"
      ]
     },
     "execution_count": 25,
     "metadata": {},
     "output_type": "execute_result"
    }
   ],
   "source": [
    "prime_special(range(200))"
   ]
  },
  {
   "cell_type": "code",
   "execution_count": null,
   "id": "8ae20c6b-8a73-414a-b70b-c10509aa8f4b",
   "metadata": {},
   "outputs": [],
   "source": []
  }
 ],
 "metadata": {
  "kernelspec": {
   "display_name": "Python 3 (ipykernel)",
   "language": "python",
   "name": "python3"
  },
  "language_info": {
   "codemirror_mode": {
    "name": "ipython",
    "version": 3
   },
   "file_extension": ".py",
   "mimetype": "text/x-python",
   "name": "python",
   "nbconvert_exporter": "python",
   "pygments_lexer": "ipython3",
   "version": "3.11.11"
  }
 },
 "nbformat": 4,
 "nbformat_minor": 5
}
