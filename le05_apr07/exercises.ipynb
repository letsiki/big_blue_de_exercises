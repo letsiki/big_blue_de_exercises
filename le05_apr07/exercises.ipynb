{
 "cells": [
  {
   "cell_type": "markdown",
   "id": "2cd0fbb3-7827-4f23-8c8b-54bf235cb869",
   "metadata": {},
   "source": [
    "#### 1."
   ]
  },
  {
   "cell_type": "code",
   "execution_count": 1,
   "id": "78223322-75f6-4aad-901f-5cc577de3278",
   "metadata": {},
   "outputs": [],
   "source": [
    "x = [2,4,5,6,7,1,6,8]\n",
    "y = [3,4,5,6,0,3,9]"
   ]
  },
  {
   "cell_type": "code",
   "execution_count": 3,
   "id": "b37eee6c-8eeb-44ce-b54f-15126d7a1527",
   "metadata": {},
   "outputs": [
    {
     "data": {
      "text/plain": [
       "[0, 1, 2, 3, 7, 8, 9]"
      ]
     },
     "execution_count": 3,
     "metadata": {},
     "output_type": "execute_result"
    }
   ],
   "source": [
    "new_list = list(set(x) ^ set(y))\n",
    "new_list"
   ]
  },
  {
   "cell_type": "markdown",
   "id": "f4be53e5-a47e-4998-8fd3-36760c16db33",
   "metadata": {},
   "source": [
    "#### 2."
   ]
  },
  {
   "cell_type": "code",
   "execution_count": 9,
   "id": "c616d630-c449-41bf-a2a9-b8256daaeb2e",
   "metadata": {},
   "outputs": [
    {
     "data": {
      "text/plain": [
       "[4, 16, 36, 64, 100]"
      ]
     },
     "execution_count": 9,
     "metadata": {},
     "output_type": "execute_result"
    }
   ],
   "source": [
    "list(map(lambda x: x ** 2 ,filter(lambda x: x % 2 == 0, range(1, 11))))"
   ]
  },
  {
   "cell_type": "code",
   "execution_count": 11,
   "id": "a42fdaf8-be22-4f09-8076-6c5e5629e7c0",
   "metadata": {},
   "outputs": [
    {
     "data": {
      "text/plain": [
       "[4, 16, 36, 64, 100]"
      ]
     },
     "execution_count": 11,
     "metadata": {},
     "output_type": "execute_result"
    }
   ],
   "source": [
    "[x ** 2 for x in range(1, 11) if x % 2 == 0]"
   ]
  },
  {
   "cell_type": "markdown",
   "id": "b1a20d06-460d-41fb-bad5-73a1e04771b8",
   "metadata": {},
   "source": [
    "#### 3."
   ]
  },
  {
   "cell_type": "code",
   "execution_count": 13,
   "id": "4866a89f-b537-4cb6-8d9f-30ed3bc29e06",
   "metadata": {},
   "outputs": [
    {
     "data": {
      "text/plain": [
       "[8, 64, 216, 512, 1000, 1728]"
      ]
     },
     "execution_count": 13,
     "metadata": {},
     "output_type": "execute_result"
    }
   ],
   "source": [
    "list(map(lambda x: x ** 3, filter(lambda x: x ** 3 % 4 == 0, range(1, 13))))"
   ]
  },
  {
   "cell_type": "code",
   "execution_count": 14,
   "id": "519fd474-2d2f-4062-80f1-02ecdb2eb017",
   "metadata": {},
   "outputs": [
    {
     "data": {
      "text/plain": [
       "[8, 64, 216, 512, 1000, 1728]"
      ]
     },
     "execution_count": 14,
     "metadata": {},
     "output_type": "execute_result"
    }
   ],
   "source": [
    "[x ** 3 for x in range(1, 13) if x ** 3 % 4 == 0]"
   ]
  },
  {
   "cell_type": "markdown",
   "id": "216ab1fa-7e40-47dd-b7df-161959b4e681",
   "metadata": {},
   "source": [
    "#### 4."
   ]
  },
  {
   "cell_type": "code",
   "execution_count": 18,
   "id": "deb83400-db37-4249-93e7-37a91ce4f009",
   "metadata": {},
   "outputs": [
    {
     "data": {
      "text/plain": [
       "[0, 2, 4, 6, 8, 10, 12, 14, 16, 18]"
      ]
     },
     "execution_count": 18,
     "metadata": {},
     "output_type": "execute_result"
    }
   ],
   "source": [
    "def even_list(numbers: list) -> list:\n",
    "    return [number for number in numbers if number % 2 == 0]\n",
    "even_list(range(20))"
   ]
  },
  {
   "cell_type": "markdown",
   "id": "2ab780da-470b-4f92-9a1c-4a6779788ad0",
   "metadata": {},
   "source": [
    "#### 5."
   ]
  },
  {
   "cell_type": "code",
   "execution_count": 19,
   "id": "e91af097-1e0a-4274-990a-bd7686846f09",
   "metadata": {},
   "outputs": [
    {
     "data": {
      "text/plain": [
       "[8, 16, 20, 28, 4, 20, 28, 16, 8, 36, 32, 24]"
      ]
     },
     "execution_count": 19,
     "metadata": {},
     "output_type": "execute_result"
    }
   ],
   "source": [
    "lst = [2,4,5,7,1,5,7,4,2,9,8,6]\n",
    "[l * 4 for l in lst]"
   ]
  },
  {
   "cell_type": "markdown",
   "id": "57f2a3cf-f46f-48eb-9685-a2558e4c4315",
   "metadata": {},
   "source": [
    "#### 6."
   ]
  },
  {
   "cell_type": "code",
   "execution_count": 20,
   "id": "7d28e35f-44b2-454c-b06a-34067f4527b8",
   "metadata": {},
   "outputs": [
    {
     "data": {
      "text/plain": [
       "[66, 67, 77, 86, 88, 78, 99, 100, 93]"
      ]
     },
     "execution_count": 20,
     "metadata": {},
     "output_type": "execute_result"
    }
   ],
   "source": [
    "lst = [66,53,23,67,77,86,88,34,78,99,100,45,93]\n",
    "[l for l in lst if l > 60]"
   ]
  },
  {
   "cell_type": "markdown",
   "id": "cefd3293-47a7-4ade-9a51-565cc6e520f1",
   "metadata": {},
   "source": [
    "#### 7."
   ]
  },
  {
   "cell_type": "code",
   "execution_count": 26,
   "id": "9c9bb401-b7a9-44fa-b5ac-37a76d3a8a57",
   "metadata": {},
   "outputs": [],
   "source": [
    "d = {'milk': 1.65, 'coffee': 4.5, 'bread': 2.75, 'sugar': 0.55} "
   ]
  },
  {
   "cell_type": "code",
   "execution_count": 27,
   "id": "7f0f3e6f-41e9-4424-bae5-45adb5401928",
   "metadata": {},
   "outputs": [
    {
     "data": {
      "text/plain": [
       "{'milk': 1.95, 'coffee': 5.31, 'bread': 3.24, 'sugar': 0.65}"
      ]
     },
     "execution_count": 27,
     "metadata": {},
     "output_type": "execute_result"
    }
   ],
   "source": [
    "CONV_RATE = 1.18\n",
    "{k: round((v * CONV_RATE), 2) for k, v in d.items()}"
   ]
  },
  {
   "cell_type": "markdown",
   "id": "bd860048-99ec-4802-a34b-6cfc047f37d6",
   "metadata": {},
   "source": [
    "#### 8."
   ]
  },
  {
   "cell_type": "code",
   "execution_count": 28,
   "id": "8ceb7bd1-8109-4d9d-85d0-3a7c86806451",
   "metadata": {},
   "outputs": [],
   "source": [
    "lst = [\"Mary@GMAIL.com\", \"hari@YaHoo.com\", \"SopHIA@qg.com\", \"EVan@YahoO.COM\"]"
   ]
  },
  {
   "cell_type": "code",
   "execution_count": 31,
   "id": "99db0045-7534-47a7-910a-24edaff4d020",
   "metadata": {},
   "outputs": [
    {
     "data": {
      "text/plain": [
       "['mary@gmail.com', 'hari@yahoo.com', 'sophia@qg.com', 'evan@yahoo.com']"
      ]
     },
     "execution_count": 31,
     "metadata": {},
     "output_type": "execute_result"
    }
   ],
   "source": [
    "list(map(str.lower, lst))"
   ]
  },
  {
   "cell_type": "markdown",
   "id": "c7086657-d161-4dac-8c2f-c3b88537e7e8",
   "metadata": {},
   "source": [
    "#### 9."
   ]
  },
  {
   "cell_type": "code",
   "execution_count": 32,
   "id": "0487b4d0-1d11-4098-9936-d8b5306b70cb",
   "metadata": {},
   "outputs": [
    {
     "data": {
      "text/plain": [
       "[7, 9, 4, 13, 3, 3, 2, 4]"
      ]
     },
     "execution_count": 32,
     "metadata": {},
     "output_type": "execute_result"
    }
   ],
   "source": [
    "list(map(len, \"Quantum computing will revolutionize the way we work\".split()))"
   ]
  },
  {
   "cell_type": "markdown",
   "id": "6100917b-7d2c-4d81-9142-1f7b206b5a4e",
   "metadata": {},
   "source": [
    "#### 10."
   ]
  },
  {
   "cell_type": "code",
   "execution_count": 33,
   "id": "29c76092-310d-4e5d-bef3-dbb726afc6c0",
   "metadata": {},
   "outputs": [],
   "source": [
    "scores = [['john', 45],['alice',67],['tyler',56],['nick',86]]"
   ]
  },
  {
   "cell_type": "code",
   "execution_count": 34,
   "id": "70c69a63-b824-4715-8bf4-1d89bdffb5b7",
   "metadata": {},
   "outputs": [
    {
     "data": {
      "text/plain": [
       "[['alice', 67], ['nick', 86]]"
      ]
     },
     "execution_count": 34,
     "metadata": {},
     "output_type": "execute_result"
    }
   ],
   "source": [
    "list(filter(lambda x: x[1] > 60, scores))"
   ]
  },
  {
   "cell_type": "markdown",
   "id": "3c024c6e-9acf-4d65-9416-96333c6bbcf1",
   "metadata": {},
   "source": [
    "#### 11."
   ]
  },
  {
   "cell_type": "code",
   "execution_count": 43,
   "id": "3f892348-c26e-4e11-b64d-64e55255e41d",
   "metadata": {},
   "outputs": [],
   "source": [
    "user_time = {'john':410, 'nadia': 700, 'tonny': 34, 'sylvia': 56, 'anna': 116}"
   ]
  },
  {
   "cell_type": "code",
   "execution_count": 56,
   "id": "99aa36c6-79d8-4514-b05e-c6aee86483c1",
   "metadata": {},
   "outputs": [
    {
     "data": {
      "text/plain": [
       "{'john': 410, 'nadia': 700, 'anna': 116}"
      ]
     },
     "execution_count": 56,
     "metadata": {},
     "output_type": "execute_result"
    }
   ],
   "source": [
    "dict(filter(lambda el: el[1] >= 100, user_time.items()))"
   ]
  },
  {
   "cell_type": "markdown",
   "id": "32514b7a-352e-4147-92ec-2c036aa03491",
   "metadata": {},
   "source": [
    "#### 12."
   ]
  },
  {
   "cell_type": "code",
   "execution_count": 57,
   "id": "d118fe0d-3eed-48e5-b359-f66bd7dd500f",
   "metadata": {},
   "outputs": [],
   "source": [
    "patient_height = {'john': 167, 'lizea': None, 'bob': 174, 'greg': None, 'hans': 193}"
   ]
  },
  {
   "cell_type": "code",
   "execution_count": 60,
   "id": "55294813-525f-4f0c-ae08-2e3a4acdb631",
   "metadata": {},
   "outputs": [
    {
     "data": {
      "text/plain": [
       "{'john': 167, 'bob': 174, 'hans': 193}"
      ]
     },
     "execution_count": 60,
     "metadata": {},
     "output_type": "execute_result"
    }
   ],
   "source": [
    "dict(filter(lambda el: el[1] is not None, patient_height.items()))"
   ]
  },
  {
   "cell_type": "markdown",
   "id": "cc4be711-30df-4f0f-9074-a7bf8fe244cb",
   "metadata": {},
   "source": [
    "#### 13."
   ]
  },
  {
   "cell_type": "code",
   "execution_count": 61,
   "id": "4d806dc9-271e-4a82-a448-15c328111c6a",
   "metadata": {},
   "outputs": [],
   "source": [
    "d = {'signal_x': 474, 'signal_x_error': 0.44, 'signal_y': 321, 'signal_y_error' : 0.12, 'signal_z': 0.985, 'signal_z_error': 0.032}"
   ]
  },
  {
   "cell_type": "code",
   "execution_count": 65,
   "id": "6025f660-0284-4b02-ae81-e5182567d67e",
   "metadata": {},
   "outputs": [
    {
     "data": {
      "text/plain": [
       "{'signal_x': 474, 'signal_y': 321, 'signal_z': 0.985}"
      ]
     },
     "execution_count": 65,
     "metadata": {},
     "output_type": "execute_result"
    }
   ],
   "source": [
    "{k: v for k, v in filter(lambda el: 'error' not in el[0], d.items())}"
   ]
  },
  {
   "cell_type": "markdown",
   "id": "0d635639-b1b9-4390-a5a4-24e0ddc001eb",
   "metadata": {},
   "source": [
    "#### 14."
   ]
  },
  {
   "cell_type": "code",
   "execution_count": 66,
   "id": "4d84db97-9b14-4ee7-b4e4-1d79f9187707",
   "metadata": {},
   "outputs": [],
   "source": [
    "temperature = {\n",
    "        'June': [25,25,26,27,25,25,24,27,28,28,31,32,33],\n",
    "        'July': [34,34,36,39,39,38,39,37,39,41,41,39,37],\n",
    "        'August': [37,37,36,37,35,35,34,37,38,34,32,33,31],\n",
    "}"
   ]
  },
  {
   "cell_type": "code",
   "execution_count": 73,
   "id": "7890e3d9-568a-4035-90e1-b962ea379ded",
   "metadata": {},
   "outputs": [
    {
     "data": {
      "text/plain": [
       "'June'"
      ]
     },
     "execution_count": 73,
     "metadata": {},
     "output_type": "execute_result"
    }
   ],
   "source": [
    "coldest = min(temperature, key=lambda x: max(temperature[x]))\n",
    "coldest"
   ]
  },
  {
   "cell_type": "code",
   "execution_count": 72,
   "id": "a3d65519-1968-4115-937d-d8aaa3aae0c1",
   "metadata": {},
   "outputs": [
    {
     "data": {
      "text/plain": [
       "'July'"
      ]
     },
     "execution_count": 72,
     "metadata": {},
     "output_type": "execute_result"
    }
   ],
   "source": [
    "hottest = max(temperature, key=lambda x: max(temperature[x]))\n",
    "hottest"
   ]
  },
  {
   "cell_type": "markdown",
   "id": "3515f515-62fb-49a8-b438-cd0a851491d0",
   "metadata": {},
   "source": [
    "#### 15."
   ]
  },
  {
   "cell_type": "code",
   "execution_count": 74,
   "id": "ad464324-9a8b-409f-adfd-2bd1494c5faa",
   "metadata": {},
   "outputs": [],
   "source": [
    "sentence = \"I like to codeeee\""
   ]
  },
  {
   "cell_type": "code",
   "execution_count": 84,
   "id": "1d7c7b09-6b77-4996-8800-a9bc32bd338a",
   "metadata": {},
   "outputs": [
    {
     "data": {
      "text/plain": [
       "'e'"
      ]
     },
     "execution_count": 84,
     "metadata": {},
     "output_type": "execute_result"
    }
   ],
   "source": [
    "d = {}\n",
    "for ch in sentence:\n",
    "    d[ch] = d.get(ch, 0) + 1\n",
    "max(d, key=lambda x: d[x])"
   ]
  },
  {
   "cell_type": "code",
   "execution_count": null,
   "id": "9fe8f079-db3a-469d-8685-9da365e7e7d8",
   "metadata": {},
   "outputs": [],
   "source": []
  }
 ],
 "metadata": {
  "kernelspec": {
   "display_name": "Python 3 (ipykernel)",
   "language": "python",
   "name": "python3"
  },
  "language_info": {
   "codemirror_mode": {
    "name": "ipython",
    "version": 3
   },
   "file_extension": ".py",
   "mimetype": "text/x-python",
   "name": "python",
   "nbconvert_exporter": "python",
   "pygments_lexer": "ipython3",
   "version": "3.11.11"
  }
 },
 "nbformat": 4,
 "nbformat_minor": 5
}
