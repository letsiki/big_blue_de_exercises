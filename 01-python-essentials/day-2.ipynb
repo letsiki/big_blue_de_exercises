{
 "cells": [
  {
   "cell_type": "markdown",
   "id": "df748f16-bdd3-421b-996c-dbc0a37f3aad",
   "metadata": {},
   "source": [
    "#### ex.13"
   ]
  },
  {
   "cell_type": "code",
   "execution_count": 1,
   "id": "82b15363-2a82-4449-ad9c-245b358a7679",
   "metadata": {},
   "outputs": [],
   "source": [
    "lloyd = {\n",
    " \"name\": \"Lloyd\",\n",
    " \"homework\": [90.0,97.0,75.0,92.0],\n",
    " \"quizzes\": [88.0,40.0,94.0],\n",
    " \"tests\": [75.0,90.0]\n",
    "}\n",
    "alice = {\n",
    " \"name\": \"Alice\",\n",
    " \"homework\": [100.0, 92.0, 98.0, 100.0],\n",
    " \"quizzes\": [82.0, 83.0, 91.0],\n",
    " \"tests\": [89.0, 97.0]\n",
    "}\n",
    "tyler = {\n",
    " \"name\": \"Tyler\",\n",
    " \"homework\": [0.0, 87.0, 75.0, 22.0],\n",
    " \"quizzes\": [0.0, 75.0, 78.0],\n",
    " \"tests\": [100.0, 100.0]\n",
    "}"
   ]
  },
  {
   "cell_type": "code",
   "execution_count": 2,
   "id": "971de172-dbfb-49d9-8dc3-6a7e9a0f406a",
   "metadata": {},
   "outputs": [],
   "source": [
    "def grade_to_letter(grade: float) -> str:\n",
    "    if not isinstance(grade, float):\n",
    "        raise TypeError\n",
    "    if grade > 90:\n",
    "        return 'A'\n",
    "    elif grade > 80:\n",
    "        return 'B'\n",
    "    elif grade > 70:\n",
    "        return 'C'\n",
    "    elif grade > 60:\n",
    "        return 'D'\n",
    "    else:\n",
    "        return 'F'"
   ]
  },
  {
   "cell_type": "code",
   "execution_count": 3,
   "id": "68551e5d-beba-4b89-ab62-a25493bb58bd",
   "metadata": {},
   "outputs": [
    {
     "name": "stdout",
     "output_type": "stream",
     "text": [
      "Lloyd's homework grade is 88.5\n",
      "Lloyd's quizzes grade is 74.0\n",
      "Lloyd's tests grade is 82.5\n",
      "Alice's homework grade is 97.5\n",
      "Alice's quizzes grade is 85.33\n",
      "Alice's tests grade is 93.0\n",
      "Tyler's homework grade is 46.0\n",
      "Tyler's quizzes grade is 51.0\n",
      "Tyler's tests grade is 100.0\n"
     ]
    }
   ],
   "source": [
    "def avg(grades: list) -> float:\n",
    "    return round(sum(grades) / len(grades), 2)\n",
    "\n",
    "def avg_grade(student: dict, mode='numerical') -> float:\n",
    "    courses = ['homework', 'quizzes', 'tests']\n",
    "    for course in courses:\n",
    "        if mode == 'numerical':\n",
    "            print(f\"{student['name']}'s {course} grade is {avg(student[course])}\")\n",
    "        elif mode == 'letter':\n",
    "            print(f\"{student['name']}'s {course} grade is {grade_to_letter(avg(student[course]))}\")\n",
    "        \n",
    "# calculate each student's grade using the default numeric system\n",
    "for student in [lloyd, alice, tyler]:\n",
    "    avg_grade(student)"
   ]
  },
  {
   "cell_type": "code",
   "execution_count": 4,
   "id": "94f0e777-2f4c-4ee3-857e-eca44129b85e",
   "metadata": {},
   "outputs": [
    {
     "name": "stdout",
     "output_type": "stream",
     "text": [
      "Lloyd's homework grade is B\n",
      "Lloyd's quizzes grade is C\n",
      "Lloyd's tests grade is B\n",
      "Alice's homework grade is A\n",
      "Alice's quizzes grade is B\n",
      "Alice's tests grade is A\n",
      "Tyler's homework grade is F\n",
      "Tyler's quizzes grade is F\n",
      "Tyler's tests grade is A\n"
     ]
    }
   ],
   "source": [
    "# calculate each student's grade using the letter system\n",
    "for student in [lloyd, alice, tyler]:\n",
    "    avg_grade(student, 'letter')"
   ]
  },
  {
   "cell_type": "markdown",
   "id": "07fc973b-2631-49dd-9c86-e16a321a5701",
   "metadata": {},
   "source": [
    "#### ex. 14"
   ]
  },
  {
   "cell_type": "code",
   "execution_count": 5,
   "id": "bfe25fff-9012-40e9-a5b6-2fdadf231d7e",
   "metadata": {},
   "outputs": [],
   "source": [
    "movie_duration = {\n",
    "   'The Shawshank Redemption': 144,\n",
    "   'Pulp Fiction' : 154,\n",
    "   'John Wick': 101,\n",
    "   'Fight Club': 139,\n",
    "   'Joker': 122,\n",
    "}"
   ]
  },
  {
   "cell_type": "code",
   "execution_count": 6,
   "id": "a1270546-4cd8-46d4-a2f3-1a4a471b59af",
   "metadata": {},
   "outputs": [
    {
     "data": {
      "text/plain": [
       "'Pulp Fiction'"
      ]
     },
     "execution_count": 6,
     "metadata": {},
     "output_type": "execute_result"
    }
   ],
   "source": [
    "max_value = max(movie_duration, key=lambda movie_key: movie_duration[movie_key])\n",
    "max_value"
   ]
  },
  {
   "cell_type": "code",
   "execution_count": 7,
   "id": "3bbefe97-87f0-44cb-9518-3bd49d88199b",
   "metadata": {},
   "outputs": [
    {
     "data": {
      "text/plain": [
       "'John Wick'"
      ]
     },
     "execution_count": 7,
     "metadata": {},
     "output_type": "execute_result"
    }
   ],
   "source": [
    "min_value = min(movie_duration, key=lambda movie_key: movie_duration[movie_key])\n",
    "min_value"
   ]
  },
  {
   "cell_type": "markdown",
   "id": "011b84e9-ff49-4e09-84cb-f2d5b955de47",
   "metadata": {},
   "source": [
    "#### ex.15"
   ]
  },
  {
   "cell_type": "code",
   "execution_count": 8,
   "id": "3b424b43-b422-4bb4-afe2-d6d747a2f8af",
   "metadata": {},
   "outputs": [],
   "source": [
    "input_dict = {'KEY1': 1, 'KEY2': 2, 'KEY3': 3, 'KEY4': 4, 'key5': 5}"
   ]
  },
  {
   "cell_type": "code",
   "execution_count": 9,
   "id": "181e2669-da12-4565-acad-1637648ba2ff",
   "metadata": {},
   "outputs": [
    {
     "data": {
      "text/plain": [
       "{'key1': 1, 'key2': 2, 'key3': 3, 'key4': 4, 'key5': 5}"
      ]
     },
     "execution_count": 9,
     "metadata": {},
     "output_type": "execute_result"
    }
   ],
   "source": [
    "new_dict = {}\n",
    "for k, v in input_dict.items():\n",
    "    new_dict[k.lower()] = v\n",
    "new_dict"
   ]
  },
  {
   "cell_type": "markdown",
   "id": "992cd9dd-b983-4ce9-b08c-9381273b956e",
   "metadata": {},
   "source": [
    "#### ex.16"
   ]
  },
  {
   "cell_type": "code",
   "execution_count": 10,
   "id": "beb34f52-3099-4e9d-8def-4a65c9212923",
   "metadata": {},
   "outputs": [],
   "source": [
    "games_participants = {\n",
    "'id1':\n",
    "  {'firstname': 'Michael',\n",
    "   'lastname': 'Smith',\n",
    "   'game': 'league of legends',\n",
    "   'team': 'FunPlus Phoenix',\n",
    "   'achievements': ['LPL Spring 2023', 'Demacia Cup Season 2022', 'NEST 2022']\n",
    "  },\n",
    "'id2':\n",
    "  {'firstname': 'John',\n",
    "   'lastname': 'Korr',\n",
    "   'game': 'league of legends',\n",
    "   'team': 'FunPlus Phoenix',\n",
    "   'achievements': ['LPL Spring 2023', 'Demacia Cup Season 2022', 'NEST 2022']\n",
    "  },\n",
    "'id3':\n",
    "  {'firstname': 'Maria',\n",
    "   'lastname': 'Fernandes',\n",
    "   'game': 'league of legends',\n",
    "   'team': 'G2 Esports',\n",
    "   'achievements': ['LEC Spring 2023', 'LEC Winter 2023', 'Worlds Championship 2022']\n",
    "  },\n",
    "'id4':\n",
    "  {'firstname': 'John',\n",
    "   'lastname': 'Korr',\n",
    "   'game': 'league of legends',\n",
    "   'team': 'FunPlus Phoenix',\n",
    "   'achievements': ['LPL Spring 2023', 'Demacia Cup Season 2022', 'NEST 2022']\n",
    "  },\n",
    "}"
   ]
  },
  {
   "cell_type": "code",
   "execution_count": 11,
   "id": "ea4b5a53-8ce4-4884-b320-b6852d92afd1",
   "metadata": {},
   "outputs": [
    {
     "data": {
      "text/plain": [
       "dict_keys(['id1', 'id2', 'id3'])"
      ]
     },
     "execution_count": 11,
     "metadata": {},
     "output_type": "execute_result"
    }
   ],
   "source": [
    "new_dict = {}\n",
    "for k, v in games_participants.items():\n",
    "    for v2 in new_dict.values():\n",
    "        if v == v2:\n",
    "            break\n",
    "    else:        \n",
    "        new_dict[k] = v\n",
    "\n",
    "new_dict.keys()"
   ]
  },
  {
   "cell_type": "markdown",
   "id": "0d6fbac1-b37a-4bae-a071-c16cbd9fe03c",
   "metadata": {},
   "source": [
    "#### ex.17"
   ]
  },
  {
   "cell_type": "code",
   "execution_count": 12,
   "id": "44d7f6ec-78f1-4422-b9ce-78343c0d3381",
   "metadata": {},
   "outputs": [
    {
     "data": {
      "text/plain": [
       "[2, 7, 1, 8, 3, 0, 3, 9]"
      ]
     },
     "execution_count": 12,
     "metadata": {},
     "output_type": "execute_result"
    }
   ],
   "source": [
    "x = [2,4,5,6,7,1,6,8]\n",
    "y = [3,4,5,6,0,3,9]\n",
    "new_list = []\n",
    "for elem in x:\n",
    "    if elem not in y:\n",
    "        new_list.append(elem)\n",
    "for elem in y:\n",
    "    if elem not in x:\n",
    "        new_list.append(elem)\n",
    "new_list"
   ]
  },
  {
   "cell_type": "markdown",
   "id": "a79db938-0ea1-4ea9-88c2-22a9a9e1467f",
   "metadata": {},
   "source": [
    "#### ex.18"
   ]
  },
  {
   "cell_type": "code",
   "execution_count": 13,
   "id": "ab4023a7-58e6-41ee-9e01-95b78b9f0910",
   "metadata": {},
   "outputs": [
    {
     "data": {
      "text/plain": [
       "[4, 67, 8, 32, 21]"
      ]
     },
     "execution_count": 13,
     "metadata": {},
     "output_type": "execute_result"
    }
   ],
   "source": [
    "x = [4,67,8, 'None', 32, 'Missing', 21]\n",
    "new_list = []\n",
    "for elem in x:\n",
    "    if not isinstance(elem, str):\n",
    "        new_list.append(elem)\n",
    "new_list"
   ]
  },
  {
   "cell_type": "markdown",
   "id": "a065079f-a528-4865-9516-0333b8eeb18b",
   "metadata": {},
   "source": [
    "#### ex.19"
   ]
  },
  {
   "cell_type": "code",
   "execution_count": 14,
   "id": "5ad2742e-11c3-4df7-8e20-b9710ff9e250",
   "metadata": {},
   "outputs": [
    {
     "name": "stdout",
     "output_type": "stream",
     "text": [
      "'is' appears inside 'island'\n",
      "'a' appears inside 'palm'\n",
      "'a' appears inside 'island'\n",
      "'the' appears inside 'there'\n"
     ]
    }
   ],
   "source": [
    "string = \"there is a palm tree on the island\"\n",
    "words = string.split()\n",
    "for word in words:\n",
    "    containing_words = []\n",
    "    for word_ in words:\n",
    "        if word_ is not word and word in word_:\n",
    "            containing_words.append(word_)\n",
    "    for word_ in containing_words:\n",
    "        print(f\"'{word}' appears inside '{word_}'\")"
   ]
  },
  {
   "cell_type": "markdown",
   "id": "ffd54a19-1544-4faf-8283-529c2509ca7d",
   "metadata": {},
   "source": [
    "#### ex.20"
   ]
  },
  {
   "cell_type": "code",
   "execution_count": 15,
   "id": "b6f99aca-9cc6-4048-a503-33dbfc5ff448",
   "metadata": {},
   "outputs": [
    {
     "name": "stdout",
     "output_type": "stream",
     "text": [
      "listen\n",
      "silent\n"
     ]
    }
   ],
   "source": [
    "words = \"How can you listen if you are not silent?\".strip('?').split()\n",
    "for word in words:\n",
    "    for word_ in words:\n",
    "        # `!=` excludes itself and other words that are same. To exclude only itself we would have to use `is`\n",
    "        if sorted(word) == sorted(word_) and word != word_:  \n",
    "            print(word)\n",
    "            break"
   ]
  },
  {
   "cell_type": "markdown",
   "id": "b43211be-9e76-4583-a770-9c37fb95bd78",
   "metadata": {},
   "source": [
    "#### ex. 21"
   ]
  },
  {
   "cell_type": "code",
   "execution_count": 16,
   "id": "8e4ca1ce-6e21-4c97-88c7-9988752b038f",
   "metadata": {},
   "outputs": [],
   "source": [
    "lst = [1, 2, 3, [4, 5], 6, 7, [8, 9], 3]"
   ]
  },
  {
   "cell_type": "code",
   "execution_count": 17,
   "id": "3d6ac571-c093-4abd-8542-adc450e533fe",
   "metadata": {},
   "outputs": [
    {
     "data": {
      "text/plain": [
       "[1, 2, 3, 4, 5, 6, 7, 8, 9, 3]"
      ]
     },
     "execution_count": 17,
     "metadata": {},
     "output_type": "execute_result"
    }
   ],
   "source": [
    "new_list = []\n",
    "for elem in lst:\n",
    "    if isinstance(elem, list):\n",
    "        new_list.extend(elem)\n",
    "    else:\n",
    "        new_list.append(elem)\n",
    "new_list"
   ]
  }
 ],
 "metadata": {
  "kernelspec": {
   "display_name": "Python 3 (ipykernel)",
   "language": "python",
   "name": "python3"
  },
  "language_info": {
   "codemirror_mode": {
    "name": "ipython",
    "version": 3
   },
   "file_extension": ".py",
   "mimetype": "text/x-python",
   "name": "python",
   "nbconvert_exporter": "python",
   "pygments_lexer": "ipython3",
   "version": "3.11.11"
  }
 },
 "nbformat": 4,
 "nbformat_minor": 5
}
