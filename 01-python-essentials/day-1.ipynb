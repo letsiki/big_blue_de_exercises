{
 "cells": [
  {
   "cell_type": "markdown",
   "id": "d838f987-c29c-42b7-b988-2af80057ebc9",
   "metadata": {},
   "source": [
    "#### ex.1"
   ]
  },
  {
   "cell_type": "code",
   "execution_count": 4,
   "id": "9cbfe9ce-5916-4cf0-9f55-c1376895e661",
   "metadata": {},
   "outputs": [
    {
     "name": "stdout",
     "output_type": "stream",
     "text": [
      "I am currently learning Python\n",
      "I have no idea about R\n",
      "C is a low-level, high-level language\n",
      "my first programming language is java\n"
     ]
    }
   ],
   "source": [
    "langs = ['Python', 'R', 'C', 'java']\n",
    "print(f\"I am currently learning {langs[0]}\")\n",
    "print(f\"I have no idea about {langs[1]}\")\n",
    "print(f\"{langs[2]} is a low-level, high-level language\")\n",
    "print(f\"my first programming language is {langs[3]}\")"
   ]
  },
  {
   "cell_type": "markdown",
   "id": "450f028e-5f6e-4bda-ba2c-2edd439149e7",
   "metadata": {},
   "source": [
    "#### ex.2"
   ]
  },
  {
   "cell_type": "code",
   "execution_count": 12,
   "id": "142d3648-a40b-446e-81d5-e696ec4444dc",
   "metadata": {},
   "outputs": [
    {
     "data": {
      "text/plain": [
       "[10, 20, 30, 40, 50, 60, 70, 80, 90, 100]"
      ]
     },
     "execution_count": 12,
     "metadata": {},
     "output_type": "execute_result"
    }
   ],
   "source": [
    "[10 * n for n in range(1, 11)]"
   ]
  },
  {
   "cell_type": "markdown",
   "id": "1d442f5a-f058-4fe8-ba3a-317f99f94be6",
   "metadata": {},
   "source": [
    "#### ex.3"
   ]
  },
  {
   "cell_type": "code",
   "execution_count": 18,
   "id": "d3bb0f24-3e5a-4fac-8b3f-4d1ee34efe40",
   "metadata": {},
   "outputs": [
    {
     "data": {
      "text/plain": [
       "'20 12 17'"
      ]
     },
     "execution_count": 18,
     "metadata": {},
     "output_type": "execute_result"
    }
   ],
   "source": [
    "DNA = \"AGCTTTTCATTCTGACTGCAACGGGCAATATGTCTCTGTGTGGATTAAAAAAAGAGTGTCTGATAGCAGC\"\n",
    "f\"{DNA.count('A')} {DNA.count('C')} {DNA.count('G')}\""
   ]
  },
  {
   "cell_type": "code",
   "execution_count": 19,
   "id": "95dda2bf-995a-4a54-8881-8e819b6ec7a2",
   "metadata": {},
   "outputs": [
    {
     "data": {
      "text/plain": [
       "'AGCUUUUCAUUCUGACUGCAACGGGCAAUAUGUCUCUGUGUGGAUUAAAAAAAGAGUGUCUGAUAGCAGC'"
      ]
     },
     "execution_count": 19,
     "metadata": {},
     "output_type": "execute_result"
    }
   ],
   "source": [
    "RNA = DNA.replace('T', 'U')\n",
    "RNA"
   ]
  },
  {
   "cell_type": "markdown",
   "id": "00b504d9-f141-4f2c-906d-378ac8bcd429",
   "metadata": {},
   "source": [
    "#### ex.4"
   ]
  },
  {
   "cell_type": "code",
   "execution_count": 21,
   "id": "4dfac7de-0ce9-400c-87f4-c579a04c68c4",
   "metadata": {},
   "outputs": [
    {
     "data": {
      "text/plain": [
       "14490"
      ]
     },
     "execution_count": 21,
     "metadata": {},
     "output_type": "execute_result"
    }
   ],
   "source": [
    "x = [3, 5, 23, 6, 7]\n",
    "reduce_ = 1\n",
    "for elem in x:\n",
    "    reduce_ *= elem\n",
    "reduce_"
   ]
  },
  {
   "cell_type": "markdown",
   "id": "6e853cc2-31a3-4ee6-be1d-ba1ebdd1529f",
   "metadata": {},
   "source": [
    "#### ex.5"
   ]
  },
  {
   "cell_type": "code",
   "execution_count": 23,
   "id": "9630ef19-9670-4e05-9895-6f8208fe8c56",
   "metadata": {},
   "outputs": [
    {
     "data": {
      "text/plain": [
       "77"
      ]
     },
     "execution_count": 23,
     "metadata": {},
     "output_type": "execute_result"
    }
   ],
   "source": [
    "x = [44,32,65,77,12,86]\n",
    "x.remove(max(x))\n",
    "max(x)"
   ]
  },
  {
   "cell_type": "markdown",
   "id": "74f8a86f-92f4-448f-a3f2-c8d792ba4328",
   "metadata": {},
   "source": [
    "#### ex.6"
   ]
  },
  {
   "cell_type": "code",
   "execution_count": 24,
   "id": "2b16df67-ad9f-408c-9a6d-baee1caac9d4",
   "metadata": {},
   "outputs": [
    {
     "data": {
      "text/plain": [
       "'live.com'"
      ]
     },
     "execution_count": 24,
     "metadata": {},
     "output_type": "execute_result"
    }
   ],
   "source": [
    "email = \"alex.andriopoulos@live.com\"\n",
    "email.split('@')[1]"
   ]
  },
  {
   "cell_type": "markdown",
   "id": "73d25f4b-19da-4581-be61-af6ffdda45bb",
   "metadata": {},
   "source": [
    "#### ex.7"
   ]
  },
  {
   "cell_type": "code",
   "execution_count": 25,
   "id": "977169ef-9c5d-4da8-b61a-997d7721b25c",
   "metadata": {},
   "outputs": [
    {
     "data": {
      "text/plain": [
       "['Data Science']"
      ]
     },
     "execution_count": 25,
     "metadata": {},
     "output_type": "execute_result"
    }
   ],
   "source": [
    "lst = [1,2,[3,4],[5,[100,200,['Data Science']],23,11],1,7]\n",
    "lst[3][1][2]"
   ]
  },
  {
   "cell_type": "markdown",
   "id": "cfe0c209-5943-427d-a85a-ba32f894e5c4",
   "metadata": {},
   "source": [
    "#### ex.8"
   ]
  },
  {
   "cell_type": "code",
   "execution_count": 26,
   "id": "99e6b0dd-b8a3-4ea4-a5ea-4fe29dd44feb",
   "metadata": {},
   "outputs": [
    {
     "data": {
      "text/plain": [
       "[32, 2, 3, 4, 5, 6, 7, 8]"
      ]
     },
     "execution_count": 26,
     "metadata": {},
     "output_type": "execute_result"
    }
   ],
   "source": [
    "x = [32,3,5,4,4,3,2,6,4,5,6,7,8]\n",
    "list(set(x))"
   ]
  },
  {
   "cell_type": "markdown",
   "id": "6c54773d-19c1-4074-9a5f-f6cffadc8811",
   "metadata": {},
   "source": [
    "#### ex.9"
   ]
  },
  {
   "cell_type": "code",
   "execution_count": 28,
   "id": "53f946a1-58d2-466b-9b3e-b0ef8ba839c3",
   "metadata": {},
   "outputs": [
    {
     "data": {
      "text/plain": [
       "['pie',\n",
       " 'alien',\n",
       " 'superman',\n",
       " 'the island',\n",
       " 'the godfather',\n",
       " 'once upon a time in America']"
      ]
     },
     "execution_count": 28,
     "metadata": {},
     "output_type": "execute_result"
    }
   ],
   "source": [
    "x = ['the island', 'pie', 'alien', 'superman', 'once upon a time in America', 'the godfather']\n",
    "x.sort(key=len)\n",
    "x"
   ]
  },
  {
   "cell_type": "markdown",
   "id": "e89f1f25-fd13-4572-a45f-e85721edd4ab",
   "metadata": {},
   "source": [
    "#### ex.10"
   ]
  },
  {
   "cell_type": "code",
   "execution_count": 31,
   "id": "de6929af-efd4-4382-89c5-597076fceed2",
   "metadata": {},
   "outputs": [
    {
     "data": {
      "text/plain": [
       "'Artificial Intelligence'"
      ]
     },
     "execution_count": 31,
     "metadata": {},
     "output_type": "execute_result"
    }
   ],
   "source": [
    "d = {'k1':[1,2,3,{'tricky':['life','man','machine',{'target':[1,2,3,'Artificial Intelligence']}]}]}\n",
    "d['k1'][3]['tricky'][3]['target'][3]"
   ]
  },
  {
   "cell_type": "markdown",
   "id": "4ae5aa3c-b070-4b8c-ab1c-cd6b5272f56a",
   "metadata": {},
   "source": [
    "#### ex.11"
   ]
  },
  {
   "cell_type": "code",
   "execution_count": 39,
   "id": "ba2bd023-8c48-4844-936f-50d2952d61d8",
   "metadata": {},
   "outputs": [],
   "source": [
    "price = {  \n",
    "    \"banana\": 4,\n",
    "    \"apple\": 2,\n",
    "    \"orange\": 1.5,\n",
    "    \"pear\": 3\n",
    "}\n",
    "another = {\n",
    "    \"grapes\": 2.5, \n",
    "    \"mellon\": 3\n",
    "}"
   ]
  },
  {
   "cell_type": "code",
   "execution_count": 40,
   "id": "a00603ad-c018-45d2-bad7-e72fc47ba4b4",
   "metadata": {},
   "outputs": [
    {
     "data": {
      "text/plain": [
       "{'banana': 4, 'apple': 2, 'orange': 1.5, 'pear': 3, 'grapes': 2.5, 'mellon': 3}"
      ]
     },
     "execution_count": 40,
     "metadata": {},
     "output_type": "execute_result"
    }
   ],
   "source": [
    "if price.keys() & another.keys():\n",
    "    raise ValueError\n",
    "\n",
    "price.update(another)\n",
    "price"
   ]
  },
  {
   "cell_type": "code",
   "execution_count": 41,
   "id": "6d666530-a2e9-48df-ab66-3ade62204ee2",
   "metadata": {},
   "outputs": [
    {
     "data": {
      "text/plain": [
       "16.0"
      ]
     },
     "execution_count": 41,
     "metadata": {},
     "output_type": "execute_result"
    }
   ],
   "source": [
    "sum(price.values())"
   ]
  },
  {
   "cell_type": "code",
   "execution_count": 45,
   "id": "8d752f7c-2752-4704-91ee-38214086e25c",
   "metadata": {},
   "outputs": [
    {
     "data": {
      "text/plain": [
       "117.0"
      ]
     },
     "execution_count": 45,
     "metadata": {},
     "output_type": "execute_result"
    }
   ],
   "source": [
    "stock = {\n",
    "   \"banana\": 6,\n",
    "   \"apple\": 0,\n",
    "   \"orange\": 32,\n",
    "   \"pear\": 15\n",
    "}\n",
    "\n",
    "prices = {\n",
    "   \"banana\": 4,\n",
    "   \"apple\": 2,\n",
    "   \"orange\": 1.5,\n",
    "   \"pear\": 3\n",
    "}\n",
    "earnings = int()\n",
    "for k in stock:\n",
    "    earnings += stock[k] * price[k]\n",
    "earnings"
   ]
  },
  {
   "cell_type": "markdown",
   "id": "dab53b21-abbf-4d3a-9ca2-828d41c75eb5",
   "metadata": {},
   "source": [
    "#### ex.12"
   ]
  },
  {
   "cell_type": "code",
   "execution_count": 51,
   "id": "942b0f14-ccb6-4757-bdf6-32e999216be4",
   "metadata": {},
   "outputs": [],
   "source": [
    "employees = {\n",
    "   'John': {\n",
    "       'age': 32,\n",
    "       'position': 'manager',\n",
    "       'department': 'sales',\n",
    "       'salary': 50000\n",
    "   },\n",
    "   'Alice': {\n",
    "       'age': 27,\n",
    "       'position': 'engineer',\n",
    "       'department': 'engineering',\n",
    "       'salary': 60000\n",
    "   },\n",
    "   'Bob': {\n",
    "       'age': 24,\n",
    "       'position': 'assistant',\n",
    "       'department': 'sales',\n",
    "       'salary': 30000\n",
    "   }\n",
    "}"
   ]
  },
  {
   "cell_type": "code",
   "execution_count": 52,
   "id": "8a655192-a77a-4e24-a5a8-203e30dcec26",
   "metadata": {},
   "outputs": [
    {
     "name": "stdout",
     "output_type": "stream",
     "text": [
      "John 50000\n",
      "Alice 60000\n",
      "Bob 30000\n"
     ]
    }
   ],
   "source": [
    "for k, v in employees.items():\n",
    "    print(k, v['salary'])"
   ]
  },
  {
   "cell_type": "code",
   "execution_count": 57,
   "id": "dfe33fec-320d-4468-a836-5ba9c9263217",
   "metadata": {},
   "outputs": [
    {
     "data": {
      "text/plain": [
       "140000"
      ]
     },
     "execution_count": 57,
     "metadata": {},
     "output_type": "execute_result"
    }
   ],
   "source": [
    "sum((v['salary'] for v in employees.values()))"
   ]
  },
  {
   "cell_type": "code",
   "execution_count": null,
   "id": "a956153a-acdc-40a9-a6c8-c22d995832d8",
   "metadata": {},
   "outputs": [],
   "source": []
  }
 ],
 "metadata": {
  "kernelspec": {
   "display_name": "Python 3 (ipykernel)",
   "language": "python",
   "name": "python3"
  },
  "language_info": {
   "codemirror_mode": {
    "name": "ipython",
    "version": 3
   },
   "file_extension": ".py",
   "mimetype": "text/x-python",
   "name": "python",
   "nbconvert_exporter": "python",
   "pygments_lexer": "ipython3",
   "version": "3.11.11"
  }
 },
 "nbformat": 4,
 "nbformat_minor": 5
}
