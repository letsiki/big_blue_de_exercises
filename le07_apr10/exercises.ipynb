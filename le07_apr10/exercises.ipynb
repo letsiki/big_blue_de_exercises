{
 "cells": [
  {
   "cell_type": "markdown",
   "id": "5325d361-ac9b-411b-8087-bd5de6f796ed",
   "metadata": {},
   "source": [
    "##### 1. Write a Python program to check that a string contains only lowercase and uppercase characters."
   ]
  },
  {
   "cell_type": "code",
   "execution_count": 3,
   "id": "a07d4849-3f75-4478-8b80-0c41c7a1e2bb",
   "metadata": {},
   "outputs": [],
   "source": [
    "import re"
   ]
  },
  {
   "cell_type": "code",
   "execution_count": 2,
   "id": "ed7607fd-b8b7-470e-a230-906b4cbb7c4d",
   "metadata": {},
   "outputs": [
    {
     "name": "stdout",
     "output_type": "stream",
     "text": [
      "<re.Match object; span=(0, 12), match='sdfsdfSDFSDF'>\n"
     ]
    }
   ],
   "source": [
    "pattern = r\"^[a-zA-Z]+$\"\n",
    "string = \"sdfsdfSDFSDF\"\n",
    "if match := re.search(pattern, string):\n",
    "    print(match)\n",
    "else:\n",
    "    print('pattern not found')"
   ]
  },
  {
   "cell_type": "markdown",
   "id": "118cd2aa-eaf4-4256-944c-43cc27bd4aee",
   "metadata": {},
   "source": [
    "##### 2. Write a Python program that matches a word at the beginning of a string."
   ]
  },
  {
   "cell_type": "code",
   "execution_count": 3,
   "id": "0caebdfc-9dfc-4f40-96b4-d86b6fda4c36",
   "metadata": {},
   "outputs": [
    {
     "name": "stdout",
     "output_type": "stream",
     "text": [
      "<re.Match object; span=(0, 3), match='sdf'>\n"
     ]
    }
   ],
   "source": [
    "pattern = r\"^[a-zA-Z]+\\b\"\n",
    "string = 'sdf sdf sdf sdf sdf'\n",
    "if match := re.search(pattern, string):\n",
    "    print(match)\n",
    "else:\n",
    "    print('pattern not found')"
   ]
  },
  {
   "cell_type": "markdown",
   "id": "1608e2d7-9b7d-4d60-9be1-3f5839122b1f",
   "metadata": {},
   "source": [
    "##### 3. Write a Python program that matches a word at the end of string"
   ]
  },
  {
   "cell_type": "code",
   "execution_count": 4,
   "id": "14c61c49-13cd-4178-a957-934d8c3720be",
   "metadata": {},
   "outputs": [
    {
     "name": "stdout",
     "output_type": "stream",
     "text": [
      "<re.Match object; span=(16, 24), match='lastword'>\n"
     ]
    }
   ],
   "source": [
    "pattern = r\"\\b[a-zA-Z]+$\"\n",
    "string = 'sdf sdf sdf sdf lastword'\n",
    "if match := re.search(pattern, string):\n",
    "    print(match)\n",
    "else:\n",
    "    print('pattern not found')"
   ]
  },
  {
   "cell_type": "markdown",
   "id": "fa0f02c7-0956-4b4a-9118-2c856fdd15d6",
   "metadata": {},
   "source": [
    "##### 4. Write a Python program that matches a word containing 'z', not at the start or end of the word. (Matches Brazil but not Zelda)"
   ]
  },
  {
   "cell_type": "code",
   "execution_count": 13,
   "id": "5953bfe4-8211-41bf-beaa-c58854419ccc",
   "metadata": {},
   "outputs": [
    {
     "name": "stdout",
     "output_type": "stream",
     "text": [
      "pattern not found\n"
     ]
    }
   ],
   "source": [
    "pattern = r\"^(?![zZ])[a-zA-Z]*(?<![zZ])$\"\n",
    "string = 'zBrzzazzilz'\n",
    "if match := re.search(pattern, string):\n",
    "    print(match)\n",
    "else:\n",
    "    print('pattern not found')"
   ]
  },
  {
   "cell_type": "markdown",
   "id": "cb74c0fe-36d0-4c35-a5b3-3bf6ee147765",
   "metadata": {},
   "source": [
    "##### 5. Write a Python program to match digits of length between 10 and 13."
   ]
  },
  {
   "cell_type": "code",
   "execution_count": 6,
   "id": "2d0f05a1-1bac-4e89-93e4-4130afafd28f",
   "metadata": {},
   "outputs": [
    {
     "name": "stdout",
     "output_type": "stream",
     "text": [
      "<re.Match object; span=(0, 12), match='123123123123'>\n"
     ]
    }
   ],
   "source": [
    "pattern = r\"\\d{10,13}\"\n",
    "string = '123123123123'\n",
    "if match := re.search(pattern, string):\n",
    "    print(match)\n",
    "else:\n",
    "    print('pattern not found')"
   ]
  },
  {
   "cell_type": "markdown",
   "id": "90b51065-bf24-430c-9476-7066b1b617cd",
   "metadata": {},
   "source": [
    "##### 6. Write a Python program so that the full email addresses are extracted. (example: “For more information please write to the following email address: admissions@footballclub.com, Mrs Stepanie Smith will be delighted to assist you.”)"
   ]
  },
  {
   "cell_type": "code",
   "execution_count": 7,
   "id": "5f61d4b5-8056-429a-ac50-5a427a6920e4",
   "metadata": {},
   "outputs": [
    {
     "name": "stdout",
     "output_type": "stream",
     "text": [
      "<re.Match object; span=(66, 93), match='admissions@footballclub.com'>\n"
     ]
    }
   ],
   "source": [
    "pattern = r\"\\b[\\w.-]+@[a-zA-Z.-]+(?<!\\.)+\\.[a-zA-Z]{2,3}\\b\"\n",
    "string = \"For more information please write to the following email address: admissions@footballclub.com, Mrs Stepanie Smith will be delighted to assist you.\"\n",
    "if match := re.search(pattern, string):\n",
    "    print(match)\n",
    "else:\n",
    "    print('pattern not found')"
   ]
  },
  {
   "cell_type": "markdown",
   "id": "831fce45-4337-4868-abee-a440fe1982d3",
   "metadata": {},
   "source": [
    "##### 7. E-mail Validation  \n",
    "a) Write an email validating function, returning True or False depending on whether an email address is correctly formatted (e.g. john.smith@yahoo.com works, not  john.smith@yahoο, or  johnsmith@yahoo.com). No input should lead to an exception.\n",
    "- Bonus. Extend your email validation in the first part so  \n",
    "    b) it will accept not only  “.” but also  \"-\" and \"_\"  .  \n",
    "    c) requires at least four characters after the ./-/_ symbol.  \n",
    "    d) extensions with minimum 2 characters and maximum 4 characters shall be acceptable"
   ]
  },
  {
   "cell_type": "markdown",
   "id": "b7b48600-92d0-4b1f-83ec-f7b4fa5e4653",
   "metadata": {},
   "source": [
    "- a) Write an email validating function, returning True or False depending on whether an email address is correctly formatted (e.g. john.smith@yahoo.com works, not john.smith@yahoο, or johnsmith@yahoo.com). No input should lead to an exception."
   ]
  },
  {
   "cell_type": "code",
   "execution_count": 8,
   "id": "9466d9ef-d64f-4a6f-bcaf-b935cfca8847",
   "metadata": {},
   "outputs": [],
   "source": [
    "def email_validator(email: str) -> bool:\n",
    "    return bool(re.search(pattern, email))"
   ]
  },
  {
   "cell_type": "code",
   "execution_count": 9,
   "id": "2cfb3b75-8eb4-4351-bcc3-389c133c28fd",
   "metadata": {},
   "outputs": [
    {
     "data": {
      "text/plain": [
       "[('john.smith@ya-hoo.com', True),\n",
       " ('john.smith@yahoο', False),\n",
       " ('johnsmith@yahoo..com', False)]"
      ]
     },
     "execution_count": 9,
     "metadata": {},
     "output_type": "execute_result"
    }
   ],
   "source": [
    "pattern = \"[\\w.-]+@[a-zA-Z.-]+(?<!\\.)\\.[a-zA-Z]{2,3}\"\n",
    "sample_strings = ['john.smith@ya-hoo.com', 'john.smith@yahoο', 'johnsmith@yahoo..com']\n",
    "list(zip(sample_strings, map(email_validator, sample_strings)))"
   ]
  },
  {
   "cell_type": "markdown",
   "id": "9ff3a94f-8336-46f0-99ee-81fabba32326",
   "metadata": {},
   "source": [
    "- b) it will accept not only “.” but also \"-\" and \"\" ."
   ]
  },
  {
   "cell_type": "code",
   "execution_count": 10,
   "id": "ba6a0439-0a9f-4981-b148-bb1c5fc64410",
   "metadata": {},
   "outputs": [
    {
     "data": {
      "text/plain": [
       "[('john.smith@yahoo_com', True),\n",
       " ('john.smith@yahoo.com', True),\n",
       " ('john.smith@yahoo-com', True),\n",
       " ('john.smith@yahoo@com', False)]"
      ]
     },
     "execution_count": 10,
     "metadata": {},
     "output_type": "execute_result"
    }
   ],
   "source": [
    "# after experimenting '-' in brackets is auto-escaped if place at the end or start\n",
    "pattern = \"[\\w.-]+@[a-zA-Z.-]+(?<![.-])[-._][a-zA-Z]{2,3}$\"\n",
    "sample_strings = ['john.smith@yahoo_com', 'john.smith@yahoo.com', 'john.smith@yahoo-com', 'john.smith@yahoo@com']\n",
    "list(zip(sample_strings, map(email_validator, sample_strings)))"
   ]
  },
  {
   "cell_type": "markdown",
   "id": "19877d7c-7799-444f-81bb-37e42d9b3e12",
   "metadata": {},
   "source": [
    "- c) requires at least four characters after the ./-/ symbol."
   ]
  },
  {
   "cell_type": "code",
   "execution_count": 11,
   "id": "6868529e-8689-4c3a-ac22-e11ef1f6b89a",
   "metadata": {},
   "outputs": [
    {
     "data": {
      "text/plain": [
       "[('john.smith@yahoo_comasd', True),\n",
       " ('john.smith@yahoo.coms', True),\n",
       " ('john.smith@yahoo-com', False),\n",
       " ('john.smith@yahoo@com', False)]"
      ]
     },
     "execution_count": 11,
     "metadata": {},
     "output_type": "execute_result"
    }
   ],
   "source": [
    "pattern = \"[\\w.-]+@[a-zA-Z.-]+(?<![.-])[-._][a-zA-Z]{4,}$\"\n",
    "sample_strings = ['john.smith@yahoo_comasd', 'john.smith@yahoo.coms', 'john.smith@yahoo-com', 'john.smith@yahoo@com']\n",
    "list(zip(sample_strings, map(email_validator, sample_strings)))"
   ]
  },
  {
   "cell_type": "markdown",
   "id": "e02178c2-b3ee-4edd-8274-331b76f3ae7a",
   "metadata": {},
   "source": [
    "- d) extensions with minimum 2 characters and maximum 4 characters shall be acceptable"
   ]
  },
  {
   "cell_type": "code",
   "execution_count": 12,
   "id": "10883cc2-28e3-4dfd-b3f7-546c60dc0ab6",
   "metadata": {},
   "outputs": [
    {
     "data": {
      "text/plain": [
       "[('john.smith@yahoo_comasd', False),\n",
       " ('john.smith@yahoo.coms', True),\n",
       " ('john.smith@yahoo-com', True),\n",
       " ('john.smith@yahoo@co', False)]"
      ]
     },
     "execution_count": 12,
     "metadata": {},
     "output_type": "execute_result"
    }
   ],
   "source": [
    "pattern = \"[\\w.-]+@[a-zA-Z.-]+(?<![.-])[-._][a-zA-Z]{2,4}$\"\n",
    "sample_strings = ['john.smith@yahoo_comasd', 'john.smith@yahoo.coms', 'john.smith@yahoo-com', 'john.smith@yahoo@co']\n",
    "list(zip(sample_strings, map(email_validator, sample_strings)))"
   ]
  },
  {
   "cell_type": "markdown",
   "id": "20196cfb-ebed-4ef3-8e2a-ab413ca0756d",
   "metadata": {},
   "source": [
    "##### 8. Convert the following dictionary into JSON format:"
   ]
  },
  {
   "cell_type": "code",
   "execution_count": 13,
   "id": "25734432-5eb5-42ce-b843-50bdb55d9a6e",
   "metadata": {},
   "outputs": [
    {
     "data": {
      "text/plain": [
       "'{\"meal\": \"pizza\", \"drink\": \"soda\"}'"
      ]
     },
     "execution_count": 13,
     "metadata": {},
     "output_type": "execute_result"
    }
   ],
   "source": [
    "import json\n",
    "dic = {\"meal\" : \"pizza\", \"drink\" : \"soda\"}\n",
    "json.dumps(dic)"
   ]
  },
  {
   "cell_type": "markdown",
   "id": "27da50cc-c07e-40e5-ac8d-add8fc475ef1",
   "metadata": {},
   "source": [
    "##### 9. Nobel Prizes.\n",
    "- In this exercise this is the first time you get exposed to real data from the official nobel prizes web page!\n",
    "- In this exercise we will use the nobel prizes json file to work with.\n",
    "    - How many Nobel prize registries are in the file for each category?\n",
    "    - How many Nobel prizes were given to people called \"Michael\"?"
   ]
  },
  {
   "cell_type": "code",
   "execution_count": 14,
   "id": "f573980b-255a-4b72-8c4b-a436e8ae6cdf",
   "metadata": {},
   "outputs": [],
   "source": [
    "try:\n",
    "    with open('nobel.json', 'r') as f:\n",
    "        nobel = json.load(f)   \n",
    "except FileNotFoundError:\n",
    "    print('File Not Found')"
   ]
  },
  {
   "cell_type": "code",
   "execution_count": 15,
   "id": "42178abe-0c80-4570-be88-4c3491370c0b",
   "metadata": {},
   "outputs": [],
   "source": [
    "## Appears collapsed in gitlab had to comment out\n",
    "# print(json.dumps(nobel, indent=4))"
   ]
  },
  {
   "cell_type": "code",
   "execution_count": 16,
   "id": "72424a16-a669-4c4d-aa6e-55ec4d7721b6",
   "metadata": {},
   "outputs": [
    {
     "name": "stdout",
     "output_type": "stream",
     "text": [
      "{\n",
      "    \"year\": \"2020\",\n",
      "    \"category\": \"chemistry\",\n",
      "    \"laureates\": [\n",
      "        {\n",
      "            \"id\": \"991\",\n",
      "            \"firstname\": \"Emmanuelle\",\n",
      "            \"surname\": \"Charpentier\",\n",
      "            \"motivation\": \"\\\"for the development of a method for genome editing\\\"\",\n",
      "            \"share\": \"2\"\n",
      "        },\n",
      "        {\n",
      "            \"id\": \"992\",\n",
      "            \"firstname\": \"Jennifer A.\",\n",
      "            \"surname\": \"Doudna\",\n",
      "            \"motivation\": \"\\\"for the development of a method for genome editing\\\"\",\n",
      "            \"share\": \"2\"\n",
      "        }\n",
      "    ]\n",
      "}\n"
     ]
    }
   ],
   "source": [
    "print(json.dumps(nobel['prizes'][0], indent=4))"
   ]
  },
  {
   "cell_type": "code",
   "execution_count": 17,
   "id": "ee4328e0-090b-4630-ad3b-067a2324ac2f",
   "metadata": {},
   "outputs": [
    {
     "data": {
      "text/plain": [
       "[('2020', 'chemistry'),\n",
       " ('2020', 'economics'),\n",
       " ('2020', 'literature'),\n",
       " ('2020', 'peace'),\n",
       " ('2020', 'physics'),\n",
       " ('2020', 'medicine'),\n",
       " ('2019', 'chemistry'),\n",
       " ('2019', 'economics'),\n",
       " ('2019', 'literature'),\n",
       " ('2019', 'peace'),\n",
       " ('2019', 'physics'),\n",
       " ('2019', 'medicine'),\n",
       " ('2018', 'chemistry'),\n",
       " ('2018', 'economics'),\n",
       " ('2018', 'literature')]"
      ]
     },
     "execution_count": 17,
     "metadata": {},
     "output_type": "execute_result"
    }
   ],
   "source": [
    "year_category_list = [(dic['year'], dic['category']) for dic in nobel.get('prizes')]\n",
    "year_category_list[:15]"
   ]
  },
  {
   "cell_type": "code",
   "execution_count": 18,
   "id": "0119f58d-4418-4dfb-87aa-f8437df3c92b",
   "metadata": {},
   "outputs": [
    {
     "data": {
      "text/plain": [
       "{'chemistry': 120,\n",
       " 'literature': 120,\n",
       " 'physics': 120,\n",
       " 'medicine': 120,\n",
       " 'peace': 120,\n",
       " 'economics': 52}"
      ]
     },
     "execution_count": 18,
     "metadata": {},
     "output_type": "execute_result"
    }
   ],
   "source": [
    "clean_year_category_list = list(set(year_category_list))\n",
    "category_count = {}\n",
    "for year, category in clean_year_category_list:\n",
    "    category_count[category] = category_count.get(category, 0) + 1\n",
    "category_count"
   ]
  },
  {
   "cell_type": "code",
   "execution_count": 19,
   "id": "440eb5e1-e42f-43df-af19-e33936d423a4",
   "metadata": {},
   "outputs": [
    {
     "data": {
      "text/plain": [
       "'10 Nobel prizes were won by someone called Michael'"
      ]
     },
     "execution_count": 19,
     "metadata": {},
     "output_type": "execute_result"
    }
   ],
   "source": [
    "count = 0\n",
    "for prize in sorted(nobel['prizes'], key=lambda pr: pr['year']):\n",
    "    try:\n",
    "        for laureate in prize['laureates']:\n",
    "            if 'Michael' in laureate['firstname']:\n",
    "                count += 1\n",
    "    except KeyError:\n",
    "        # print(f\"{prize['year']} {prize['category']} award had no laureates\")\n",
    "        pass\n",
    "f\"{count} Nobel prizes were won by someone called Michael\""
   ]
  }
 ],
 "metadata": {
  "kernelspec": {
   "display_name": "Python 3 (ipykernel)",
   "language": "python",
   "name": "python3"
  },
  "language_info": {
   "codemirror_mode": {
    "name": "ipython",
    "version": 3
   },
   "file_extension": ".py",
   "mimetype": "text/x-python",
   "name": "python",
   "nbconvert_exporter": "python",
   "pygments_lexer": "ipython3",
   "version": "3.11.11"
  }
 },
 "nbformat": 4,
 "nbformat_minor": 5
}
