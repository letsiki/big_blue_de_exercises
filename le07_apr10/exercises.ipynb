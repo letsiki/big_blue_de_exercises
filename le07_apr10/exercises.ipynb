{
 "cells": [
  {
   "cell_type": "markdown",
   "id": "5325d361-ac9b-411b-8087-bd5de6f796ed",
   "metadata": {},
   "source": [
    "##### 1. Write a Python program to check that a string contains only lowercase and uppercase characters."
   ]
  },
  {
   "cell_type": "markdown",
   "id": "61bb2001-4b6e-47b2-bbba-83078c2c47df",
   "metadata": {},
   "source": [
    "[a-zA-Z]+"
   ]
  },
  {
   "cell_type": "markdown",
   "id": "118cd2aa-eaf4-4256-944c-43cc27bd4aee",
   "metadata": {},
   "source": [
    "##### 2. Write a Python program that matches a word at the beginning of a string."
   ]
  },
  {
   "cell_type": "markdown",
   "id": "6a6c10f4-00ab-40e6-87b2-99d9860f1f36",
   "metadata": {},
   "source": [
    "^[a-zA-Z]+\\b"
   ]
  },
  {
   "cell_type": "markdown",
   "id": "1608e2d7-9b7d-4d60-9be1-3f5839122b1f",
   "metadata": {},
   "source": [
    "##### 3. Write a Python program that matches a word at the end of string"
   ]
  },
  {
   "cell_type": "markdown",
   "id": "03b37e6e-9ede-4759-ba47-d6da37a897b2",
   "metadata": {},
   "source": [
    "\\b[a-zA-Z]+$"
   ]
  },
  {
   "cell_type": "markdown",
   "id": "fa0f02c7-0956-4b4a-9118-2c856fdd15d6",
   "metadata": {},
   "source": [
    "##### 4. Write a Python program that matches a word containing 'z', not at the start or end of the word. (Matches Brazil but not Zelda)"
   ]
  },
  {
   "cell_type": "markdown",
   "id": "14630b3d-fc76-4aaf-9384-9d310ef5f1e0",
   "metadata": {},
   "source": [
    "[a-yA-Y]*z[a-yA-Y]*"
   ]
  },
  {
   "cell_type": "markdown",
   "id": "cb74c0fe-36d0-4c35-a5b3-3bf6ee147765",
   "metadata": {},
   "source": [
    "##### 5. Write a Python program to match digits of length between 10 and 13."
   ]
  },
  {
   "cell_type": "markdown",
   "id": "0ffa100f-745b-454d-92f4-b1c0e5f91472",
   "metadata": {},
   "source": [
    "\\d{10,13}"
   ]
  },
  {
   "cell_type": "markdown",
   "id": "90b51065-bf24-430c-9476-7066b1b617cd",
   "metadata": {},
   "source": [
    "##### 6. Write a Python program so that the full email addresses are extracted. (example: “For more information please write to the following email address: admissions@footballclub.com, Mrs Stepanie Smith will be delighted to assist you.”)"
   ]
  },
  {
   "cell_type": "markdown",
   "id": "e419f340-7377-4810-84ae-4bb315242f9c",
   "metadata": {},
   "source": [
    "\\b[\\w.-]+@[a-zA-Z.-]+(?<!\\.)+\\.[a-zA-Z]{2,3}\\b"
   ]
  },
  {
   "cell_type": "markdown",
   "id": "831fce45-4337-4868-abee-a440fe1982d3",
   "metadata": {},
   "source": [
    "##### 7. E-mail Validation  \n",
    "- Write an email validating function, returning True or False depending on whether an email address is correctly formatted (e.g. john.smith@yahoo.com works, not  john.smith@yahoο, or  johnsmith@yahoo.com). No input should lead to an exception.\n",
    "- Bonus. Extend your email validation in the first part so\n",
    "it will accept not only  “.” but also  \"-\" and \"_\"  .\n",
    "requires at least four characters after the ./-/_ symbol.\n",
    "extensions with minimum 2 characters and maximum 4 characters shall be acceptable"
   ]
  },
  {
   "cell_type": "markdown",
   "id": "3c9a0eb5-1db1-42e4-aef8-4b2ff2d87232",
   "metadata": {},
   "source": [
    "[\\w.-]+@[a-zA-Z.-]+(?<!\\.)+\\.[a-zA-Z]{2,3}"
   ]
  },
  {
   "cell_type": "markdown",
   "id": "8f7fe3a3-05b5-4fc0-8898-a21e5090f2d2",
   "metadata": {},
   "source": [
    "[\\w.-]+@[a-zA-Z.-]+(?<!\\.)+[.-_][a-zA-Z]{2,3}"
   ]
  },
  {
   "cell_type": "markdown",
   "id": "2af73117-fd15-406d-a50b-73166c6f9593",
   "metadata": {},
   "source": [
    "[\\w.-]+@[a-zA-Z.-]+(?<!\\.)+[.-_][a-zA-Z]{4,}"
   ]
  },
  {
   "cell_type": "markdown",
   "id": "922ecd28-e713-435e-a50e-70d9cdfa8736",
   "metadata": {},
   "source": [
    "[\\w.-]+@[a-zA-Z.-]+(?<!\\.)+[.-_][a-zA-Z]{2, 4}"
   ]
  },
  {
   "cell_type": "markdown",
   "id": "20196cfb-ebed-4ef3-8e2a-ab413ca0756d",
   "metadata": {},
   "source": [
    "##### 8. Convert the following dictionary into JSON format:"
   ]
  },
  {
   "cell_type": "code",
   "execution_count": 2,
   "id": "25734432-5eb5-42ce-b843-50bdb55d9a6e",
   "metadata": {},
   "outputs": [
    {
     "data": {
      "text/plain": [
       "'{\"meal\": \"pizza\", \"drink\": \"soda\"}'"
      ]
     },
     "execution_count": 2,
     "metadata": {},
     "output_type": "execute_result"
    }
   ],
   "source": [
    "import json\n",
    "dic = {\"meal\" : \"pizza\", \"drink\" : \"soda\"}\n",
    "json.dumps(dic)"
   ]
  },
  {
   "cell_type": "markdown",
   "id": "27da50cc-c07e-40e5-ac8d-add8fc475ef1",
   "metadata": {},
   "source": [
    "##### 9. Nobel Prizes.\n",
    "- In this exercise this is the first time you get exposed to real data from the official nobel prizes web page!\n",
    "- In this exercise we will use the nobel prizes json file to work with.\n",
    "    - How many Nobel prize registries are in the file for each category?\n",
    "    - How many Nobel prizes were given to people called \"Michael\"?"
   ]
  },
  {
   "cell_type": "code",
   "execution_count": 3,
   "id": "f573980b-255a-4b72-8c4b-a436e8ae6cdf",
   "metadata": {},
   "outputs": [],
   "source": [
    "try:\n",
    "    with open('nobel.json', 'r') as f:\n",
    "        nobel = json.load(f)   \n",
    "except FileNotFoundError:\n",
    "    print('File Not Found')"
   ]
  },
  {
   "cell_type": "code",
   "execution_count": 9,
   "id": "42178abe-0c80-4570-be88-4c3491370c0b",
   "metadata": {},
   "outputs": [],
   "source": [
    "## Appears collapsed in gitlab had to comment out\n",
    "# print(json.dumps(nobel, indent=4))"
   ]
  },
  {
   "cell_type": "code",
   "execution_count": 5,
   "id": "72424a16-a669-4c4d-aa6e-55ec4d7721b6",
   "metadata": {},
   "outputs": [
    {
     "name": "stdout",
     "output_type": "stream",
     "text": [
      "{\n",
      "    \"year\": \"2020\",\n",
      "    \"category\": \"chemistry\",\n",
      "    \"laureates\": [\n",
      "        {\n",
      "            \"id\": \"991\",\n",
      "            \"firstname\": \"Emmanuelle\",\n",
      "            \"surname\": \"Charpentier\",\n",
      "            \"motivation\": \"\\\"for the development of a method for genome editing\\\"\",\n",
      "            \"share\": \"2\"\n",
      "        },\n",
      "        {\n",
      "            \"id\": \"992\",\n",
      "            \"firstname\": \"Jennifer A.\",\n",
      "            \"surname\": \"Doudna\",\n",
      "            \"motivation\": \"\\\"for the development of a method for genome editing\\\"\",\n",
      "            \"share\": \"2\"\n",
      "        }\n",
      "    ]\n",
      "}\n"
     ]
    }
   ],
   "source": [
    "print(json.dumps(nobel['prizes'][0], indent=4))"
   ]
  },
  {
   "cell_type": "code",
   "execution_count": 6,
   "id": "ee4328e0-090b-4630-ad3b-067a2324ac2f",
   "metadata": {},
   "outputs": [
    {
     "data": {
      "text/plain": [
       "[('2020', 'chemistry'),\n",
       " ('2020', 'economics'),\n",
       " ('2020', 'literature'),\n",
       " ('2020', 'peace'),\n",
       " ('2020', 'physics'),\n",
       " ('2020', 'medicine'),\n",
       " ('2019', 'chemistry'),\n",
       " ('2019', 'economics'),\n",
       " ('2019', 'literature'),\n",
       " ('2019', 'peace'),\n",
       " ('2019', 'physics'),\n",
       " ('2019', 'medicine'),\n",
       " ('2018', 'chemistry'),\n",
       " ('2018', 'economics'),\n",
       " ('2018', 'literature')]"
      ]
     },
     "execution_count": 6,
     "metadata": {},
     "output_type": "execute_result"
    }
   ],
   "source": [
    "year_category_list = [(dic['year'], dic['category']) for dic in nobel.get('prizes')]\n",
    "year_category_list[:15]"
   ]
  },
  {
   "cell_type": "code",
   "execution_count": 7,
   "id": "0119f58d-4418-4dfb-87aa-f8437df3c92b",
   "metadata": {},
   "outputs": [
    {
     "data": {
      "text/plain": [
       "{'literature': 120,\n",
       " 'chemistry': 120,\n",
       " 'medicine': 120,\n",
       " 'economics': 52,\n",
       " 'physics': 120,\n",
       " 'peace': 120}"
      ]
     },
     "execution_count": 7,
     "metadata": {},
     "output_type": "execute_result"
    }
   ],
   "source": [
    "clean_year_category_list = list(set(year_category_list))\n",
    "category_count = {}\n",
    "for year, category in clean_year_category_list:\n",
    "    category_count[category] = category_count.get(category, 0) + 1\n",
    "category_count"
   ]
  },
  {
   "cell_type": "code",
   "execution_count": 8,
   "id": "440eb5e1-e42f-43df-af19-e33936d423a4",
   "metadata": {},
   "outputs": [
    {
     "name": "stdout",
     "output_type": "stream",
     "text": [
      "1914 literature award had no laureates\n",
      "1914 peace award had no laureates\n",
      "1915 peace award had no laureates\n",
      "1915 medicine award had no laureates\n",
      "1916 chemistry award had no laureates\n",
      "1916 peace award had no laureates\n",
      "1916 physics award had no laureates\n",
      "1916 medicine award had no laureates\n",
      "1917 chemistry award had no laureates\n",
      "1917 medicine award had no laureates\n",
      "1918 literature award had no laureates\n",
      "1918 peace award had no laureates\n",
      "1918 medicine award had no laureates\n",
      "1919 chemistry award had no laureates\n",
      "1921 medicine award had no laureates\n",
      "1923 peace award had no laureates\n",
      "1924 chemistry award had no laureates\n",
      "1924 peace award had no laureates\n",
      "1925 medicine award had no laureates\n",
      "1928 peace award had no laureates\n",
      "1931 physics award had no laureates\n",
      "1932 peace award had no laureates\n",
      "1933 chemistry award had no laureates\n",
      "1934 physics award had no laureates\n",
      "1935 literature award had no laureates\n",
      "1939 peace award had no laureates\n",
      "1940 chemistry award had no laureates\n",
      "1940 literature award had no laureates\n",
      "1940 peace award had no laureates\n",
      "1940 physics award had no laureates\n",
      "1940 medicine award had no laureates\n",
      "1941 chemistry award had no laureates\n",
      "1941 literature award had no laureates\n",
      "1941 peace award had no laureates\n",
      "1941 physics award had no laureates\n",
      "1941 medicine award had no laureates\n",
      "1942 chemistry award had no laureates\n",
      "1942 literature award had no laureates\n",
      "1942 peace award had no laureates\n",
      "1942 physics award had no laureates\n",
      "1942 medicine award had no laureates\n",
      "1943 literature award had no laureates\n",
      "1943 peace award had no laureates\n",
      "1948 peace award had no laureates\n",
      "1955 peace award had no laureates\n",
      "1956 peace award had no laureates\n",
      "1966 peace award had no laureates\n",
      "1967 peace award had no laureates\n",
      "1972 peace award had no laureates\n"
     ]
    },
    {
     "data": {
      "text/plain": [
       "'5 Nobel prizes were won by someone called Michael'"
      ]
     },
     "execution_count": 8,
     "metadata": {},
     "output_type": "execute_result"
    }
   ],
   "source": [
    "count = 0\n",
    "for prize in sorted(nobel['prizes'], key=lambda pr: pr['year']):\n",
    "    try:\n",
    "        for laureate in prize['laureates']:\n",
    "            if laureate['firstname'] == 'Michael':\n",
    "                count += 1\n",
    "    except KeyError:\n",
    "        print(f\"{prize['year']} {prize['category']} award had no laureates\")\n",
    "f\"{count} Nobel prizes were won by someone called Michael\""
   ]
  }
 ],
 "metadata": {
  "kernelspec": {
   "display_name": "Python 3 (ipykernel)",
   "language": "python",
   "name": "python3"
  },
  "language_info": {
   "codemirror_mode": {
    "name": "ipython",
    "version": 3
   },
   "file_extension": ".py",
   "mimetype": "text/x-python",
   "name": "python",
   "nbconvert_exporter": "python",
   "pygments_lexer": "ipython3",
   "version": "3.11.11"
  }
 },
 "nbformat": 4,
 "nbformat_minor": 5
}
