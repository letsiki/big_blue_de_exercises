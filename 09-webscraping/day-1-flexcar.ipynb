{
 "cells": [
  {
   "cell_type": "markdown",
   "id": "f48129de",
   "metadata": {},
   "source": [
    "#"
   ]
  },
  {
   "cell_type": "markdown",
   "id": "66125659",
   "metadata": {},
   "source": [
    "# Exercise: Web scrape flexcar.gr"
   ]
  },
  {
   "cell_type": "markdown",
   "id": "dbb4d3b9",
   "metadata": {},
   "source": [
    "Web scrape [flexcar.gr](https://www.google.com/url?q=http://flexcar.gr&sa=D&source=editors&ust=1747567629672978&usg=AOvVaw0IAn-00O3YnivHyDGHvSJo)  \n",
    "Get the features (brand, model, price, hp, gearbox, extras..) for all leasing car offers."
   ]
  },
  {
   "cell_type": "markdown",
   "id": "8a9d1c74",
   "metadata": {},
   "source": []
  }
 ],
 "metadata": {
  "language_info": {
   "name": "python"
  }
 },
 "nbformat": 4,
 "nbformat_minor": 5
}
