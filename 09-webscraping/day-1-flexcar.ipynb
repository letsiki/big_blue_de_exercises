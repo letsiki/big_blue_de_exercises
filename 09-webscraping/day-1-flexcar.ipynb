{
 "cells": [
  {
   "cell_type": "markdown",
   "id": "f48129de",
   "metadata": {},
   "source": [
    "#"
   ]
  },
  {
   "cell_type": "markdown",
   "id": "66125659",
   "metadata": {},
   "source": [
    "# Exercise: Web scrape flexcar.gr"
   ]
  },
  {
   "cell_type": "markdown",
   "id": "dbb4d3b9",
   "metadata": {},
   "source": [
    "Web scrape [flexcar.gr](https://www.google.com/url?q=http://flexcar.gr&sa=D&source=editors&ust=1747567629672978&usg=AOvVaw0IAn-00O3YnivHyDGHvSJo)  \n",
    "Get the features (brand, model, price, hp, gearbox, extras..) for all leasing car offers."
   ]
  },
  {
   "cell_type": "code",
   "execution_count": 1,
   "id": "1833de22",
   "metadata": {},
   "outputs": [],
   "source": [
    "base_url = 'https://flexcar.gr'\n",
    "filtered_url = base_url + '/cars/?category=MIN&category=HAT&category=SED&category=SUV&category=LUXy&lang=en'"
   ]
  },
  {
   "cell_type": "code",
   "execution_count": 2,
   "id": "f7a13a68",
   "metadata": {},
   "outputs": [],
   "source": [
    "import requests\n",
    "from bs4 import BeautifulSoup\n",
    "import pandas as pd\n",
    "from pandas.core.dtypes.common import is_hashable\n",
    "import re\n",
    "import time\n",
    "import random"
   ]
  },
  {
   "cell_type": "code",
   "execution_count": 3,
   "id": "aa0bb28b",
   "metadata": {},
   "outputs": [],
   "source": [
    "headers = {\n",
    "    \"User-Agent\": \"Mozilla/5.0 (Windows NT 10.0; Win64; x64) AppleWebKit/537.36 (KHTML, like Gecko) Chrome/115.0 Safari/537.36\"\n",
    "}\n",
    "\n",
    "\n",
    "response = requests.get(filtered_url, headers=headers)"
   ]
  },
  {
   "cell_type": "code",
   "execution_count": 4,
   "id": "c250adde",
   "metadata": {},
   "outputs": [],
   "source": [
    "soup = BeautifulSoup(response.content)"
   ]
  },
  {
   "cell_type": "code",
   "execution_count": 5,
   "id": "5a8297e8",
   "metadata": {},
   "outputs": [],
   "source": [
    "soup.find_all('div', class_='itemContainer')[0].find_all('a')[1]['href']\n",
    "item_containers = soup.find_all('div', class_='itemContainer')"
   ]
  },
  {
   "cell_type": "code",
   "execution_count": 6,
   "id": "a3400bf1",
   "metadata": {},
   "outputs": [],
   "source": [
    "#  extra links from 1 page\n",
    "page_links = [item_containers[i].find_all('a')[1]['href'] for i in range(len(item_containers))]"
   ]
  },
  {
   "cell_type": "code",
   "execution_count": 7,
   "id": "bc711a42",
   "metadata": {},
   "outputs": [
    {
     "data": {
      "text/plain": [
       "['/cars/opel/opel-astra-gs-line-phev/?lang=en',\n",
       " '/cars/vw/vw-polo-life/?lang=en',\n",
       " '/cars/vw/vw-t-roc-life/?lang=en',\n",
       " '/cars/renault/renault-arkana-hybrid-petrol-e-tech-techno/?lang=en',\n",
       " '/cars/smart/smart-for-two-electric-pulse/?lang=en',\n",
       " '/cars/audi/audi-a3-petrol-30-comfort/?lang=en',\n",
       " '/cars/dacia/dacia-duster-prestige-4x4/?lang=en',\n",
       " '/cars/volvo/volvo-xc-40-electric-recharge-core/?lang=en',\n",
       " '/cars/skoda/skoda-enyaq-iv-80/?lang=en',\n",
       " '/cars/peugeot/peugeot-3008-petrol-active-plus-3/?lang=en',\n",
       " '/cars/vw/vw-golf-life-e-tsi-dsg/?lang=en',\n",
       " '/cars/skoda/skoda-fabia-petrol-ambition/?lang=en',\n",
       " '/cars/peugeot/peugeot-3008-diesel-active-plus-1/?lang=en',\n",
       " '/cars/hyundai/hyundai-tucson-distinctive/?lang=en',\n",
       " '/cars/mercedes/mercedes-glc-petrol-200-coupe/?lang=en',\n",
       " '/cars/mercedes/mercedes-glc-coupe-200d-4-matic-coupe/?lang=en',\n",
       " '/cars/renault/renault-clio-petrol-expression/?lang=en',\n",
       " '/cars/range-rover/range-rover-evoque-mild-hybrid-petrol-r-dynamic-s/?lang=en',\n",
       " '/cars/zhidou/zhidou-d2-electric-basic-1/?lang=en',\n",
       " '/cars/mitsubishi/mitsubishi-eclipse-cross-cvt-intense-4-wd/?lang=en']"
      ]
     },
     "execution_count": 7,
     "metadata": {},
     "output_type": "execute_result"
    }
   ],
   "source": [
    "page_links"
   ]
  },
  {
   "cell_type": "code",
   "execution_count": 8,
   "id": "45954702",
   "metadata": {},
   "outputs": [],
   "source": [
    "def get_car_links(soup: BeautifulSoup) -> list[str]:\n",
    "    item_containers = soup.find_all('div', class_='itemContainer')\n",
    "    return [item_containers[i].find_all('a')[1]['href'] for i in range(len(item_containers))]"
   ]
  },
  {
   "cell_type": "code",
   "execution_count": 9,
   "id": "31bc7399",
   "metadata": {},
   "outputs": [],
   "source": [
    "response = requests.get(base_url + page_links[0], headers=headers)\n",
    "soup  = BeautifulSoup(response.content)"
   ]
  },
  {
   "cell_type": "code",
   "execution_count": 10,
   "id": "d6679a56",
   "metadata": {},
   "outputs": [],
   "source": [
    "response = requests.get('https://flexcar.gr/cars/opel/opel-astra-gs-line-phev/?lang=en', headers=headers)\n",
    "soup  = BeautifulSoup(response.content)"
   ]
  },
  {
   "cell_type": "code",
   "execution_count": 11,
   "id": "1ca00717",
   "metadata": {},
   "outputs": [
    {
     "data": {
      "text/plain": [
       "<div class=\"carChars d-flex justify-content-between mt20 mb20 flex-wrap\" data-v-46b0d998=\"\" data-v-bce8aa42=\"\"><div class=\"col3 col6-sm d-flex flex-column align-items-center text-center\" data-v-bce8aa42=\"\"><img alt=\"hp.svg\" class=\"mb10\" data-v-bce8aa42=\"\" loading=\"lazy\" src=\"https://d1icjjohiliu1c.cloudfront.net/hp_77f3714f49.svg\"/> <span class=\"dark f500 pxs\" data-v-bce8aa42=\"\">180 hp</span></div> <div class=\"col3 col6-sm d-flex flex-column align-items-center text-center\" data-v-bce8aa42=\"\"><img alt=\"cc.svg\" class=\"mb10\" data-v-bce8aa42=\"\" loading=\"lazy\" src=\"https://d1icjjohiliu1c.cloudfront.net/cc_aa34a8596d.svg\"/> <span class=\"dark f500 pxs\" data-v-bce8aa42=\"\">1600 cc</span></div> <div class=\"col3 col6-sm d-flex flex-column align-items-center text-center\" data-v-bce8aa42=\"\"><img alt=\"kwh.svg\" class=\"mb10\" data-v-bce8aa42=\"\" loading=\"lazy\" src=\"https://d1icjjohiliu1c.cloudfront.net/kwh_0ffed9c32d.svg\"/> <span class=\"dark f500 pxs\" data-v-bce8aa42=\"\">1.2 liters / 100 km</span></div> <div class=\"col3 col6-sm d-flex flex-column align-items-center text-center\" data-v-bce8aa42=\"\"><img alt=\"fuel.svg\" class=\"mb10\" data-v-bce8aa42=\"\" loading=\"lazy\" src=\"https://d1icjjohiliu1c.cloudfront.net/fuel_fb144baee2.svg\"/> <span class=\"dark f500 pxs\" data-v-bce8aa42=\"\">petrol | automatic</span></div></div>"
      ]
     },
     "execution_count": 11,
     "metadata": {},
     "output_type": "execute_result"
    }
   ],
   "source": [
    "# car-basic info\n",
    "soup.find('div', class_='carChars')"
   ]
  },
  {
   "cell_type": "code",
   "execution_count": 12,
   "id": "7234c881",
   "metadata": {},
   "outputs": [
    {
     "data": {
      "text/plain": [
       "['180 hp', '1600 cc', '1.2 liters / 100 km', 'petrol | automatic']"
      ]
     },
     "execution_count": 12,
     "metadata": {},
     "output_type": "execute_result"
    }
   ],
   "source": [
    "# extract basic info\n",
    "[entry.text for entry in soup.find('div', class_='carChars').find_all('span')]"
   ]
  },
  {
   "cell_type": "code",
   "execution_count": 13,
   "id": "04f2b089",
   "metadata": {},
   "outputs": [
    {
     "data": {
      "text/plain": [
       "('180', '1.2', '1600', 'petrol', 'automatic')"
      ]
     },
     "execution_count": 13,
     "metadata": {},
     "output_type": "execute_result"
    }
   ],
   "source": [
    "def get_hp(soup: BeautifulSoup):\n",
    "    return (\n",
    "        soup.find(\"div\", class_=\"carChars\")\n",
    "        .find_all(\"span\")[0]\n",
    "        .text.split()[0]\n",
    "    )\n",
    "\n",
    "\n",
    "def get_engine_size(soup: BeautifulSoup):\n",
    "    return (\n",
    "        soup.find(\"div\", class_=\"carChars\")\n",
    "        .find_all(\"span\")[1]\n",
    "        .text.split()[0]\n",
    "    )\n",
    "\n",
    "\n",
    "def get_consumption(soup: BeautifulSoup):\n",
    "    return (\n",
    "        soup.find(\"div\", class_=\"carChars\")\n",
    "        .find_all(\"span\")[2]\n",
    "        .text.split()[0]\n",
    "    )\n",
    "\n",
    "def get_capacity(soup: BeautifulSoup):\n",
    "    return (\n",
    "        soup.find(\"div\", class_=\"carChars\")\n",
    "        .find_all(\"span\")[1]\n",
    "        .text.split()[0]\n",
    "    )\n",
    "\n",
    "\n",
    "def get_autonomy(soup: BeautifulSoup):\n",
    "    return (\n",
    "        soup.find(\"div\", class_=\"carChars\")\n",
    "        .find_all(\"span\")[2]\n",
    "        .text.split()[0]\n",
    "    )\n",
    "\n",
    "\n",
    "def get_fuel_type(soup: BeautifulSoup):\n",
    "    try:\n",
    "        fuel_type = (\n",
    "            soup.find(\"div\", class_=\"carChars\")\n",
    "            .find_all(\"span\")[3]\n",
    "            .text.split()[0]\n",
    "        )\n",
    "    except IndexError:\n",
    "        return None\n",
    "    return fuel_type\n",
    "\n",
    "\n",
    "def get_gearbox(soup: BeautifulSoup):\n",
    "    try:\n",
    "        gearbox = (\n",
    "            soup.find(\"div\", class_=\"carChars\")\n",
    "            .find_all(\"span\")[3]\n",
    "            .text.split()[2]\n",
    "        )\n",
    "    except IndexError:\n",
    "        return None\n",
    "    return gearbox\n",
    "\n",
    "\n",
    "get_hp(soup), get_consumption(soup), get_engine_size(\n",
    "    soup\n",
    "), get_fuel_type(soup), get_gearbox(soup)"
   ]
  },
  {
   "cell_type": "code",
   "execution_count": 14,
   "id": "ef028247",
   "metadata": {},
   "outputs": [
    {
     "data": {
      "text/plain": [
       "<div class=\"carHighlights d-flex justify-content-between mt20 mb20 flex-wrap\" data-v-46b0d998=\"\"><h3 class=\"f700 dark h5\" data-v-46b0d998=\"\">Highlights</h3> <ul data-v-46b0d998=\"\"><li data-v-46b0d998=\"\"><span class=\"dark f500 p\" data-v-46b0d998=\"\">Cruise control</span></li><li data-v-46b0d998=\"\"><span class=\"dark f500 p\" data-v-46b0d998=\"\">Apple car play</span></li><li data-v-46b0d998=\"\"><span class=\"dark f500 p\" data-v-46b0d998=\"\">Android auto</span></li><li data-v-46b0d998=\"\"><span class=\"dark f500 p\" data-v-46b0d998=\"\">Park assist camera</span></li><li data-v-46b0d998=\"\"><span class=\"dark f500 p\" data-v-46b0d998=\"\">Park assist sensors</span></li></ul></div>"
      ]
     },
     "execution_count": 14,
     "metadata": {},
     "output_type": "execute_result"
    }
   ],
   "source": [
    "# car highlights\n",
    "soup.find('div', class_='carHighlights')"
   ]
  },
  {
   "cell_type": "code",
   "execution_count": 15,
   "id": "3d481872",
   "metadata": {},
   "outputs": [
    {
     "data": {
      "text/plain": [
       "['Cruise control',\n",
       " 'Apple car play',\n",
       " 'Android\\xa0auto',\n",
       " 'Park assist camera',\n",
       " 'Park assist sensors']"
      ]
     },
     "execution_count": 15,
     "metadata": {},
     "output_type": "execute_result"
    }
   ],
   "source": [
    "# extract car highlights\n",
    "[entry.text for entry in soup.find('div', class_='carHighlights').find_all('span')]"
   ]
  },
  {
   "cell_type": "code",
   "execution_count": 16,
   "id": "0dc5ddc6",
   "metadata": {},
   "outputs": [],
   "source": [
    "def _clean_list(lst: list[str]):\n",
    "    return list(map(lambda x: x.replace('\\xa0', ' '), lst))"
   ]
  },
  {
   "cell_type": "code",
   "execution_count": 17,
   "id": "d67ac3fa",
   "metadata": {},
   "outputs": [],
   "source": [
    "def get_highlights(soup: BeautifulSoup) -> list[str]:\n",
    "    highlights = soup.find('div', class_='carHighlights')\n",
    "    if highlights:\n",
    "        lst = [entry.text for entry in highlights.find_all('span')]\n",
    "    else: \n",
    "        lst = []\n",
    "    return _clean_list(lst)"
   ]
  },
  {
   "cell_type": "code",
   "execution_count": 18,
   "id": "58a79e60",
   "metadata": {},
   "outputs": [
    {
     "data": {
      "text/plain": [
       "('Opel', 'Astra Plug In Hybrid Petrol (GS Line)')"
      ]
     },
     "execution_count": 18,
     "metadata": {},
     "output_type": "execute_result"
    }
   ],
   "source": [
    "# extract Name and model\n",
    "name_model = soup.find('h1').text.split(' ')\n",
    "name = name_model[0]\n",
    "model = ' '.join(name_model[1:])\n",
    "name, model"
   ]
  },
  {
   "cell_type": "code",
   "execution_count": 19,
   "id": "fe22be63",
   "metadata": {},
   "outputs": [],
   "source": [
    "def get_car_brand(soup: BeautifulSoup):\n",
    "    return soup.find('h1').text.split(' ')[0]\n",
    "def get_car_model(soup: BeautifulSoup):\n",
    "    return soup.find('h1').text.split(' ')[1]\n",
    "def get_model_version(soup: BeautifulSoup):\n",
    "    return ' '.join(soup.find('h1').text.split(' ')[2:])"
   ]
  },
  {
   "cell_type": "code",
   "execution_count": 20,
   "id": "29ff6e2a",
   "metadata": {},
   "outputs": [
    {
     "data": {
      "text/plain": [
       "'680'"
      ]
     },
     "execution_count": 20,
     "metadata": {},
     "output_type": "execute_result"
    }
   ],
   "source": [
    "# Extract price\n",
    "price_string = soup.find('h1').find_next_sibling().find('span', class_='f400').getText(strip=True)\n",
    "\n",
    "price_string = re.search('\\d+', price_string).group(0)\n",
    "price_string"
   ]
  },
  {
   "cell_type": "code",
   "execution_count": 21,
   "id": "56349981",
   "metadata": {},
   "outputs": [],
   "source": [
    "def get_price(soup:  BeautifulSoup)  -> str:\n",
    "    price_string = soup.find('h1').find_next_sibling().find('span', class_='f400').getText(strip=True)\n",
    "    return re.search(r'[\\d\\.]+', price_string).group(0).replace('.', '')"
   ]
  },
  {
   "cell_type": "code",
   "execution_count": 22,
   "id": "2b12385f",
   "metadata": {},
   "outputs": [
    {
     "data": {
      "text/plain": [
       "<div aria-labelledby=\"tab-Specifications\" class=\"el-tab-pane\" id=\"pane-Specifications\" role=\"tabpanel\"> <div><ul><li>Automatic air conditioning</li><li>Front / rear power windows</li><li>Electrically adjustable / heated door mirrors</li><li>Auto-dimming rear view mirror</li><li>Rain sensor</li><li>Power steering (vehicle speed proportional)</li><li>Tilting / telescopic adjustment on steering wheel</li><li>Cruise control with distance sensor</li><li>Rear parking distance sensors</li><li>360° view parking camera</li><li>10 inch satellite navigation screen</li><li>Mobile integration</li><li>Audio system with touch screen</li><li>Digital radio</li><li>6 speakers</li><li>Front entertainment screen with touch control</li><li>USB front connection</li><li>Bluetooth includes music streaming</li><li>Cloth upholstery</li><li>Manual height adjustable driver seat</li><li>Heated driver / front passenger seat</li><li>Front center armrest</li><li>ABS</li><li>Electronic traction control</li><li>Brake assist system</li><li>Electronic brake distribution</li><li>Stability control</li><li>Hill Holder</li><li>Lane departure warning</li><li>Pedestrian audio warning system</li><li>Intelligent Speed Assistance</li><li>Number of airbags</li><li>Driver Front Airbag</li><li>Front side airbags </li><li>Front seat belt pre-tensioners</li><li>Isofix preparation</li><li>Particle air filter</li><li>Start/Stop function</li><li>Energy recuperation</li></ul><p><br/> </p></div></div>"
      ]
     },
     "execution_count": 22,
     "metadata": {},
     "output_type": "execute_result"
    }
   ],
   "source": [
    "# spec list\n",
    "soup.find('div', class_=\"el-tab-pane\")"
   ]
  },
  {
   "cell_type": "code",
   "execution_count": 23,
   "id": "0e11244f",
   "metadata": {},
   "outputs": [
    {
     "data": {
      "text/plain": [
       "['Automatic air conditioning',\n",
       " 'Front / rear power windows',\n",
       " 'Electrically adjustable / heated door mirrors',\n",
       " 'Auto-dimming rear view mirror',\n",
       " 'Rain sensor']"
      ]
     },
     "execution_count": 23,
     "metadata": {},
     "output_type": "execute_result"
    }
   ],
   "source": [
    "[entry.text for entry in soup.find('div', class_=\"el-tab-pane\").find_all('li')][:5]"
   ]
  },
  {
   "cell_type": "code",
   "execution_count": 24,
   "id": "1575e14b",
   "metadata": {},
   "outputs": [],
   "source": [
    "def get_specs(soup: BeautifulSoup) -> list[str]:\n",
    "    lst = [entry.text for entry in soup.find('div', class_=\"el-tab-pane\").find_all('li')]\n",
    "    return _clean_list(lst)"
   ]
  },
  {
   "cell_type": "code",
   "execution_count": 25,
   "id": "5da2a746",
   "metadata": {},
   "outputs": [],
   "source": [
    "def _clean_spaces(string: str):\n",
    "    string.replace(\"\\xa0\", \" \")\n",
    "\n",
    "\n",
    "def _df_clean_df_spaces(df: pd.DataFrame):\n",
    "    for column in df.columns:\n",
    "        if df[column].dtype.name == 'string':\n",
    "            df[column].apply(_clean_spaces)\n",
    "\n",
    "def _df_set_types(df: pd.DataFrame):\n",
    "    df['consumption (lt/100km)'] = df['consumption (lt/100km)'].astype('Float64')\n",
    "    df[\"battery capacity (kwh)\"] = df[\"battery capacity (kwh)\"].astype('Float64')\n",
    "    df[\"autonomous range (km)\"] = df[\"autonomous range (km)\"].astype('Int64')\n",
    "    df['price (EUR)'] = df['price (EUR)'].astype('Int64')\n",
    "    df['hp'] = df['hp'].astype('Int64')\n",
    "    for column in df.columns:\n",
    "        if (\n",
    "            df[column].dtype.name == \"object\"\n",
    "            and df[column].apply(is_hashable).all()\n",
    "        ):\n",
    "            df[column] = df[column].astype('string')\n",
    "\n",
    "\n",
    "def clean_df(df: pd.DataFrame):\n",
    "    _df_clean_df_spaces(df)\n",
    "    _df_set_types(df)\n"
   ]
  },
  {
   "cell_type": "code",
   "execution_count": 26,
   "id": "a5e93e5a",
   "metadata": {},
   "outputs": [],
   "source": [
    "# check if the page is empty\n",
    "url = 'https://flexcar.gr/cars/?lang=en&category=MIN&category=HAT&category=SED&category=SUV&category=LUX&page=1'\n",
    "response = requests.get(url, headers=headers)\n",
    "soup = BeautifulSoup(response.content)"
   ]
  },
  {
   "cell_type": "code",
   "execution_count": 27,
   "id": "e575c257",
   "metadata": {},
   "outputs": [],
   "source": [
    "# if there is an 'h2' we  can break\n",
    "if soup.find_all('h2'):\n",
    "    print('yes')"
   ]
  },
  {
   "cell_type": "code",
   "execution_count": 28,
   "id": "0575de62",
   "metadata": {},
   "outputs": [],
   "source": [
    "def is_page_empty(soup: BeautifulSoup) -> bool:\n",
    "    return bool(soup.find_all('h2'))"
   ]
  },
  {
   "cell_type": "code",
   "execution_count": 29,
   "id": "0db856cc",
   "metadata": {},
   "outputs": [],
   "source": [
    "import logging\n",
    "\n",
    "logger = logging.getLogger(__name__)\n",
    "logger.addHandler(logging.FileHandler(\"logflex.txt\"))\n",
    "logger.setLevel(logging.INFO)"
   ]
  },
  {
   "cell_type": "code",
   "execution_count": 30,
   "id": "f7337ad4",
   "metadata": {},
   "outputs": [],
   "source": [
    "results = []\n",
    "page = 1\n",
    "page_template = \"https://flexcar.gr/cars/?lang=en&category=MIN&category=HAT&category=SED&category=SUV&category=LUX&page={}\"\n",
    "first_page = page_template.format(page)\n",
    "base_url = \"https://flexcar.gr\"\n",
    "# url_options = \"?lang=en\"\n",
    "response = requests.get(first_page, headers=headers)\n",
    "soup = BeautifulSoup(response.content)\n",
    "while not is_page_empty(soup):\n",
    "    logger.info(f\"page number: {page}\")\n",
    "    car_links = get_car_links(soup)\n",
    "    for link in car_links:\n",
    "        url = base_url + link  # + url_options\n",
    "        logger.info(f\"processing {url}\")\n",
    "        response = requests.get(url, headers=headers)\n",
    "        soup = BeautifulSoup(response.content)\n",
    "        try:\n",
    "            fuel_type = get_fuel_type(soup)\n",
    "            results.append(\n",
    "                {\n",
    "                    \"brand\": get_car_brand(soup),\n",
    "                    \"model\": get_car_model(soup),\n",
    "                    \"version\": get_model_version(soup),\n",
    "                    \"price (EUR)\": get_price(soup),\n",
    "                    \"fuel_type\": fuel_type,\n",
    "                    \"hp\": get_hp(soup),\n",
    "                    \"engine_size (cc)\": (\n",
    "                        get_engine_size(soup)\n",
    "                        if fuel_type != \"electric\"\n",
    "                        else None\n",
    "                    ),\n",
    "                    \"consumption (lt/100km)\": (\n",
    "                        get_consumption(soup)\n",
    "                        if fuel_type != \"electric\"\n",
    "                        else None\n",
    "                    ),\n",
    "                    \"battery capacity (kwh)\": (\n",
    "                        get_capacity(soup)\n",
    "                        if fuel_type == \"electric\"\n",
    "                        else None\n",
    "                    ),\n",
    "                    \"autonomous range (km)\": (\n",
    "                        get_autonomy(soup)\n",
    "                        if fuel_type == \"electric\"\n",
    "                        else None\n",
    "                    ),\n",
    "                    \"gearbox\": get_gearbox(soup),\n",
    "                    \"highlights\": get_highlights(soup),\n",
    "                    \"specifications\": get_specs(soup),\n",
    "                    \"link\": url,\n",
    "                }\n",
    "            )\n",
    "        except:\n",
    "            logger.info(f\"error {url}\")\n",
    "            raise\n",
    "        time.sleep(random.uniform(0.3, 0.4))    \n",
    "\n",
    "    page += 1\n",
    "    next_page = page_template.format(page)\n",
    "    response = requests.get(next_page, headers=headers)\n",
    "    soup = BeautifulSoup(response.content)"
   ]
  },
  {
   "cell_type": "code",
   "execution_count": 31,
   "id": "22a21a23",
   "metadata": {},
   "outputs": [],
   "source": [
    "df = pd.DataFrame(results)"
   ]
  },
  {
   "cell_type": "code",
   "execution_count": 32,
   "id": "bab651e6",
   "metadata": {},
   "outputs": [
    {
     "data": {
      "application/vnd.microsoft.datawrangler.viewer.v0+json": {
       "columns": [
        {
         "name": "index",
         "rawType": "int64",
         "type": "integer"
        },
        {
         "name": "brand",
         "rawType": "object",
         "type": "string"
        },
        {
         "name": "model",
         "rawType": "object",
         "type": "string"
        },
        {
         "name": "version",
         "rawType": "object",
         "type": "string"
        },
        {
         "name": "price (EUR)",
         "rawType": "object",
         "type": "string"
        },
        {
         "name": "fuel_type",
         "rawType": "object",
         "type": "string"
        },
        {
         "name": "hp",
         "rawType": "object",
         "type": "string"
        },
        {
         "name": "engine_size (cc)",
         "rawType": "object",
         "type": "unknown"
        },
        {
         "name": "consumption (lt/100km)",
         "rawType": "object",
         "type": "unknown"
        },
        {
         "name": "battery capacity (kwh)",
         "rawType": "object",
         "type": "unknown"
        },
        {
         "name": "autonomous range (km)",
         "rawType": "object",
         "type": "unknown"
        },
        {
         "name": "gearbox",
         "rawType": "object",
         "type": "string"
        },
        {
         "name": "highlights",
         "rawType": "object",
         "type": "unknown"
        },
        {
         "name": "specifications",
         "rawType": "object",
         "type": "unknown"
        },
        {
         "name": "link",
         "rawType": "object",
         "type": "string"
        }
       ],
       "conversionMethod": "pd.DataFrame",
       "ref": "4c409df6-b1b7-4860-8bc4-49d0145bb283",
       "rows": [
        [
         "0",
         "Opel",
         "Astra",
         "Plug In Hybrid Petrol (GS Line)",
         "680",
         "petrol",
         "180",
         "1600",
         "1.2",
         null,
         null,
         "automatic",
         "['Cruise control', 'Apple car play', 'Android auto', 'Park assist camera', 'Park assist sensors']",
         "['Automatic air conditioning', 'Front / rear power windows', 'Electrically adjustable / heated door mirrors', 'Auto-dimming rear view mirror', 'Rain sensor', 'Power steering (vehicle speed proportional)', 'Tilting / telescopic adjustment on steering wheel', 'Cruise control with distance sensor', 'Rear parking distance sensors', '360° view parking camera', '10 inch satellite navigation screen', 'Mobile integration', 'Audio system with touch screen', 'Digital radio', '6 speakers', 'Front entertainment screen with touch control', 'USB front connection', 'Bluetooth includes music streaming', 'Cloth upholstery', 'Manual height adjustable driver seat', 'Heated driver / front passenger seat', 'Front center armrest', 'ABS', 'Electronic traction control', 'Brake assist system', 'Electronic brake distribution', 'Stability control', 'Hill Holder', 'Lane departure warning', 'Pedestrian audio warning system', 'Intelligent Speed Assistance', 'Number of airbags', 'Driver Front Airbag', 'Front side airbags ', 'Front seat belt pre-tensioners', 'Isofix preparation', 'Particle air filter', 'Start/Stop function', 'Energy recuperation']",
         "https://flexcar.gr/cars/opel/opel-astra-gs-line-phev/?lang=en"
        ],
        [
         "1",
         "VW",
         "Polo",
         "Petrol (Life)",
         "430",
         "petrol",
         "95",
         "1000",
         "5.2",
         null,
         null,
         "manual",
         "['Apple car play', 'Android auto']",
         "['Air conditioning', 'Electrically adjustable / heated door mirrors', 'Auto-dimming rear view mirror', 'Electrically foldable door mirrors', 'Indicator lights in door mirrors', 'Rear View Camera', 'Android Auto/Apple Car Play', '4 speakers', 'USB front connection', 'Bluetooth', 'Manual height adjustable driver seat', 'Manual height adjustable front passenger seat', 'Alloy wheels', 'ABS', 'Electronic traction control', 'Dynamic steering', 'Brake assist system', 'Electronic brake distribution', 'Multi-collision braking', 'Stability control', 'Hill Holder', 'LED lights', 'Collision warning system activate brake lights', 'Collision warning system includes automatic braking', 'Collision warning system brakes at low speed', 'Collision warning system pedestrian avoidance', 'Lane departure warning', '7 airbags', 'Isofix preparation']",
         "https://flexcar.gr/cars/vw/vw-polo-life/?lang=en"
        ],
        [
         "2",
         "VW",
         "T-Roc",
         "Petrol (Life)",
         "520",
         "petrol",
         "110",
         "1000",
         "6",
         null,
         null,
         "manual",
         "['Cruise control', 'Apple car play', 'Android auto', 'Park assist camera', 'Park assist sensors']",
         "['Automatic air conditioning', 'Front / rear power windows', 'Electrically adjustable / heated door mirrors', 'Auto-dimming rear view mirror', 'Electrically foldable door mirrors', 'Indicator lights in door mirrors', 'Rain sensor', 'Cruise control with distance sensor', 'Front parking distance sensors', 'Rear parking distance sensors', 'Android Auto / Apple Car Play', 'Audio system with touch screen', '6 speakers', 'Bluetooth includes music streaming', 'WiFi network', 'Manual height adjustable driver seat', 'Manual height adjustable front passenger seat', 'Front center armrest', 'Rear seat armrest', 'Alloy wheels', 'ABS', 'Electronic traction control', 'Dynamic steering', 'Brake assist system', 'Electronic brake distribution', 'Multi-collision braking', 'Stability control', 'Hill Holder', 'Trailer stability program', 'LED lights', 'Headlight Control: dusk sensor', 'Collision warning system activate brake lights', 'Collision warning system includes automatic braking', 'Collision warning system brakes at low speed', 'Collision warning system pedestrian avoidance', 'Collision warning system includes acoustic/visual warning', 'Lane departure warning', '6 airbags', 'Isofix preparation']",
         "https://flexcar.gr/cars/vw/vw-t-roc-life/?lang=en"
        ],
        [
         "3",
         "Renault",
         "Arkana",
         "Hybrid Petrol (E-Tech Techno)",
         "610",
         "petrol",
         "145",
         "1600",
         "4.8",
         null,
         null,
         "automatic",
         "['Cruise control', 'Navigation', 'Apple car play', 'Android auto', 'Park assist camera', 'Park assist sensors']",
         "['Automatic air conditioning', 'Front / rear power windows', 'Electrically adjustable / heated door mirrors', 'Auto-dimming rear view mirror', 'Electrically foldable door mirrors', 'Indicator lights in door mirrors', 'Rain sensor', 'Cruise control', 'Satellite navigation screen  (9.3 inches)', 'Android Auto/ Apple Car Play', 'Digital radio', '6 speakers', 'USB front connection', 'Bluetooth includes music streaming', 'Media control - touch screen', 'Front center armrest', 'Alloy wheels', 'ABS', 'Electronic traction control', 'Brake assist system', 'Electronic brake distribution', 'Stability control', 'Hill Holder', 'LED high beam', 'Collision warning system activate brake lights', 'Collision warning system includes automatic braking', 'Collision warning system brakes at low speed', 'Collision warning system pedestrian avoidance', 'Collision warning system includes acoustic/visual warning', 'Lane departure warning', '4 airbags', 'Driver Front Airbag / Intelligent', 'Isofix preparation']",
         "https://flexcar.gr/cars/renault/renault-arkana-hybrid-petrol-e-tech-techno/?lang=en"
        ],
        [
         "4",
         "Smart",
         "ForTwo",
         "Electric (Pulse)",
         "495",
         "electric",
         "80",
         null,
         null,
         "20",
         "132",
         "automatic",
         "['Cruise control']",
         "['Autonomous range (kms): 132', 'Automatic air conditioning', 'Front / rear power windows', 'Power steering (vehicle speed proportional)', 'Cruise control', 'Cloth upholstery', 'ABS', 'Electronic traction control', 'Brake assist system', 'Electronic brake distribution', 'Stability control', 'Hill Holder', 'Collision warning system includes acoustic/visual warning', 'Pedestrian audio warning system', '5 airbags', 'Driver Front Airbag ', 'Passenger Front Airbag ', 'Front side airbags / head protection', 'Front knee airbags', 'Front seat belt pre-tensioners', 'Isofix preparation', 'Energy recuperation']",
         "https://flexcar.gr/cars/smart/smart-for-two-electric-pulse/?lang=en"
        ]
       ],
       "shape": {
        "columns": 14,
        "rows": 5
       }
      },
      "text/html": [
       "<div>\n",
       "<style scoped>\n",
       "    .dataframe tbody tr th:only-of-type {\n",
       "        vertical-align: middle;\n",
       "    }\n",
       "\n",
       "    .dataframe tbody tr th {\n",
       "        vertical-align: top;\n",
       "    }\n",
       "\n",
       "    .dataframe thead th {\n",
       "        text-align: right;\n",
       "    }\n",
       "</style>\n",
       "<table border=\"1\" class=\"dataframe\">\n",
       "  <thead>\n",
       "    <tr style=\"text-align: right;\">\n",
       "      <th></th>\n",
       "      <th>brand</th>\n",
       "      <th>model</th>\n",
       "      <th>version</th>\n",
       "      <th>price (EUR)</th>\n",
       "      <th>fuel_type</th>\n",
       "      <th>hp</th>\n",
       "      <th>engine_size (cc)</th>\n",
       "      <th>consumption (lt/100km)</th>\n",
       "      <th>battery capacity (kwh)</th>\n",
       "      <th>autonomous range (km)</th>\n",
       "      <th>gearbox</th>\n",
       "      <th>highlights</th>\n",
       "      <th>specifications</th>\n",
       "      <th>link</th>\n",
       "    </tr>\n",
       "  </thead>\n",
       "  <tbody>\n",
       "    <tr>\n",
       "      <th>0</th>\n",
       "      <td>Opel</td>\n",
       "      <td>Astra</td>\n",
       "      <td>Plug In Hybrid Petrol (GS Line)</td>\n",
       "      <td>680</td>\n",
       "      <td>petrol</td>\n",
       "      <td>180</td>\n",
       "      <td>1600</td>\n",
       "      <td>1.2</td>\n",
       "      <td>None</td>\n",
       "      <td>None</td>\n",
       "      <td>automatic</td>\n",
       "      <td>[Cruise control, Apple car play, Android auto,...</td>\n",
       "      <td>[Automatic air conditioning, Front / rear powe...</td>\n",
       "      <td>https://flexcar.gr/cars/opel/opel-astra-gs-lin...</td>\n",
       "    </tr>\n",
       "    <tr>\n",
       "      <th>1</th>\n",
       "      <td>VW</td>\n",
       "      <td>Polo</td>\n",
       "      <td>Petrol (Life)</td>\n",
       "      <td>430</td>\n",
       "      <td>petrol</td>\n",
       "      <td>95</td>\n",
       "      <td>1000</td>\n",
       "      <td>5.2</td>\n",
       "      <td>None</td>\n",
       "      <td>None</td>\n",
       "      <td>manual</td>\n",
       "      <td>[Apple car play, Android auto]</td>\n",
       "      <td>[Air conditioning, Electrically adjustable / h...</td>\n",
       "      <td>https://flexcar.gr/cars/vw/vw-polo-life/?lang=en</td>\n",
       "    </tr>\n",
       "    <tr>\n",
       "      <th>2</th>\n",
       "      <td>VW</td>\n",
       "      <td>T-Roc</td>\n",
       "      <td>Petrol (Life)</td>\n",
       "      <td>520</td>\n",
       "      <td>petrol</td>\n",
       "      <td>110</td>\n",
       "      <td>1000</td>\n",
       "      <td>6</td>\n",
       "      <td>None</td>\n",
       "      <td>None</td>\n",
       "      <td>manual</td>\n",
       "      <td>[Cruise control, Apple car play, Android auto,...</td>\n",
       "      <td>[Automatic air conditioning, Front / rear powe...</td>\n",
       "      <td>https://flexcar.gr/cars/vw/vw-t-roc-life/?lang=en</td>\n",
       "    </tr>\n",
       "    <tr>\n",
       "      <th>3</th>\n",
       "      <td>Renault</td>\n",
       "      <td>Arkana</td>\n",
       "      <td>Hybrid Petrol (E-Tech Techno)</td>\n",
       "      <td>610</td>\n",
       "      <td>petrol</td>\n",
       "      <td>145</td>\n",
       "      <td>1600</td>\n",
       "      <td>4.8</td>\n",
       "      <td>None</td>\n",
       "      <td>None</td>\n",
       "      <td>automatic</td>\n",
       "      <td>[Cruise control, Navigation, Apple car play, A...</td>\n",
       "      <td>[Automatic air conditioning, Front / rear powe...</td>\n",
       "      <td>https://flexcar.gr/cars/renault/renault-arkana...</td>\n",
       "    </tr>\n",
       "    <tr>\n",
       "      <th>4</th>\n",
       "      <td>Smart</td>\n",
       "      <td>ForTwo</td>\n",
       "      <td>Electric (Pulse)</td>\n",
       "      <td>495</td>\n",
       "      <td>electric</td>\n",
       "      <td>80</td>\n",
       "      <td>None</td>\n",
       "      <td>None</td>\n",
       "      <td>20</td>\n",
       "      <td>132</td>\n",
       "      <td>automatic</td>\n",
       "      <td>[Cruise control]</td>\n",
       "      <td>[Autonomous range (kms): 132, Automatic air co...</td>\n",
       "      <td>https://flexcar.gr/cars/smart/smart-for-two-el...</td>\n",
       "    </tr>\n",
       "  </tbody>\n",
       "</table>\n",
       "</div>"
      ],
      "text/plain": [
       "     brand   model                          version price (EUR) fuel_type  \\\n",
       "0     Opel   Astra  Plug In Hybrid Petrol (GS Line)         680    petrol   \n",
       "1       VW    Polo                    Petrol (Life)         430    petrol   \n",
       "2       VW   T-Roc                    Petrol (Life)         520    petrol   \n",
       "3  Renault  Arkana    Hybrid Petrol (E-Tech Techno)         610    petrol   \n",
       "4    Smart  ForTwo                 Electric (Pulse)         495  electric   \n",
       "\n",
       "    hp engine_size (cc) consumption (lt/100km) battery capacity (kwh)  \\\n",
       "0  180             1600                    1.2                   None   \n",
       "1   95             1000                    5.2                   None   \n",
       "2  110             1000                      6                   None   \n",
       "3  145             1600                    4.8                   None   \n",
       "4   80             None                   None                     20   \n",
       "\n",
       "  autonomous range (km)    gearbox  \\\n",
       "0                  None  automatic   \n",
       "1                  None     manual   \n",
       "2                  None     manual   \n",
       "3                  None  automatic   \n",
       "4                   132  automatic   \n",
       "\n",
       "                                          highlights  \\\n",
       "0  [Cruise control, Apple car play, Android auto,...   \n",
       "1                     [Apple car play, Android auto]   \n",
       "2  [Cruise control, Apple car play, Android auto,...   \n",
       "3  [Cruise control, Navigation, Apple car play, A...   \n",
       "4                                   [Cruise control]   \n",
       "\n",
       "                                      specifications  \\\n",
       "0  [Automatic air conditioning, Front / rear powe...   \n",
       "1  [Air conditioning, Electrically adjustable / h...   \n",
       "2  [Automatic air conditioning, Front / rear powe...   \n",
       "3  [Automatic air conditioning, Front / rear powe...   \n",
       "4  [Autonomous range (kms): 132, Automatic air co...   \n",
       "\n",
       "                                                link  \n",
       "0  https://flexcar.gr/cars/opel/opel-astra-gs-lin...  \n",
       "1   https://flexcar.gr/cars/vw/vw-polo-life/?lang=en  \n",
       "2  https://flexcar.gr/cars/vw/vw-t-roc-life/?lang=en  \n",
       "3  https://flexcar.gr/cars/renault/renault-arkana...  \n",
       "4  https://flexcar.gr/cars/smart/smart-for-two-el...  "
      ]
     },
     "execution_count": 32,
     "metadata": {},
     "output_type": "execute_result"
    }
   ],
   "source": [
    "df.head(5)"
   ]
  },
  {
   "cell_type": "code",
   "execution_count": 33,
   "id": "fc38c8ec",
   "metadata": {},
   "outputs": [],
   "source": [
    "clean_df(df)"
   ]
  },
  {
   "cell_type": "code",
   "execution_count": 34,
   "id": "6ad71f9f",
   "metadata": {},
   "outputs": [
    {
     "name": "stdout",
     "output_type": "stream",
     "text": [
      "<class 'pandas.core.frame.DataFrame'>\n",
      "RangeIndex: 170 entries, 0 to 169\n",
      "Data columns (total 14 columns):\n",
      " #   Column                  Non-Null Count  Dtype  \n",
      "---  ------                  --------------  -----  \n",
      " 0   brand                   170 non-null    string \n",
      " 1   model                   170 non-null    string \n",
      " 2   version                 170 non-null    string \n",
      " 3   price (EUR)             170 non-null    Int64  \n",
      " 4   fuel_type               169 non-null    string \n",
      " 5   hp                      170 non-null    Int64  \n",
      " 6   engine_size (cc)        149 non-null    string \n",
      " 7   consumption (lt/100km)  149 non-null    Float64\n",
      " 8   battery capacity (kwh)  21 non-null     Float64\n",
      " 9   autonomous range (km)   21 non-null     Int64  \n",
      " 10  gearbox                 169 non-null    string \n",
      " 11  highlights              170 non-null    object \n",
      " 12  specifications          170 non-null    object \n",
      " 13  link                    170 non-null    string \n",
      "dtypes: Float64(2), Int64(3), object(2), string(7)\n",
      "memory usage: 19.6+ KB\n"
     ]
    }
   ],
   "source": [
    "df.info()"
   ]
  },
  {
   "cell_type": "code",
   "execution_count": 35,
   "id": "5f2b3a7a",
   "metadata": {},
   "outputs": [
    {
     "data": {
      "application/vnd.microsoft.datawrangler.viewer.v0+json": {
       "columns": [
        {
         "name": "index",
         "rawType": "int64",
         "type": "integer"
        },
        {
         "name": "brand",
         "rawType": "string",
         "type": "string"
        },
        {
         "name": "model",
         "rawType": "string",
         "type": "string"
        },
        {
         "name": "version",
         "rawType": "string",
         "type": "string"
        },
        {
         "name": "price (EUR)",
         "rawType": "Int64",
         "type": "integer"
        },
        {
         "name": "fuel_type",
         "rawType": "string",
         "type": "string"
        },
        {
         "name": "hp",
         "rawType": "Int64",
         "type": "integer"
        },
        {
         "name": "engine_size (cc)",
         "rawType": "string",
         "type": "string"
        },
        {
         "name": "consumption (lt/100km)",
         "rawType": "Float64",
         "type": "float"
        },
        {
         "name": "battery capacity (kwh)",
         "rawType": "Float64",
         "type": "float"
        },
        {
         "name": "autonomous range (km)",
         "rawType": "Int64",
         "type": "integer"
        },
        {
         "name": "gearbox",
         "rawType": "string",
         "type": "string"
        },
        {
         "name": "highlights",
         "rawType": "object",
         "type": "unknown"
        },
        {
         "name": "specifications",
         "rawType": "object",
         "type": "unknown"
        },
        {
         "name": "link",
         "rawType": "string",
         "type": "string"
        }
       ],
       "conversionMethod": "pd.DataFrame",
       "ref": "b1f3aec4-bcfb-4f0e-aa0f-ec7bd8e5cb07",
       "rows": [
        [
         "0",
         "Opel",
         "Astra",
         "Plug In Hybrid Petrol (GS Line)",
         "680",
         "petrol",
         "180",
         "1600",
         "1.2",
         null,
         null,
         "automatic",
         "['Cruise control', 'Apple car play', 'Android auto', 'Park assist camera', 'Park assist sensors']",
         "['Automatic air conditioning', 'Front / rear power windows', 'Electrically adjustable / heated door mirrors', 'Auto-dimming rear view mirror', 'Rain sensor', 'Power steering (vehicle speed proportional)', 'Tilting / telescopic adjustment on steering wheel', 'Cruise control with distance sensor', 'Rear parking distance sensors', '360° view parking camera', '10 inch satellite navigation screen', 'Mobile integration', 'Audio system with touch screen', 'Digital radio', '6 speakers', 'Front entertainment screen with touch control', 'USB front connection', 'Bluetooth includes music streaming', 'Cloth upholstery', 'Manual height adjustable driver seat', 'Heated driver / front passenger seat', 'Front center armrest', 'ABS', 'Electronic traction control', 'Brake assist system', 'Electronic brake distribution', 'Stability control', 'Hill Holder', 'Lane departure warning', 'Pedestrian audio warning system', 'Intelligent Speed Assistance', 'Number of airbags', 'Driver Front Airbag', 'Front side airbags ', 'Front seat belt pre-tensioners', 'Isofix preparation', 'Particle air filter', 'Start/Stop function', 'Energy recuperation']",
         "https://flexcar.gr/cars/opel/opel-astra-gs-line-phev/?lang=en"
        ],
        [
         "1",
         "VW",
         "Polo",
         "Petrol (Life)",
         "430",
         "petrol",
         "95",
         "1000",
         "5.2",
         null,
         null,
         "manual",
         "['Apple car play', 'Android auto']",
         "['Air conditioning', 'Electrically adjustable / heated door mirrors', 'Auto-dimming rear view mirror', 'Electrically foldable door mirrors', 'Indicator lights in door mirrors', 'Rear View Camera', 'Android Auto/Apple Car Play', '4 speakers', 'USB front connection', 'Bluetooth', 'Manual height adjustable driver seat', 'Manual height adjustable front passenger seat', 'Alloy wheels', 'ABS', 'Electronic traction control', 'Dynamic steering', 'Brake assist system', 'Electronic brake distribution', 'Multi-collision braking', 'Stability control', 'Hill Holder', 'LED lights', 'Collision warning system activate brake lights', 'Collision warning system includes automatic braking', 'Collision warning system brakes at low speed', 'Collision warning system pedestrian avoidance', 'Lane departure warning', '7 airbags', 'Isofix preparation']",
         "https://flexcar.gr/cars/vw/vw-polo-life/?lang=en"
        ],
        [
         "2",
         "VW",
         "T-Roc",
         "Petrol (Life)",
         "520",
         "petrol",
         "110",
         "1000",
         "6.0",
         null,
         null,
         "manual",
         "['Cruise control', 'Apple car play', 'Android auto', 'Park assist camera', 'Park assist sensors']",
         "['Automatic air conditioning', 'Front / rear power windows', 'Electrically adjustable / heated door mirrors', 'Auto-dimming rear view mirror', 'Electrically foldable door mirrors', 'Indicator lights in door mirrors', 'Rain sensor', 'Cruise control with distance sensor', 'Front parking distance sensors', 'Rear parking distance sensors', 'Android Auto / Apple Car Play', 'Audio system with touch screen', '6 speakers', 'Bluetooth includes music streaming', 'WiFi network', 'Manual height adjustable driver seat', 'Manual height adjustable front passenger seat', 'Front center armrest', 'Rear seat armrest', 'Alloy wheels', 'ABS', 'Electronic traction control', 'Dynamic steering', 'Brake assist system', 'Electronic brake distribution', 'Multi-collision braking', 'Stability control', 'Hill Holder', 'Trailer stability program', 'LED lights', 'Headlight Control: dusk sensor', 'Collision warning system activate brake lights', 'Collision warning system includes automatic braking', 'Collision warning system brakes at low speed', 'Collision warning system pedestrian avoidance', 'Collision warning system includes acoustic/visual warning', 'Lane departure warning', '6 airbags', 'Isofix preparation']",
         "https://flexcar.gr/cars/vw/vw-t-roc-life/?lang=en"
        ],
        [
         "3",
         "Renault",
         "Arkana",
         "Hybrid Petrol (E-Tech Techno)",
         "610",
         "petrol",
         "145",
         "1600",
         "4.8",
         null,
         null,
         "automatic",
         "['Cruise control', 'Navigation', 'Apple car play', 'Android auto', 'Park assist camera', 'Park assist sensors']",
         "['Automatic air conditioning', 'Front / rear power windows', 'Electrically adjustable / heated door mirrors', 'Auto-dimming rear view mirror', 'Electrically foldable door mirrors', 'Indicator lights in door mirrors', 'Rain sensor', 'Cruise control', 'Satellite navigation screen  (9.3 inches)', 'Android Auto/ Apple Car Play', 'Digital radio', '6 speakers', 'USB front connection', 'Bluetooth includes music streaming', 'Media control - touch screen', 'Front center armrest', 'Alloy wheels', 'ABS', 'Electronic traction control', 'Brake assist system', 'Electronic brake distribution', 'Stability control', 'Hill Holder', 'LED high beam', 'Collision warning system activate brake lights', 'Collision warning system includes automatic braking', 'Collision warning system brakes at low speed', 'Collision warning system pedestrian avoidance', 'Collision warning system includes acoustic/visual warning', 'Lane departure warning', '4 airbags', 'Driver Front Airbag / Intelligent', 'Isofix preparation']",
         "https://flexcar.gr/cars/renault/renault-arkana-hybrid-petrol-e-tech-techno/?lang=en"
        ],
        [
         "4",
         "Smart",
         "ForTwo",
         "Electric (Pulse)",
         "495",
         "electric",
         "80",
         null,
         null,
         "20.0",
         "132",
         "automatic",
         "['Cruise control']",
         "['Autonomous range (kms): 132', 'Automatic air conditioning', 'Front / rear power windows', 'Power steering (vehicle speed proportional)', 'Cruise control', 'Cloth upholstery', 'ABS', 'Electronic traction control', 'Brake assist system', 'Electronic brake distribution', 'Stability control', 'Hill Holder', 'Collision warning system includes acoustic/visual warning', 'Pedestrian audio warning system', '5 airbags', 'Driver Front Airbag ', 'Passenger Front Airbag ', 'Front side airbags / head protection', 'Front knee airbags', 'Front seat belt pre-tensioners', 'Isofix preparation', 'Energy recuperation']",
         "https://flexcar.gr/cars/smart/smart-for-two-electric-pulse/?lang=en"
        ]
       ],
       "shape": {
        "columns": 14,
        "rows": 5
       }
      },
      "text/html": [
       "<div>\n",
       "<style scoped>\n",
       "    .dataframe tbody tr th:only-of-type {\n",
       "        vertical-align: middle;\n",
       "    }\n",
       "\n",
       "    .dataframe tbody tr th {\n",
       "        vertical-align: top;\n",
       "    }\n",
       "\n",
       "    .dataframe thead th {\n",
       "        text-align: right;\n",
       "    }\n",
       "</style>\n",
       "<table border=\"1\" class=\"dataframe\">\n",
       "  <thead>\n",
       "    <tr style=\"text-align: right;\">\n",
       "      <th></th>\n",
       "      <th>brand</th>\n",
       "      <th>model</th>\n",
       "      <th>version</th>\n",
       "      <th>price (EUR)</th>\n",
       "      <th>fuel_type</th>\n",
       "      <th>hp</th>\n",
       "      <th>engine_size (cc)</th>\n",
       "      <th>consumption (lt/100km)</th>\n",
       "      <th>battery capacity (kwh)</th>\n",
       "      <th>autonomous range (km)</th>\n",
       "      <th>gearbox</th>\n",
       "      <th>highlights</th>\n",
       "      <th>specifications</th>\n",
       "      <th>link</th>\n",
       "    </tr>\n",
       "  </thead>\n",
       "  <tbody>\n",
       "    <tr>\n",
       "      <th>0</th>\n",
       "      <td>Opel</td>\n",
       "      <td>Astra</td>\n",
       "      <td>Plug In Hybrid Petrol (GS Line)</td>\n",
       "      <td>680</td>\n",
       "      <td>petrol</td>\n",
       "      <td>180</td>\n",
       "      <td>1600</td>\n",
       "      <td>1.2</td>\n",
       "      <td>&lt;NA&gt;</td>\n",
       "      <td>&lt;NA&gt;</td>\n",
       "      <td>automatic</td>\n",
       "      <td>[Cruise control, Apple car play, Android auto,...</td>\n",
       "      <td>[Automatic air conditioning, Front / rear powe...</td>\n",
       "      <td>https://flexcar.gr/cars/opel/opel-astra-gs-lin...</td>\n",
       "    </tr>\n",
       "    <tr>\n",
       "      <th>1</th>\n",
       "      <td>VW</td>\n",
       "      <td>Polo</td>\n",
       "      <td>Petrol (Life)</td>\n",
       "      <td>430</td>\n",
       "      <td>petrol</td>\n",
       "      <td>95</td>\n",
       "      <td>1000</td>\n",
       "      <td>5.2</td>\n",
       "      <td>&lt;NA&gt;</td>\n",
       "      <td>&lt;NA&gt;</td>\n",
       "      <td>manual</td>\n",
       "      <td>[Apple car play, Android auto]</td>\n",
       "      <td>[Air conditioning, Electrically adjustable / h...</td>\n",
       "      <td>https://flexcar.gr/cars/vw/vw-polo-life/?lang=en</td>\n",
       "    </tr>\n",
       "    <tr>\n",
       "      <th>2</th>\n",
       "      <td>VW</td>\n",
       "      <td>T-Roc</td>\n",
       "      <td>Petrol (Life)</td>\n",
       "      <td>520</td>\n",
       "      <td>petrol</td>\n",
       "      <td>110</td>\n",
       "      <td>1000</td>\n",
       "      <td>6.0</td>\n",
       "      <td>&lt;NA&gt;</td>\n",
       "      <td>&lt;NA&gt;</td>\n",
       "      <td>manual</td>\n",
       "      <td>[Cruise control, Apple car play, Android auto,...</td>\n",
       "      <td>[Automatic air conditioning, Front / rear powe...</td>\n",
       "      <td>https://flexcar.gr/cars/vw/vw-t-roc-life/?lang=en</td>\n",
       "    </tr>\n",
       "    <tr>\n",
       "      <th>3</th>\n",
       "      <td>Renault</td>\n",
       "      <td>Arkana</td>\n",
       "      <td>Hybrid Petrol (E-Tech Techno)</td>\n",
       "      <td>610</td>\n",
       "      <td>petrol</td>\n",
       "      <td>145</td>\n",
       "      <td>1600</td>\n",
       "      <td>4.8</td>\n",
       "      <td>&lt;NA&gt;</td>\n",
       "      <td>&lt;NA&gt;</td>\n",
       "      <td>automatic</td>\n",
       "      <td>[Cruise control, Navigation, Apple car play, A...</td>\n",
       "      <td>[Automatic air conditioning, Front / rear powe...</td>\n",
       "      <td>https://flexcar.gr/cars/renault/renault-arkana...</td>\n",
       "    </tr>\n",
       "    <tr>\n",
       "      <th>4</th>\n",
       "      <td>Smart</td>\n",
       "      <td>ForTwo</td>\n",
       "      <td>Electric (Pulse)</td>\n",
       "      <td>495</td>\n",
       "      <td>electric</td>\n",
       "      <td>80</td>\n",
       "      <td>&lt;NA&gt;</td>\n",
       "      <td>&lt;NA&gt;</td>\n",
       "      <td>20.0</td>\n",
       "      <td>132</td>\n",
       "      <td>automatic</td>\n",
       "      <td>[Cruise control]</td>\n",
       "      <td>[Autonomous range (kms): 132, Automatic air co...</td>\n",
       "      <td>https://flexcar.gr/cars/smart/smart-for-two-el...</td>\n",
       "    </tr>\n",
       "  </tbody>\n",
       "</table>\n",
       "</div>"
      ],
      "text/plain": [
       "     brand   model                          version  price (EUR) fuel_type  \\\n",
       "0     Opel   Astra  Plug In Hybrid Petrol (GS Line)          680    petrol   \n",
       "1       VW    Polo                    Petrol (Life)          430    petrol   \n",
       "2       VW   T-Roc                    Petrol (Life)          520    petrol   \n",
       "3  Renault  Arkana    Hybrid Petrol (E-Tech Techno)          610    petrol   \n",
       "4    Smart  ForTwo                 Electric (Pulse)          495  electric   \n",
       "\n",
       "    hp engine_size (cc)  consumption (lt/100km)  battery capacity (kwh)  \\\n",
       "0  180             1600                     1.2                    <NA>   \n",
       "1   95             1000                     5.2                    <NA>   \n",
       "2  110             1000                     6.0                    <NA>   \n",
       "3  145             1600                     4.8                    <NA>   \n",
       "4   80             <NA>                    <NA>                    20.0   \n",
       "\n",
       "   autonomous range (km)    gearbox  \\\n",
       "0                   <NA>  automatic   \n",
       "1                   <NA>     manual   \n",
       "2                   <NA>     manual   \n",
       "3                   <NA>  automatic   \n",
       "4                    132  automatic   \n",
       "\n",
       "                                          highlights  \\\n",
       "0  [Cruise control, Apple car play, Android auto,...   \n",
       "1                     [Apple car play, Android auto]   \n",
       "2  [Cruise control, Apple car play, Android auto,...   \n",
       "3  [Cruise control, Navigation, Apple car play, A...   \n",
       "4                                   [Cruise control]   \n",
       "\n",
       "                                      specifications  \\\n",
       "0  [Automatic air conditioning, Front / rear powe...   \n",
       "1  [Air conditioning, Electrically adjustable / h...   \n",
       "2  [Automatic air conditioning, Front / rear powe...   \n",
       "3  [Automatic air conditioning, Front / rear powe...   \n",
       "4  [Autonomous range (kms): 132, Automatic air co...   \n",
       "\n",
       "                                                link  \n",
       "0  https://flexcar.gr/cars/opel/opel-astra-gs-lin...  \n",
       "1   https://flexcar.gr/cars/vw/vw-polo-life/?lang=en  \n",
       "2  https://flexcar.gr/cars/vw/vw-t-roc-life/?lang=en  \n",
       "3  https://flexcar.gr/cars/renault/renault-arkana...  \n",
       "4  https://flexcar.gr/cars/smart/smart-for-two-el...  "
      ]
     },
     "execution_count": 35,
     "metadata": {},
     "output_type": "execute_result"
    }
   ],
   "source": [
    "df.head(5)"
   ]
  },
  {
   "cell_type": "code",
   "execution_count": 36,
   "id": "8b9ab5f6",
   "metadata": {},
   "outputs": [],
   "source": [
    "# Save dataframe to pickle\n",
    "df.to_pickle('data2.pkl')"
   ]
  },
  {
   "cell_type": "code",
   "execution_count": 325,
   "id": "f1339fab",
   "metadata": {},
   "outputs": [],
   "source": [
    "# Load dataframe from pickle\n",
    "df = pd.read_pickle('data2.pkl')"
   ]
  },
  {
   "cell_type": "code",
   "execution_count": 40,
   "id": "17f5f4fe",
   "metadata": {},
   "outputs": [
    {
     "data": {
      "application/vnd.microsoft.datawrangler.viewer.v0+json": {
       "columns": [
        {
         "name": "index",
         "rawType": "int64",
         "type": "integer"
        },
        {
         "name": "brand",
         "rawType": "string",
         "type": "string"
        },
        {
         "name": "model",
         "rawType": "string",
         "type": "string"
        },
        {
         "name": "version",
         "rawType": "string",
         "type": "string"
        },
        {
         "name": "price (EUR)",
         "rawType": "Int64",
         "type": "integer"
        },
        {
         "name": "fuel_type",
         "rawType": "string",
         "type": "string"
        },
        {
         "name": "hp",
         "rawType": "Int64",
         "type": "integer"
        },
        {
         "name": "engine_size (cc)",
         "rawType": "string",
         "type": "string"
        },
        {
         "name": "consumption (lt/100km)",
         "rawType": "Float64",
         "type": "float"
        },
        {
         "name": "battery capacity (kwh)",
         "rawType": "Float64",
         "type": "float"
        },
        {
         "name": "autonomous range (km)",
         "rawType": "Int64",
         "type": "integer"
        },
        {
         "name": "gearbox",
         "rawType": "string",
         "type": "string"
        },
        {
         "name": "highlights",
         "rawType": "object",
         "type": "unknown"
        },
        {
         "name": "specifications",
         "rawType": "object",
         "type": "unknown"
        },
        {
         "name": "link",
         "rawType": "string",
         "type": "string"
        }
       ],
       "conversionMethod": "pd.DataFrame",
       "ref": "036c6fc0-c97f-490b-887b-29a52044a131",
       "rows": [
        [
         "21",
         "Suzuki",
         "Swift",
         "Mild Hybrid (Sport) ",
         "440",
         "petrol",
         "129",
         "1400",
         "5.5",
         null,
         null,
         "manual",
         "['Cruise control', 'Navigation', 'Apple car play', 'Android auto']",
         "['Automatic air conditioning', 'Front / rear power windows', 'Electrically adjustable / heated door mirrors', 'Cruise control with distance sensor', 'Rear parking distance sensors', 'Satellite navigation', 'Mobile integration', '6 speakers', 'Front entertainment screen size (in): 7.0', 'Seating configuration: 2+3', 'Alloy wheels', 'ABS', 'Electronic traction control', 'Brake assist system', 'Stability control', 'Hill Holder', 'LED daytime running lights', 'LED low beam', 'LED high beam', 'LED rear lights', 'LED brake lights', 'Front fog lights', 'Headlight Control: dusk sensor', 'Collision warning system activate brake lights', 'Collision warning system includes automatic braking', 'Collision warning system brakes at low speed', 'Collision warning system pedestrian avoidance', 'Collision warning system includes acoustic/visual warning', 'Lane departure warning', 'Overtaking sensor', '6 airbags', 'Isofix preparation', 'Maximum speed (km/h): 210', 'Acceleration 0-100 km/h (s): 9.1', 'Start/Stop function', 'Overall length (mm): 3,890', 'Overall width (mm): 1,735', 'Overall height (mm): 1,495', 'Cargo capacity rear seat up; to lower window (l): 265']",
         "https://flexcar.gr/cars/suzuki/suzuki-swift-mild-hybrid-petrol-sport/?lang=en"
        ]
       ],
       "shape": {
        "columns": 14,
        "rows": 1
       }
      },
      "text/html": [
       "<div>\n",
       "<style scoped>\n",
       "    .dataframe tbody tr th:only-of-type {\n",
       "        vertical-align: middle;\n",
       "    }\n",
       "\n",
       "    .dataframe tbody tr th {\n",
       "        vertical-align: top;\n",
       "    }\n",
       "\n",
       "    .dataframe thead th {\n",
       "        text-align: right;\n",
       "    }\n",
       "</style>\n",
       "<table border=\"1\" class=\"dataframe\">\n",
       "  <thead>\n",
       "    <tr style=\"text-align: right;\">\n",
       "      <th></th>\n",
       "      <th>brand</th>\n",
       "      <th>model</th>\n",
       "      <th>version</th>\n",
       "      <th>price (EUR)</th>\n",
       "      <th>fuel_type</th>\n",
       "      <th>hp</th>\n",
       "      <th>engine_size (cc)</th>\n",
       "      <th>consumption (lt/100km)</th>\n",
       "      <th>battery capacity (kwh)</th>\n",
       "      <th>autonomous range (km)</th>\n",
       "      <th>gearbox</th>\n",
       "      <th>highlights</th>\n",
       "      <th>specifications</th>\n",
       "      <th>link</th>\n",
       "    </tr>\n",
       "  </thead>\n",
       "  <tbody>\n",
       "    <tr>\n",
       "      <th>21</th>\n",
       "      <td>Suzuki</td>\n",
       "      <td>Swift</td>\n",
       "      <td>Mild Hybrid (Sport)</td>\n",
       "      <td>440</td>\n",
       "      <td>petrol</td>\n",
       "      <td>129</td>\n",
       "      <td>1400</td>\n",
       "      <td>5.5</td>\n",
       "      <td>&lt;NA&gt;</td>\n",
       "      <td>&lt;NA&gt;</td>\n",
       "      <td>manual</td>\n",
       "      <td>[Cruise control, Navigation, Apple car play, A...</td>\n",
       "      <td>[Automatic air conditioning, Front / rear powe...</td>\n",
       "      <td>https://flexcar.gr/cars/suzuki/suzuki-swift-mi...</td>\n",
       "    </tr>\n",
       "  </tbody>\n",
       "</table>\n",
       "</div>"
      ],
      "text/plain": [
       "     brand  model               version  price (EUR) fuel_type   hp  \\\n",
       "21  Suzuki  Swift  Mild Hybrid (Sport)           440    petrol  129   \n",
       "\n",
       "   engine_size (cc)  consumption (lt/100km)  battery capacity (kwh)  \\\n",
       "21             1400                     5.5                    <NA>   \n",
       "\n",
       "    autonomous range (km) gearbox  \\\n",
       "21                   <NA>  manual   \n",
       "\n",
       "                                           highlights  \\\n",
       "21  [Cruise control, Navigation, Apple car play, A...   \n",
       "\n",
       "                                       specifications  \\\n",
       "21  [Automatic air conditioning, Front / rear powe...   \n",
       "\n",
       "                                                 link  \n",
       "21  https://flexcar.gr/cars/suzuki/suzuki-swift-mi...  "
      ]
     },
     "execution_count": 40,
     "metadata": {},
     "output_type": "execute_result"
    }
   ],
   "source": [
    "df[(df['price (EUR)'] < 500) & (df['engine_size (cc)']  == \"1400\")]"
   ]
  },
  {
   "cell_type": "code",
   "execution_count": 41,
   "id": "96800371",
   "metadata": {},
   "outputs": [],
   "source": [
    "df.to_csv('flexcar.ccsv')"
   ]
  }
 ],
 "metadata": {
  "kernelspec": {
   "display_name": "bb_data_edit",
   "language": "python",
   "name": "python3"
  },
  "language_info": {
   "codemirror_mode": {
    "name": "ipython",
    "version": 3
   },
   "file_extension": ".py",
   "mimetype": "text/x-python",
   "name": "python",
   "nbconvert_exporter": "python",
   "pygments_lexer": "ipython3",
   "version": "3.11.11"
  }
 },
 "nbformat": 4,
 "nbformat_minor": 5
}
