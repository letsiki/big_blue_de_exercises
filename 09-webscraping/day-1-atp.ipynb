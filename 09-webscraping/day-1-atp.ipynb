{
 "cells": [
  {
   "cell_type": "markdown",
   "id": "c4d37f8b",
   "metadata": {},
   "source": [
    "# Exercise: Web scrape ATP top100\n",
    "Web scrape [ATPWorldTour](https://www.google.com/url?q=https://www.atptour.com/en/rankings/singles&sa=D&source=editors&ust=1747472228686458&usg=AOvVaw0ZSQIIU2c3msEpvj4vO0xL) website (singles)\n",
    "Get all weeks (from 1973 to today) of the top100 rankings, scrape date, player name, ranking, country and points and store the data to a dataframe and save it at the end to a csv file. (Hint: use an empty string “” in the headers)  "
   ]
  },
  {
   "cell_type": "code",
   "execution_count": 1,
   "id": "5674faa3",
   "metadata": {},
   "outputs": [],
   "source": [
    "import requests\n",
    "from bs4 import BeautifulSoup\n",
    "import pandas as pd"
   ]
  },
  {
   "cell_type": "markdown",
   "id": "f9cf65df",
   "metadata": {},
   "source": [
    "I will tackle its step individually and I will then stitch them into functions and orchestrate them."
   ]
  },
  {
   "cell_type": "markdown",
   "id": "9faa2af5",
   "metadata": {},
   "source": [
    "### Crawiling"
   ]
  },
  {
   "cell_type": "markdown",
   "id": "1dce6291",
   "metadata": {},
   "source": [
    "First I want to deal with the crawling part. I want to get hold of all the urls, each representing a weekly ranking since 1973."
   ]
  },
  {
   "cell_type": "code",
   "execution_count": 2,
   "id": "b0d266df",
   "metadata": {},
   "outputs": [
    {
     "name": "stdout",
     "output_type": "stream",
     "text": [
      "403 Forbidden\n"
     ]
    }
   ],
   "source": [
    "first_week_url = \"https://www.atptour.com/en/rankings/singles?dateWeek=1973-08-23\"\n",
    "response = requests.get(first_week_url)\n",
    "response.status_code\n",
    "# Check status code, we want 200\n",
    "if response.status_code != 200:\n",
    "    print(response.status_code, response.reason)"
   ]
  },
  {
   "cell_type": "markdown",
   "id": "e3631026",
   "metadata": {},
   "source": [
    "Access is forbidden. This probably means that I need to pretend I am a real user and not a bot... I will do that by adding headers to my request"
   ]
  },
  {
   "cell_type": "code",
   "execution_count": 3,
   "id": "b2fb5693",
   "metadata": {},
   "outputs": [],
   "source": [
    "headers = {\n",
    "    \"User-Agent\": \"Mozilla/5.0 (Windows NT 10.0; Win64; x64) AppleWebKit/537.36 (KHTML, like Gecko) Chrome/115.0 Safari/537.36\"\n",
    "}\n",
    "\n",
    "first_week_url = \"https://www.atptour.com/en/rankings/singles?dateWeek=1973-08-23\"\n",
    "response = requests.get(first_week_url, headers=headers)\n",
    "response.status_code\n",
    "# Check status code, we want 200\n",
    "if response.status_code != 200:\n",
    "    print(response.status_code, response.reason)"
   ]
  },
  {
   "cell_type": "code",
   "execution_count": 4,
   "id": "e83dc2ae",
   "metadata": {},
   "outputs": [
    {
     "data": {
      "text/plain": [
       "bs4.BeautifulSoup"
      ]
     },
     "execution_count": 4,
     "metadata": {},
     "output_type": "execute_result"
    }
   ],
   "source": [
    "soup = BeautifulSoup(response.content, 'html.parser')\n",
    "type(soup)"
   ]
  },
  {
   "cell_type": "markdown",
   "id": "2f167a57",
   "metadata": {},
   "source": [
    "To inspect the html I am using a combination of 'view source' and 'inspect element' in my browser."
   ]
  },
  {
   "cell_type": "markdown",
   "id": "ec02e2bc",
   "metadata": {},
   "source": [
    "To create a list of all the urls I could start iterating from the starting date to now using a weekly step, datetime and a weekly timedelta  \n",
    "After careful inspection I noticed to things:\n",
    "- not every week is populated\n",
    "- I can get hold of all the dates, (contents of the dropdown menu)"
   ]
  },
  {
   "cell_type": "markdown",
   "id": "94d04746",
   "metadata": {},
   "source": [
    "So the next step is to create a list or the urls of each week"
   ]
  },
  {
   "cell_type": "code",
   "execution_count": 5,
   "id": "0b8b92d3",
   "metadata": {},
   "outputs": [],
   "source": [
    "# tag containing all date tags\n",
    "select_tag = soup.find('select', id='dateWeek-filter')"
   ]
  },
  {
   "cell_type": "code",
   "execution_count": null,
   "id": "de6b2a14",
   "metadata": {},
   "outputs": [],
   "source": [
    "# verify\n",
    "select_tag.text"
   ]
  },
  {
   "cell_type": "code",
   "execution_count": 7,
   "id": "cf814ff0",
   "metadata": {},
   "outputs": [],
   "source": [
    "date_tags = select_tag.find_all('option')"
   ]
  },
  {
   "cell_type": "code",
   "execution_count": 8,
   "id": "b38df849",
   "metadata": {},
   "outputs": [
    {
     "data": {
      "text/plain": [
       "[<option value=\"Current Week\">2025.05.05</option>,\n",
       " <option value=\"2025-04-21\">2025.04.21</option>,\n",
       " <option value=\"2025-04-14\">2025.04.14</option>,\n",
       " <option value=\"2025-04-07\">2025.04.07</option>,\n",
       " <option value=\"2025-03-31\">2025.03.31</option>]"
      ]
     },
     "execution_count": 8,
     "metadata": {},
     "output_type": "execute_result"
    }
   ],
   "source": [
    "date_tags[:5]"
   ]
  },
  {
   "cell_type": "markdown",
   "id": "0550f9ab",
   "metadata": {},
   "source": [
    "Now I will extract the date part of each option tag"
   ]
  },
  {
   "cell_type": "code",
   "execution_count": 9,
   "id": "29095b85",
   "metadata": {},
   "outputs": [
    {
     "data": {
      "text/plain": [
       "['Current Week', '2025-04-21', '2025-04-14', '2025-04-07', '2025-03-31']"
      ]
     },
     "execution_count": 9,
     "metadata": {},
     "output_type": "execute_result"
    }
   ],
   "source": [
    "dates = [date_tag['value'] for date_tag in date_tags]\n",
    "dates[:5]"
   ]
  },
  {
   "cell_type": "markdown",
   "id": "3a781216",
   "metadata": {},
   "source": [
    "next step is to construct a url out of each week. For this I will the following base url and concatenate the date\n",
    "in the  function I will convert 'Current Week' to 'Current+Week'  for precision"
   ]
  },
  {
   "cell_type": "code",
   "execution_count": 10,
   "id": "7d8d9244",
   "metadata": {},
   "outputs": [],
   "source": [
    "url = \"https://www.atptour.com/en/rankings/singles?dateWeek=\""
   ]
  },
  {
   "cell_type": "code",
   "execution_count": 11,
   "id": "4c67d970",
   "metadata": {},
   "outputs": [],
   "source": [
    "urls = sorted([f'{url}{date}'for date in dates])"
   ]
  },
  {
   "cell_type": "code",
   "execution_count": 12,
   "id": "e44a91ea",
   "metadata": {},
   "outputs": [
    {
     "data": {
      "text/plain": [
       "['https://www.atptour.com/en/rankings/singles?dateWeek=2025-03-31',\n",
       " 'https://www.atptour.com/en/rankings/singles?dateWeek=2025-04-07',\n",
       " 'https://www.atptour.com/en/rankings/singles?dateWeek=2025-04-14',\n",
       " 'https://www.atptour.com/en/rankings/singles?dateWeek=2025-04-21',\n",
       " 'https://www.atptour.com/en/rankings/singles?dateWeek=Current Week']"
      ]
     },
     "execution_count": 12,
     "metadata": {},
     "output_type": "execute_result"
    }
   ],
   "source": [
    "urls[-5:]"
   ]
  },
  {
   "cell_type": "markdown",
   "id": "4f12f8fa",
   "metadata": {},
   "source": [
    "### Scraping"
   ]
  },
  {
   "cell_type": "markdown",
   "id": "6a47b9cb",
   "metadata": {},
   "source": [
    "Now I will be moving onto my scraping part. I will use the first week as a sample and try to extract the data from there.\n",
    "date we need:\n",
    "- date\n",
    "- player name \n",
    "- ranking\n",
    "- country\n",
    "- points"
   ]
  },
  {
   "cell_type": "markdown",
   "id": "fa423a3a",
   "metadata": {},
   "source": [
    "##### date"
   ]
  },
  {
   "cell_type": "markdown",
   "id": "7a64a240",
   "metadata": {},
   "source": [
    "this information is contained in the url, but I would prefer to get it from the html itself because I want to completely decouple the crawler and the scraper.  \n",
    "In the same place we found the dates, one of the dates was the selected attribute inside of it. That is the one we are looking for"
   ]
  },
  {
   "cell_type": "code",
   "execution_count": 13,
   "id": "7fbda8e0",
   "metadata": {},
   "outputs": [],
   "source": [
    "current_date  = select_tag.find('option', selected=True).text"
   ]
  },
  {
   "cell_type": "code",
   "execution_count": 14,
   "id": "3181bbe2",
   "metadata": {},
   "outputs": [
    {
     "data": {
      "text/plain": [
       "'1973.08.23'"
      ]
     },
     "execution_count": 14,
     "metadata": {},
     "output_type": "execute_result"
    }
   ],
   "source": [
    "current_date"
   ]
  },
  {
   "cell_type": "markdown",
   "id": "4f3fb781",
   "metadata": {},
   "source": [
    "##### player name"
   ]
  },
  {
   "cell_type": "markdown",
   "id": "278353e5",
   "metadata": {},
   "source": [
    "for this part and probably the next ones I had to bring out the big guns.  \n",
    "https://html.onlineviewer.net/ will allow me to view the full structure of the html cleanly"
   ]
  },
  {
   "cell_type": "markdown",
   "id": "f748752a",
   "metadata": {},
   "source": [
    "I have noticed that all data appears in order. all I have to do is find the tags that contain the name and that should bring them back in the correct order."
   ]
  },
  {
   "cell_type": "code",
   "execution_count": 15,
   "id": "8ccf0f05",
   "metadata": {},
   "outputs": [],
   "source": [
    "player_names = soup.find_all('li', class_='name center')"
   ]
  },
  {
   "cell_type": "code",
   "execution_count": 16,
   "id": "59cda0af",
   "metadata": {},
   "outputs": [
    {
     "data": {
      "text/plain": [
       "(100,\n",
       " [<li class=\"name center\">\n",
       "  <a href=\"/en/players/ilie-nastase/n008/overview\">\n",
       "  <span>Ilie Nastase</span>\n",
       "  </a>\n",
       "  </li>,\n",
       "  <li class=\"name center\">\n",
       "  <a href=\"/en/players/manuel-orantes/o017/overview\">\n",
       "  <span>Manuel Orantes</span>\n",
       "  </a>\n",
       "  </li>,\n",
       "  <li class=\"name center\">\n",
       "  <a href=\"/en/players/stan-smith/s060/overview\">\n",
       "  <span>Stan Smith</span>\n",
       "  </a>\n",
       "  </li>,\n",
       "  <li class=\"name center\">\n",
       "  <a href=\"/en/players/arthur-ashe/a063/overview\">\n",
       "  <span>Arthur Ashe</span>\n",
       "  </a>\n",
       "  </li>,\n",
       "  <li class=\"name center\">\n",
       "  <a href=\"/en/players/rod-laver/l058/overview\">\n",
       "  <span>Rod Laver</span>\n",
       "  </a>\n",
       "  </li>])"
      ]
     },
     "execution_count": 16,
     "metadata": {},
     "output_type": "execute_result"
    }
   ],
   "source": [
    "len(player_names), player_names[:5]"
   ]
  },
  {
   "cell_type": "markdown",
   "id": "a9290e43",
   "metadata": {},
   "source": [
    "As we can see we got exactly 100 matches as we should, and I can verify that the order is correct too"
   ]
  },
  {
   "cell_type": "code",
   "execution_count": 17,
   "id": "7a5fbd96",
   "metadata": {},
   "outputs": [
    {
     "data": {
      "text/plain": [
       "['Ilie Nastase', 'Manuel Orantes', 'Stan Smith', 'Arthur Ashe', 'Rod Laver']"
      ]
     },
     "execution_count": 17,
     "metadata": {},
     "output_type": "execute_result"
    }
   ],
   "source": [
    "player_names = [li.find('span').text for li in player_names]\n",
    "player_names[:5]"
   ]
  },
  {
   "cell_type": "markdown",
   "id": "92ee9bc2",
   "metadata": {},
   "source": [
    "##### Ranking"
   ]
  },
  {
   "cell_type": "markdown",
   "id": "613c1fcc",
   "metadata": {},
   "source": [
    "Since our data is ordered there is no need to extract the ranking, I will be simply generating it programmatically"
   ]
  },
  {
   "cell_type": "markdown",
   "id": "271bae74",
   "metadata": {},
   "source": [
    "##### Country"
   ]
  },
  {
   "cell_type": "markdown",
   "id": "d9682f73",
   "metadata": {},
   "source": [
    "I have noticed that we have an abbreviation of the country for each player. Lucking there is a table that will help us convert it to a full country name."
   ]
  },
  {
   "cell_type": "markdown",
   "id": "010b4a54",
   "metadata": {},
   "source": [
    "I started searching for our first player I. Nastase from Romania. I used regexp to isolate romania or rou entries in the html viewer"
   ]
  },
  {
   "cell_type": "markdown",
   "id": "ec580192",
   "metadata": {},
   "source": [
    "`(?<!g|\\.)rou` this one generated  two entries for each player from Romania\n",
    "They both seem to be ordered so I will just pick one of the two tag patterns"
   ]
  },
  {
   "cell_type": "code",
   "execution_count": 19,
   "id": "52d26a4a",
   "metadata": {},
   "outputs": [
    {
     "data": {
      "text/plain": [
       "(200,\n",
       " [<svg class=\"atp-flag flag\"><use href=\"/assets/atptour/assets/flags.svg#flag-rou\"></use></svg>,\n",
       "  <svg class=\"atp-flag flag\"><use href=\"/assets/atptour/assets/flags.svg#flag-esp\"></use></svg>,\n",
       "  <svg class=\"atp-flag flag\"><use href=\"/assets/atptour/assets/flags.svg#flag-usa\"></use></svg>,\n",
       "  <svg class=\"atp-flag flag\"><use href=\"/assets/atptour/assets/flags.svg#flag-usa\"></use></svg>,\n",
       "  <svg class=\"atp-flag flag\"><use href=\"/assets/atptour/assets/flags.svg#flag-aus\"></use></svg>])"
      ]
     },
     "execution_count": 19,
     "metadata": {},
     "output_type": "execute_result"
    }
   ],
   "source": [
    "svg_tags = soup.find_all('svg', class_='atp-flag')\n",
    "len(svg_tags), svg_tags[:5]"
   ]
  },
  {
   "cell_type": "markdown",
   "id": "e64f2d8c",
   "metadata": {},
   "source": [
    "Now I will verify that the first 100 flags match the last 100 flags and in the right order"
   ]
  },
  {
   "cell_type": "code",
   "execution_count": 20,
   "id": "25164ddc",
   "metadata": {},
   "outputs": [
    {
     "data": {
      "text/plain": [
       "True"
      ]
     },
     "execution_count": 20,
     "metadata": {},
     "output_type": "execute_result"
    }
   ],
   "source": [
    "svg_tags[:100] == svg_tags[100:]"
   ]
  },
  {
   "cell_type": "markdown",
   "id": "5e47059e",
   "metadata": {},
   "source": [
    "We can now safely discard the second half"
   ]
  },
  {
   "cell_type": "code",
   "execution_count": 21,
   "id": "8e075fc2",
   "metadata": {},
   "outputs": [],
   "source": [
    "svg_tags = svg_tags[:100]"
   ]
  },
  {
   "cell_type": "code",
   "execution_count": 22,
   "id": "c5ee03d0",
   "metadata": {},
   "outputs": [],
   "source": [
    "use_tags = [svg_tag.find('use') for svg_tag in svg_tags]"
   ]
  },
  {
   "cell_type": "code",
   "execution_count": 23,
   "id": "c3226fbf",
   "metadata": {},
   "outputs": [
    {
     "data": {
      "text/plain": [
       "[<use href=\"/assets/atptour/assets/flags.svg#flag-rou\"></use>,\n",
       " <use href=\"/assets/atptour/assets/flags.svg#flag-esp\"></use>,\n",
       " <use href=\"/assets/atptour/assets/flags.svg#flag-usa\"></use>,\n",
       " <use href=\"/assets/atptour/assets/flags.svg#flag-usa\"></use>,\n",
       " <use href=\"/assets/atptour/assets/flags.svg#flag-aus\"></use>]"
      ]
     },
     "execution_count": 23,
     "metadata": {},
     "output_type": "execute_result"
    }
   ],
   "source": [
    "use_tags[:5]"
   ]
  },
  {
   "cell_type": "code",
   "execution_count": 24,
   "id": "9ebfbd41",
   "metadata": {},
   "outputs": [],
   "source": [
    "links = [use_tag['href'] for use_tag in use_tags]"
   ]
  },
  {
   "cell_type": "code",
   "execution_count": 25,
   "id": "3666ace3",
   "metadata": {},
   "outputs": [
    {
     "data": {
      "text/plain": [
       "['/assets/atptour/assets/flags.svg#flag-rou',\n",
       " '/assets/atptour/assets/flags.svg#flag-esp',\n",
       " '/assets/atptour/assets/flags.svg#flag-usa',\n",
       " '/assets/atptour/assets/flags.svg#flag-usa',\n",
       " '/assets/atptour/assets/flags.svg#flag-aus']"
      ]
     },
     "execution_count": 25,
     "metadata": {},
     "output_type": "execute_result"
    }
   ],
   "source": [
    "links[:5]"
   ]
  },
  {
   "cell_type": "markdown",
   "id": "6b4a2bcd",
   "metadata": {},
   "source": [
    "now I will use regex to isolate the country abbreviation from the link"
   ]
  },
  {
   "cell_type": "code",
   "execution_count": 26,
   "id": "5fa8e04d",
   "metadata": {},
   "outputs": [],
   "source": [
    "import re\n",
    "\n",
    "def extract_flag_abbr(string: str) -> str:\n",
    "    return re.search(r'(?<=#flag-)[A-Za-z]{3}$', string).group(0)\n",
    "\n",
    "countries =  [extract_flag_abbr(link) for link in links]"
   ]
  },
  {
   "cell_type": "code",
   "execution_count": 27,
   "id": "1dc16388",
   "metadata": {},
   "outputs": [
    {
     "data": {
      "text/plain": [
       "100"
      ]
     },
     "execution_count": 27,
     "metadata": {},
     "output_type": "execute_result"
    }
   ],
   "source": [
    "len(countries)"
   ]
  },
  {
   "cell_type": "code",
   "execution_count": 28,
   "id": "719836ab",
   "metadata": {},
   "outputs": [
    {
     "data": {
      "text/plain": [
       "['rou', 'esp', 'usa', 'usa', 'aus']"
      ]
     },
     "execution_count": 28,
     "metadata": {},
     "output_type": "execute_result"
    }
   ],
   "source": [
    "countries[:5]"
   ]
  },
  {
   "cell_type": "markdown",
   "id": "8a57ab89",
   "metadata": {},
   "source": [
    "Now let's get the dictionary to convert to real country names"
   ]
  },
  {
   "cell_type": "code",
   "execution_count": 29,
   "id": "d42ddb52",
   "metadata": {},
   "outputs": [],
   "source": [
    "select_region_filter = soup.find('select', id='region-filter')"
   ]
  },
  {
   "cell_type": "code",
   "execution_count": 30,
   "id": "76742006",
   "metadata": {},
   "outputs": [
    {
     "data": {
      "text/plain": [
       "[('all', 'All Countries'),\n",
       " ('AFG', 'Afghanistan'),\n",
       " ('ALB', 'Albania'),\n",
       " ('ALG', 'Algeria'),\n",
       " ('ASA', 'American Samoa')]"
      ]
     },
     "execution_count": 30,
     "metadata": {},
     "output_type": "execute_result"
    }
   ],
   "source": [
    "region_option_tags  = select_region_filter.find_all('option')\n",
    "countries_tuple = [(region_option_tag['value'], region_option_tag.text) for region_option_tag in region_option_tags]\n",
    "countries_tuple[:5]\n"
   ]
  },
  {
   "cell_type": "code",
   "execution_count": 31,
   "id": "00f1f9a1",
   "metadata": {},
   "outputs": [],
   "source": [
    "country_dict = {k.lower(): v for k, v in countries_tuple}"
   ]
  },
  {
   "cell_type": "code",
   "execution_count": 32,
   "id": "f858040e",
   "metadata": {},
   "outputs": [
    {
     "data": {
      "text/plain": [
       "['Romania', 'Spain', 'United States', 'United States', 'Australia']"
      ]
     },
     "execution_count": 32,
     "metadata": {},
     "output_type": "execute_result"
    }
   ],
   "source": [
    "countries = [country_dict.get(country_abbr, country_abbr) for country_abbr in countries]\n",
    "countries[:5]"
   ]
  },
  {
   "cell_type": "markdown",
   "id": "a7761cb1",
   "metadata": {},
   "source": [
    "##### Points"
   ]
  },
  {
   "cell_type": "markdown",
   "id": "2f7beb18",
   "metadata": {},
   "source": [
    "Same case  here it all appears twice, but in order. In any case I will verify after retrieving them\n",
    "Note the tag I selected is not 100% percent consistent but it is fixed later in the function"
   ]
  },
  {
   "cell_type": "code",
   "execution_count": 33,
   "id": "5d3dd1ee",
   "metadata": {},
   "outputs": [
    {
     "data": {
      "text/plain": [
       "200"
      ]
     },
     "execution_count": 33,
     "metadata": {},
     "output_type": "execute_result"
    }
   ],
   "source": [
    "points_tds  = soup.find_all('td', class_='points center bold extrabold small-cell')\n",
    "len(points_tds)"
   ]
  },
  {
   "cell_type": "code",
   "execution_count": 34,
   "id": "0d3c70cc",
   "metadata": {},
   "outputs": [
    {
     "data": {
      "text/plain": [
       "[<td class=\"points center bold extrabold small-cell\" colspan=\"3\">\n",
       " -                </td>,\n",
       " <td class=\"points center bold extrabold small-cell\" colspan=\"3\">\n",
       " -                </td>,\n",
       " <td class=\"points center bold extrabold small-cell\" colspan=\"3\">\n",
       " -                </td>,\n",
       " <td class=\"points center bold extrabold small-cell\" colspan=\"3\">\n",
       " -                </td>,\n",
       " <td class=\"points center bold extrabold small-cell\" colspan=\"3\">\n",
       " -                </td>]"
      ]
     },
     "execution_count": 34,
     "metadata": {},
     "output_type": "execute_result"
    }
   ],
   "source": [
    "points_tds[0:5]"
   ]
  },
  {
   "cell_type": "markdown",
   "id": "53af4047",
   "metadata": {},
   "source": [
    "The first hundred do not contain the link with the points, I will try the second half"
   ]
  },
  {
   "cell_type": "code",
   "execution_count": 34,
   "id": "73da04e8",
   "metadata": {},
   "outputs": [
    {
     "data": {
      "text/plain": [
       "[<td class=\"points center bold extrabold small-cell\" colspan=\"2\">\n",
       " <a href=\"/en/players/ilie-nastase/n008/rankings-breakdown?team=singles\">\n",
       "                                 0\n",
       "                             </a>\n",
       " </td>,\n",
       " <td class=\"points center bold extrabold small-cell\" colspan=\"2\">\n",
       " <a href=\"/en/players/manuel-orantes/o017/rankings-breakdown?team=singles\">\n",
       "                                 0\n",
       "                             </a>\n",
       " </td>,\n",
       " <td class=\"points center bold extrabold small-cell\" colspan=\"2\">\n",
       " <a href=\"/en/players/stan-smith/s060/rankings-breakdown?team=singles\">\n",
       "                                 0\n",
       "                             </a>\n",
       " </td>,\n",
       " <td class=\"points center bold extrabold small-cell\" colspan=\"2\">\n",
       " <a href=\"/en/players/arthur-ashe/a063/rankings-breakdown?team=singles\">\n",
       "                                 0\n",
       "                             </a>\n",
       " </td>,\n",
       " <td class=\"points center bold extrabold small-cell\" colspan=\"2\">\n",
       " <a href=\"/en/players/rod-laver/l058/rankings-breakdown?team=singles\">\n",
       "                                 0\n",
       "                             </a>\n",
       " </td>]"
      ]
     },
     "execution_count": 34,
     "metadata": {},
     "output_type": "execute_result"
    }
   ],
   "source": [
    "points_tds[100:105]"
   ]
  },
  {
   "cell_type": "markdown",
   "id": "302b1732",
   "metadata": {},
   "source": [
    "That should work fine"
   ]
  },
  {
   "cell_type": "code",
   "execution_count": 35,
   "id": "638c5732",
   "metadata": {},
   "outputs": [],
   "source": [
    "points = [points_td.find('a').text.strip() for points_td in points_tds[100:200]]"
   ]
  },
  {
   "cell_type": "code",
   "execution_count": 36,
   "id": "a361fc37",
   "metadata": {},
   "outputs": [
    {
     "data": {
      "text/plain": [
       "['0', '0', '0', '0', '0']"
      ]
     },
     "execution_count": 36,
     "metadata": {},
     "output_type": "execute_result"
    }
   ],
   "source": [
    "points[:5]"
   ]
  },
  {
   "cell_type": "markdown",
   "id": "d6ae71db",
   "metadata": {},
   "source": [
    "### Putting it all together"
   ]
  },
  {
   "cell_type": "markdown",
   "id": "0b3c1cd9",
   "metadata": {},
   "source": [
    "I  will first create functions for each task and I will then orchestrate them"
   ]
  },
  {
   "cell_type": "markdown",
   "id": "cb9acc58",
   "metadata": {},
   "source": [
    "##### Create functions"
   ]
  },
  {
   "cell_type": "code",
   "execution_count": 37,
   "id": "4f5dde4f",
   "metadata": {},
   "outputs": [],
   "source": [
    "import re\n",
    "\n",
    "\n",
    "def get_all_urls(soup: BeautifulSoup) -> list[str]:\n",
    "    \"\"\"Return a list with all weekly urls from the main soup object\"\"\"\n",
    "    select_tag = soup.find(\"select\", id=\"dateWeek-filter\")\n",
    "    date_tags = select_tag.find_all(\"option\")\n",
    "    dates = [date_tag[\"value\"] if not \"Current\" in date_tag[\"value\"] else \"Current+Date\" for date_tag in date_tags]\n",
    "    base_url = \"https://www.atptour.com/en/rankings/singles?dateWeek=\"\n",
    "    return sorted([f\"{base_url}{date}\" for date in dates])\n",
    "\n",
    "\n",
    "def get_active_week(soup: BeautifulSoup) -> str:\n",
    "    \"\"\"\n",
    "    returns the active week, directly through scraping and not through the url\n",
    "    unlike the get_all_urls it will extract the text contents instead of \n",
    "    the value attribute, otherwise we would get date 'Current-Date' for our\n",
    "    most recent date.\n",
    "    \"\"\"\n",
    "    \n",
    "    select_tag = soup.find(\"select\", id=\"dateWeek-filter\")\n",
    "    return select_tag.find(\"option\", selected=True).text\n",
    "\n",
    "\n",
    "def get_player_names(soup: BeautifulSoup) -> list[str]:\n",
    "    \"\"\"\n",
    "    returns a list of the top-100 players names ordered by rank\n",
    "    \"\"\"\n",
    "    li_tags = soup.find_all(\"li\", class_=\"name center\")\n",
    "    return [li.find(\"span\").text for li in li_tags]\n",
    "\n",
    "\n",
    "def get_countries(soup: BeautifulSoup) -> list[str]:\n",
    "    \"\"\"\n",
    "    returns a list of the top-100 players countries ordered by rank\n",
    "    \"\"\"\n",
    "    svg_tags = soup.find_all(\"svg\", class_=\"atp-flag\")[:100]\n",
    "    use_tags = [svg_tag.find(\"use\") for svg_tag in svg_tags]\n",
    "    links = [use_tag[\"href\"] for use_tag in use_tags]\n",
    "    countries = [_extract_flag_abbr(link) for link in links]\n",
    "    return _convert_flag_abbr(soup, countries)\n",
    "\n",
    "\n",
    "def _extract_flag_abbr(string: str) -> str:\n",
    "    \"\"\"\n",
    "    extract the flag abbreviation out of a link to the flag png\n",
    "    \"\"\"\n",
    "    return re.search(r\"(?<=#flag-)[A-Za-z]{3}$\", string).group(0)\n",
    "\n",
    "\n",
    "def _convert_flag_abbr(\n",
    "    soup: BeautifulSoup, countries: list[str]\n",
    ") -> str:\n",
    "    \"\"\"\n",
    "    helper function to convert a flag/country abbreviation to the \n",
    "    actual country name. The relationship between the can be find inside\n",
    "    the source code and I did not have rely on external sources\n",
    "    \"\"\"\n",
    "    select_region_filter = soup.find(\"select\", id=\"region-filter\")\n",
    "    region_option_tags = select_region_filter.find_all(\"option\")\n",
    "    countries_tuple = [\n",
    "        (region_option_tag[\"value\"], region_option_tag.text)\n",
    "        for region_option_tag in region_option_tags\n",
    "    ]\n",
    "    country_dict = {k.lower(): v for k, v in countries_tuple}\n",
    "    return [\n",
    "        country_dict.get(country_abbr, country_abbr)\n",
    "        for country_abbr in countries\n",
    "    ]\n",
    "\n",
    "\n",
    "def get_points(soup: BeautifulSoup) -> list[str]:\n",
    "    \"\"\"\n",
    "    after some debugging a edge case failures, I adjusted and tested\n",
    "    the points extraction to the following code.\n",
    "    I essentially had to find the tag before the one I was looking for, \n",
    "    and the seek the sibling.\n",
    "    The reason for picking the slice is that I sometimes get 101 results \n",
    "    instead of 100 and in that case the first one does not lead to any points.\n",
    "    Taking the slice of the last 100 seems safe.\n",
    "    \"\"\"\n",
    "    points_tds = soup.find_all(\"td\", class_=\"age small-cell\")\n",
    "    return [\n",
    "        points_td.find_next_sibling(\"td\").find(\"a\").text.strip()\n",
    "        for points_td in points_tds[-100:]\n",
    "    ]"
   ]
  },
  {
   "cell_type": "markdown",
   "id": "c40a4a4e",
   "metadata": {},
   "source": [
    "##### Orchestration"
   ]
  },
  {
   "cell_type": "code",
   "execution_count": 38,
   "id": "beeb4c1d",
   "metadata": {},
   "outputs": [],
   "source": [
    "import requests\n",
    "from bs4 import BeautifulSoup\n",
    "import pandas as pd"
   ]
  },
  {
   "cell_type": "code",
   "execution_count": 39,
   "id": "2b35a2dc",
   "metadata": {},
   "outputs": [],
   "source": [
    "headers = {\n",
    "    \"User-Agent\": \"Mozilla/5.0 (Windows NT 10.0; Win64; x64) AppleWebKit/537.36 (KHTML, like Gecko) Chrome/115.0 Safari/537.36\"\n",
    "}\n",
    "\n",
    "url = \"https://www.atptour.com/en/rankings/singles\"\n",
    "response = requests.get(url, headers=headers)\n",
    "response.status_code\n",
    "# Check status code\n",
    "if response.status_code != 200:\n",
    "    print(response.status_code, response.reason)"
   ]
  },
  {
   "cell_type": "code",
   "execution_count": 40,
   "id": "3931253f",
   "metadata": {},
   "outputs": [],
   "source": [
    "soup = BeautifulSoup(response.content, 'html.parser')"
   ]
  },
  {
   "cell_type": "code",
   "execution_count": 41,
   "id": "76aadcbb",
   "metadata": {},
   "outputs": [],
   "source": [
    "import logging\n",
    "\n",
    "logger = logging.getLogger(__name__)\n",
    "logger.addHandler(logging.FileHandler(\"log.txt\"))\n",
    "logger.setLevel(logging.INFO)"
   ]
  },
  {
   "cell_type": "code",
   "execution_count": 20,
   "id": "963693aa",
   "metadata": {},
   "outputs": [],
   "source": [
    "# gather all responses\n",
    "\n",
    "import time\n",
    "import random\n",
    "\n",
    "\n",
    "urls = get_all_urls(soup)\n",
    "urls_length = len(urls)\n",
    "\n",
    "response_list = []\n",
    "\n",
    "for i, url in enumerate(urls):\n",
    "    logger.info(f\"processing request {i + 1} out of {urls_length}\")\n",
    "    time.sleep(random.uniform(0.3, 0.4))\n",
    "    response = requests.get(url, headers=headers)\n",
    "    if response.status_code != 200:\n",
    "        response_list = []\n",
    "        raise ConnectionError(f'failed to fetch data from {url}')\n",
    "    response_list.append(response)\n",
    "    "
   ]
  },
  {
   "cell_type": "code",
   "execution_count": 21,
   "id": "370938bb",
   "metadata": {},
   "outputs": [],
   "source": [
    "# save html to files\n",
    "for i, response in enumerate(response_list):\n",
    "    if response and response.status_code == 200:\n",
    "        with open(f\"pages/page_{i}.html\", \"wb\") as f:\n",
    "            f.write(response.content)"
   ]
  },
  {
   "cell_type": "code",
   "execution_count": 42,
   "id": "3260cfd9",
   "metadata": {},
   "outputs": [],
   "source": [
    "#load files to a list of html text\n",
    "import glob\n",
    "\n",
    "content_list = []\n",
    "file_paths = sorted(glob.glob(\"pages/page_*.html\"))\n",
    "\n",
    "for file_path in file_paths:\n",
    "    with open(file_path, \"r\", encoding=\"utf-8\") as f:\n",
    "        content_list.append(f.read())"
   ]
  },
  {
   "cell_type": "code",
   "execution_count": 43,
   "id": "cb067527",
   "metadata": {},
   "outputs": [],
   "source": [
    "# convert all elements of the html list to a list of soup objects (parsed)\n",
    "# extract data and load them into a list of dictionaries\n",
    "content_length = len(content_list)\n",
    "results_list = []\n",
    "\n",
    "for i, content in enumerate(content_list):\n",
    "    logger.info(f\"processing response {i + 1} out of {content_length}\")\n",
    "    soup = BeautifulSoup(content, \"html.parser\")\n",
    "    week = get_active_week(soup)\n",
    "    ranks = list(range(1, 101))\n",
    "    player_names = get_player_names(soup)\n",
    "    countries = get_countries(soup)\n",
    "    points_all = get_points(soup)\n",
    "    sizes = map(len, [ranks, player_names, countries, points_all])\n",
    "    # if not len(set(sizes)) == 1 or not all(v > 0 for v in sizes):\n",
    "    if not all(v > 0 for v in sizes):\n",
    "        logger.info(\n",
    "            f\"week {week} error\\nranks: {ranks}\\nplayer_names: {player_names}\\ncountries: {countries} \\n points_all: {points_all}\"\n",
    "        )\n",
    "\n",
    "    results_list.extend(\n",
    "        [\n",
    "            {\n",
    "                \"week\": week,\n",
    "                \"rank\": rank,\n",
    "                \"player_name\": player_name,\n",
    "                \"country\": country,\n",
    "                \"points\": points,\n",
    "            }\n",
    "            for rank, player_name, country, points in zip(\n",
    "                ranks, player_names, countries, points_all\n",
    "            )\n",
    "        ]\n",
    "    )"
   ]
  },
  {
   "cell_type": "code",
   "execution_count": 45,
   "id": "9801063d",
   "metadata": {},
   "outputs": [
    {
     "data": {
      "text/plain": [
       "2328"
      ]
     },
     "execution_count": 45,
     "metadata": {},
     "output_type": "execute_result"
    }
   ],
   "source": [
    "len(content_list)"
   ]
  },
  {
   "cell_type": "markdown",
   "id": "d8b98a75",
   "metadata": {},
   "source": [
    "In total we retrieved 2328 pages. According to our log, three of our dates lacked contents (1978.01.02 1976.03.01 1985.03.03).  \n",
    "This has been verified with our website, they are indeed empty  \n",
    "We would expect our dataframe to have only 2325 distinct values in the 'week' column."
   ]
  },
  {
   "cell_type": "code",
   "execution_count": 46,
   "id": "143079eb",
   "metadata": {},
   "outputs": [
    {
     "data": {
      "application/vnd.microsoft.datawrangler.viewer.v0+json": {
       "columns": [
        {
         "name": "index",
         "rawType": "int64",
         "type": "integer"
        },
        {
         "name": "week",
         "rawType": "object",
         "type": "string"
        },
        {
         "name": "rank",
         "rawType": "int64",
         "type": "integer"
        },
        {
         "name": "player_name",
         "rawType": "object",
         "type": "string"
        },
        {
         "name": "country",
         "rawType": "object",
         "type": "string"
        },
        {
         "name": "points",
         "rawType": "object",
         "type": "string"
        }
       ],
       "conversionMethod": "pd.DataFrame",
       "ref": "f2d64b02-f964-45f3-9c08-dcfb54cc2466",
       "rows": [
        [
         "0",
         "1973.08.23",
         "1",
         "Ilie Nastase",
         "Romania",
         "0"
        ],
        [
         "1",
         "1973.08.23",
         "2",
         "Manuel Orantes",
         "Spain",
         "0"
        ],
        [
         "2",
         "1973.08.23",
         "3",
         "Stan Smith",
         "United States",
         "0"
        ],
        [
         "3",
         "1973.08.23",
         "4",
         "Arthur Ashe",
         "United States",
         "0"
        ],
        [
         "4",
         "1973.08.23",
         "5",
         "Rod Laver",
         "Australia",
         "0"
        ]
       ],
       "shape": {
        "columns": 5,
        "rows": 5
       }
      },
      "text/html": [
       "<div>\n",
       "<style scoped>\n",
       "    .dataframe tbody tr th:only-of-type {\n",
       "        vertical-align: middle;\n",
       "    }\n",
       "\n",
       "    .dataframe tbody tr th {\n",
       "        vertical-align: top;\n",
       "    }\n",
       "\n",
       "    .dataframe thead th {\n",
       "        text-align: right;\n",
       "    }\n",
       "</style>\n",
       "<table border=\"1\" class=\"dataframe\">\n",
       "  <thead>\n",
       "    <tr style=\"text-align: right;\">\n",
       "      <th></th>\n",
       "      <th>week</th>\n",
       "      <th>rank</th>\n",
       "      <th>player_name</th>\n",
       "      <th>country</th>\n",
       "      <th>points</th>\n",
       "    </tr>\n",
       "  </thead>\n",
       "  <tbody>\n",
       "    <tr>\n",
       "      <th>0</th>\n",
       "      <td>1973.08.23</td>\n",
       "      <td>1</td>\n",
       "      <td>Ilie Nastase</td>\n",
       "      <td>Romania</td>\n",
       "      <td>0</td>\n",
       "    </tr>\n",
       "    <tr>\n",
       "      <th>1</th>\n",
       "      <td>1973.08.23</td>\n",
       "      <td>2</td>\n",
       "      <td>Manuel Orantes</td>\n",
       "      <td>Spain</td>\n",
       "      <td>0</td>\n",
       "    </tr>\n",
       "    <tr>\n",
       "      <th>2</th>\n",
       "      <td>1973.08.23</td>\n",
       "      <td>3</td>\n",
       "      <td>Stan Smith</td>\n",
       "      <td>United States</td>\n",
       "      <td>0</td>\n",
       "    </tr>\n",
       "    <tr>\n",
       "      <th>3</th>\n",
       "      <td>1973.08.23</td>\n",
       "      <td>4</td>\n",
       "      <td>Arthur Ashe</td>\n",
       "      <td>United States</td>\n",
       "      <td>0</td>\n",
       "    </tr>\n",
       "    <tr>\n",
       "      <th>4</th>\n",
       "      <td>1973.08.23</td>\n",
       "      <td>5</td>\n",
       "      <td>Rod Laver</td>\n",
       "      <td>Australia</td>\n",
       "      <td>0</td>\n",
       "    </tr>\n",
       "  </tbody>\n",
       "</table>\n",
       "</div>"
      ],
      "text/plain": [
       "         week  rank     player_name        country points\n",
       "0  1973.08.23     1    Ilie Nastase        Romania      0\n",
       "1  1973.08.23     2  Manuel Orantes          Spain      0\n",
       "2  1973.08.23     3      Stan Smith  United States      0\n",
       "3  1973.08.23     4     Arthur Ashe  United States      0\n",
       "4  1973.08.23     5       Rod Laver      Australia      0"
      ]
     },
     "execution_count": 46,
     "metadata": {},
     "output_type": "execute_result"
    }
   ],
   "source": [
    "df = pd.DataFrame(results_list)\n",
    "df.head()"
   ]
  },
  {
   "cell_type": "code",
   "execution_count": 47,
   "id": "13ad9d72",
   "metadata": {},
   "outputs": [
    {
     "data": {
      "text/plain": [
       "2325"
      ]
     },
     "execution_count": 47,
     "metadata": {},
     "output_type": "execute_result"
    }
   ],
   "source": [
    "df['week'].nunique()"
   ]
  },
  {
   "cell_type": "markdown",
   "id": "92617f85",
   "metadata": {},
   "source": [
    "Our dataframe has indeed 2325 distinct dates, it all looks correct."
   ]
  },
  {
   "cell_type": "code",
   "execution_count": 48,
   "id": "3985015c",
   "metadata": {},
   "outputs": [
    {
     "name": "stdout",
     "output_type": "stream",
     "text": [
      "<class 'pandas.core.frame.DataFrame'>\n",
      "RangeIndex: 232490 entries, 0 to 232489\n",
      "Data columns (total 5 columns):\n",
      " #   Column       Non-Null Count   Dtype \n",
      "---  ------       --------------   ----- \n",
      " 0   week         232490 non-null  object\n",
      " 1   rank         232490 non-null  int64 \n",
      " 2   player_name  232490 non-null  object\n",
      " 3   country      232490 non-null  object\n",
      " 4   points       232490 non-null  object\n",
      "dtypes: int64(1), object(4)\n",
      "memory usage: 8.9+ MB\n"
     ]
    }
   ],
   "source": [
    "df.info()"
   ]
  },
  {
   "cell_type": "code",
   "execution_count": 49,
   "id": "d20ed3fa",
   "metadata": {},
   "outputs": [],
   "source": [
    "# Convert types as necessary\n",
    "df[\"week\"] = pd.to_datetime(df[\"week\"]).dt.date\n",
    "df['points'] = df['points'].str.replace(',', '').astype('Int64')\n",
    "df['rank'] = df['rank'].astype('Int64')"
   ]
  },
  {
   "cell_type": "code",
   "execution_count": 50,
   "id": "82bd40dd",
   "metadata": {},
   "outputs": [],
   "source": [
    "df = df.sort_values(['week', 'rank'])"
   ]
  },
  {
   "cell_type": "code",
   "execution_count": 51,
   "id": "1f8a9a19",
   "metadata": {},
   "outputs": [
    {
     "name": "stdout",
     "output_type": "stream",
     "text": [
      "<class 'pandas.core.frame.DataFrame'>\n",
      "Index: 232490 entries, 0 to 147794\n",
      "Data columns (total 5 columns):\n",
      " #   Column       Non-Null Count   Dtype \n",
      "---  ------       --------------   ----- \n",
      " 0   week         232490 non-null  object\n",
      " 1   rank         232490 non-null  Int64 \n",
      " 2   player_name  232490 non-null  object\n",
      " 3   country      232490 non-null  object\n",
      " 4   points       232490 non-null  Int64 \n",
      "dtypes: Int64(2), object(3)\n",
      "memory usage: 11.1+ MB\n"
     ]
    }
   ],
   "source": [
    "df.info()"
   ]
  },
  {
   "cell_type": "code",
   "execution_count": 53,
   "id": "fd2707d4",
   "metadata": {},
   "outputs": [
    {
     "data": {
      "application/vnd.microsoft.datawrangler.viewer.v0+json": {
       "columns": [
        {
         "name": "index",
         "rawType": "int64",
         "type": "integer"
        },
        {
         "name": "week",
         "rawType": "object",
         "type": "unknown"
        },
        {
         "name": "rank",
         "rawType": "Int64",
         "type": "integer"
        },
        {
         "name": "player_name",
         "rawType": "object",
         "type": "string"
        },
        {
         "name": "country",
         "rawType": "object",
         "type": "string"
        },
        {
         "name": "points",
         "rawType": "Int64",
         "type": "integer"
        }
       ],
       "conversionMethod": "pd.DataFrame",
       "ref": "b8a53e11-e175-42e0-9f14-0d502fdcd5e9",
       "rows": [
        [
         "0",
         "1973-08-23",
         "1",
         "Ilie Nastase",
         "Romania",
         "0"
        ],
        [
         "1",
         "1973-08-23",
         "2",
         "Manuel Orantes",
         "Spain",
         "0"
        ],
        [
         "2",
         "1973-08-23",
         "3",
         "Stan Smith",
         "United States",
         "0"
        ],
        [
         "3",
         "1973-08-23",
         "4",
         "Arthur Ashe",
         "United States",
         "0"
        ],
        [
         "4",
         "1973-08-23",
         "5",
         "Rod Laver",
         "Australia",
         "0"
        ],
        [
         "5",
         "1973-08-23",
         "6",
         "Ken Rosewall",
         "Australia",
         "0"
        ],
        [
         "6",
         "1973-08-23",
         "7",
         "John Newcombe",
         "Australia",
         "0"
        ],
        [
         "7",
         "1973-08-23",
         "8",
         "Adriano Panatta",
         "Italy",
         "0"
        ],
        [
         "8",
         "1973-08-23",
         "9",
         "Tom Okker",
         "Netherlands",
         "0"
        ],
        [
         "9",
         "1973-08-23",
         "10",
         "Jimmy Connors",
         "United States",
         "0"
        ]
       ],
       "shape": {
        "columns": 5,
        "rows": 10
       }
      },
      "text/html": [
       "<div>\n",
       "<style scoped>\n",
       "    .dataframe tbody tr th:only-of-type {\n",
       "        vertical-align: middle;\n",
       "    }\n",
       "\n",
       "    .dataframe tbody tr th {\n",
       "        vertical-align: top;\n",
       "    }\n",
       "\n",
       "    .dataframe thead th {\n",
       "        text-align: right;\n",
       "    }\n",
       "</style>\n",
       "<table border=\"1\" class=\"dataframe\">\n",
       "  <thead>\n",
       "    <tr style=\"text-align: right;\">\n",
       "      <th></th>\n",
       "      <th>week</th>\n",
       "      <th>rank</th>\n",
       "      <th>player_name</th>\n",
       "      <th>country</th>\n",
       "      <th>points</th>\n",
       "    </tr>\n",
       "  </thead>\n",
       "  <tbody>\n",
       "    <tr>\n",
       "      <th>0</th>\n",
       "      <td>1973-08-23</td>\n",
       "      <td>1</td>\n",
       "      <td>Ilie Nastase</td>\n",
       "      <td>Romania</td>\n",
       "      <td>0</td>\n",
       "    </tr>\n",
       "    <tr>\n",
       "      <th>1</th>\n",
       "      <td>1973-08-23</td>\n",
       "      <td>2</td>\n",
       "      <td>Manuel Orantes</td>\n",
       "      <td>Spain</td>\n",
       "      <td>0</td>\n",
       "    </tr>\n",
       "    <tr>\n",
       "      <th>2</th>\n",
       "      <td>1973-08-23</td>\n",
       "      <td>3</td>\n",
       "      <td>Stan Smith</td>\n",
       "      <td>United States</td>\n",
       "      <td>0</td>\n",
       "    </tr>\n",
       "    <tr>\n",
       "      <th>3</th>\n",
       "      <td>1973-08-23</td>\n",
       "      <td>4</td>\n",
       "      <td>Arthur Ashe</td>\n",
       "      <td>United States</td>\n",
       "      <td>0</td>\n",
       "    </tr>\n",
       "    <tr>\n",
       "      <th>4</th>\n",
       "      <td>1973-08-23</td>\n",
       "      <td>5</td>\n",
       "      <td>Rod Laver</td>\n",
       "      <td>Australia</td>\n",
       "      <td>0</td>\n",
       "    </tr>\n",
       "    <tr>\n",
       "      <th>5</th>\n",
       "      <td>1973-08-23</td>\n",
       "      <td>6</td>\n",
       "      <td>Ken Rosewall</td>\n",
       "      <td>Australia</td>\n",
       "      <td>0</td>\n",
       "    </tr>\n",
       "    <tr>\n",
       "      <th>6</th>\n",
       "      <td>1973-08-23</td>\n",
       "      <td>7</td>\n",
       "      <td>John Newcombe</td>\n",
       "      <td>Australia</td>\n",
       "      <td>0</td>\n",
       "    </tr>\n",
       "    <tr>\n",
       "      <th>7</th>\n",
       "      <td>1973-08-23</td>\n",
       "      <td>8</td>\n",
       "      <td>Adriano Panatta</td>\n",
       "      <td>Italy</td>\n",
       "      <td>0</td>\n",
       "    </tr>\n",
       "    <tr>\n",
       "      <th>8</th>\n",
       "      <td>1973-08-23</td>\n",
       "      <td>9</td>\n",
       "      <td>Tom Okker</td>\n",
       "      <td>Netherlands</td>\n",
       "      <td>0</td>\n",
       "    </tr>\n",
       "    <tr>\n",
       "      <th>9</th>\n",
       "      <td>1973-08-23</td>\n",
       "      <td>10</td>\n",
       "      <td>Jimmy Connors</td>\n",
       "      <td>United States</td>\n",
       "      <td>0</td>\n",
       "    </tr>\n",
       "  </tbody>\n",
       "</table>\n",
       "</div>"
      ],
      "text/plain": [
       "         week  rank      player_name        country  points\n",
       "0  1973-08-23     1     Ilie Nastase        Romania       0\n",
       "1  1973-08-23     2   Manuel Orantes          Spain       0\n",
       "2  1973-08-23     3       Stan Smith  United States       0\n",
       "3  1973-08-23     4      Arthur Ashe  United States       0\n",
       "4  1973-08-23     5        Rod Laver      Australia       0\n",
       "5  1973-08-23     6     Ken Rosewall      Australia       0\n",
       "6  1973-08-23     7    John Newcombe      Australia       0\n",
       "7  1973-08-23     8  Adriano Panatta          Italy       0\n",
       "8  1973-08-23     9        Tom Okker    Netherlands       0\n",
       "9  1973-08-23    10    Jimmy Connors  United States       0"
      ]
     },
     "execution_count": 53,
     "metadata": {},
     "output_type": "execute_result"
    }
   ],
   "source": [
    "df.head(10)"
   ]
  },
  {
   "cell_type": "code",
   "execution_count": 54,
   "id": "6b4048da",
   "metadata": {},
   "outputs": [
    {
     "data": {
      "application/vnd.microsoft.datawrangler.viewer.v0+json": {
       "columns": [
        {
         "name": "index",
         "rawType": "int64",
         "type": "integer"
        },
        {
         "name": "week",
         "rawType": "object",
         "type": "unknown"
        },
        {
         "name": "rank",
         "rawType": "Int64",
         "type": "integer"
        },
        {
         "name": "player_name",
         "rawType": "object",
         "type": "string"
        },
        {
         "name": "country",
         "rawType": "object",
         "type": "string"
        },
        {
         "name": "points",
         "rawType": "Int64",
         "type": "integer"
        }
       ],
       "conversionMethod": "pd.DataFrame",
       "ref": "9a87c21a-e2a7-45aa-bca1-1ad99b816ab5",
       "rows": [
        [
         "129397",
         "2021-08-09",
         "3",
         "Stefanos Tsitsipas",
         "Greece",
         "8115"
        ],
        [
         "129497",
         "2021-08-16",
         "3",
         "Stefanos Tsitsipas",
         "Greece",
         "8350"
        ],
        [
         "129597",
         "2021-08-23",
         "3",
         "Stefanos Tsitsipas",
         "Greece",
         "8350"
        ],
        [
         "129697",
         "2021-08-30",
         "3",
         "Stefanos Tsitsipas",
         "Greece",
         "8350"
        ],
        [
         "129797",
         "2021-09-13",
         "3",
         "Stefanos Tsitsipas",
         "Greece",
         "8350"
        ],
        [
         "129897",
         "2021-09-20",
         "3",
         "Stefanos Tsitsipas",
         "Greece",
         "8350"
        ],
        [
         "129997",
         "2021-09-27",
         "3",
         "Stefanos Tsitsipas",
         "Greece",
         "8350"
        ],
        [
         "130097",
         "2021-10-04",
         "3",
         "Stefanos Tsitsipas",
         "Greece",
         "8175"
        ],
        [
         "130297",
         "2021-10-18",
         "3",
         "Stefanos Tsitsipas",
         "Greece",
         "7995"
        ],
        [
         "130397",
         "2021-10-25",
         "3",
         "Stefanos Tsitsipas",
         "Greece",
         "7930"
        ],
        [
         "130497",
         "2021-11-01",
         "3",
         "Stefanos Tsitsipas",
         "Greece",
         "7840"
        ],
        [
         "135697",
         "2022-11-07",
         "3",
         "Stefanos Tsitsipas",
         "Greece",
         "5350"
        ],
        [
         "135897",
         "2022-11-14",
         "3",
         "Stefanos Tsitsipas",
         "Greece",
         "5350"
        ],
        [
         "136997",
         "2023-01-30",
         "3",
         "Stefanos Tsitsipas",
         "Greece",
         "6195"
        ],
        [
         "137097",
         "2023-02-06",
         "3",
         "Stefanos Tsitsipas",
         "Greece",
         "6195"
        ],
        [
         "137197",
         "2023-02-13",
         "3",
         "Stefanos Tsitsipas",
         "Greece",
         "5940"
        ],
        [
         "137297",
         "2023-02-20",
         "3",
         "Stefanos Tsitsipas",
         "Greece",
         "5940"
        ],
        [
         "137397",
         "2023-02-27",
         "3",
         "Stefanos Tsitsipas",
         "Greece",
         "5805"
        ],
        [
         "137497",
         "2023-03-06",
         "3",
         "Stefanos Tsitsipas",
         "Greece",
         "5805"
        ],
        [
         "137597",
         "2023-03-20",
         "3",
         "Stefanos Tsitsipas",
         "Greece",
         "5770"
        ],
        [
         "137697",
         "2023-04-03",
         "3",
         "Stefanos Tsitsipas",
         "Greece",
         "5770"
        ],
        [
         "137797",
         "2023-04-10",
         "3",
         "Stefanos Tsitsipas",
         "Greece",
         "5770"
        ]
       ],
       "shape": {
        "columns": 5,
        "rows": 22
       }
      },
      "text/html": [
       "<div>\n",
       "<style scoped>\n",
       "    .dataframe tbody tr th:only-of-type {\n",
       "        vertical-align: middle;\n",
       "    }\n",
       "\n",
       "    .dataframe tbody tr th {\n",
       "        vertical-align: top;\n",
       "    }\n",
       "\n",
       "    .dataframe thead th {\n",
       "        text-align: right;\n",
       "    }\n",
       "</style>\n",
       "<table border=\"1\" class=\"dataframe\">\n",
       "  <thead>\n",
       "    <tr style=\"text-align: right;\">\n",
       "      <th></th>\n",
       "      <th>week</th>\n",
       "      <th>rank</th>\n",
       "      <th>player_name</th>\n",
       "      <th>country</th>\n",
       "      <th>points</th>\n",
       "    </tr>\n",
       "  </thead>\n",
       "  <tbody>\n",
       "    <tr>\n",
       "      <th>129397</th>\n",
       "      <td>2021-08-09</td>\n",
       "      <td>3</td>\n",
       "      <td>Stefanos Tsitsipas</td>\n",
       "      <td>Greece</td>\n",
       "      <td>8115</td>\n",
       "    </tr>\n",
       "    <tr>\n",
       "      <th>129497</th>\n",
       "      <td>2021-08-16</td>\n",
       "      <td>3</td>\n",
       "      <td>Stefanos Tsitsipas</td>\n",
       "      <td>Greece</td>\n",
       "      <td>8350</td>\n",
       "    </tr>\n",
       "    <tr>\n",
       "      <th>129597</th>\n",
       "      <td>2021-08-23</td>\n",
       "      <td>3</td>\n",
       "      <td>Stefanos Tsitsipas</td>\n",
       "      <td>Greece</td>\n",
       "      <td>8350</td>\n",
       "    </tr>\n",
       "    <tr>\n",
       "      <th>129697</th>\n",
       "      <td>2021-08-30</td>\n",
       "      <td>3</td>\n",
       "      <td>Stefanos Tsitsipas</td>\n",
       "      <td>Greece</td>\n",
       "      <td>8350</td>\n",
       "    </tr>\n",
       "    <tr>\n",
       "      <th>129797</th>\n",
       "      <td>2021-09-13</td>\n",
       "      <td>3</td>\n",
       "      <td>Stefanos Tsitsipas</td>\n",
       "      <td>Greece</td>\n",
       "      <td>8350</td>\n",
       "    </tr>\n",
       "    <tr>\n",
       "      <th>129897</th>\n",
       "      <td>2021-09-20</td>\n",
       "      <td>3</td>\n",
       "      <td>Stefanos Tsitsipas</td>\n",
       "      <td>Greece</td>\n",
       "      <td>8350</td>\n",
       "    </tr>\n",
       "    <tr>\n",
       "      <th>129997</th>\n",
       "      <td>2021-09-27</td>\n",
       "      <td>3</td>\n",
       "      <td>Stefanos Tsitsipas</td>\n",
       "      <td>Greece</td>\n",
       "      <td>8350</td>\n",
       "    </tr>\n",
       "    <tr>\n",
       "      <th>130097</th>\n",
       "      <td>2021-10-04</td>\n",
       "      <td>3</td>\n",
       "      <td>Stefanos Tsitsipas</td>\n",
       "      <td>Greece</td>\n",
       "      <td>8175</td>\n",
       "    </tr>\n",
       "    <tr>\n",
       "      <th>130297</th>\n",
       "      <td>2021-10-18</td>\n",
       "      <td>3</td>\n",
       "      <td>Stefanos Tsitsipas</td>\n",
       "      <td>Greece</td>\n",
       "      <td>7995</td>\n",
       "    </tr>\n",
       "    <tr>\n",
       "      <th>130397</th>\n",
       "      <td>2021-10-25</td>\n",
       "      <td>3</td>\n",
       "      <td>Stefanos Tsitsipas</td>\n",
       "      <td>Greece</td>\n",
       "      <td>7930</td>\n",
       "    </tr>\n",
       "    <tr>\n",
       "      <th>130497</th>\n",
       "      <td>2021-11-01</td>\n",
       "      <td>3</td>\n",
       "      <td>Stefanos Tsitsipas</td>\n",
       "      <td>Greece</td>\n",
       "      <td>7840</td>\n",
       "    </tr>\n",
       "    <tr>\n",
       "      <th>135697</th>\n",
       "      <td>2022-11-07</td>\n",
       "      <td>3</td>\n",
       "      <td>Stefanos Tsitsipas</td>\n",
       "      <td>Greece</td>\n",
       "      <td>5350</td>\n",
       "    </tr>\n",
       "    <tr>\n",
       "      <th>135897</th>\n",
       "      <td>2022-11-14</td>\n",
       "      <td>3</td>\n",
       "      <td>Stefanos Tsitsipas</td>\n",
       "      <td>Greece</td>\n",
       "      <td>5350</td>\n",
       "    </tr>\n",
       "    <tr>\n",
       "      <th>136997</th>\n",
       "      <td>2023-01-30</td>\n",
       "      <td>3</td>\n",
       "      <td>Stefanos Tsitsipas</td>\n",
       "      <td>Greece</td>\n",
       "      <td>6195</td>\n",
       "    </tr>\n",
       "    <tr>\n",
       "      <th>137097</th>\n",
       "      <td>2023-02-06</td>\n",
       "      <td>3</td>\n",
       "      <td>Stefanos Tsitsipas</td>\n",
       "      <td>Greece</td>\n",
       "      <td>6195</td>\n",
       "    </tr>\n",
       "    <tr>\n",
       "      <th>137197</th>\n",
       "      <td>2023-02-13</td>\n",
       "      <td>3</td>\n",
       "      <td>Stefanos Tsitsipas</td>\n",
       "      <td>Greece</td>\n",
       "      <td>5940</td>\n",
       "    </tr>\n",
       "    <tr>\n",
       "      <th>137297</th>\n",
       "      <td>2023-02-20</td>\n",
       "      <td>3</td>\n",
       "      <td>Stefanos Tsitsipas</td>\n",
       "      <td>Greece</td>\n",
       "      <td>5940</td>\n",
       "    </tr>\n",
       "    <tr>\n",
       "      <th>137397</th>\n",
       "      <td>2023-02-27</td>\n",
       "      <td>3</td>\n",
       "      <td>Stefanos Tsitsipas</td>\n",
       "      <td>Greece</td>\n",
       "      <td>5805</td>\n",
       "    </tr>\n",
       "    <tr>\n",
       "      <th>137497</th>\n",
       "      <td>2023-03-06</td>\n",
       "      <td>3</td>\n",
       "      <td>Stefanos Tsitsipas</td>\n",
       "      <td>Greece</td>\n",
       "      <td>5805</td>\n",
       "    </tr>\n",
       "    <tr>\n",
       "      <th>137597</th>\n",
       "      <td>2023-03-20</td>\n",
       "      <td>3</td>\n",
       "      <td>Stefanos Tsitsipas</td>\n",
       "      <td>Greece</td>\n",
       "      <td>5770</td>\n",
       "    </tr>\n",
       "    <tr>\n",
       "      <th>137697</th>\n",
       "      <td>2023-04-03</td>\n",
       "      <td>3</td>\n",
       "      <td>Stefanos Tsitsipas</td>\n",
       "      <td>Greece</td>\n",
       "      <td>5770</td>\n",
       "    </tr>\n",
       "    <tr>\n",
       "      <th>137797</th>\n",
       "      <td>2023-04-10</td>\n",
       "      <td>3</td>\n",
       "      <td>Stefanos Tsitsipas</td>\n",
       "      <td>Greece</td>\n",
       "      <td>5770</td>\n",
       "    </tr>\n",
       "  </tbody>\n",
       "</table>\n",
       "</div>"
      ],
      "text/plain": [
       "              week  rank         player_name country  points\n",
       "129397  2021-08-09     3  Stefanos Tsitsipas  Greece    8115\n",
       "129497  2021-08-16     3  Stefanos Tsitsipas  Greece    8350\n",
       "129597  2021-08-23     3  Stefanos Tsitsipas  Greece    8350\n",
       "129697  2021-08-30     3  Stefanos Tsitsipas  Greece    8350\n",
       "129797  2021-09-13     3  Stefanos Tsitsipas  Greece    8350\n",
       "129897  2021-09-20     3  Stefanos Tsitsipas  Greece    8350\n",
       "129997  2021-09-27     3  Stefanos Tsitsipas  Greece    8350\n",
       "130097  2021-10-04     3  Stefanos Tsitsipas  Greece    8175\n",
       "130297  2021-10-18     3  Stefanos Tsitsipas  Greece    7995\n",
       "130397  2021-10-25     3  Stefanos Tsitsipas  Greece    7930\n",
       "130497  2021-11-01     3  Stefanos Tsitsipas  Greece    7840\n",
       "135697  2022-11-07     3  Stefanos Tsitsipas  Greece    5350\n",
       "135897  2022-11-14     3  Stefanos Tsitsipas  Greece    5350\n",
       "136997  2023-01-30     3  Stefanos Tsitsipas  Greece    6195\n",
       "137097  2023-02-06     3  Stefanos Tsitsipas  Greece    6195\n",
       "137197  2023-02-13     3  Stefanos Tsitsipas  Greece    5940\n",
       "137297  2023-02-20     3  Stefanos Tsitsipas  Greece    5940\n",
       "137397  2023-02-27     3  Stefanos Tsitsipas  Greece    5805\n",
       "137497  2023-03-06     3  Stefanos Tsitsipas  Greece    5805\n",
       "137597  2023-03-20     3  Stefanos Tsitsipas  Greece    5770\n",
       "137697  2023-04-03     3  Stefanos Tsitsipas  Greece    5770\n",
       "137797  2023-04-10     3  Stefanos Tsitsipas  Greece    5770"
      ]
     },
     "execution_count": 54,
     "metadata": {},
     "output_type": "execute_result"
    }
   ],
   "source": [
    "df[(df['player_name'].str.contains('Stefanos')) & (df['rank'] <= 3)]"
   ]
  },
  {
   "cell_type": "code",
   "execution_count": 55,
   "id": "5f2187d7",
   "metadata": {},
   "outputs": [],
   "source": [
    "df.to_csv('all-time-atp-top-100.ccsv', index=False)"
   ]
  },
  {
   "cell_type": "code",
   "execution_count": 56,
   "id": "74f8b882",
   "metadata": {},
   "outputs": [],
   "source": [
    "# Save dataframe to pickle\n",
    "df.to_pickle('data.pkl')"
   ]
  },
  {
   "cell_type": "code",
   "execution_count": null,
   "id": "a316212a",
   "metadata": {},
   "outputs": [],
   "source": [
    "# Load dataframe from pickle\n",
    "df = pd.read_pickle('data.pkl')"
   ]
  }
 ],
 "metadata": {
  "kernelspec": {
   "display_name": "bb_data_edit",
   "language": "python",
   "name": "python3"
  },
  "language_info": {
   "codemirror_mode": {
    "name": "ipython",
    "version": 3
   },
   "file_extension": ".py",
   "mimetype": "text/x-python",
   "name": "python",
   "nbconvert_exporter": "python",
   "pygments_lexer": "ipython3",
   "version": "3.11.11"
  }
 },
 "nbformat": 4,
 "nbformat_minor": 5
}
