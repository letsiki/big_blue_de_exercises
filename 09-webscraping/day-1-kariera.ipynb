{
 "cells": [
  {
   "cell_type": "markdown",
   "id": "c6c9067d",
   "metadata": {},
   "source": [
    "# Exercise: Web scrape [kariera.gr](https://www.kariera.gr/en) using Selenium\n",
    "Retrieve all job ads for Data Analyst, Data Scientist and Data Engineer and store to a dataframe features like: Company, Job title, Content, Location and job occupation."
   ]
  },
  {
   "cell_type": "code",
   "execution_count": null,
   "id": "12a8c98a",
   "metadata": {},
   "outputs": [
    {
     "name": "stdout",
     "output_type": "stream",
     "text": [
      "50\n"
     ]
    }
   ],
   "source": [
    "from selenium import webdriver\n",
    "from selenium.webdriver.firefox.options import Options\n",
    "from selenium.webdriver.common.by import By\n",
    "from selenium.webdriver.support.ui import WebDriverWait\n",
    "from selenium.webdriver.support import expected_conditions as EC\n",
    "from selenium.webdriver.common.keys import Keys\n",
    "from time import sleep\n",
    "\n",
    "options = Options()\n",
    "# Either point at the ELF binary:\n",
    "options.binary_location = \"/snap/firefox/current/usr/lib/firefox/firefox\"\n",
    "# —or— point at the launcher stub:\n",
    "# options.binary_location = \"/snap/firefox/current/firefox.launcher\"\n",
    "\n",
    "url = \"https://www.kariera.gr/en\"\n",
    "\n",
    "driver = webdriver.Firefox(options=options)\n",
    "driver.get(url)\n",
    "\n",
    "wait = WebDriverWait(driver, 15)\n",
    "cookie_allow_btn = wait.until(EC.element_to_be_clickable((By.CSS_SELECTOR, \"#CybotCookiebotDialogBodyLevelButtonLevelOptinAllowAll\")))\n",
    "cookie_allow_btn.click()\n",
    "search_box = wait.until(EC.element_to_be_clickable((By.CSS_SELECTOR, \"#rc_select_0\")))\n",
    "search_box.send_keys('Data Analyst' + Keys.RETURN)\n",
    "job_list = wait.until(EC.visibility_of_element_located((By.CLASS_NAME, \"Jobs_resultsContainer__xwjB_\")))\n",
    "job_listings = job_list.find_elements(By.CLASS_NAME, \"BaseJobCard_jobTitleContainer__gfcyi\")\n",
    "for job_listing in job_listings[:5]:\n",
    "    job_listing.find_element(By.TAG_NAME, 'a').click()\n",
    "# navigate from the first tab we opened to the last\n",
    "# to do that we need to be at the last tab all the time\n",
    "sleep(2)\n",
    "driver.switch_to.window(driver.window_handles[-1])\n",
    "sleep(2)\n",
    "driver.close()\n",
    "sleep(2)\n",
    "driver.switch_to.window(driver.window_handles[-1])\n",
    "sleep(2)\n",
    "driver.close()\n",
    "sleep(2)\n",
    "driver.switch_to.window(driver.window_handles[-1])\n",
    "sleep(2)\n",
    "driver.close()\n",
    "sleep(2)\n",
    "driver.switch_to.window(driver.window_handles[-1])\n",
    "sleep(2)\n",
    "driver.close()\n",
    "sleep(2)\n",
    "driver.switch_to.window(driver.window_handles[-1])\n",
    "sleep(2)\n",
    "driver.close()\n",
    "sleep(2)\n",
    "driver.switch_to.window(driver.window_handles[-1])\n",
    "driver.close()"
   ]
  },
  {
   "cell_type": "code",
   "execution_count": null,
   "id": "74d4f507",
   "metadata": {},
   "outputs": [],
   "source": []
  }
 ],
 "metadata": {
  "kernelspec": {
   "display_name": "bb_data_edit",
   "language": "python",
   "name": "python3"
  },
  "language_info": {
   "codemirror_mode": {
    "name": "ipython",
    "version": 3
   },
   "file_extension": ".py",
   "mimetype": "text/x-python",
   "name": "python",
   "nbconvert_exporter": "python",
   "pygments_lexer": "ipython3",
   "version": "3.11.11"
  }
 },
 "nbformat": 4,
 "nbformat_minor": 5
}
