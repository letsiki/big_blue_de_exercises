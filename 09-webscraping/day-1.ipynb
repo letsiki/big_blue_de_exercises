{
 "cells": [
  {
   "cell_type": "markdown",
   "id": "c4d37f8b",
   "metadata": {},
   "source": [
    "Do one of the following exercises using requests and BeautifulSoup libraries\n",
    "\n",
    "\n",
    "1) Web scrape flexcar.gr\n",
    "Get the features (brand, model, price, hp, gearbox, extras..) for all leasing car offers.  \n",
    "\n",
    "2) Web scrape ATPWorldTour website (singles)\n",
    "Get all weeks (from 1973 to today) of the top100 rankings, scrape date, player name, ranking, country and points and store the data to a dataframe and save it at the end to a csv file. (Hint: use an empty string “” in the headers)  \n",
    "\n",
    "headers={'User-Agent': ''}  \n",
    "page = requests.get(url,timeout=15, headers= headers)  \n",
    "\n",
    "Bonus:  \n",
    "3) Web scrape kariera.gr using Selenium\n",
    "Retrieve all job ads for Data Analyst, Data Scientist and Data Engineer and store to a dataframe features like: Company, Job title, Content, Location and job occupation."
   ]
  },
  {
   "cell_type": "code",
   "execution_count": 1,
   "id": "5674faa3",
   "metadata": {},
   "outputs": [],
   "source": [
    "import requests\n",
    "from bs4 import BeautifulSoup\n",
    "import pandas as pd"
   ]
  },
  {
   "cell_type": "code",
   "execution_count": 2,
   "id": "b0d266df",
   "metadata": {},
   "outputs": [],
   "source": [
    "url = \"https://www.coffeereview.com/review/\"\n",
    "response = requests.get(url)\n",
    "response.status_code\n",
    "# Check status code, we want 200\n",
    "if response.status_code != 200:\n",
    "    print(\"Error\")"
   ]
  },
  {
   "cell_type": "code",
   "execution_count": 3,
   "id": "e83dc2ae",
   "metadata": {},
   "outputs": [
    {
     "data": {
      "text/plain": [
       "bs4.BeautifulSoup"
      ]
     },
     "execution_count": 3,
     "metadata": {},
     "output_type": "execute_result"
    }
   ],
   "source": [
    "soup = BeautifulSoup(response.content, 'html.parser')\n",
    "type(soup)"
   ]
  },
  {
   "cell_type": "code",
   "execution_count": null,
   "id": "2f167a57",
   "metadata": {},
   "outputs": [],
   "source": []
  }
 ],
 "metadata": {
  "kernelspec": {
   "display_name": "bb_data_edit",
   "language": "python",
   "name": "python3"
  },
  "language_info": {
   "codemirror_mode": {
    "name": "ipython",
    "version": 3
   },
   "file_extension": ".py",
   "mimetype": "text/x-python",
   "name": "python",
   "nbconvert_exporter": "python",
   "pygments_lexer": "ipython3",
   "version": "3.11.11"
  }
 },
 "nbformat": 4,
 "nbformat_minor": 5
}
