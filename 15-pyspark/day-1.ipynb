{
 "cells": [
  {
   "cell_type": "markdown",
   "id": "51ea8734",
   "metadata": {
    "vscode": {
     "languageId": "plaintext"
    }
   },
   "source": [
    "0. Load libraries / Init Spark"
   ]
  },
  {
   "cell_type": "code",
   "execution_count": null,
   "id": "c12da3ae",
   "metadata": {},
   "outputs": [],
   "source": [
    "from datetime import datetime\n",
    "from pyspark.sql import SparkSession\n",
    "from pyspark.sql import Window\n",
    "from pyspark.sql.functions import col, expr, udf, rank\n",
    "from pyspark.sql.types import IntegerType"
   ]
  },
  {
   "cell_type": "code",
   "execution_count": 47,
   "id": "36d2954c",
   "metadata": {},
   "outputs": [],
   "source": [
    "spark = SparkSession.builder.appName(\"spark-exercises\").getOrCreate()\n",
    "sc = spark.sparkContext"
   ]
  },
  {
   "cell_type": "markdown",
   "id": "20cae61b",
   "metadata": {
    "vscode": {
     "languageId": "plaintext"
    }
   },
   "source": [
    "1. Read csvs as pyspark dataframes, you can find them in the server (departments, dept_emp,dept_manager,employees,salaries,titles)  \n",
    "‘’movies.csv” will not be used yet."
   ]
  },
  {
   "cell_type": "code",
   "execution_count": null,
   "id": "145098ee",
   "metadata": {},
   "outputs": [],
   "source": [
    "df_departments = spark.read.csv(\n",
    "    \"csv/departments.csv\", header=True, inferSchema=True\n",
    ")\n",
    "df_dept_emp = spark.read.csv(\n",
    "    \"csv/dept_emp.csv\", header=True, inferSchema=True\n",
    ")\n",
    "df_dept_manager = spark.read.csv(\n",
    "    \"csv/dept_manager.csv\", header=True, inferSchema=True\n",
    ")\n",
    "df_employees = spark.read.csv(\n",
    "    \"csv/employees.csv\", header=True, inferSchema=True\n",
    ")\n",
    "df_salaries = spark.read.csv(\n",
    "    \"csv/salaries.csv\", header=True, inferSchema=True\n",
    ")\n",
    "df_titles = spark.read.csv(\n",
    "    \"csv/titles.csv\", header=True, inferSchema=True\n",
    ")"
   ]
  },
  {
   "cell_type": "markdown",
   "id": "095cb949",
   "metadata": {},
   "source": [
    "2. Print cell on the first row , first column of the “departments’” spark-dataframe you've created"
   ]
  },
  {
   "cell_type": "code",
   "execution_count": 88,
   "id": "66a1c451",
   "metadata": {},
   "outputs": [
    {
     "data": {
      "text/plain": [
       "'d009'"
      ]
     },
     "execution_count": 88,
     "metadata": {},
     "output_type": "execute_result"
    }
   ],
   "source": [
    "# print\n",
    "df_departments.first()[0]"
   ]
  },
  {
   "cell_type": "code",
   "execution_count": 89,
   "id": "ea6d43f5",
   "metadata": {},
   "outputs": [
    {
     "data": {
      "text/plain": [
       "[Row(dept_no='d009', dept_name='Customer Service'),\n",
       " Row(dept_no='d005', dept_name='Development'),\n",
       " Row(dept_no='d002', dept_name='Finance'),\n",
       " Row(dept_no='d003', dept_name='Human Resources'),\n",
       " Row(dept_no='d001', dept_name='Marketing')]"
      ]
     },
     "execution_count": 89,
     "metadata": {},
     "output_type": "execute_result"
    }
   ],
   "source": [
    "# verify\n",
    "df_departments.head(5)"
   ]
  },
  {
   "cell_type": "markdown",
   "id": "103ac58c",
   "metadata": {},
   "source": [
    "3. On the employees dataframe transform gender column as following:"
   ]
  },
  {
   "cell_type": "code",
   "execution_count": 92,
   "id": "1d0194ec",
   "metadata": {},
   "outputs": [],
   "source": [
    "# Made sure it won't break if ran more than once\n",
    "df_employees = df_employees.withColumn(\n",
    "    \"gender\",\n",
    "    expr(\n",
    "        \"\"\"\n",
    "    CASE \n",
    "    WHEN gender in ('M', 'Male') THEN 'Male'\n",
    "    WHEN gender in ('F', 'Female') THEN 'Female'\n",
    "    END\n",
    "    \"\"\"\n",
    "    ),\n",
    ")"
   ]
  },
  {
   "cell_type": "code",
   "execution_count": 93,
   "id": "9b9597fe",
   "metadata": {},
   "outputs": [
    {
     "name": "stdout",
     "output_type": "stream",
     "text": [
      "+------+----------+----------+---------+------+----------+\n",
      "|emp_no|birth_date|first_name|last_name|gender| hire_date|\n",
      "+------+----------+----------+---------+------+----------+\n",
      "| 10001|1953-09-02|    Georgi|  Facello|  Male|1986-06-26|\n",
      "| 10002|1964-06-02|   Bezalel|   Simmel|Female|1985-11-21|\n",
      "| 10003|1959-12-03|     Parto|  Bamford|  Male|1986-08-28|\n",
      "| 10004|1954-05-01| Chirstian|  Koblick|  Male|1986-12-01|\n",
      "| 10005|1955-01-21|   Kyoichi| Maliniak|  Male|1989-09-12|\n",
      "+------+----------+----------+---------+------+----------+\n",
      "only showing top 5 rows\n",
      "\n"
     ]
    }
   ],
   "source": [
    "# verify\n",
    "df_employees.show(5)"
   ]
  },
  {
   "cell_type": "markdown",
   "id": "b5f27ed5",
   "metadata": {},
   "source": [
    "4. How many rows exist in the salaries table?"
   ]
  },
  {
   "cell_type": "code",
   "execution_count": 94,
   "id": "88937d7a",
   "metadata": {},
   "outputs": [
    {
     "data": {
      "text/plain": [
       "2844047"
      ]
     },
     "execution_count": 94,
     "metadata": {},
     "output_type": "execute_result"
    }
   ],
   "source": [
    "df_salaries.count()"
   ]
  },
  {
   "cell_type": "markdown",
   "id": "19040d34",
   "metadata": {},
   "source": [
    "5. What is the datatype in each column of the salaries table?"
   ]
  },
  {
   "cell_type": "code",
   "execution_count": 96,
   "id": "cc51b90b",
   "metadata": {},
   "outputs": [
    {
     "name": "stdout",
     "output_type": "stream",
     "text": [
      "root\n",
      " |-- emp_no: integer (nullable = true)\n",
      " |-- salary: integer (nullable = true)\n",
      " |-- from_date: date (nullable = true)\n",
      " |-- to_date: date (nullable = true)\n",
      "\n"
     ]
    }
   ],
   "source": [
    "df_salaries.printSchema()"
   ]
  },
  {
   "cell_type": "markdown",
   "id": "2bdd74ff",
   "metadata": {},
   "source": [
    "6. Most of our tables contain dates. Make sure that their datatype is date, otherwise change it to date. (not timestamp)"
   ]
  },
  {
   "cell_type": "code",
   "execution_count": 97,
   "id": "41fe7d47",
   "metadata": {},
   "outputs": [
    {
     "name": "stdout",
     "output_type": "stream",
     "text": [
      "root\n",
      " |-- emp_no: integer (nullable = true)\n",
      " |-- salary: integer (nullable = true)\n",
      " |-- from_date: date (nullable = true)\n",
      " |-- to_date: date (nullable = true)\n",
      "\n"
     ]
    }
   ],
   "source": [
    "df_salaries.printSchema()"
   ]
  },
  {
   "cell_type": "code",
   "execution_count": 98,
   "id": "24171239",
   "metadata": {},
   "outputs": [
    {
     "name": "stdout",
     "output_type": "stream",
     "text": [
      "root\n",
      " |-- dept_no: string (nullable = true)\n",
      " |-- dept_name: string (nullable = true)\n",
      "\n"
     ]
    }
   ],
   "source": [
    "df_departments.printSchema()"
   ]
  },
  {
   "cell_type": "code",
   "execution_count": 99,
   "id": "3eef18c9",
   "metadata": {},
   "outputs": [
    {
     "name": "stdout",
     "output_type": "stream",
     "text": [
      "root\n",
      " |-- emp_no: integer (nullable = true)\n",
      " |-- dept_no: string (nullable = true)\n",
      " |-- from_date: date (nullable = true)\n",
      " |-- to_date: date (nullable = true)\n",
      "\n"
     ]
    }
   ],
   "source": [
    "df_dept_emp.printSchema()"
   ]
  },
  {
   "cell_type": "code",
   "execution_count": 100,
   "id": "1e5ba524",
   "metadata": {},
   "outputs": [
    {
     "name": "stdout",
     "output_type": "stream",
     "text": [
      "root\n",
      " |-- dept_no: string (nullable = true)\n",
      " |-- emp_no: integer (nullable = true)\n",
      " |-- from_date: date (nullable = true)\n",
      " |-- to_date: date (nullable = true)\n",
      "\n"
     ]
    }
   ],
   "source": [
    "df_dept_manager.printSchema()"
   ]
  },
  {
   "cell_type": "code",
   "execution_count": 101,
   "id": "ffad5b51",
   "metadata": {},
   "outputs": [
    {
     "name": "stdout",
     "output_type": "stream",
     "text": [
      "root\n",
      " |-- emp_no: integer (nullable = true)\n",
      " |-- birth_date: date (nullable = true)\n",
      " |-- first_name: string (nullable = true)\n",
      " |-- last_name: string (nullable = true)\n",
      " |-- gender: string (nullable = true)\n",
      " |-- hire_date: date (nullable = true)\n",
      "\n"
     ]
    }
   ],
   "source": [
    "df_employees.printSchema()"
   ]
  },
  {
   "cell_type": "code",
   "execution_count": 102,
   "id": "a0d99f08",
   "metadata": {},
   "outputs": [
    {
     "name": "stdout",
     "output_type": "stream",
     "text": [
      "root\n",
      " |-- emp_no: integer (nullable = true)\n",
      " |-- title: string (nullable = true)\n",
      " |-- from_date: date (nullable = true)\n",
      " |-- to_date: date (nullable = true)\n",
      "\n"
     ]
    }
   ],
   "source": [
    "df_titles.printSchema()"
   ]
  },
  {
   "cell_type": "code",
   "execution_count": 103,
   "id": "2a056291",
   "metadata": {},
   "outputs": [],
   "source": [
    "# They are all dates"
   ]
  },
  {
   "cell_type": "markdown",
   "id": "ea08d40f",
   "metadata": {},
   "source": [
    "7. Create a simple function to calculate age from date of birth. (current year-year of birth). Use this custom function to create a new column on employees dataframe with each person's age."
   ]
  },
  {
   "cell_type": "code",
   "execution_count": 117,
   "id": "5bb560f3",
   "metadata": {},
   "outputs": [],
   "source": [
    "# define the function\n",
    "def get_age(date: datetime.date) -> int:\n",
    "    return (datetime.now().date() - date).days // 365"
   ]
  },
  {
   "cell_type": "code",
   "execution_count": 118,
   "id": "d42cf338",
   "metadata": {},
   "outputs": [],
   "source": [
    "# create the udf\n",
    "my_udf = udf(get_age, IntegerType())"
   ]
  },
  {
   "cell_type": "code",
   "execution_count": null,
   "id": "023589ce",
   "metadata": {},
   "outputs": [],
   "source": [
    "df_employees = df_employees.withColumn(\n",
    "    \"age\", my_udf(df_employees[\"birth_date\"])\n",
    ")"
   ]
  },
  {
   "cell_type": "code",
   "execution_count": 120,
   "id": "00e0726c",
   "metadata": {},
   "outputs": [
    {
     "data": {
      "text/plain": [
       "[Row(emp_no=10001, birth_date=datetime.date(1953, 9, 2), first_name='Georgi', last_name='Facello', gender='Male', hire_date=datetime.date(1986, 6, 26), age=71),\n",
       " Row(emp_no=10002, birth_date=datetime.date(1964, 6, 2), first_name='Bezalel', last_name='Simmel', gender='Female', hire_date=datetime.date(1985, 11, 21), age=61),\n",
       " Row(emp_no=10003, birth_date=datetime.date(1959, 12, 3), first_name='Parto', last_name='Bamford', gender='Male', hire_date=datetime.date(1986, 8, 28), age=65),\n",
       " Row(emp_no=10004, birth_date=datetime.date(1954, 5, 1), first_name='Chirstian', last_name='Koblick', gender='Male', hire_date=datetime.date(1986, 12, 1), age=71),\n",
       " Row(emp_no=10005, birth_date=datetime.date(1955, 1, 21), first_name='Kyoichi', last_name='Maliniak', gender='Male', hire_date=datetime.date(1989, 9, 12), age=70)]"
      ]
     },
     "execution_count": 120,
     "metadata": {},
     "output_type": "execute_result"
    }
   ],
   "source": [
    "df_employees.head(5)"
   ]
  },
  {
   "cell_type": "markdown",
   "id": "463c10a3",
   "metadata": {},
   "source": [
    "8. How many employees does the company currently have?"
   ]
  },
  {
   "cell_type": "code",
   "execution_count": null,
   "id": "574238b1",
   "metadata": {},
   "outputs": [
    {
     "data": {
      "text/plain": [
       "300024"
      ]
     },
     "execution_count": 131,
     "metadata": {},
     "output_type": "execute_result"
    }
   ],
   "source": [
    "# They are distinct, but just making sure\n",
    "df_employees.select(\"emp_no\").distinct().count()"
   ]
  },
  {
   "cell_type": "markdown",
   "id": "c9adcd30",
   "metadata": {},
   "source": [
    "9. How many employees does the company currently have?"
   ]
  },
  {
   "cell_type": "code",
   "execution_count": null,
   "id": "efb9944d",
   "metadata": {},
   "outputs": [
    {
     "name": "stdout",
     "output_type": "stream",
     "text": [
      "root\n",
      " |-- emp_no: integer (nullable = true)\n",
      " |-- dept_no: string (nullable = true)\n",
      " |-- from_date: date (nullable = true)\n",
      " |-- to_date: date (nullable = true)\n",
      "\n"
     ]
    }
   ],
   "source": [
    "# check schema\n",
    "df_dept_emp.printSchema()"
   ]
  },
  {
   "cell_type": "code",
   "execution_count": null,
   "id": "d0c9e4ca",
   "metadata": {},
   "outputs": [
    {
     "name": "stdout",
     "output_type": "stream",
     "text": [
      "+-------+-----+\n",
      "|dept_no|count|\n",
      "+-------+-----+\n",
      "|   d001|20211|\n",
      "|   d002|17346|\n",
      "|   d003|17786|\n",
      "|   d004|73485|\n",
      "|   d005|85707|\n",
      "|   d006|20117|\n",
      "|   d007|52245|\n",
      "|   d008|21126|\n",
      "|   d009|23580|\n",
      "+-------+-----+\n",
      "\n"
     ]
    }
   ],
   "source": [
    "df_dept_emp.groupby(\"dept_no\").count().orderBy(\"dept_no\").show()"
   ]
  },
  {
   "cell_type": "markdown",
   "id": "13fe733c",
   "metadata": {},
   "source": [
    "10. Produce a table with two columns. department names & number of employees"
   ]
  },
  {
   "cell_type": "code",
   "execution_count": null,
   "id": "9e99867b",
   "metadata": {},
   "outputs": [],
   "source": [
    "# We will have to create two tables and join them\n",
    "df_departments.createOrReplaceTempView(\"departments\")\n",
    "df_dept_emp.createOrReplaceTempView(\"dept_emp\")"
   ]
  },
  {
   "cell_type": "code",
   "execution_count": null,
   "id": "cc03bd0a",
   "metadata": {},
   "outputs": [
    {
     "name": "stdout",
     "output_type": "stream",
     "text": [
      "root\n",
      " |-- dept_no: string (nullable = true)\n",
      " |-- dept_name: string (nullable = true)\n",
      "\n"
     ]
    }
   ],
   "source": [
    "# check schema\n",
    "df_departments.printSchema()"
   ]
  },
  {
   "cell_type": "code",
   "execution_count": 143,
   "id": "11efd930",
   "metadata": {},
   "outputs": [
    {
     "name": "stdout",
     "output_type": "stream",
     "text": [
      "+------------------+-------------+\n",
      "|         dept_name|employe_count|\n",
      "+------------------+-------------+\n",
      "|  Customer Service|        23580|\n",
      "|       Development|        85707|\n",
      "|           Finance|        17346|\n",
      "|   Human Resources|        17786|\n",
      "|         Marketing|        20211|\n",
      "|        Production|        73485|\n",
      "|Quality Management|        20117|\n",
      "|          Research|        21126|\n",
      "|             Sales|        52245|\n",
      "+------------------+-------------+\n",
      "\n"
     ]
    }
   ],
   "source": [
    "spark.sql(\n",
    "    \"\"\"\n",
    "    select d.dept_name, count(de.emp_no) as employe_count\n",
    "    from departments d\n",
    "    join dept_emp de using (dept_no)\n",
    "    group by d.dept_name\n",
    "    order by d.dept_name\n",
    "\"\"\"\n",
    ").show()"
   ]
  },
  {
   "cell_type": "markdown",
   "id": "f7a2316e",
   "metadata": {},
   "source": [
    "11. What is the highest paid job title on average? How many employees does the company occupy with this title?"
   ]
  },
  {
   "cell_type": "code",
   "execution_count": null,
   "id": "ab14f98d",
   "metadata": {},
   "outputs": [],
   "source": [
    "# I will need to join titles and salaries tables\n",
    "df_salaries = df_salaries.createOrReplaceTempView(\"salaries\")\n",
    "df_titles = df_titles.createOrReplaceTempView(\"titles\")"
   ]
  },
  {
   "cell_type": "code",
   "execution_count": 151,
   "id": "d50458a0",
   "metadata": {},
   "outputs": [
    {
     "name": "stdout",
     "output_type": "stream",
     "text": [
      "+------------+----------+\n",
      "|       title|avg_salary|\n",
      "+------------+----------+\n",
      "|Senior Staff|     70470|\n",
      "+------------+----------+\n",
      "\n"
     ]
    }
   ],
   "source": [
    "# Highest paid job\n",
    "spark.sql(\n",
    "    \"\"\"\n",
    "    select t.title, cast(avg(s.salary) as int) avg_salary\n",
    "    from titles t\n",
    "    join salaries s using (emp_no)\n",
    "    group by t.title\n",
    "    order by avg_salary desc\n",
    "    limit 1\n",
    "\"\"\"\n",
    ").show()"
   ]
  },
  {
   "cell_type": "markdown",
   "id": "1868cdc1",
   "metadata": {},
   "source": [
    "12. Create a master view that gathers the following info for all current employees:  \n",
    "    1. employee id\n",
    "    2. employee salary\n",
    "    3. name of department\n",
    "    4. manager's id\n",
    "    5. manager's name\n",
    "    6. Managere's full name\n",
    "    7. employee's full name\n",
    "    8. current title\n",
    "    9. date hired in company\n",
    "    10. date started current role\n",
    "    11. years in company hint:  use function created for age this time instead of current year - birth year pass hire year"
   ]
  },
  {
   "cell_type": "code",
   "execution_count": null,
   "id": "842157a6",
   "metadata": {},
   "outputs": [],
   "source": [
    "# I pretty much have to join everything... I am missing only the dept_manager table I think\n",
    "df_dept_manager.createOrReplaceTempView(\"dept_manager\")"
   ]
  },
  {
   "cell_type": "code",
   "execution_count": 205,
   "id": "ed61dcb8",
   "metadata": {},
   "outputs": [
    {
     "data": {
      "text/plain": [
       "<function __main__.get_age(date: <method 'date' of 'datetime.datetime' objects>) -> int>"
      ]
     },
     "execution_count": 205,
     "metadata": {},
     "output_type": "execute_result"
    }
   ],
   "source": [
    "# register udf for use with sparkSQL\n",
    "spark.udf.register(\"get_age\", get_age, IntegerType())"
   ]
  },
  {
   "cell_type": "code",
   "execution_count": 232,
   "id": "573f9977",
   "metadata": {},
   "outputs": [],
   "source": [
    "# join into the master\n",
    "df_master = spark.sql(\n",
    "    \"\"\"\n",
    "    select e.emp_no, s.salary, d.dept_name, dm.emp_no as manager_no, e2.first_name manager_name, concat(e2.first_name, ' ', e2.last_name) manager_full_name, concat(e.first_name, ' ', e.   last_name) employee_full_name, t.title, e.hire_date, t.from_date, get_age(e.hire_date) years_in_company\n",
    "    --select *\n",
    "    from employees e\n",
    "    join salaries s on s.emp_no = e.emp_no and s.to_date = '9999-01-01'\n",
    "    join dept_emp de on de.emp_no = e.emp_no and de.to_date = '9999-01-01'\n",
    "    join departments d using (dept_no)\n",
    "    join dept_manager dm on dm.dept_no = d.dept_no and dm.to_date = '9999-01-01'\n",
    "    join employees e2 on dm.emp_no = e2.emp_no\n",
    "    join titles t on e.emp_no = t.emp_no and t.to_date = '9999-01-01'\n",
    "    order by e.emp_no\n",
    "\"\"\"\n",
    ")"
   ]
  },
  {
   "cell_type": "code",
   "execution_count": 233,
   "id": "94fef205",
   "metadata": {},
   "outputs": [],
   "source": [
    "# create master view\n",
    "df_master.createOrReplaceTempView(\"master_view\")"
   ]
  },
  {
   "cell_type": "code",
   "execution_count": 234,
   "id": "07a4d47a",
   "metadata": {},
   "outputs": [
    {
     "name": "stdout",
     "output_type": "stream",
     "text": [
      "+------+------+-----------+----------+------------+-----------------+------------------+------------------+----------+----------+----------------+\n",
      "|emp_no|salary|  dept_name|manager_no|manager_name|manager_full_name|employee_full_name|             title| hire_date| from_date|years_in_company|\n",
      "+------+------+-----------+----------+------------+-----------------+------------------+------------------+----------+----------+----------------+\n",
      "| 10298| 43923| Production|    110420|       Oscar|   Oscar Ghazalie|  Dietrich DuCasse|             Staff|1999-03-30|1999-04-27|              26|\n",
      "| 11697| 45619|Development|    110567|        Leon|    Leon DasSarma|      JoAnne Merey|  Technique Leader|1999-11-06|1999-12-10|              25|\n",
      "| 11754| 47936|   Research|    111534|      Hilary|    Hilary Kambil|    Malu Magliocco|             Staff|1999-08-23|1999-11-06|              25|\n",
      "| 11829| 48098| Production|    110420|       Oscar|   Oscar Ghazalie|  Chaosheng Pettis|Assistant Engineer|1999-02-17|1999-10-11|              26|\n",
      "| 12015| 44595|   Research|    111534|      Hilary|    Hilary Kambil|    Kensei Guenter|             Staff|1999-01-04|1999-11-16|              26|\n",
      "+------+------+-----------+----------+------------+-----------------+------------------+------------------+----------+----------+----------------+\n",
      "\n"
     ]
    }
   ],
   "source": [
    "# 13, hired after ... and changed titles\n",
    "spark.sql(\n",
    "    \"\"\"\n",
    "    select *\n",
    "    from master_view\n",
    "    where hire_date > '1998-12-31' and hire_date <> from_date\n",
    "    \"\"\"\n",
    ").limit(5).show()"
   ]
  },
  {
   "cell_type": "code",
   "execution_count": 235,
   "id": "9973a3ee",
   "metadata": {},
   "outputs": [
    {
     "name": "stdout",
     "output_type": "stream",
     "text": [
      "+------+------+---------+----------+------------+-----------------+------------------+---------------+----------+----------+----------------+---------+\n",
      "|emp_no|salary|dept_name|manager_no|manager_name|manager_full_name|employee_full_name|          title| hire_date| from_date|years_in_company|dept_rank|\n",
      "+------+------+---------+----------+------------+-----------------+------------------+---------------+----------+----------+----------------+---------+\n",
      "|216227|101040|    Sales|    111133|       Hauke|      Hauke Zhang|   Rosalie Provine|   Senior Staff|1992-10-31|2000-10-31|              32|     9366|\n",
      "|499005| 81891|    Sales|    111133|       Hauke|      Hauke Zhang|Juichirou Fujisawa|          Staff|1998-02-09|1998-02-09|              27|    24216|\n",
      "|295045| 68513| Research|    111534|      Hilary|    Hilary Kambil|    Arvind Holburn|Senior Engineer|1993-01-23|1993-01-23|              32|     6969|\n",
      "+------+------+---------+----------+------------+-----------------+------------------+---------------+----------+----------+----------------+---------+\n",
      "\n"
     ]
    }
   ],
   "source": [
    "# 14. rank salaries dept-based (sql)\n",
    "spark.sql(\n",
    "    \"\"\"\n",
    "    select *, \n",
    "        rank() over(partition by  dept_name order by salary desc) dept_rank\n",
    "    from master_view\n",
    "    \"\"\"\n",
    ").sample(.00003).show()"
   ]
  },
  {
   "cell_type": "code",
   "execution_count": 236,
   "id": "a5d3c164",
   "metadata": {},
   "outputs": [
    {
     "name": "stdout",
     "output_type": "stream",
     "text": [
      "+------+------+----------------+----------+------------+-----------------+-------------------+------------+----------+----------+----------------+---------+\n",
      "|emp_no|salary|       dept_name|manager_no|manager_name|manager_full_name| employee_full_name|       title| hire_date| from_date|years_in_company|dept_rank|\n",
      "+------+------+----------------+----------+------------+-----------------+-------------------+------------+----------+----------+----------------+---------+\n",
      "| 36903|100598|           Sales|    111133|       Hauke|      Hauke Zhang|       Shan Vickson|Senior Staff|1990-01-19|1990-01-19|              35|     9661|\n",
      "|100961| 67325|Customer Service|    111939|     Yuchang|  Yuchang Weedman|    Marke Penttonen|Senior Staff|1987-03-09|1993-03-08|              38|     7798|\n",
      "| 29405| 65972|        Research|    111534|      Hilary|    Hilary Kambil|Poornachandra Viele|       Staff|1995-09-04|1995-09-04|              29|     8013|\n",
      "| 18660| 46471|     Development|    110567|        Leon|    Leon DasSarma|  Takahito Blokdijk|    Engineer|1996-06-06|1996-06-06|              29|    58646|\n",
      "+------+------+----------------+----------+------------+-----------------+-------------------+------------+----------+----------+----------------+---------+\n",
      "\n"
     ]
    }
   ],
   "source": [
    "# 14b. Using DF\n",
    "window_func = Window.partitionBy('dept_name').orderBy(col('Salary').desc())\n",
    "df_master_with_rank = df_master.withColumn('dept_rank', rank().over(window_func))\n",
    "df_master_with_rank.sample(.00003).show()"
   ]
  },
  {
   "cell_type": "code",
   "execution_count": 237,
   "id": "61999170",
   "metadata": {},
   "outputs": [
    {
     "data": {
      "text/plain": [
       "[Table(name='departments', catalog=None, namespace=[], description=None, tableType='TEMPORARY', isTemporary=True),\n",
       " Table(name='dept_emp', catalog=None, namespace=[], description=None, tableType='TEMPORARY', isTemporary=True),\n",
       " Table(name='dept_manager', catalog=None, namespace=[], description=None, tableType='TEMPORARY', isTemporary=True),\n",
       " Table(name='employees', catalog=None, namespace=[], description=None, tableType='TEMPORARY', isTemporary=True),\n",
       " Table(name='master_view', catalog=None, namespace=[], description=None, tableType='TEMPORARY', isTemporary=True),\n",
       " Table(name='salaries', catalog=None, namespace=[], description=None, tableType='TEMPORARY', isTemporary=True),\n",
       " Table(name='titles', catalog=None, namespace=[], description=None, tableType='TEMPORARY', isTemporary=True)]"
      ]
     },
     "execution_count": 237,
     "metadata": {},
     "output_type": "execute_result"
    }
   ],
   "source": [
    "# 15. Print all views\n",
    "spark.catalog.listTables()"
   ]
  },
  {
   "cell_type": "code",
   "execution_count": null,
   "id": "6fb1d4a9",
   "metadata": {},
   "outputs": [],
   "source": [
    "# 16. write to parquet\n",
    "df_master_with_rank.write.parquet('parquet/')"
   ]
  }
 ],
 "metadata": {
  "kernelspec": {
   "display_name": "Python 3 (ipykernel)",
   "language": "python",
   "name": "python3"
  }
 },
 "nbformat": 4,
 "nbformat_minor": 5
}
