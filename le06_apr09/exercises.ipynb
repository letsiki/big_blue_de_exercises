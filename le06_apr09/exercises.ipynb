{
 "cells": [
  {
   "cell_type": "markdown",
   "id": "c6af1ef3-b84b-44d6-accd-b4eddc076476",
   "metadata": {},
   "source": [
    "##### 16. Use zip to iterate to all three lists and in a for loop and print each time the first name, last name and age."
   ]
  },
  {
   "cell_type": "code",
   "execution_count": 3,
   "id": "10d307ee-2795-4489-8c6f-98e5dcfa522f",
   "metadata": {},
   "outputs": [],
   "source": [
    "first_names = ['Jane', 'John', 'Jennifer']\n",
    "last_names = ['Doe', 'Williams', 'Smith']\n",
    "ages = [20, 40, 30]"
   ]
  },
  {
   "cell_type": "markdown",
   "id": "0ca15660-3c64-4023-b545-e15db8086295",
   "metadata": {},
   "source": [
    "##### 17. Calculate from the following lists the profit for each month. Identify the month with the highest profits (use zip)."
   ]
  },
  {
   "cell_type": "code",
   "execution_count": 4,
   "id": "6c848feb-30e0-4334-b571-0e7a2a1ba9e7",
   "metadata": {},
   "outputs": [],
   "source": [
    "months = ['January', 'February', 'March', 'April', 'May', 'June', 'July', 'August', 'September', 'October', 'November', 'December']\n",
    "\n",
    "total_sales = [52000.00, 51000.00, 48000.00, 62000.0, 42000.0, 46000.0, 39000.0, 59000.0, 64000.0, 54000.0, 44000.0, 71000.0]\n",
    "\n",
    "prod_cost = [46800.00, 45900.00, 43200.00, 45600.00, 37200.00, 42200.00, 48900.00, 33600.00, 54200.00, 33200.00, 42100.00]"
   ]
  },
  {
   "cell_type": "markdown",
   "id": "eca35aff-1944-4eeb-9f98-be5986dd7a5b",
   "metadata": {},
   "source": [
    "How much is the profit for December?"
   ]
  },
  {
   "cell_type": "markdown",
   "id": "c1dffe4c-b9d5-4437-970f-24d983eadeca",
   "metadata": {},
   "source": [
    "##### 18. Use map function and lambda to make the email from the following list lowercase:"
   ]
  },
  {
   "cell_type": "code",
   "execution_count": 5,
   "id": "fa178881-26a7-4af8-a07e-ed43147d6def",
   "metadata": {},
   "outputs": [],
   "source": [
    "lst = [\"Mary@GMAIL.com\", \"hari@YaHoo.com\", \"SopHIA@qg.com\", \"EVan@YahoO.COM\"]"
   ]
  },
  {
   "cell_type": "markdown",
   "id": "4e3c97e6-849d-42db-8c9a-c0caae7ae0dd",
   "metadata": {},
   "source": [
    "##### 19. Find the movie with the highest duration, use lambda function."
   ]
  },
  {
   "cell_type": "code",
   "execution_count": 7,
   "id": "93795913-ef24-49a0-8887-7ccf3a57a7b1",
   "metadata": {},
   "outputs": [],
   "source": [
    "movies = {'pulp fiction': 154, 'terminator': 107, 'aliens': 137, 'the lion king': 98, 'pink panther': 115}"
   ]
  },
  {
   "cell_type": "markdown",
   "id": "f600f294-58ad-4874-b211-71ca156de942",
   "metadata": {},
   "source": [
    "#####  Write a program to filter out the even numbers from a list of integers using Lambda."
   ]
  },
  {
   "cell_type": "code",
   "execution_count": 8,
   "id": "85996a19-7b33-440b-a7e8-2ecf932764d1",
   "metadata": {},
   "outputs": [],
   "source": [
    "lst = [1, 2, 3, 4, 5, 6, 7, 8, 9, 10, 11, 12]"
   ]
  },
  {
   "cell_type": "markdown",
   "id": "016d4799-202d-49f1-b508-7afbf9a15202",
   "metadata": {},
   "source": [
    "##### 21. Filter out the even numbers from the following list, then sort them using Lambda."
   ]
  },
  {
   "cell_type": "code",
   "execution_count": 9,
   "id": "6213f88e-dd41-44ae-9c30-7c860ff623ac",
   "metadata": {},
   "outputs": [],
   "source": [
    "lst = [-4, 2, -3, 6, 3, 8, 11, -10]"
   ]
  },
  {
   "cell_type": "markdown",
   "id": "b3810b54-0d92-4960-b27e-f573c73bf3de",
   "metadata": {},
   "source": [
    "##### 22. Write a function to remove all elements from a given list present in another list using lambda (and filter?)."
   ]
  },
  {
   "cell_type": "code",
   "execution_count": 10,
   "id": "113b3655-2642-4f87-8eab-57694ef92cd0",
   "metadata": {},
   "outputs": [],
   "source": [
    "lst1 = [1, 2, 3, 4, 5, 6, 7, 8, 9, 10]\n",
    "lst2 = [2, 4, 6, 8, 9]"
   ]
  },
  {
   "cell_type": "markdown",
   "id": "82f2c1cd-2793-4fbb-a756-19d3bd027be7",
   "metadata": {},
   "source": [
    "##### 23. Using the filter function and lambda, find the values that are common to the two lists below."
   ]
  },
  {
   "cell_type": "code",
   "execution_count": 12,
   "id": "fa661978-2528-4cac-9cbb-484d8f50df32",
   "metadata": {},
   "outputs": [],
   "source": [
    "a = [1,2,3,5,7,9]\n",
    "b = [2,3,5,6,7,8]"
   ]
  },
  {
   "cell_type": "markdown",
   "id": "1909f296-1b4c-465f-a5c3-28fcabf7cd75",
   "metadata": {},
   "source": [
    "##### 24. Use filter and lambda to return only negative numbers from a list."
   ]
  },
  {
   "cell_type": "code",
   "execution_count": 13,
   "id": "7cf9aa7b-46f6-4c4c-a44e-388780615211",
   "metadata": {},
   "outputs": [],
   "source": [
    "lst = [2, -2, -3, 4, -5, 6, 7, -8, 9, -10]"
   ]
  },
  {
   "cell_type": "markdown",
   "id": "bdc37dd7-d77d-4870-9b47-d0dfe2000f91",
   "metadata": {},
   "source": [
    "##### 25. Double the number of each element from the following list (use lambda)"
   ]
  },
  {
   "cell_type": "code",
   "execution_count": 14,
   "id": "2809a91c-6cdc-46fe-b0ff-e1458cbed6e1",
   "metadata": {},
   "outputs": [],
   "source": [
    "lst = [6, 7, 23, 27, 24, 62, 87, 28, 23, 91]"
   ]
  },
  {
   "cell_type": "markdown",
   "id": "eec50346-66cd-41a0-9008-0b4b0b317637",
   "metadata": {},
   "source": [
    "##### 26. Using sorted() function and lambda sort the tuples in the list based on the last character of the second item."
   ]
  },
  {
   "cell_type": "code",
   "execution_count": 15,
   "id": "53a0dcf1-79a1-4dd8-8c0b-3d7dafda9634",
   "metadata": {},
   "outputs": [],
   "source": [
    "# Cities population\n",
    "lst = [(3090508, \"Athens\"), (9002488, \"London\"), (402762, \"Zurich\"), (198979, \"Geneva\"), (3769495, \"Amsterdam\"), (2165423, \"Milano\")]"
   ]
  },
  {
   "cell_type": "markdown",
   "id": "c341cf41-46a1-4dc1-8087-ee5a7c38ec22",
   "metadata": {},
   "source": [
    "##### 27. Write a Python program to find the maximum and minimum values in the previous list of tuples using lambda function."
   ]
  },
  {
   "cell_type": "code",
   "execution_count": null,
   "id": "75994297-2cbd-496b-b028-7f645ed1c9d0",
   "metadata": {},
   "outputs": [],
   "source": []
  },
  {
   "cell_type": "markdown",
   "id": "f2620df3-a3e0-40aa-bf0a-a3e634923570",
   "metadata": {},
   "source": [
    "##### 28. Remove values that are not integer from a given list using lambda function"
   ]
  },
  {
   "cell_type": "code",
   "execution_count": 16,
   "id": "fe0f08b0-8251-407a-83da-47c1767c7758",
   "metadata": {},
   "outputs": [],
   "source": [
    "lst =  [4,67,8, None, 32, 'Missing', 21, 23.3]"
   ]
  },
  {
   "cell_type": "markdown",
   "id": "6040639f-6480-4c29-befe-5986388d3a2e",
   "metadata": {},
   "source": [
    "##### 29. Write a Python program to sort a mixed list of integers and strings using lambda."
   ]
  },
  {
   "cell_type": "code",
   "execution_count": 18,
   "id": "5b6d999f-0424-47a0-8a50-8ca32281d254",
   "metadata": {},
   "outputs": [],
   "source": [
    "lst =  [4,67,8, 'not found', 32, 'missing', 21, 23, 'warning', 'alert']"
   ]
  },
  {
   "cell_type": "markdown",
   "id": "35d98c90-fcc0-48c4-aa39-4ca5653f980f",
   "metadata": {},
   "source": [
    "##### 30. Write a Python program to calculate the average value of numbers in a list of lists using lambda."
   ]
  },
  {
   "cell_type": "code",
   "execution_count": 19,
   "id": "03a69ca2-2685-4e87-b1d4-8852e1556578",
   "metadata": {},
   "outputs": [],
   "source": [
    "lst = [[33,4,33,22], [4,23,11,3], [1,22,75,11], [32,14,65,73], [3,2,6,8], [353,234,566,234,653]]"
   ]
  },
  {
   "cell_type": "code",
   "execution_count": null,
   "id": "979f5641-b38b-482f-8d7d-8f8156add85e",
   "metadata": {},
   "outputs": [],
   "source": []
  }
 ],
 "metadata": {
  "kernelspec": {
   "display_name": "Python 3 (ipykernel)",
   "language": "python",
   "name": "python3"
  },
  "language_info": {
   "codemirror_mode": {
    "name": "ipython",
    "version": 3
   },
   "file_extension": ".py",
   "mimetype": "text/x-python",
   "name": "python",
   "nbconvert_exporter": "python",
   "pygments_lexer": "ipython3",
   "version": "3.11.11"
  }
 },
 "nbformat": 4,
 "nbformat_minor": 5
}
