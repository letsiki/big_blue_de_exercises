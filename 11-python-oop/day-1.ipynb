{
 "cells": [
  {
   "cell_type": "markdown",
   "id": "427f512e",
   "metadata": {},
   "source": [
    "## Exercises"
   ]
  },
  {
   "cell_type": "markdown",
   "id": "51b2bb5e",
   "metadata": {},
   "source": [
    "### Warm up\n",
    "1) Write an object oriented program to create a car. Each car has a name. The class stores in a class attribute the cars created. No more than 5 cars can be held in possession at a given point of time. If there are more than 5 cars, delete the oldest car and store the new one. Create a method to display the cars.\n",
    "\n",
    "2) Write an object oriented program that performs the following tasks:\n",
    "    - Create a class called Electric_car from the base class Car (Create a fresh simple one)\n",
    "    - All cars should have a type. \"Sedan\" should be the default type for all cars by default\n",
    "    - The user can be given an option to change the type of electric car used if he wishes to\n",
    "    - The number of electric_motors of an Electric_car should be a property that should not be altered outside the Electric_car class\n",
    "    - Have a method that displays car specs."
   ]
  },
  {
   "cell_type": "markdown",
   "id": "95a6e43e",
   "metadata": {},
   "source": [
    "\n",
    "### Part A\n",
    "\n",
    "1) Create a class 'query_original'. The class has to:\n",
    "    - store queries objects that contain 2 fields. 'query' that is the string of query and 'no_of_query'\n",
    "    - 'query' will be the string passing into some API to get our results\n",
    "    - 'no_of_query'. Some queries need a specific number of results to be asked for. For those types of queries this attribute will be passed in the object creation. For all other types of queries the value will be zero(default value).\n",
    "    - assert that no_of_query attribute is zero or greater than zero integer.\n",
    "    - be able to print every object in readable way\n",
    "    - able to keep and display all instances created (queries objects from step c)\n",
    "\n",
    "2) Create a class 'query_dt_c'. The class has to do everything that 'query_original' class does but this time you have to build the class as a 'dataclass'. As the sole purpose of the class is to hold query objects, building it as a dataclass can save some lines of code. Again the class has to:\n",
    "    - store queries objects that contain 2 arguments. 'query' that is the string of query and 'no_of_query'\n",
    "    - assert that no_of_query attribute is zero or greater than zero integer.\n",
    "    - be able to print every object in readable way in readable way\n",
    "    - able to keep and display all instances created  \n",
    "**Hint**: look into class decorators. If __init__ cannot be used, then which special method can help us?"
   ]
  },
  {
   "cell_type": "markdown",
   "id": "5da17991",
   "metadata": {},
   "source": [
    "## Solutions"
   ]
  },
  {
   "cell_type": "markdown",
   "id": "08439390",
   "metadata": {},
   "source": [
    "### Warm-Up"
   ]
  },
  {
   "cell_type": "markdown",
   "id": "a6267af3",
   "metadata": {},
   "source": [
    "1) Write an object oriented program to create a car. Each car has a name. The class stores in a class attribute the cars created. No more than 5 cars can be held in possession at a given point of time. If there are more than 5 cars, delete the oldest car and store the new one. Create a method to display the cars."
   ]
  },
  {
   "cell_type": "code",
   "execution_count": 6,
   "id": "2e3e5d0b",
   "metadata": {},
   "outputs": [],
   "source": [
    "class Car:\n",
    "    total_cars = []\n",
    "\n",
    "    def __init__(self, name):\n",
    "        self.name = name\n",
    "        if len(self.__class__.total_cars) >= 5:\n",
    "            self.__class__.total_cars = self.__class__.total_cars[1:]\n",
    "        self.__class__.total_cars.append(self)\n",
    "\n",
    "    @classmethod\n",
    "    def display_cars(cls):\n",
    "        for car in cls.total_cars:\n",
    "            print(car.name)"
   ]
  },
  {
   "cell_type": "code",
   "execution_count": null,
   "id": "6ef3bf4b",
   "metadata": {},
   "outputs": [],
   "source": [
    "a = Car(\"VW\")\n",
    "b = Car(\"Mitsubishi\")\n",
    "c = Car(\"Toyota\")\n",
    "d = Car(\"Porsche\")\n",
    "e = Car(\"Datsun\")"
   ]
  },
  {
   "cell_type": "code",
   "execution_count": 8,
   "id": "6cbac1f9",
   "metadata": {},
   "outputs": [
    {
     "name": "stdout",
     "output_type": "stream",
     "text": [
      "VW\n",
      "Mitsubishi\n",
      "Toyota\n",
      "Porsche\n",
      "Datsun\n"
     ]
    }
   ],
   "source": [
    "Car.display_cars()"
   ]
  },
  {
   "cell_type": "code",
   "execution_count": null,
   "id": "e6b1333a",
   "metadata": {},
   "outputs": [],
   "source": [
    "f = Car(\"Lancia\")"
   ]
  },
  {
   "cell_type": "code",
   "execution_count": 10,
   "id": "addcc065",
   "metadata": {},
   "outputs": [
    {
     "name": "stdout",
     "output_type": "stream",
     "text": [
      "Mitsubishi\n",
      "Toyota\n",
      "Porsche\n",
      "Datsun\n",
      "Lancia\n"
     ]
    }
   ],
   "source": [
    "Car.display_cars()"
   ]
  },
  {
   "cell_type": "markdown",
   "id": "d4f44277",
   "metadata": {},
   "source": [
    "2) Write an object oriented program that performs the following tasks:\n",
    "    - Create a class called Electric_car from the base class Car (Create a fresh simple one)\n",
    "    - All cars should have a type. \"Sedan\" should be the default type for all cars by default\n",
    "    - The user can be given an option to change the type of electric car used if he wishes to\n",
    "    - The number of electric_motors of an Electric_car should be a property that should not be altered outside the Electric_car class\n",
    "    - Have a method that displays car specs."
   ]
  },
  {
   "cell_type": "code",
   "execution_count": 34,
   "id": "08306edc",
   "metadata": {},
   "outputs": [],
   "source": [
    "class Car:\n",
    "    def __init__(self, name, type_=\"Sedan\"):\n",
    "        self.name = name\n",
    "        self.type_ = type_\n",
    "\n",
    "    def __str__(self):\n",
    "        return f\"Car name: {self.name}\\n\" + f\"Car type: {self.type_}\\n\"\n",
    "\n",
    "\n",
    "class ElectricCar(Car):\n",
    "    def __init__(self, name, type_=\"Sedan\", electric_motors=1):\n",
    "        super().__init__(name, type_)\n",
    "        self.electric_motors = electric_motors\n",
    "\n",
    "    def set_type(self, type_):\n",
    "        self.type_ = type_\n",
    "\n",
    "    @property\n",
    "    def electric_motors(self):\n",
    "        return self._electric_motors\n",
    "\n",
    "    @electric_motors.setter\n",
    "    def electric_motors(self, electric_motors):\n",
    "        self._electric_motors = electric_motors\n",
    "\n",
    "    def __str__(self):\n",
    "        return (\n",
    "            super().__str__()\n",
    "            + f\"Electric Motor count: {self.electric_motors}\\n\"\n",
    "        )"
   ]
  },
  {
   "cell_type": "code",
   "execution_count": 35,
   "id": "53a59cc4",
   "metadata": {},
   "outputs": [],
   "source": [
    "a = ElectricCar('alex')"
   ]
  },
  {
   "cell_type": "code",
   "execution_count": 36,
   "id": "59ae73b0",
   "metadata": {},
   "outputs": [
    {
     "data": {
      "text/plain": [
       "<__main__.ElectricCar at 0x7125f35ed990>"
      ]
     },
     "execution_count": 36,
     "metadata": {},
     "output_type": "execute_result"
    }
   ],
   "source": [
    "a"
   ]
  },
  {
   "cell_type": "code",
   "execution_count": 38,
   "id": "0bf9c741",
   "metadata": {},
   "outputs": [
    {
     "name": "stdout",
     "output_type": "stream",
     "text": [
      "Car name: alex\n",
      "Car type: Sedan\n",
      "Electric Motor count: 1\n",
      "\n"
     ]
    }
   ],
   "source": [
    "print(a)"
   ]
  },
  {
   "cell_type": "code",
   "execution_count": 39,
   "id": "25646720",
   "metadata": {},
   "outputs": [],
   "source": [
    "a.electric_motors = 4"
   ]
  },
  {
   "cell_type": "code",
   "execution_count": 40,
   "id": "34ada4d4",
   "metadata": {},
   "outputs": [
    {
     "name": "stdout",
     "output_type": "stream",
     "text": [
      "Car name: alex\n",
      "Car type: Sedan\n",
      "Electric Motor count: 4\n",
      "\n"
     ]
    }
   ],
   "source": [
    "print(a)"
   ]
  },
  {
   "cell_type": "markdown",
   "id": "00cc8ca1",
   "metadata": {},
   "source": [
    "### Part A"
   ]
  },
  {
   "cell_type": "markdown",
   "id": "efa81c53",
   "metadata": {},
   "source": [
    "1) Create a class 'query_original'. The class has to:\n",
    "    - store queries objects that contain 2 fields. 'query' that is the string of query and 'no_of_query'\n",
    "    - 'query' will be the string passing into some API to get our results\n",
    "    - 'no_of_query'. Some queries need a specific number of results to be asked for. For those types of queries this attribute will be passed in the object creation. For all other types of queries the value will be zero(default value).\n",
    "    - assert that no_of_query attribute is zero or greater than zero integer.\n",
    "    - be able to print every object in readable way\n",
    "    - able to keep and display all instances created (queries objects from step c)"
   ]
  },
  {
   "cell_type": "code",
   "execution_count": 52,
   "id": "a8ff5830",
   "metadata": {},
   "outputs": [],
   "source": [
    "class Query:\n",
    "    def __init__(self, query_string: str, no_of_query: int = 0):\n",
    "        self.query_string = query_string\n",
    "        self.no_of_query = no_of_query\n",
    "\n",
    "    @property\n",
    "    def no_of_query(self):\n",
    "        return self._no_of_query\n",
    "\n",
    "    @no_of_query.setter\n",
    "    def no_of_query(self, n):\n",
    "        if n < 0:\n",
    "            raise ValueError(\n",
    "                f\"no_of_query must be zero or greater not {n}\"\n",
    "            )\n",
    "        self._no_of_query = n\n",
    "\n",
    "    def __str__(self):\n",
    "        return f\"{self.__class__.__name__} object qstring={self.query_string}, no_of_query={self.no_of_query}\"\n",
    "\n",
    "\n",
    "class QueryOriginal:\n",
    "    def __init__(self, *queries):\n",
    "        self.query_list = [query for query in queries]\n",
    "\n",
    "    def __str__(self):\n",
    "        class_name = self.__class__.__name__\n",
    "        queries = '\\n'.join(map(str, self.query_list))\n",
    "        return f\"{class_name}: \\n{queries}\""
   ]
  },
  {
   "cell_type": "code",
   "execution_count": 53,
   "id": "88a62c08",
   "metadata": {},
   "outputs": [
    {
     "ename": "ValueError",
     "evalue": "no_of_query must be zero or greater not -1",
     "output_type": "error",
     "traceback": [
      "\u001b[31m---------------------------------------------------------------------------\u001b[39m",
      "\u001b[31mValueError\u001b[39m                                Traceback (most recent call last)",
      "\u001b[36mCell\u001b[39m\u001b[36m \u001b[39m\u001b[32mIn[53]\u001b[39m\u001b[32m, line 2\u001b[39m\n\u001b[32m      1\u001b[39m \u001b[38;5;66;03m# verify error handling\u001b[39;00m\n\u001b[32m----> \u001b[39m\u001b[32m2\u001b[39m q1 = \u001b[43mQuery\u001b[49m\u001b[43m(\u001b[49m\u001b[33;43m'\u001b[39;49m\u001b[33;43mquery1\u001b[39;49m\u001b[33;43m'\u001b[39;49m\u001b[43m,\u001b[49m\u001b[43m \u001b[49m\u001b[43m-\u001b[49m\u001b[32;43m1\u001b[39;49m\u001b[43m)\u001b[49m\n",
      "\u001b[36mCell\u001b[39m\u001b[36m \u001b[39m\u001b[32mIn[52]\u001b[39m\u001b[32m, line 4\u001b[39m, in \u001b[36mQuery.__init__\u001b[39m\u001b[34m(self, query_string, no_of_query)\u001b[39m\n\u001b[32m      2\u001b[39m \u001b[38;5;28;01mdef\u001b[39;00m\u001b[38;5;250m \u001b[39m\u001b[34m__init__\u001b[39m(\u001b[38;5;28mself\u001b[39m, query_string: \u001b[38;5;28mstr\u001b[39m, no_of_query: \u001b[38;5;28mint\u001b[39m = \u001b[32m0\u001b[39m):\n\u001b[32m      3\u001b[39m     \u001b[38;5;28mself\u001b[39m.query_string = query_string\n\u001b[32m----> \u001b[39m\u001b[32m4\u001b[39m     \u001b[38;5;28;43mself\u001b[39;49m\u001b[43m.\u001b[49m\u001b[43mno_of_query\u001b[49m = no_of_query\n",
      "\u001b[36mCell\u001b[39m\u001b[36m \u001b[39m\u001b[32mIn[52]\u001b[39m\u001b[32m, line 13\u001b[39m, in \u001b[36mQuery.no_of_query\u001b[39m\u001b[34m(self, n)\u001b[39m\n\u001b[32m     10\u001b[39m \u001b[38;5;129m@no_of_query\u001b[39m.setter\n\u001b[32m     11\u001b[39m \u001b[38;5;28;01mdef\u001b[39;00m\u001b[38;5;250m \u001b[39m\u001b[34mno_of_query\u001b[39m(\u001b[38;5;28mself\u001b[39m, n):\n\u001b[32m     12\u001b[39m     \u001b[38;5;28;01mif\u001b[39;00m n < \u001b[32m0\u001b[39m:\n\u001b[32m---> \u001b[39m\u001b[32m13\u001b[39m         \u001b[38;5;28;01mraise\u001b[39;00m \u001b[38;5;167;01mValueError\u001b[39;00m(\n\u001b[32m     14\u001b[39m             \u001b[33mf\u001b[39m\u001b[33m\"\u001b[39m\u001b[33mno_of_query must be zero or greater not \u001b[39m\u001b[38;5;132;01m{\u001b[39;00mn\u001b[38;5;132;01m}\u001b[39;00m\u001b[33m\"\u001b[39m\n\u001b[32m     15\u001b[39m         )\n\u001b[32m     16\u001b[39m     \u001b[38;5;28mself\u001b[39m._no_of_query = n\n",
      "\u001b[31mValueError\u001b[39m: no_of_query must be zero or greater not -1"
     ]
    }
   ],
   "source": [
    "# verify error handling\n",
    "q1 = Query('query1', -1)"
   ]
  },
  {
   "cell_type": "code",
   "execution_count": 54,
   "id": "b8a98d8c",
   "metadata": {},
   "outputs": [],
   "source": [
    "q1 = Query('query1', 6)\n",
    "q2 = Query('query2', 5)\n",
    "q3 = Query('query3')\n",
    "q4 = Query('query4', 10)\n",
    "q5 = Query('query5', 2)\n",
    "qo = QueryOriginal(q1, q2, q3, q4, q5) "
   ]
  },
  {
   "cell_type": "code",
   "execution_count": 55,
   "id": "c11d03a0",
   "metadata": {},
   "outputs": [
    {
     "name": "stdout",
     "output_type": "stream",
     "text": [
      "Query object qstring=query1, no_of_query=6\n"
     ]
    }
   ],
   "source": [
    "print(q1)"
   ]
  },
  {
   "cell_type": "code",
   "execution_count": 56,
   "id": "e391b28f",
   "metadata": {},
   "outputs": [
    {
     "name": "stdout",
     "output_type": "stream",
     "text": [
      "QueryOriginal: \n",
      "Query object qstring=query1, no_of_query=6\n",
      "Query object qstring=query2, no_of_query=5\n",
      "Query object qstring=query3, no_of_query=0\n",
      "Query object qstring=query4, no_of_query=10\n",
      "Query object qstring=query5, no_of_query=2\n"
     ]
    }
   ],
   "source": [
    "print(qo)"
   ]
  },
  {
   "cell_type": "markdown",
   "id": "0a4789e5",
   "metadata": {},
   "source": [
    "2) Create a class 'query_dt_c'. The class has to do everything that 'query_original' class does but this time you have to build the class as a 'dataclass'. As the sole purpose of the class is to hold query objects, building it as a dataclass can save some lines of code. Again the class has to:\n",
    "    - store queries objects that contain 2 arguments. 'query' that is the string of query and 'no_of_query'\n",
    "    - assert that no_of_query attribute is zero or greater than zero integer.\n",
    "    - be able to print every object in readable way in readable way\n",
    "    - able to keep and display all instances created  \n",
    "**Hint**: look into class decorators. If __init__ cannot be used, then which special method can help us?"
   ]
  },
  {
   "cell_type": "code",
   "execution_count": null,
   "id": "0c2f5f1e",
   "metadata": {},
   "outputs": [],
   "source": [
    "# To make this work we will have to input a list of queries instead of *queries\n",
    "\n",
    "from dataclasses import dataclass, field\n",
    "\n",
    "\n",
    "@dataclass\n",
    "class QueryDtC:\n",
    "    query_list: list[Query] = field(default_factory=list)\n",
    "\n",
    "    def __post_init__(self):\n",
    "        if any(map(lambda x: not isinstance(x, Query), self.query_list)):\n",
    "            raise ValueError(\"Must pass a list of queries\")\n",
    "    # overkill - dataclass creates repr automatically, as well as comparison methods.\n",
    "    def __str__(self):\n",
    "        class_name = self.__class__.__name__\n",
    "        queries = \"\\n\".join(map(str, self.query_list))\n",
    "        return f\"{class_name}: \\n{queries}\""
   ]
  },
  {
   "cell_type": "code",
   "execution_count": null,
   "id": "cc25cecb",
   "metadata": {},
   "outputs": [],
   "source": [
    "q1 = Query('query1', 6)\n",
    "q2 = Query('query2', 5)\n",
    "q3 = Query('query3')\n",
    "q4 = Query('query4', 10)\n",
    "q5 = Query('query5', 2)\n",
    "qo = QueryDtC([q1, q2, q3, q4, q5]) "
   ]
  },
  {
   "cell_type": "code",
   "execution_count": 64,
   "id": "68f15f83",
   "metadata": {},
   "outputs": [
    {
     "name": "stdout",
     "output_type": "stream",
     "text": [
      "QueryDtC: \n",
      "Query object qstring=query1, no_of_query=6\n",
      "Query object qstring=query2, no_of_query=5\n",
      "Query object qstring=query3, no_of_query=0\n",
      "Query object qstring=query4, no_of_query=10\n",
      "Query object qstring=query5, no_of_query=2\n"
     ]
    }
   ],
   "source": [
    "print(qo)"
   ]
  },
  {
   "cell_type": "code",
   "execution_count": 69,
   "id": "444ad433",
   "metadata": {},
   "outputs": [
    {
     "ename": "ValueError",
     "evalue": "Must pass a list of queries",
     "output_type": "error",
     "traceback": [
      "\u001b[31m---------------------------------------------------------------------------\u001b[39m",
      "\u001b[31mValueError\u001b[39m                                Traceback (most recent call last)",
      "\u001b[36mCell\u001b[39m\u001b[36m \u001b[39m\u001b[32mIn[69]\u001b[39m\u001b[32m, line 1\u001b[39m\n\u001b[32m----> \u001b[39m\u001b[32m1\u001b[39m qo2 = \u001b[43mQueryDtC\u001b[49m\u001b[43m(\u001b[49m\u001b[33;43m'\u001b[39;49m\u001b[33;43ma\u001b[39;49m\u001b[33;43m'\u001b[39;49m\u001b[43m)\u001b[49m\n",
      "\u001b[36mFile \u001b[39m\u001b[32m<string>:4\u001b[39m, in \u001b[36m__init__\u001b[39m\u001b[34m(self, query_list)\u001b[39m\n",
      "\u001b[36mCell\u001b[39m\u001b[36m \u001b[39m\u001b[32mIn[62]\u001b[39m\u001b[32m, line 12\u001b[39m, in \u001b[36mQueryDtC.__post_init__\u001b[39m\u001b[34m(self)\u001b[39m\n\u001b[32m     10\u001b[39m \u001b[38;5;28;01mdef\u001b[39;00m\u001b[38;5;250m \u001b[39m\u001b[34m__post_init__\u001b[39m(\u001b[38;5;28mself\u001b[39m):\n\u001b[32m     11\u001b[39m     \u001b[38;5;28;01mif\u001b[39;00m \u001b[38;5;28many\u001b[39m(\u001b[38;5;28mmap\u001b[39m(\u001b[38;5;28;01mlambda\u001b[39;00m x: \u001b[38;5;129;01mnot\u001b[39;00m \u001b[38;5;28misinstance\u001b[39m(x, Query), \u001b[38;5;28mself\u001b[39m.query_list)):\n\u001b[32m---> \u001b[39m\u001b[32m12\u001b[39m         \u001b[38;5;28;01mraise\u001b[39;00m \u001b[38;5;167;01mValueError\u001b[39;00m(\u001b[33m\"\u001b[39m\u001b[33mMust pass a list of queries\u001b[39m\u001b[33m\"\u001b[39m)\n",
      "\u001b[31mValueError\u001b[39m: Must pass a list of queries"
     ]
    }
   ],
   "source": [
    "qo2 = QueryDtC('a')"
   ]
  }
 ],
 "metadata": {
  "kernelspec": {
   "display_name": "bb_data_edit",
   "language": "python",
   "name": "python3"
  },
  "language_info": {
   "codemirror_mode": {
    "name": "ipython",
    "version": 3
   },
   "file_extension": ".py",
   "mimetype": "text/x-python",
   "name": "python",
   "nbconvert_exporter": "python",
   "pygments_lexer": "ipython3",
   "version": "3.11.11"
  }
 },
 "nbformat": 4,
 "nbformat_minor": 5
}
