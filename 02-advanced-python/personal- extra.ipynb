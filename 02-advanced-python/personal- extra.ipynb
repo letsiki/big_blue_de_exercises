{
 "cells": [
  {
   "cell_type": "markdown",
   "id": "910cee7c-8753-4af6-b28b-e015990786bc",
   "metadata": {},
   "source": [
    "##### 1. From two lists a and b, create a list of elements that are present in only one of the lists (i.e. not shared) but preserve the original order. Do not use sets."
   ]
  },
  {
   "cell_type": "code",
   "execution_count": 1,
   "id": "b275ce2e-cb0d-43e5-8c5e-b19e9559319f",
   "metadata": {},
   "outputs": [],
   "source": [
    "lst1 = list(range(1, 160))\n",
    "lst2 = list(range(170, 0, -1))"
   ]
  },
  {
   "cell_type": "code",
   "execution_count": 2,
   "id": "b3991b69-231f-473b-ba69-25c89df433ea",
   "metadata": {
    "scrolled": true
   },
   "outputs": [
    {
     "data": {
      "text/plain": [
       "[170, 169, 168, 167, 166, 165, 164, 163, 162, 161, 160]"
      ]
     },
     "execution_count": 2,
     "metadata": {},
     "output_type": "execute_result"
    }
   ],
   "source": [
    "unique = [l for l in lst1 if l not in lst2]\n",
    "unique.extend([l for l in lst2 if l not in lst1])\n",
    "unique"
   ]
  },
  {
   "cell_type": "markdown",
   "id": "2cccb735-df05-45fb-9c99-2ff250aa124c",
   "metadata": {},
   "source": [
    "##### 3. Write a list comprehension that returns tuples `(x, x**2, x**3)`  for all numbers x from 1 to 30, but only include them if x is divisible by either 3 or 4 but not both."
   ]
  },
  {
   "cell_type": "code",
   "execution_count": 3,
   "id": "598af530-c4ee-410c-91c2-f2a5db18b4dc",
   "metadata": {},
   "outputs": [
    {
     "data": {
      "text/plain": [
       "[(3, 9, 27),\n",
       " (4, 16, 64),\n",
       " (6, 36, 216),\n",
       " (8, 64, 512),\n",
       " (9, 81, 729),\n",
       " (15, 225, 3375),\n",
       " (16, 256, 4096),\n",
       " (18, 324, 5832),\n",
       " (20, 400, 8000),\n",
       " (21, 441, 9261),\n",
       " (27, 729, 19683),\n",
       " (28, 784, 21952),\n",
       " (30, 900, 27000)]"
      ]
     },
     "execution_count": 3,
     "metadata": {},
     "output_type": "execute_result"
    }
   ],
   "source": [
    "[(x, x ** 2, x ** 3) for x in range(1, 31) if (x % 3 == 0 or x % 4 == 0) and x % 12 != 0]"
   ]
  },
  {
   "cell_type": "markdown",
   "id": "a9892548-34b5-475e-8e0f-410ba2181348",
   "metadata": {},
   "source": [
    "##### 4. Write a function that takes a list of numbers and returns a list of primes whose digits sum to an odd number."
   ]
  },
  {
   "cell_type": "code",
   "execution_count": 4,
   "id": "2fa314b1-451b-4603-a221-257dedd5035e",
   "metadata": {},
   "outputs": [],
   "source": [
    "def prime_special(l: list) -> list:\n",
    "    return [elem for elem in l if is_prime(elem) and sum(map(int, str(elem))) % 2 == 1]\n",
    "\n",
    "# since sqrt(n) * sqrt(n) = n any other number combination whose product would result to n must be a combination of a number\n",
    "# higher that sqrt(n) and one lower. So to verify that a number is not a prime we can make sure than there is no lower or no higher \n",
    "# number than sqrt(n) that divides with no remainder n.\n",
    "# In short there cant be a combination of divisors that does not involve a higher and a lower divisor than its sqrt\n",
    "# the edge case is the sqrt itself which we must check too\n",
    "def is_prime(n):\n",
    "    if n <= 1:\n",
    "        return False\n",
    "    for i in range(2, int(n ** 0.5) + 1):\n",
    "        if n % i == 0:\n",
    "            return False\n",
    "    return True"
   ]
  },
  {
   "cell_type": "code",
   "execution_count": 5,
   "id": "9ade5d02-194a-41bb-81a8-3d9db54d4f8f",
   "metadata": {},
   "outputs": [
    {
     "data": {
      "text/plain": [
       "[3,\n",
       " 5,\n",
       " 7,\n",
       " 23,\n",
       " 29,\n",
       " 41,\n",
       " 43,\n",
       " 47,\n",
       " 61,\n",
       " 67,\n",
       " 83,\n",
       " 89,\n",
       " 113,\n",
       " 131,\n",
       " 137,\n",
       " 139,\n",
       " 151,\n",
       " 157,\n",
       " 173,\n",
       " 179,\n",
       " 191,\n",
       " 193,\n",
       " 197,\n",
       " 199]"
      ]
     },
     "execution_count": 5,
     "metadata": {},
     "output_type": "execute_result"
    }
   ],
   "source": [
    "prime_special(range(200))"
   ]
  },
  {
   "cell_type": "markdown",
   "id": "6106c4e6-52bc-4413-9eac-ec0962e591e5",
   "metadata": {},
   "source": [
    "##### 5. You have a list of sentences. Use list comprehension and string methods to return a list of the number of words only in those sentences that contain the word \"data\"."
   ]
  },
  {
   "cell_type": "code",
   "execution_count": 6,
   "id": "b6384900-2cec-4043-a2b4-7441fe67901d",
   "metadata": {},
   "outputs": [],
   "source": [
    "sentences = [\n",
    "    \"Quantum computing is revolutionizing the world.\",\n",
    "    \"I love programming and solving challenging problems.\",\n",
    "    \"The future of artificial intelligence is bright.\",\n",
    "    \"Python is an amazing programming language.\",\n",
    "    \"Data science combines math, statistics, and computing.\",\n",
    "    \"Machine learning models are growing more powerful.\",\n",
    "    \"The quick brown fox jumps over the lazy dog.\",\n",
    "    \"This exercise data will help you improve your coding skills.\",\n",
    "    \"Challenges help you grow DATA and learn new things.\",\n",
    "    \"A picture is worth a thousand words.\"\n",
    "]"
   ]
  },
  {
   "cell_type": "code",
   "execution_count": 7,
   "id": "3e8100d9-6cd8-428b-91a9-6a2160509f9b",
   "metadata": {},
   "outputs": [
    {
     "data": {
      "text/plain": [
       "[7, 10, 9]"
      ]
     },
     "execution_count": 7,
     "metadata": {},
     "output_type": "execute_result"
    }
   ],
   "source": [
    "[len(sentence.split()) for sentence in sentences if 'data' in sentence.lower()]"
   ]
  },
  {
   "cell_type": "markdown",
   "id": "0251d28e-5293-48f8-9f09-6a51bd116f2c",
   "metadata": {},
   "source": [
    "##### 6. Create a new dictionary from an existing one with only the items where the value is a float and round them to 1 decimal place."
   ]
  },
  {
   "cell_type": "code",
   "execution_count": 8,
   "id": "90cb8774-a4ba-43be-9855-703bb06fab52",
   "metadata": {},
   "outputs": [],
   "source": [
    "d = {\n",
    "    'signal_x': 474,\n",
    "    'signal_x_error': 0.44,\n",
    "    'signal_y': 321,\n",
    "    'signal_y_error': 0.12,\n",
    "    'signal_z': 0.985,\n",
    "    'signal_z_error': 0.032,\n",
    "    'signal_a': 512,\n",
    "    'signal_b': 215,\n",
    "    'error_code': 99.8\n",
    "}"
   ]
  },
  {
   "cell_type": "code",
   "execution_count": 9,
   "id": "1ed27cd0-b06e-401f-8861-6b68cdc2b8cf",
   "metadata": {},
   "outputs": [
    {
     "data": {
      "text/plain": [
       "{'signal_x_error': 0.4,\n",
       " 'signal_y_error': 0.1,\n",
       " 'signal_z': 1.0,\n",
       " 'signal_z_error': 0.0,\n",
       " 'error_code': 99.8}"
      ]
     },
     "execution_count": 9,
     "metadata": {},
     "output_type": "execute_result"
    }
   ],
   "source": [
    "{k: round(v, 1) for k, v in d.items() if isinstance(v, float)}"
   ]
  },
  {
   "cell_type": "markdown",
   "id": "408b371e-921d-48d0-840b-e93cdf46ca98",
   "metadata": {},
   "source": [
    "##### 7. Using map() and a lambda, return a list of booleans where each boolean indicates whether the corresponding string in a list is a palindrome."
   ]
  },
  {
   "cell_type": "code",
   "execution_count": 10,
   "id": "f3cce6d0-8fa1-4976-9165-33545e89b29c",
   "metadata": {},
   "outputs": [],
   "source": [
    "strings = [\n",
    "    \"racecar\",\n",
    "    \"level\",\n",
    "    \"hello\",\n",
    "    \"madam\",\n",
    "    \"world\",\n",
    "    \"civic\",\n",
    "    \"python\",\n",
    "    \"deified\",\n",
    "    \"refer\",\n",
    "    \"noon\"\n",
    "]"
   ]
  },
  {
   "cell_type": "code",
   "execution_count": 11,
   "id": "9d62c276-f876-478b-993e-132db4088543",
   "metadata": {},
   "outputs": [
    {
     "data": {
      "text/plain": [
       "[True, True, False, True, False, True, False, True, True, True]"
      ]
     },
     "execution_count": 11,
     "metadata": {},
     "output_type": "execute_result"
    }
   ],
   "source": [
    "list(map(lambda s: True if s[:len(s) // 2] == s[len(s) - 1: -(len(s) // 2) -1: -1] else False, strings))"
   ]
  },
  {
   "cell_type": "markdown",
   "id": "f6a6763b-ff16-4942-830d-52c7cc36ee54",
   "metadata": {},
   "source": [
    "##### 8. You have a list of full names in format 'Firstname Lastname'. Use map() to convert them into email-like format: 'firstname.lastname@email.com'."
   ]
  },
  {
   "cell_type": "code",
   "execution_count": 12,
   "id": "9bc9233d-a7c1-4028-b820-7c87e4304d69",
   "metadata": {},
   "outputs": [],
   "source": [
    "names = [\n",
    "    \"John Doe\", \"Jane Smith\", \"Alice Johnson\", \"Bob Brown\", \"Charlie Davis\",\n",
    "    \"Eve White\", \"Frank Black\", \"Grace Green\", \"Hannah Blue\", \"Ivy Grey\"\n",
    "]"
   ]
  },
  {
   "cell_type": "code",
   "execution_count": 13,
   "id": "0972bf1b-8381-4c40-b6ff-9916f050c7c6",
   "metadata": {},
   "outputs": [
    {
     "data": {
      "text/plain": [
       "['john.doe@email.com',\n",
       " 'jane.smith@email.com',\n",
       " 'alice.johnson@email.com',\n",
       " 'bob.brown@email.com',\n",
       " 'charlie.davis@email.com',\n",
       " 'eve.white@email.com',\n",
       " 'frank.black@email.com',\n",
       " 'grace.green@email.com',\n",
       " 'hannah.blue@email.com',\n",
       " 'ivy.grey@email.com']"
      ]
     },
     "execution_count": 13,
     "metadata": {},
     "output_type": "execute_result"
    }
   ],
   "source": [
    "list(map(lambda fullname: \".\".join(fullname.lower().split()) + '@email.com', names))"
   ]
  },
  {
   "cell_type": "markdown",
   "id": "09a61896-d969-4c30-9213-aa5b77a63721",
   "metadata": {},
   "source": [
    "##### 9. Use filter() and a lambda to remove all sublists from a list of lists that contain negative numbers."
   ]
  },
  {
   "cell_type": "code",
   "execution_count": 14,
   "id": "801b75b5-5028-4326-8c21-314536241dcd",
   "metadata": {},
   "outputs": [],
   "source": [
    "lists = [\n",
    "    [1, 2, 3], \n",
    "    [-1, 2, 3], \n",
    "    [4, 5, 6], \n",
    "    [-4, -5, 6], \n",
    "    [7, 8, 9], \n",
    "    [-7, 8, 9]\n",
    "]"
   ]
  },
  {
   "cell_type": "code",
   "execution_count": 15,
   "id": "c32e38f2-c56a-4d2b-b591-ea0ff1883258",
   "metadata": {},
   "outputs": [
    {
     "data": {
      "text/plain": [
       "[[1, 2, 3], [4, 5, 6], [7, 8, 9]]"
      ]
     },
     "execution_count": 15,
     "metadata": {},
     "output_type": "execute_result"
    }
   ],
   "source": [
    "list(filter(lambda l: sorted(l)[0] >= 0, lists))"
   ]
  },
  {
   "cell_type": "code",
   "execution_count": 16,
   "id": "e3b4df3d-ef9f-4517-b020-b2ce33e4a1f0",
   "metadata": {},
   "outputs": [
    {
     "data": {
      "text/plain": [
       "[[1, 2, 3], [-1, 2, 3], [4, 5, 6], [-4, -5, 6], [7, 8, 9], [-7, 8, 9]]"
      ]
     },
     "execution_count": 16,
     "metadata": {},
     "output_type": "execute_result"
    }
   ],
   "source": [
    "lists"
   ]
  },
  {
   "cell_type": "markdown",
   "id": "12867b81-320b-459d-bcad-8929379a99b8",
   "metadata": {},
   "source": [
    "##### 10. Given a list of student dictionaries (with 'name', 'math', 'history', 'science' scores), return a list of names of students whose average score is above 75."
   ]
  },
  {
   "cell_type": "code",
   "execution_count": 17,
   "id": "b0e0378a-4acd-407b-b466-19daddb6713c",
   "metadata": {},
   "outputs": [],
   "source": [
    "students = [\n",
    "    {\"name\": \"John\", \"math\": 80, \"history\": 70, \"science\": 75},\n",
    "    {\"name\": \"Jane\", \"math\": 85, \"history\": 90, \"science\": 80},\n",
    "    {\"name\": \"Alice\", \"math\": 60, \"history\": 65, \"science\": 70},\n",
    "    {\"name\": \"Bob\", \"math\": 90, \"history\": 95, \"science\": 100},\n",
    "    {\"name\": \"Charlie\", \"math\": 70, \"history\": 65, \"science\": 60}\n",
    "]"
   ]
  },
  {
   "cell_type": "code",
   "execution_count": 18,
   "id": "5e224a3f-c1af-4083-a896-bfd7ce82e274",
   "metadata": {},
   "outputs": [
    {
     "data": {
      "text/plain": [
       "['Jane', 'Bob']"
      ]
     },
     "execution_count": 18,
     "metadata": {},
     "output_type": "execute_result"
    }
   ],
   "source": [
    "[d.get('name', 'unknown') for d in students if (d.get('math', 0) + d.get('science', 0) + d.get('history', 0)) / 3 > 75]"
   ]
  },
  {
   "cell_type": "markdown",
   "id": "d3b7bf6a-2eb3-47e4-9691-b1528a0d5a39",
   "metadata": {},
   "source": [
    "##### 11. From a dictionary of items and their weights in grams, filter out items whose weight is less than the median weight. Use dictionary comprehension."
   ]
  },
  {
   "cell_type": "code",
   "execution_count": 19,
   "id": "265bca02-7b03-4d1b-9fa6-03eac709bdea",
   "metadata": {},
   "outputs": [],
   "source": [
    "items_dict = {\n",
    "    \"item1\": 50, \n",
    "    \"item2\": 150, \n",
    "    \"item3\": 200, \n",
    "    \"item4\": 300, \n",
    "    \"item5\": 25, \n",
    "    \"item6\": 175\n",
    "}"
   ]
  },
  {
   "cell_type": "code",
   "execution_count": 20,
   "id": "6ecc85a7-9302-4e09-b8c3-d4bcc9448362",
   "metadata": {},
   "outputs": [
    {
     "data": {
      "text/plain": [
       "162.5"
      ]
     },
     "execution_count": 20,
     "metadata": {},
     "output_type": "execute_result"
    }
   ],
   "source": [
    "items = sorted(items_dict.values())\n",
    "median_weight = items[len(items) // 2] if len(items) % 2 == 1 else (items[len(items) // 2 - 1] + items[-(len(items) // 2)]) / 2\n",
    "median_weight"
   ]
  },
  {
   "cell_type": "code",
   "execution_count": 21,
   "id": "f58acdbd-481d-48a8-8173-f83da5dc57a0",
   "metadata": {},
   "outputs": [
    {
     "data": {
      "text/plain": [
       "{'item3': 200, 'item4': 300, 'item6': 175}"
      ]
     },
     "execution_count": 21,
     "metadata": {},
     "output_type": "execute_result"
    }
   ],
   "source": [
    "{k: v for k, v in items_dict.items() if v >= median_weight}"
   ]
  },
  {
   "cell_type": "markdown",
   "id": "27336bdd-a637-4865-beb7-4aeb89667b5a",
   "metadata": {},
   "source": [
    "#### 12. Given a temperature log (dict of date: temp), create a new dict containing only entries where the temperature increased compared to the previous day"
   ]
  },
  {
   "cell_type": "code",
   "execution_count": 22,
   "id": "e558e202-165e-4eb6-9fc4-ad5a9f68ea78",
   "metadata": {},
   "outputs": [],
   "source": [
    "temperature_log = {\n",
    "    \"2025-03-30\": 17.1,\n",
    "    \"2025-03-31\": 17.2,\n",
    "    \"2025-04-01\": 18.5,\n",
    "    \"2025-04-02\": 19.0,\n",
    "    \"2025-04-03\": 21.0,\n",
    "    \"2025-04-04\": 20.5,\n",
    "    \"2025-04-05\": 22.0,\n",
    "    \"2025-04-06\": 23.0,\n",
    "    \"2025-04-08\": 24.0,\n",
    "    \"2025-04-09\": 23.0,\n",
    "}"
   ]
  },
  {
   "cell_type": "code",
   "execution_count": 23,
   "id": "6a43cf92-381d-4f67-8c1e-c4bad667edcf",
   "metadata": {},
   "outputs": [
    {
     "data": {
      "text/plain": [
       "{'2025-03-31': 17.2,\n",
       " '2025-04-01': 18.5,\n",
       " '2025-04-02': 19.0,\n",
       " '2025-04-03': 21.0,\n",
       " '2025-04-05': 22.0,\n",
       " '2025-04-06': 23.0}"
      ]
     },
     "execution_count": 23,
     "metadata": {},
     "output_type": "execute_result"
    }
   ],
   "source": [
    "from datetime import datetime, timedelta\n",
    "DATE_FORMAT = '%Y-%m-%d'\n",
    "\n",
    "def is_previous_colder(d: dict, today_string) -> bool:\n",
    "    today = datetime.strptime(today_string, DATE_FORMAT)\n",
    "    yesterday = today - timedelta(days=1)\n",
    "    yesterday_string = yesterday.strftime(DATE_FORMAT)\n",
    "\n",
    "    if d.get(yesterday_string) and d.get(yesterday_string) < d.get(today_string):\n",
    "        return True\n",
    "\n",
    "{k: v for k, v in temperature_log.items() if is_previous_colder(temperature_log, k)}"
   ]
  },
  {
   "cell_type": "markdown",
   "id": "df7c1200-1220-4962-8bb8-321676d4cec2",
   "metadata": {},
   "source": [
    "##### 13. Write a function that finds the most frequent pair of consecutive letters in a string. Ignore spaces and punctuation."
   ]
  },
  {
   "cell_type": "code",
   "execution_count": 24,
   "id": "8ac47101-baa7-40bb-9339-b8d83e676d8a",
   "metadata": {},
   "outputs": [],
   "source": [
    "sentence = \"the quick brown fox jumps over the lazy dog dog dogog\""
   ]
  },
  {
   "cell_type": "code",
   "execution_count": 25,
   "id": "5ac90e93-da90-44bd-9b9c-a3f5646376e6",
   "metadata": {},
   "outputs": [],
   "source": [
    "from collections import defaultdict\n",
    "\n",
    "def most_common_pair(s: str) -> str:\n",
    "    d = defaultdict(int)\n",
    "    one_word = \"\".join(s.split())\n",
    "    for index in range(0, len(one_word) - 1):\n",
    "        d[one_word[index] + one_word[index + 1]] += 1\n",
    "    return max(d, key=lambda k: d.get(k))\n",
    "        \n",
    "        "
   ]
  },
  {
   "cell_type": "code",
   "execution_count": 26,
   "id": "dbb0ee1e-889a-465e-bcaa-5532d51ce3b9",
   "metadata": {},
   "outputs": [
    {
     "data": {
      "text/plain": [
       "'og'"
      ]
     },
     "execution_count": 26,
     "metadata": {},
     "output_type": "execute_result"
    }
   ],
   "source": [
    "most_common_pair(sentence)"
   ]
  },
  {
   "cell_type": "markdown",
   "id": "9918ac15-df9c-45aa-9e1c-d8a61daeadbe",
   "metadata": {},
   "source": [
    "##### 14. You are given a dictionary of users and their last login timestamps. Remove any user who hasn’t logged in the last 30 days. Assume current time is `now = datetime.now()` and timestamps are datetime objects."
   ]
  },
  {
   "cell_type": "code",
   "execution_count": 27,
   "id": "a7307cb2-3280-492f-9332-e5f1ba4cbe17",
   "metadata": {},
   "outputs": [],
   "source": [
    "from datetime import datetime, timedelta\n",
    "\n",
    "now = datetime.now()\n",
    "users_last_login = {\n",
    "    \"john\": now - timedelta(days=5),\n",
    "    \"jane\": now - timedelta(days=10),\n",
    "    \"alice\": now - timedelta(days=31),\n",
    "    \"bob\": now - timedelta(days=2),\n",
    "    \"charlie\": now - timedelta(days=42)\n",
    "}"
   ]
  },
  {
   "cell_type": "code",
   "execution_count": 28,
   "id": "2cb1cc50-59df-4bee-a7fe-1e1fd28ca771",
   "metadata": {},
   "outputs": [
    {
     "data": {
      "text/plain": [
       "{'john': datetime.datetime(2025, 4, 20, 16, 0, 57, 553027),\n",
       " 'jane': datetime.datetime(2025, 4, 15, 16, 0, 57, 553027),\n",
       " 'bob': datetime.datetime(2025, 4, 23, 16, 0, 57, 553027)}"
      ]
     },
     "execution_count": 28,
     "metadata": {},
     "output_type": "execute_result"
    }
   ],
   "source": [
    "{k: v for k, v in users_last_login.items() if now - timedelta(days=30) <= v}"
   ]
  },
  {
   "cell_type": "markdown",
   "id": "c612123e-9188-4e0b-ab5f-4ea6ed0d4225",
   "metadata": {},
   "source": [
    "##### 15. Given a nested dictionary of product categories and product prices, flatten it into a single dictionary with keys as category_product and values as the price."
   ]
  },
  {
   "cell_type": "code",
   "execution_count": 29,
   "id": "36f7cb79-fb41-4317-ab3f-dc4fd2c82a0d",
   "metadata": {},
   "outputs": [],
   "source": [
    "products = {\n",
    "    \"fruits\": {\"apple\": 1.5, \"banana\": 1.2},\n",
    "    \"drinks\": {\"water\": 0.5, \"soda\": 1.1},\n",
    "    \"snacks\": {\"chips\": 2.0, \"cookies\": 1.8}\n",
    "}"
   ]
  },
  {
   "cell_type": "code",
   "execution_count": 30,
   "id": "27821294-717c-4cc7-92bd-88ef8ac141da",
   "metadata": {},
   "outputs": [
    {
     "data": {
      "text/plain": [
       "{'apple': 1.5,\n",
       " 'banana': 1.2,\n",
       " 'water': 0.5,\n",
       " 'soda': 1.1,\n",
       " 'chips': 2.0,\n",
       " 'cookies': 1.8}"
      ]
     },
     "execution_count": 30,
     "metadata": {},
     "output_type": "execute_result"
    }
   ],
   "source": [
    "{product: price for category in products.values() for product, price in category.items()}"
   ]
  },
  {
   "cell_type": "markdown",
   "id": "73139575-f4e1-48e1-a831-cfe380df866c",
   "metadata": {},
   "source": [
    "##### 16. Create a dictionary where the key is a lowercase letter and the value is how many times it appears in a given string (ignore case, skip non-alpha)."
   ]
  },
  {
   "cell_type": "code",
   "execution_count": 31,
   "id": "0f7dda19-be9b-428c-b642-004eb38e626f",
   "metadata": {},
   "outputs": [],
   "source": [
    "input_string = \"The quick brown fasAAAAAdfsds---ox asdasd ,...jumps over the lazy dog\""
   ]
  },
  {
   "cell_type": "code",
   "execution_count": null,
   "id": "8b889f8c-154c-438f-8bd8-0957202f1216",
   "metadata": {},
   "outputs": [
    {
     "data": {
      "text/plain": [
       "[('a', 9),\n",
       " ('b', 1),\n",
       " ('c', 1),\n",
       " ('d', 5),\n",
       " ('e', 3),\n",
       " ('f', 2),\n",
       " ('g', 1),\n",
       " ('h', 2),\n",
       " ('i', 1),\n",
       " ('j', 1),\n",
       " ('k', 1),\n",
       " ('l', 1),\n",
       " ('m', 1),\n",
       " ('n', 1),\n",
       " ('o', 4),\n",
       " ('p', 1),\n",
       " ('q', 1),\n",
       " ('r', 2),\n",
       " ('s', 6),\n",
       " ('t', 2),\n",
       " ('u', 2),\n",
       " ('v', 1),\n",
       " ('w', 1),\n",
       " ('x', 1),\n",
       " ('y', 1),\n",
       " ('z', 1)]"
      ]
     },
     "execution_count": 43,
     "metadata": {},
     "output_type": "execute_result"
    }
   ],
   "source": [
    "d = defaultdict(int)\n",
    "for ch in input_string:\n",
    "    if ch.isalpha():\n",
    "        d[ch.lower()] += 1\n",
    "# from collections import Counter # This is better\n",
    "# d=Counter([ch.lower() for ch in input_string if ch.isalpha()])\n",
    "sorted(d.items())"
   ]
  },
  {
   "cell_type": "markdown",
   "id": "ceb04685-53c7-4a41-aa14-e83e8dd79481",
   "metadata": {},
   "source": [
    "##### 17. Use dictionary comprehension to invert a dictionary, but group together keys that share the same value into a list."
   ]
  },
  {
   "cell_type": "code",
   "execution_count": 33,
   "id": "6cfc708f-434a-41de-b2bf-72a40f5f77ab",
   "metadata": {},
   "outputs": [],
   "source": [
    "original_dict = {\n",
    "    'a': 1, 'b': 2, 'c': 1, 'd': 3, 'e': 2, 'f': 1\n",
    "}"
   ]
  },
  {
   "cell_type": "code",
   "execution_count": null,
   "id": "66d0e2e4-2ca0-424d-aec7-379dca5af5c8",
   "metadata": {},
   "outputs": [
    {
     "data": {
      "text/plain": [
       "{1: ['a', 'c', 'f'], 2: ['b', 'e'], 3: ['d']}"
      ]
     },
     "execution_count": 40,
     "metadata": {},
     "output_type": "execute_result"
    }
   ],
   "source": [
    "d = {}\n",
    "for k, v in original_dict.items():\n",
    "    # d[v] = d.get(v, list()) also works but slower.\n",
    "    d.setdefault(v, list())\n",
    "    d[v].append(k)\n",
    "d\n",
    "# made it work even without a default dict\n",
    "# cant make it work with comprehension it can't reference itself."
   ]
  },
  {
   "cell_type": "markdown",
   "id": "28433588-87d2-4b6b-8d6b-0906a7aa4f01",
   "metadata": {},
   "source": [
    "##### 18. Given two sets, return a list of elements that are in exactly one of the sets but also divisible by 3 or 7."
   ]
  },
  {
   "cell_type": "code",
   "execution_count": 35,
   "id": "ee84d816-3bf7-4700-b899-6597bdd3656e",
   "metadata": {},
   "outputs": [],
   "source": [
    "set1 = {1, 2, 3, 4, 5, 6, 7, 8, 9}\n",
    "set2 = {5, 6, 7, 10, 11, 12, 14}"
   ]
  },
  {
   "cell_type": "code",
   "execution_count": 36,
   "id": "7200d56c-3ddc-4103-8e08-df2ec355b0e3",
   "metadata": {},
   "outputs": [
    {
     "data": {
      "text/plain": [
       "[3, 9, 12, 14]"
      ]
     },
     "execution_count": 36,
     "metadata": {},
     "output_type": "execute_result"
    }
   ],
   "source": [
    "list(filter(lambda el: el % 3 == 0 or el % 7 == 0, set1 ^ set2))"
   ]
  },
  {
   "cell_type": "markdown",
   "id": "ccd30d62-ab76-471b-8046-2edc98c61aa5",
   "metadata": {},
   "source": [
    "##### 19. Write a function that takes a list of numbers and returns the maximum product of any 3 elements. Do not sort the list."
   ]
  },
  {
   "cell_type": "code",
   "execution_count": 37,
   "id": "a0f82b01-c595-44f7-bde9-b978a552f6bc",
   "metadata": {},
   "outputs": [],
   "source": [
    "numbers = [1, 10, -5, 7, 6, -3, 8, 2]"
   ]
  },
  {
   "cell_type": "code",
   "execution_count": 38,
   "id": "3d47d823-cd53-455e-ab1f-1a70a431c458",
   "metadata": {},
   "outputs": [
    {
     "data": {
      "text/plain": [
       "'(10, 7, 8) with a product of 560'"
      ]
     },
     "execution_count": 38,
     "metadata": {},
     "output_type": "execute_result"
    }
   ],
   "source": [
    "from itertools import combinations\n",
    "from functools import reduce, partial\n",
    "from operator import mul\n",
    "\n",
    "def max_three_way_product(lst: list) -> int:\n",
    "    product = partial(reduce, mul)\n",
    "    right_combo =  max(combinations(lst, r=3), key=product)\n",
    "    return f'{right_combo} with a product of {product(right_combo)}'\n",
    "\n",
    "max_three_way_product(numbers)    "
   ]
  },
  {
   "cell_type": "markdown",
   "id": "cfcdfb7f-222c-401a-85a0-54e63dcac552",
   "metadata": {},
   "source": [
    "##### 20. Create a generator function that yields squares of numbers from 1 to n, but skips numbers whose square ends with 9."
   ]
  },
  {
   "cell_type": "code",
   "execution_count": 39,
   "id": "609e822a-70df-4df2-8a6a-4480fba58a71",
   "metadata": {},
   "outputs": [
    {
     "data": {
      "text/plain": [
       "[1, 4, 16, 25, 36, 64, 81, 100]"
      ]
     },
     "execution_count": 39,
     "metadata": {},
     "output_type": "execute_result"
    }
   ],
   "source": [
    "def gen_squares_filtered(n):\n",
    "    for n in range(1, n + 1):\n",
    "        square = n ** 2\n",
    "        if str(square)[-1] != '9':\n",
    "            yield square\n",
    "list(gen_squares_filtered(10))"
   ]
  }
 ],
 "metadata": {
  "kernelspec": {
   "display_name": "bb_data_edit",
   "language": "python",
   "name": "python3"
  },
  "language_info": {
   "codemirror_mode": {
    "name": "ipython",
    "version": 3
   },
   "file_extension": ".py",
   "mimetype": "text/x-python",
   "name": "python",
   "nbconvert_exporter": "python",
   "pygments_lexer": "ipython3",
   "version": "3.11.11"
  }
 },
 "nbformat": 4,
 "nbformat_minor": 5
}
